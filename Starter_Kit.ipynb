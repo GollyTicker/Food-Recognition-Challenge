{
  "nbformat": 4,
  "nbformat_minor": 0,
  "metadata": {
    "colab": {
      "name": "Detectron2 Starter Kit",
      "provenance": [],
      "collapsed_sections": [],
      "include_colab_link": true
    },
    "kernelspec": {
      "name": "python3",
      "display_name": "Python 3"
    },
    "widgets": {
      "application/vnd.jupyter.widget-state+json": {
        "ed680a156ccc4a559e389f8973621323": {
          "model_module": "@jupyter-widgets/controls",
          "model_name": "HBoxModel",
          "model_module_version": "1.5.0",
          "state": {
            "_view_name": "HBoxView",
            "_dom_classes": [],
            "_model_name": "HBoxModel",
            "_view_module": "@jupyter-widgets/controls",
            "_model_module_version": "1.5.0",
            "_view_count": null,
            "_view_module_version": "1.5.0",
            "box_style": "",
            "layout": "IPY_MODEL_c209f41af8f44b6896aa00762e352aaf",
            "_model_module": "@jupyter-widgets/controls",
            "children": [
              "IPY_MODEL_4c2fd3f130d949448e8182b38638fed1",
              "IPY_MODEL_7b937054877343c4a4c079ed59353c7b",
              "IPY_MODEL_86f46b5b463946dfb1caf1f261b91157"
            ]
          }
        },
        "c209f41af8f44b6896aa00762e352aaf": {
          "model_module": "@jupyter-widgets/base",
          "model_name": "LayoutModel",
          "model_module_version": "1.2.0",
          "state": {
            "_view_name": "LayoutView",
            "grid_template_rows": null,
            "right": null,
            "justify_content": null,
            "_view_module": "@jupyter-widgets/base",
            "overflow": null,
            "_model_module_version": "1.2.0",
            "_view_count": null,
            "flex_flow": null,
            "width": null,
            "min_width": null,
            "border": null,
            "align_items": null,
            "bottom": null,
            "_model_module": "@jupyter-widgets/base",
            "top": null,
            "grid_column": null,
            "overflow_y": null,
            "overflow_x": null,
            "grid_auto_flow": null,
            "grid_area": null,
            "grid_template_columns": null,
            "flex": null,
            "_model_name": "LayoutModel",
            "justify_items": null,
            "grid_row": null,
            "max_height": null,
            "align_content": null,
            "visibility": null,
            "align_self": null,
            "height": null,
            "min_height": null,
            "padding": null,
            "grid_auto_rows": null,
            "grid_gap": null,
            "max_width": null,
            "order": null,
            "_view_module_version": "1.2.0",
            "grid_template_areas": null,
            "object_position": null,
            "object_fit": null,
            "grid_auto_columns": null,
            "margin": null,
            "display": null,
            "left": null
          }
        },
        "4c2fd3f130d949448e8182b38638fed1": {
          "model_module": "@jupyter-widgets/controls",
          "model_name": "HTMLModel",
          "model_module_version": "1.5.0",
          "state": {
            "_view_name": "HTMLView",
            "style": "IPY_MODEL_1457cd0e3c0e41a6a6af2e1c3fdbead9",
            "_dom_classes": [],
            "description": "",
            "_model_name": "HTMLModel",
            "placeholder": "​",
            "_view_module": "@jupyter-widgets/controls",
            "_model_module_version": "1.5.0",
            "value": "100%",
            "_view_count": null,
            "_view_module_version": "1.5.0",
            "description_tooltip": null,
            "_model_module": "@jupyter-widgets/controls",
            "layout": "IPY_MODEL_66b936fc051147f88cca1e01f194696f"
          }
        },
        "7b937054877343c4a4c079ed59353c7b": {
          "model_module": "@jupyter-widgets/controls",
          "model_name": "FloatProgressModel",
          "model_module_version": "1.5.0",
          "state": {
            "_view_name": "ProgressView",
            "style": "IPY_MODEL_7909163406dd4666ba3d2c3b25c9cc61",
            "_dom_classes": [],
            "description": "",
            "_model_name": "FloatProgressModel",
            "bar_style": "success",
            "max": 5545,
            "_view_module": "@jupyter-widgets/controls",
            "_model_module_version": "1.5.0",
            "value": 5545,
            "_view_count": null,
            "_view_module_version": "1.5.0",
            "orientation": "horizontal",
            "min": 0,
            "description_tooltip": null,
            "_model_module": "@jupyter-widgets/controls",
            "layout": "IPY_MODEL_6f454f86027c4f0382e09c193b2cf016"
          }
        },
        "86f46b5b463946dfb1caf1f261b91157": {
          "model_module": "@jupyter-widgets/controls",
          "model_name": "HTMLModel",
          "model_module_version": "1.5.0",
          "state": {
            "_view_name": "HTMLView",
            "style": "IPY_MODEL_126ca76e8d584fdb8e68f0c09d7e6b2a",
            "_dom_classes": [],
            "description": "",
            "_model_name": "HTMLModel",
            "placeholder": "​",
            "_view_module": "@jupyter-widgets/controls",
            "_model_module_version": "1.5.0",
            "value": " 5545/5545 [00:34&lt;00:00, 185.78it/s]",
            "_view_count": null,
            "_view_module_version": "1.5.0",
            "description_tooltip": null,
            "_model_module": "@jupyter-widgets/controls",
            "layout": "IPY_MODEL_757ff47093b247299a6457eeec160c97"
          }
        },
        "1457cd0e3c0e41a6a6af2e1c3fdbead9": {
          "model_module": "@jupyter-widgets/controls",
          "model_name": "DescriptionStyleModel",
          "model_module_version": "1.5.0",
          "state": {
            "_view_name": "StyleView",
            "_model_name": "DescriptionStyleModel",
            "description_width": "",
            "_view_module": "@jupyter-widgets/base",
            "_model_module_version": "1.5.0",
            "_view_count": null,
            "_view_module_version": "1.2.0",
            "_model_module": "@jupyter-widgets/controls"
          }
        },
        "66b936fc051147f88cca1e01f194696f": {
          "model_module": "@jupyter-widgets/base",
          "model_name": "LayoutModel",
          "model_module_version": "1.2.0",
          "state": {
            "_view_name": "LayoutView",
            "grid_template_rows": null,
            "right": null,
            "justify_content": null,
            "_view_module": "@jupyter-widgets/base",
            "overflow": null,
            "_model_module_version": "1.2.0",
            "_view_count": null,
            "flex_flow": null,
            "width": null,
            "min_width": null,
            "border": null,
            "align_items": null,
            "bottom": null,
            "_model_module": "@jupyter-widgets/base",
            "top": null,
            "grid_column": null,
            "overflow_y": null,
            "overflow_x": null,
            "grid_auto_flow": null,
            "grid_area": null,
            "grid_template_columns": null,
            "flex": null,
            "_model_name": "LayoutModel",
            "justify_items": null,
            "grid_row": null,
            "max_height": null,
            "align_content": null,
            "visibility": null,
            "align_self": null,
            "height": null,
            "min_height": null,
            "padding": null,
            "grid_auto_rows": null,
            "grid_gap": null,
            "max_width": null,
            "order": null,
            "_view_module_version": "1.2.0",
            "grid_template_areas": null,
            "object_position": null,
            "object_fit": null,
            "grid_auto_columns": null,
            "margin": null,
            "display": null,
            "left": null
          }
        },
        "7909163406dd4666ba3d2c3b25c9cc61": {
          "model_module": "@jupyter-widgets/controls",
          "model_name": "ProgressStyleModel",
          "model_module_version": "1.5.0",
          "state": {
            "_view_name": "StyleView",
            "_model_name": "ProgressStyleModel",
            "description_width": "",
            "_view_module": "@jupyter-widgets/base",
            "_model_module_version": "1.5.0",
            "_view_count": null,
            "_view_module_version": "1.2.0",
            "bar_color": null,
            "_model_module": "@jupyter-widgets/controls"
          }
        },
        "6f454f86027c4f0382e09c193b2cf016": {
          "model_module": "@jupyter-widgets/base",
          "model_name": "LayoutModel",
          "model_module_version": "1.2.0",
          "state": {
            "_view_name": "LayoutView",
            "grid_template_rows": null,
            "right": null,
            "justify_content": null,
            "_view_module": "@jupyter-widgets/base",
            "overflow": null,
            "_model_module_version": "1.2.0",
            "_view_count": null,
            "flex_flow": null,
            "width": null,
            "min_width": null,
            "border": null,
            "align_items": null,
            "bottom": null,
            "_model_module": "@jupyter-widgets/base",
            "top": null,
            "grid_column": null,
            "overflow_y": null,
            "overflow_x": null,
            "grid_auto_flow": null,
            "grid_area": null,
            "grid_template_columns": null,
            "flex": null,
            "_model_name": "LayoutModel",
            "justify_items": null,
            "grid_row": null,
            "max_height": null,
            "align_content": null,
            "visibility": null,
            "align_self": null,
            "height": null,
            "min_height": null,
            "padding": null,
            "grid_auto_rows": null,
            "grid_gap": null,
            "max_width": null,
            "order": null,
            "_view_module_version": "1.2.0",
            "grid_template_areas": null,
            "object_position": null,
            "object_fit": null,
            "grid_auto_columns": null,
            "margin": null,
            "display": null,
            "left": null
          }
        },
        "126ca76e8d584fdb8e68f0c09d7e6b2a": {
          "model_module": "@jupyter-widgets/controls",
          "model_name": "DescriptionStyleModel",
          "model_module_version": "1.5.0",
          "state": {
            "_view_name": "StyleView",
            "_model_name": "DescriptionStyleModel",
            "description_width": "",
            "_view_module": "@jupyter-widgets/base",
            "_model_module_version": "1.5.0",
            "_view_count": null,
            "_view_module_version": "1.2.0",
            "_model_module": "@jupyter-widgets/controls"
          }
        },
        "757ff47093b247299a6457eeec160c97": {
          "model_module": "@jupyter-widgets/base",
          "model_name": "LayoutModel",
          "model_module_version": "1.2.0",
          "state": {
            "_view_name": "LayoutView",
            "grid_template_rows": null,
            "right": null,
            "justify_content": null,
            "_view_module": "@jupyter-widgets/base",
            "overflow": null,
            "_model_module_version": "1.2.0",
            "_view_count": null,
            "flex_flow": null,
            "width": null,
            "min_width": null,
            "border": null,
            "align_items": null,
            "bottom": null,
            "_model_module": "@jupyter-widgets/base",
            "top": null,
            "grid_column": null,
            "overflow_y": null,
            "overflow_x": null,
            "grid_auto_flow": null,
            "grid_area": null,
            "grid_template_columns": null,
            "flex": null,
            "_model_name": "LayoutModel",
            "justify_items": null,
            "grid_row": null,
            "max_height": null,
            "align_content": null,
            "visibility": null,
            "align_self": null,
            "height": null,
            "min_height": null,
            "padding": null,
            "grid_auto_rows": null,
            "grid_gap": null,
            "max_width": null,
            "order": null,
            "_view_module_version": "1.2.0",
            "grid_template_areas": null,
            "object_position": null,
            "object_fit": null,
            "grid_auto_columns": null,
            "margin": null,
            "display": null,
            "left": null
          }
        },
        "b28c52a97311420d88c36a5637780df8": {
          "model_module": "@jupyter-widgets/controls",
          "model_name": "HBoxModel",
          "model_module_version": "1.5.0",
          "state": {
            "_view_name": "HBoxView",
            "_dom_classes": [],
            "_model_name": "HBoxModel",
            "_view_module": "@jupyter-widgets/controls",
            "_model_module_version": "1.5.0",
            "_view_count": null,
            "_view_module_version": "1.5.0",
            "box_style": "",
            "layout": "IPY_MODEL_f99a251da447483daa69f05ddc6b9994",
            "_model_module": "@jupyter-widgets/controls",
            "children": [
              "IPY_MODEL_a72690d3264c4b82a22bbbf33294f584",
              "IPY_MODEL_8aa0e75242124f14881b99cb4178a616",
              "IPY_MODEL_d513a261383741d8b688f40166169e36"
            ]
          }
        },
        "f99a251da447483daa69f05ddc6b9994": {
          "model_module": "@jupyter-widgets/base",
          "model_name": "LayoutModel",
          "model_module_version": "1.2.0",
          "state": {
            "_view_name": "LayoutView",
            "grid_template_rows": null,
            "right": null,
            "justify_content": null,
            "_view_module": "@jupyter-widgets/base",
            "overflow": null,
            "_model_module_version": "1.2.0",
            "_view_count": null,
            "flex_flow": null,
            "width": null,
            "min_width": null,
            "border": null,
            "align_items": null,
            "bottom": null,
            "_model_module": "@jupyter-widgets/base",
            "top": null,
            "grid_column": null,
            "overflow_y": null,
            "overflow_x": null,
            "grid_auto_flow": null,
            "grid_area": null,
            "grid_template_columns": null,
            "flex": null,
            "_model_name": "LayoutModel",
            "justify_items": null,
            "grid_row": null,
            "max_height": null,
            "align_content": null,
            "visibility": null,
            "align_self": null,
            "height": null,
            "min_height": null,
            "padding": null,
            "grid_auto_rows": null,
            "grid_gap": null,
            "max_width": null,
            "order": null,
            "_view_module_version": "1.2.0",
            "grid_template_areas": null,
            "object_position": null,
            "object_fit": null,
            "grid_auto_columns": null,
            "margin": null,
            "display": null,
            "left": null
          }
        },
        "a72690d3264c4b82a22bbbf33294f584": {
          "model_module": "@jupyter-widgets/controls",
          "model_name": "HTMLModel",
          "model_module_version": "1.5.0",
          "state": {
            "_view_name": "HTMLView",
            "style": "IPY_MODEL_d51609477f634e1782a2767081907c25",
            "_dom_classes": [],
            "description": "",
            "_model_name": "HTMLModel",
            "placeholder": "​",
            "_view_module": "@jupyter-widgets/controls",
            "_model_module_version": "1.5.0",
            "value": "100%",
            "_view_count": null,
            "_view_module_version": "1.5.0",
            "description_tooltip": null,
            "_model_module": "@jupyter-widgets/controls",
            "layout": "IPY_MODEL_0aa9cb1d5390477a840976b8548b4085"
          }
        },
        "8aa0e75242124f14881b99cb4178a616": {
          "model_module": "@jupyter-widgets/controls",
          "model_name": "FloatProgressModel",
          "model_module_version": "1.5.0",
          "state": {
            "_view_name": "ProgressView",
            "style": "IPY_MODEL_e90744f6480a41849703e692638f255b",
            "_dom_classes": [],
            "description": "",
            "_model_name": "FloatProgressModel",
            "bar_style": "success",
            "max": 291,
            "_view_module": "@jupyter-widgets/controls",
            "_model_module_version": "1.5.0",
            "value": 291,
            "_view_count": null,
            "_view_module_version": "1.5.0",
            "orientation": "horizontal",
            "min": 0,
            "description_tooltip": null,
            "_model_module": "@jupyter-widgets/controls",
            "layout": "IPY_MODEL_8d14cb6e0d634b89a877148f3e1b660a"
          }
        },
        "d513a261383741d8b688f40166169e36": {
          "model_module": "@jupyter-widgets/controls",
          "model_name": "HTMLModel",
          "model_module_version": "1.5.0",
          "state": {
            "_view_name": "HTMLView",
            "style": "IPY_MODEL_845e117e44d645088de1427de334c011",
            "_dom_classes": [],
            "description": "",
            "_model_name": "HTMLModel",
            "placeholder": "​",
            "_view_module": "@jupyter-widgets/controls",
            "_model_module_version": "1.5.0",
            "value": " 291/291 [00:01&lt;00:00, 174.95it/s]",
            "_view_count": null,
            "_view_module_version": "1.5.0",
            "description_tooltip": null,
            "_model_module": "@jupyter-widgets/controls",
            "layout": "IPY_MODEL_2a90c81832444617ba8e1761bd2a9e36"
          }
        },
        "d51609477f634e1782a2767081907c25": {
          "model_module": "@jupyter-widgets/controls",
          "model_name": "DescriptionStyleModel",
          "model_module_version": "1.5.0",
          "state": {
            "_view_name": "StyleView",
            "_model_name": "DescriptionStyleModel",
            "description_width": "",
            "_view_module": "@jupyter-widgets/base",
            "_model_module_version": "1.5.0",
            "_view_count": null,
            "_view_module_version": "1.2.0",
            "_model_module": "@jupyter-widgets/controls"
          }
        },
        "0aa9cb1d5390477a840976b8548b4085": {
          "model_module": "@jupyter-widgets/base",
          "model_name": "LayoutModel",
          "model_module_version": "1.2.0",
          "state": {
            "_view_name": "LayoutView",
            "grid_template_rows": null,
            "right": null,
            "justify_content": null,
            "_view_module": "@jupyter-widgets/base",
            "overflow": null,
            "_model_module_version": "1.2.0",
            "_view_count": null,
            "flex_flow": null,
            "width": null,
            "min_width": null,
            "border": null,
            "align_items": null,
            "bottom": null,
            "_model_module": "@jupyter-widgets/base",
            "top": null,
            "grid_column": null,
            "overflow_y": null,
            "overflow_x": null,
            "grid_auto_flow": null,
            "grid_area": null,
            "grid_template_columns": null,
            "flex": null,
            "_model_name": "LayoutModel",
            "justify_items": null,
            "grid_row": null,
            "max_height": null,
            "align_content": null,
            "visibility": null,
            "align_self": null,
            "height": null,
            "min_height": null,
            "padding": null,
            "grid_auto_rows": null,
            "grid_gap": null,
            "max_width": null,
            "order": null,
            "_view_module_version": "1.2.0",
            "grid_template_areas": null,
            "object_position": null,
            "object_fit": null,
            "grid_auto_columns": null,
            "margin": null,
            "display": null,
            "left": null
          }
        },
        "e90744f6480a41849703e692638f255b": {
          "model_module": "@jupyter-widgets/controls",
          "model_name": "ProgressStyleModel",
          "model_module_version": "1.5.0",
          "state": {
            "_view_name": "StyleView",
            "_model_name": "ProgressStyleModel",
            "description_width": "",
            "_view_module": "@jupyter-widgets/base",
            "_model_module_version": "1.5.0",
            "_view_count": null,
            "_view_module_version": "1.2.0",
            "bar_color": null,
            "_model_module": "@jupyter-widgets/controls"
          }
        },
        "8d14cb6e0d634b89a877148f3e1b660a": {
          "model_module": "@jupyter-widgets/base",
          "model_name": "LayoutModel",
          "model_module_version": "1.2.0",
          "state": {
            "_view_name": "LayoutView",
            "grid_template_rows": null,
            "right": null,
            "justify_content": null,
            "_view_module": "@jupyter-widgets/base",
            "overflow": null,
            "_model_module_version": "1.2.0",
            "_view_count": null,
            "flex_flow": null,
            "width": null,
            "min_width": null,
            "border": null,
            "align_items": null,
            "bottom": null,
            "_model_module": "@jupyter-widgets/base",
            "top": null,
            "grid_column": null,
            "overflow_y": null,
            "overflow_x": null,
            "grid_auto_flow": null,
            "grid_area": null,
            "grid_template_columns": null,
            "flex": null,
            "_model_name": "LayoutModel",
            "justify_items": null,
            "grid_row": null,
            "max_height": null,
            "align_content": null,
            "visibility": null,
            "align_self": null,
            "height": null,
            "min_height": null,
            "padding": null,
            "grid_auto_rows": null,
            "grid_gap": null,
            "max_width": null,
            "order": null,
            "_view_module_version": "1.2.0",
            "grid_template_areas": null,
            "object_position": null,
            "object_fit": null,
            "grid_auto_columns": null,
            "margin": null,
            "display": null,
            "left": null
          }
        },
        "845e117e44d645088de1427de334c011": {
          "model_module": "@jupyter-widgets/controls",
          "model_name": "DescriptionStyleModel",
          "model_module_version": "1.5.0",
          "state": {
            "_view_name": "StyleView",
            "_model_name": "DescriptionStyleModel",
            "description_width": "",
            "_view_module": "@jupyter-widgets/base",
            "_model_module_version": "1.5.0",
            "_view_count": null,
            "_view_module_version": "1.2.0",
            "_model_module": "@jupyter-widgets/controls"
          }
        },
        "2a90c81832444617ba8e1761bd2a9e36": {
          "model_module": "@jupyter-widgets/base",
          "model_name": "LayoutModel",
          "model_module_version": "1.2.0",
          "state": {
            "_view_name": "LayoutView",
            "grid_template_rows": null,
            "right": null,
            "justify_content": null,
            "_view_module": "@jupyter-widgets/base",
            "overflow": null,
            "_model_module_version": "1.2.0",
            "_view_count": null,
            "flex_flow": null,
            "width": null,
            "min_width": null,
            "border": null,
            "align_items": null,
            "bottom": null,
            "_model_module": "@jupyter-widgets/base",
            "top": null,
            "grid_column": null,
            "overflow_y": null,
            "overflow_x": null,
            "grid_auto_flow": null,
            "grid_area": null,
            "grid_template_columns": null,
            "flex": null,
            "_model_name": "LayoutModel",
            "justify_items": null,
            "grid_row": null,
            "max_height": null,
            "align_content": null,
            "visibility": null,
            "align_self": null,
            "height": null,
            "min_height": null,
            "padding": null,
            "grid_auto_rows": null,
            "grid_gap": null,
            "max_width": null,
            "order": null,
            "_view_module_version": "1.2.0",
            "grid_template_areas": null,
            "object_position": null,
            "object_fit": null,
            "grid_auto_columns": null,
            "margin": null,
            "display": null,
            "left": null
          }
        },
        "fee104a35bda47d69082c975364b5c4a": {
          "model_module": "@jupyter-widgets/controls",
          "model_name": "HBoxModel",
          "model_module_version": "1.5.0",
          "state": {
            "_view_name": "HBoxView",
            "_dom_classes": [],
            "_model_name": "HBoxModel",
            "_view_module": "@jupyter-widgets/controls",
            "_model_module_version": "1.5.0",
            "_view_count": null,
            "_view_module_version": "1.5.0",
            "box_style": "",
            "layout": "IPY_MODEL_cf4cdd0c82d6498da937b381396cc0d3",
            "_model_module": "@jupyter-widgets/controls",
            "children": [
              "IPY_MODEL_a791840f51414075bddbac98fae2338b",
              "IPY_MODEL_2da3c9f765194f4eb33ad6b709896c1e",
              "IPY_MODEL_eecb3cad351f46bc9c3bfac119f7b209"
            ]
          }
        },
        "cf4cdd0c82d6498da937b381396cc0d3": {
          "model_module": "@jupyter-widgets/base",
          "model_name": "LayoutModel",
          "model_module_version": "1.2.0",
          "state": {
            "_view_name": "LayoutView",
            "grid_template_rows": null,
            "right": null,
            "justify_content": null,
            "_view_module": "@jupyter-widgets/base",
            "overflow": null,
            "_model_module_version": "1.2.0",
            "_view_count": null,
            "flex_flow": null,
            "width": null,
            "min_width": null,
            "border": null,
            "align_items": null,
            "bottom": null,
            "_model_module": "@jupyter-widgets/base",
            "top": null,
            "grid_column": null,
            "overflow_y": null,
            "overflow_x": null,
            "grid_auto_flow": null,
            "grid_area": null,
            "grid_template_columns": null,
            "flex": null,
            "_model_name": "LayoutModel",
            "justify_items": null,
            "grid_row": null,
            "max_height": null,
            "align_content": null,
            "visibility": null,
            "align_self": null,
            "height": null,
            "min_height": null,
            "padding": null,
            "grid_auto_rows": null,
            "grid_gap": null,
            "max_width": null,
            "order": null,
            "_view_module_version": "1.2.0",
            "grid_template_areas": null,
            "object_position": null,
            "object_fit": null,
            "grid_auto_columns": null,
            "margin": null,
            "display": null,
            "left": null
          }
        },
        "a791840f51414075bddbac98fae2338b": {
          "model_module": "@jupyter-widgets/controls",
          "model_name": "HTMLModel",
          "model_module_version": "1.5.0",
          "state": {
            "_view_name": "HTMLView",
            "style": "IPY_MODEL_6bd89990e0a643a0b834145ed23437f6",
            "_dom_classes": [],
            "description": "",
            "_model_name": "HTMLModel",
            "placeholder": "​",
            "_view_module": "@jupyter-widgets/controls",
            "_model_module_version": "1.5.0",
            "value": "100%",
            "_view_count": null,
            "_view_module_version": "1.5.0",
            "description_tooltip": null,
            "_model_module": "@jupyter-widgets/controls",
            "layout": "IPY_MODEL_5cc70a9f9d6e4374814b0ec613874a87"
          }
        },
        "2da3c9f765194f4eb33ad6b709896c1e": {
          "model_module": "@jupyter-widgets/controls",
          "model_name": "FloatProgressModel",
          "model_module_version": "1.5.0",
          "state": {
            "_view_name": "ProgressView",
            "style": "IPY_MODEL_592a036dc3f64eb3a994f96874d414ec",
            "_dom_classes": [],
            "description": "",
            "_model_name": "FloatProgressModel",
            "bar_style": "success",
            "max": 1000,
            "_view_module": "@jupyter-widgets/controls",
            "_model_module_version": "1.5.0",
            "value": 1000,
            "_view_count": null,
            "_view_module_version": "1.5.0",
            "orientation": "horizontal",
            "min": 0,
            "description_tooltip": null,
            "_model_module": "@jupyter-widgets/controls",
            "layout": "IPY_MODEL_de8c58bdee2f48cfb5616a3db240a716"
          }
        },
        "eecb3cad351f46bc9c3bfac119f7b209": {
          "model_module": "@jupyter-widgets/controls",
          "model_name": "HTMLModel",
          "model_module_version": "1.5.0",
          "state": {
            "_view_name": "HTMLView",
            "style": "IPY_MODEL_bf800789afb34e0790b243c97afab0bd",
            "_dom_classes": [],
            "description": "",
            "_model_name": "HTMLModel",
            "placeholder": "​",
            "_view_module": "@jupyter-widgets/controls",
            "_model_module_version": "1.5.0",
            "value": " 1000/1000 [07:45&lt;00:00,  2.32it/s]",
            "_view_count": null,
            "_view_module_version": "1.5.0",
            "description_tooltip": null,
            "_model_module": "@jupyter-widgets/controls",
            "layout": "IPY_MODEL_fbc296c900db40549bd5606b7c3b2518"
          }
        },
        "6bd89990e0a643a0b834145ed23437f6": {
          "model_module": "@jupyter-widgets/controls",
          "model_name": "DescriptionStyleModel",
          "model_module_version": "1.5.0",
          "state": {
            "_view_name": "StyleView",
            "_model_name": "DescriptionStyleModel",
            "description_width": "",
            "_view_module": "@jupyter-widgets/base",
            "_model_module_version": "1.5.0",
            "_view_count": null,
            "_view_module_version": "1.2.0",
            "_model_module": "@jupyter-widgets/controls"
          }
        },
        "5cc70a9f9d6e4374814b0ec613874a87": {
          "model_module": "@jupyter-widgets/base",
          "model_name": "LayoutModel",
          "model_module_version": "1.2.0",
          "state": {
            "_view_name": "LayoutView",
            "grid_template_rows": null,
            "right": null,
            "justify_content": null,
            "_view_module": "@jupyter-widgets/base",
            "overflow": null,
            "_model_module_version": "1.2.0",
            "_view_count": null,
            "flex_flow": null,
            "width": null,
            "min_width": null,
            "border": null,
            "align_items": null,
            "bottom": null,
            "_model_module": "@jupyter-widgets/base",
            "top": null,
            "grid_column": null,
            "overflow_y": null,
            "overflow_x": null,
            "grid_auto_flow": null,
            "grid_area": null,
            "grid_template_columns": null,
            "flex": null,
            "_model_name": "LayoutModel",
            "justify_items": null,
            "grid_row": null,
            "max_height": null,
            "align_content": null,
            "visibility": null,
            "align_self": null,
            "height": null,
            "min_height": null,
            "padding": null,
            "grid_auto_rows": null,
            "grid_gap": null,
            "max_width": null,
            "order": null,
            "_view_module_version": "1.2.0",
            "grid_template_areas": null,
            "object_position": null,
            "object_fit": null,
            "grid_auto_columns": null,
            "margin": null,
            "display": null,
            "left": null
          }
        },
        "592a036dc3f64eb3a994f96874d414ec": {
          "model_module": "@jupyter-widgets/controls",
          "model_name": "ProgressStyleModel",
          "model_module_version": "1.5.0",
          "state": {
            "_view_name": "StyleView",
            "_model_name": "ProgressStyleModel",
            "description_width": "",
            "_view_module": "@jupyter-widgets/base",
            "_model_module_version": "1.5.0",
            "_view_count": null,
            "_view_module_version": "1.2.0",
            "bar_color": null,
            "_model_module": "@jupyter-widgets/controls"
          }
        },
        "de8c58bdee2f48cfb5616a3db240a716": {
          "model_module": "@jupyter-widgets/base",
          "model_name": "LayoutModel",
          "model_module_version": "1.2.0",
          "state": {
            "_view_name": "LayoutView",
            "grid_template_rows": null,
            "right": null,
            "justify_content": null,
            "_view_module": "@jupyter-widgets/base",
            "overflow": null,
            "_model_module_version": "1.2.0",
            "_view_count": null,
            "flex_flow": null,
            "width": null,
            "min_width": null,
            "border": null,
            "align_items": null,
            "bottom": null,
            "_model_module": "@jupyter-widgets/base",
            "top": null,
            "grid_column": null,
            "overflow_y": null,
            "overflow_x": null,
            "grid_auto_flow": null,
            "grid_area": null,
            "grid_template_columns": null,
            "flex": null,
            "_model_name": "LayoutModel",
            "justify_items": null,
            "grid_row": null,
            "max_height": null,
            "align_content": null,
            "visibility": null,
            "align_self": null,
            "height": null,
            "min_height": null,
            "padding": null,
            "grid_auto_rows": null,
            "grid_gap": null,
            "max_width": null,
            "order": null,
            "_view_module_version": "1.2.0",
            "grid_template_areas": null,
            "object_position": null,
            "object_fit": null,
            "grid_auto_columns": null,
            "margin": null,
            "display": null,
            "left": null
          }
        },
        "bf800789afb34e0790b243c97afab0bd": {
          "model_module": "@jupyter-widgets/controls",
          "model_name": "DescriptionStyleModel",
          "model_module_version": "1.5.0",
          "state": {
            "_view_name": "StyleView",
            "_model_name": "DescriptionStyleModel",
            "description_width": "",
            "_view_module": "@jupyter-widgets/base",
            "_model_module_version": "1.5.0",
            "_view_count": null,
            "_view_module_version": "1.2.0",
            "_model_module": "@jupyter-widgets/controls"
          }
        },
        "fbc296c900db40549bd5606b7c3b2518": {
          "model_module": "@jupyter-widgets/base",
          "model_name": "LayoutModel",
          "model_module_version": "1.2.0",
          "state": {
            "_view_name": "LayoutView",
            "grid_template_rows": null,
            "right": null,
            "justify_content": null,
            "_view_module": "@jupyter-widgets/base",
            "overflow": null,
            "_model_module_version": "1.2.0",
            "_view_count": null,
            "flex_flow": null,
            "width": null,
            "min_width": null,
            "border": null,
            "align_items": null,
            "bottom": null,
            "_model_module": "@jupyter-widgets/base",
            "top": null,
            "grid_column": null,
            "overflow_y": null,
            "overflow_x": null,
            "grid_auto_flow": null,
            "grid_area": null,
            "grid_template_columns": null,
            "flex": null,
            "_model_name": "LayoutModel",
            "justify_items": null,
            "grid_row": null,
            "max_height": null,
            "align_content": null,
            "visibility": null,
            "align_self": null,
            "height": null,
            "min_height": null,
            "padding": null,
            "grid_auto_rows": null,
            "grid_gap": null,
            "max_width": null,
            "order": null,
            "_view_module_version": "1.2.0",
            "grid_template_areas": null,
            "object_position": null,
            "object_fit": null,
            "grid_auto_columns": null,
            "margin": null,
            "display": null,
            "left": null
          }
        },
        "eb254b92056745e986d5996a64de9ab4": {
          "model_module": "@jupyter-widgets/controls",
          "model_name": "HBoxModel",
          "model_module_version": "1.5.0",
          "state": {
            "_view_name": "HBoxView",
            "_dom_classes": [],
            "_model_name": "HBoxModel",
            "_view_module": "@jupyter-widgets/controls",
            "_model_module_version": "1.5.0",
            "_view_count": null,
            "_view_module_version": "1.5.0",
            "box_style": "",
            "layout": "IPY_MODEL_e3f502f368a540968fa95c0991b6ee24",
            "_model_module": "@jupyter-widgets/controls",
            "children": [
              "IPY_MODEL_853ffe17a32f4a1f97caa5c2a9d20202",
              "IPY_MODEL_7aa6133a224e4ec5bb6629078751fa1e",
              "IPY_MODEL_75a63850307548d8b1a3e6114fecbfda"
            ]
          }
        },
        "e3f502f368a540968fa95c0991b6ee24": {
          "model_module": "@jupyter-widgets/base",
          "model_name": "LayoutModel",
          "model_module_version": "1.2.0",
          "state": {
            "_view_name": "LayoutView",
            "grid_template_rows": null,
            "right": null,
            "justify_content": null,
            "_view_module": "@jupyter-widgets/base",
            "overflow": null,
            "_model_module_version": "1.2.0",
            "_view_count": null,
            "flex_flow": null,
            "width": null,
            "min_width": null,
            "border": null,
            "align_items": null,
            "bottom": null,
            "_model_module": "@jupyter-widgets/base",
            "top": null,
            "grid_column": null,
            "overflow_y": null,
            "overflow_x": null,
            "grid_auto_flow": null,
            "grid_area": null,
            "grid_template_columns": null,
            "flex": null,
            "_model_name": "LayoutModel",
            "justify_items": null,
            "grid_row": null,
            "max_height": null,
            "align_content": null,
            "visibility": null,
            "align_self": null,
            "height": null,
            "min_height": null,
            "padding": null,
            "grid_auto_rows": null,
            "grid_gap": null,
            "max_width": null,
            "order": null,
            "_view_module_version": "1.2.0",
            "grid_template_areas": null,
            "object_position": null,
            "object_fit": null,
            "grid_auto_columns": null,
            "margin": null,
            "display": null,
            "left": null
          }
        },
        "853ffe17a32f4a1f97caa5c2a9d20202": {
          "model_module": "@jupyter-widgets/controls",
          "model_name": "HTMLModel",
          "model_module_version": "1.5.0",
          "state": {
            "_view_name": "HTMLView",
            "style": "IPY_MODEL_162cdac1a70e43a8a1af2241e8c24218",
            "_dom_classes": [],
            "description": "",
            "_model_name": "HTMLModel",
            "placeholder": "​",
            "_view_module": "@jupyter-widgets/controls",
            "_model_module_version": "1.5.0",
            "value": "100%",
            "_view_count": null,
            "_view_module_version": "1.5.0",
            "description_tooltip": null,
            "_model_module": "@jupyter-widgets/controls",
            "layout": "IPY_MODEL_1c5bc64c3a43404599e953444d497e10"
          }
        },
        "7aa6133a224e4ec5bb6629078751fa1e": {
          "model_module": "@jupyter-widgets/controls",
          "model_name": "FloatProgressModel",
          "model_module_version": "1.5.0",
          "state": {
            "_view_name": "ProgressView",
            "style": "IPY_MODEL_f196bad0d34940fd9a46a821532e2105",
            "_dom_classes": [],
            "description": "",
            "_model_name": "FloatProgressModel",
            "bar_style": "success",
            "max": 87319819,
            "_view_module": "@jupyter-widgets/controls",
            "_model_module_version": "1.5.0",
            "value": 87319819,
            "_view_count": null,
            "_view_module_version": "1.5.0",
            "orientation": "horizontal",
            "min": 0,
            "description_tooltip": null,
            "_model_module": "@jupyter-widgets/controls",
            "layout": "IPY_MODEL_603357fdac5b45818e3330820f6a3ee0"
          }
        },
        "75a63850307548d8b1a3e6114fecbfda": {
          "model_module": "@jupyter-widgets/controls",
          "model_name": "HTMLModel",
          "model_module_version": "1.5.0",
          "state": {
            "_view_name": "HTMLView",
            "style": "IPY_MODEL_bea7d9b3c90d4295880c7ad83aedd520",
            "_dom_classes": [],
            "description": "",
            "_model_name": "HTMLModel",
            "placeholder": "​",
            "_view_module": "@jupyter-widgets/controls",
            "_model_module_version": "1.5.0",
            "value": " 83.3M/83.3M [00:03&lt;00:00, 39.9MB/s]",
            "_view_count": null,
            "_view_module_version": "1.5.0",
            "description_tooltip": null,
            "_model_module": "@jupyter-widgets/controls",
            "layout": "IPY_MODEL_e820baac09824069a2606d33bd7f5eaa"
          }
        },
        "162cdac1a70e43a8a1af2241e8c24218": {
          "model_module": "@jupyter-widgets/controls",
          "model_name": "DescriptionStyleModel",
          "model_module_version": "1.5.0",
          "state": {
            "_view_name": "StyleView",
            "_model_name": "DescriptionStyleModel",
            "description_width": "",
            "_view_module": "@jupyter-widgets/base",
            "_model_module_version": "1.5.0",
            "_view_count": null,
            "_view_module_version": "1.2.0",
            "_model_module": "@jupyter-widgets/controls"
          }
        },
        "1c5bc64c3a43404599e953444d497e10": {
          "model_module": "@jupyter-widgets/base",
          "model_name": "LayoutModel",
          "model_module_version": "1.2.0",
          "state": {
            "_view_name": "LayoutView",
            "grid_template_rows": null,
            "right": null,
            "justify_content": null,
            "_view_module": "@jupyter-widgets/base",
            "overflow": null,
            "_model_module_version": "1.2.0",
            "_view_count": null,
            "flex_flow": null,
            "width": null,
            "min_width": null,
            "border": null,
            "align_items": null,
            "bottom": null,
            "_model_module": "@jupyter-widgets/base",
            "top": null,
            "grid_column": null,
            "overflow_y": null,
            "overflow_x": null,
            "grid_auto_flow": null,
            "grid_area": null,
            "grid_template_columns": null,
            "flex": null,
            "_model_name": "LayoutModel",
            "justify_items": null,
            "grid_row": null,
            "max_height": null,
            "align_content": null,
            "visibility": null,
            "align_self": null,
            "height": null,
            "min_height": null,
            "padding": null,
            "grid_auto_rows": null,
            "grid_gap": null,
            "max_width": null,
            "order": null,
            "_view_module_version": "1.2.0",
            "grid_template_areas": null,
            "object_position": null,
            "object_fit": null,
            "grid_auto_columns": null,
            "margin": null,
            "display": null,
            "left": null
          }
        },
        "f196bad0d34940fd9a46a821532e2105": {
          "model_module": "@jupyter-widgets/controls",
          "model_name": "ProgressStyleModel",
          "model_module_version": "1.5.0",
          "state": {
            "_view_name": "StyleView",
            "_model_name": "ProgressStyleModel",
            "description_width": "",
            "_view_module": "@jupyter-widgets/base",
            "_model_module_version": "1.5.0",
            "_view_count": null,
            "_view_module_version": "1.2.0",
            "bar_color": null,
            "_model_module": "@jupyter-widgets/controls"
          }
        },
        "603357fdac5b45818e3330820f6a3ee0": {
          "model_module": "@jupyter-widgets/base",
          "model_name": "LayoutModel",
          "model_module_version": "1.2.0",
          "state": {
            "_view_name": "LayoutView",
            "grid_template_rows": null,
            "right": null,
            "justify_content": null,
            "_view_module": "@jupyter-widgets/base",
            "overflow": null,
            "_model_module_version": "1.2.0",
            "_view_count": null,
            "flex_flow": null,
            "width": null,
            "min_width": null,
            "border": null,
            "align_items": null,
            "bottom": null,
            "_model_module": "@jupyter-widgets/base",
            "top": null,
            "grid_column": null,
            "overflow_y": null,
            "overflow_x": null,
            "grid_auto_flow": null,
            "grid_area": null,
            "grid_template_columns": null,
            "flex": null,
            "_model_name": "LayoutModel",
            "justify_items": null,
            "grid_row": null,
            "max_height": null,
            "align_content": null,
            "visibility": null,
            "align_self": null,
            "height": null,
            "min_height": null,
            "padding": null,
            "grid_auto_rows": null,
            "grid_gap": null,
            "max_width": null,
            "order": null,
            "_view_module_version": "1.2.0",
            "grid_template_areas": null,
            "object_position": null,
            "object_fit": null,
            "grid_auto_columns": null,
            "margin": null,
            "display": null,
            "left": null
          }
        },
        "bea7d9b3c90d4295880c7ad83aedd520": {
          "model_module": "@jupyter-widgets/controls",
          "model_name": "DescriptionStyleModel",
          "model_module_version": "1.5.0",
          "state": {
            "_view_name": "StyleView",
            "_model_name": "DescriptionStyleModel",
            "description_width": "",
            "_view_module": "@jupyter-widgets/base",
            "_model_module_version": "1.5.0",
            "_view_count": null,
            "_view_module_version": "1.2.0",
            "_model_module": "@jupyter-widgets/controls"
          }
        },
        "e820baac09824069a2606d33bd7f5eaa": {
          "model_module": "@jupyter-widgets/base",
          "model_name": "LayoutModel",
          "model_module_version": "1.2.0",
          "state": {
            "_view_name": "LayoutView",
            "grid_template_rows": null,
            "right": null,
            "justify_content": null,
            "_view_module": "@jupyter-widgets/base",
            "overflow": null,
            "_model_module_version": "1.2.0",
            "_view_count": null,
            "flex_flow": null,
            "width": null,
            "min_width": null,
            "border": null,
            "align_items": null,
            "bottom": null,
            "_model_module": "@jupyter-widgets/base",
            "top": null,
            "grid_column": null,
            "overflow_y": null,
            "overflow_x": null,
            "grid_auto_flow": null,
            "grid_area": null,
            "grid_template_columns": null,
            "flex": null,
            "_model_name": "LayoutModel",
            "justify_items": null,
            "grid_row": null,
            "max_height": null,
            "align_content": null,
            "visibility": null,
            "align_self": null,
            "height": null,
            "min_height": null,
            "padding": null,
            "grid_auto_rows": null,
            "grid_gap": null,
            "max_width": null,
            "order": null,
            "_view_module_version": "1.2.0",
            "grid_template_areas": null,
            "object_position": null,
            "object_fit": null,
            "grid_auto_columns": null,
            "margin": null,
            "display": null,
            "left": null
          }
        }
      }
    },
    "accelerator": "GPU"
  },
  "cells": [
    {
      "cell_type": "markdown",
      "metadata": {
        "id": "view-in-github",
        "colab_type": "text"
      },
      "source": [
        "<a href=\"https://colab.research.google.com/github/GollyTicker/Food-Recognition-Challenge/blob/main/Starter_Kit.ipynb\" target=\"_parent\"><img src=\"https://colab.research.google.com/assets/colab-badge.svg\" alt=\"Open In Colab\"/></a>"
      ]
    },
    {
      "cell_type": "markdown",
      "metadata": {
        "id": "yt_yLzMyRHP8"
      },
      "source": [
        "![AIcrowd-Logo](https://raw.githubusercontent.com/AIcrowd/AIcrowd/master/app/assets/images/misc/aicrowd-horizontal.png)\n",
        "\n",
        "This dataset and notebook correspond to the [Food Recognition Challenge](https://www.aicrowd.com/challenges/food-recognition-challenge) being held on [AIcrowd](https://www.aicrowd.com/).\n",
        "\n",
        "<p align=\"right\"> Join the communty! <br><a href=\"https://discord.gg/GTckBMx\"><img src=\"https://img.shields.io/discord/657211973435392011?style=for-the-badge\" alt=\"chat on Discord\"></a>\n",
        "</p>\n",
        "\n",
        "# <center> 🍕 Food Recognition Challenge: Detectron2 starter kit </center>\n",
        "\n",
        "<center>This notebook aims to build a model for food detection and segmentation using <code>detectron2</code></center>\n",
        "\n",
        "# How to use this notebook? 📝\n",
        "1. **Copy the notebook**. This is a shared template and any edits you make here will not be saved. _You should copy it into your own drive folder._ For this, click the \"File\" menu (top-left), then \"Save a Copy in Drive\". You can edit your copy however you like.\n",
        "2. **Make a submission**. Run all the code in the notebook to get a feel of how the notebook and the submission process works.\n",
        "3. **Try tweaking the parameters**. If you are new to the problem, a great way to start is try tweaking the configuration flags, train your model and submit again.\n",
        "4. **Diving into the code**. When you submit via this notebook, we create a repository on [gitlab.aicrowd.com](https://gitlab.aicrowd.com). You can check the code we generated based on this notebook and directly make changes you want there!\n"
      ]
    },
    {
      "cell_type": "markdown",
      "metadata": {
        "id": "AqCwgApzqFK6"
      },
      "source": [
        "# Setup the notebook 🛠"
      ]
    },
    {
      "cell_type": "code",
      "metadata": {
        "id": "_embMQfcqIK5",
        "colab": {
          "base_uri": "https://localhost:8080/"
        },
        "outputId": "76d4201d-249f-41a2-806f-6873c0258197"
      },
      "source": [
        "# !bash <(curl -sL https://gitlab.aicrowd.com/jyotish/food-recognition-challenge-detectron2-baseline/raw/master/utils/setup-colab.sh)\n",
        "!pip install cython numpy aicrowd-api Pillow opencv-python git+https://github.com/cocodataset/cocoapi.git#subdirectory=PythonAPI\n",
        "\n",
        "# !pip install -f https://download.pytorch.org/whl/cu101/torch_stable.html torch==1.5 torchvision==0.6\n",
        "# !pip install -f https://dl.fbaipublicfiles.com/detectron2/wheels/cu101/index.html detectron2==0.1.2"
      ],
      "execution_count": 1,
      "outputs": [
        {
          "output_type": "stream",
          "name": "stdout",
          "text": [
            "Collecting git+https://github.com/cocodataset/cocoapi.git#subdirectory=PythonAPI\n",
            "  Cloning https://github.com/cocodataset/cocoapi.git to /tmp/pip-req-build-xy67sffj\n",
            "  Running command git clone -q https://github.com/cocodataset/cocoapi.git /tmp/pip-req-build-xy67sffj\n",
            "Requirement already satisfied: cython in /usr/local/lib/python3.7/dist-packages (0.29.24)\n",
            "Requirement already satisfied: numpy in /usr/local/lib/python3.7/dist-packages (1.19.5)\n",
            "Collecting aicrowd-api\n",
            "  Downloading aicrowd_api-0.1.23.tar.gz (7.6 kB)\n",
            "Requirement already satisfied: Pillow in /usr/local/lib/python3.7/dist-packages (7.1.2)\n",
            "Requirement already satisfied: opencv-python in /usr/local/lib/python3.7/dist-packages (4.1.2.30)\n",
            "Requirement already satisfied: setuptools>=18.0 in /usr/local/lib/python3.7/dist-packages (from pycocotools==2.0) (57.4.0)\n",
            "Requirement already satisfied: matplotlib>=2.1.0 in /usr/local/lib/python3.7/dist-packages (from pycocotools==2.0) (3.2.2)\n",
            "Requirement already satisfied: python-dateutil>=2.1 in /usr/local/lib/python3.7/dist-packages (from matplotlib>=2.1.0->pycocotools==2.0) (2.8.2)\n",
            "Requirement already satisfied: cycler>=0.10 in /usr/local/lib/python3.7/dist-packages (from matplotlib>=2.1.0->pycocotools==2.0) (0.11.0)\n",
            "Requirement already satisfied: kiwisolver>=1.0.1 in /usr/local/lib/python3.7/dist-packages (from matplotlib>=2.1.0->pycocotools==2.0) (1.3.2)\n",
            "Requirement already satisfied: pyparsing!=2.0.4,!=2.1.2,!=2.1.6,>=2.0.1 in /usr/local/lib/python3.7/dist-packages (from matplotlib>=2.1.0->pycocotools==2.0) (3.0.6)\n",
            "Requirement already satisfied: six>=1.5 in /usr/local/lib/python3.7/dist-packages (from python-dateutil>=2.1->matplotlib>=2.1.0->pycocotools==2.0) (1.15.0)\n",
            "Requirement already satisfied: requests>=2.18.4 in /usr/local/lib/python3.7/dist-packages (from aicrowd-api) (2.23.0)\n",
            "Collecting redis\n",
            "  Downloading redis-4.0.2-py3-none-any.whl (119 kB)\n",
            "\u001b[K     |████████████████████████████████| 119 kB 6.3 MB/s \n",
            "\u001b[?25hRequirement already satisfied: chardet<4,>=3.0.2 in /usr/local/lib/python3.7/dist-packages (from requests>=2.18.4->aicrowd-api) (3.0.4)\n",
            "Requirement already satisfied: certifi>=2017.4.17 in /usr/local/lib/python3.7/dist-packages (from requests>=2.18.4->aicrowd-api) (2021.10.8)\n",
            "Requirement already satisfied: urllib3!=1.25.0,!=1.25.1,<1.26,>=1.21.1 in /usr/local/lib/python3.7/dist-packages (from requests>=2.18.4->aicrowd-api) (1.24.3)\n",
            "Requirement already satisfied: idna<3,>=2.5 in /usr/local/lib/python3.7/dist-packages (from requests>=2.18.4->aicrowd-api) (2.10)\n",
            "Collecting deprecated\n",
            "  Downloading Deprecated-1.2.13-py2.py3-none-any.whl (9.6 kB)\n",
            "Requirement already satisfied: wrapt<2,>=1.10 in /usr/local/lib/python3.7/dist-packages (from deprecated->redis->aicrowd-api) (1.13.3)\n",
            "Building wheels for collected packages: pycocotools, aicrowd-api\n",
            "  Building wheel for pycocotools (setup.py) ... \u001b[?25l\u001b[?25hdone\n",
            "  Created wheel for pycocotools: filename=pycocotools-2.0-cp37-cp37m-linux_x86_64.whl size=263915 sha256=9c9dd067e32908e2a77d63fae553d6504f60bb74dac2d069553d822336d0ba0e\n",
            "  Stored in directory: /tmp/pip-ephem-wheel-cache-wt2e5lj1/wheels/e2/6b/1d/344ac773c7495ea0b85eb228bc66daec7400a143a92d36b7b1\n",
            "  Building wheel for aicrowd-api (setup.py) ... \u001b[?25l\u001b[?25hdone\n",
            "  Created wheel for aicrowd-api: filename=aicrowd_api-0.1.23-py2.py3-none-any.whl size=9077 sha256=66629543a12834f128b5f001d4e68955eb252e25e2ef4523ea6b3a079e208466\n",
            "  Stored in directory: /root/.cache/pip/wheels/0c/43/c9/d6afde4916e82484be857a3d80b3c05b51720ea8bf877d4a5a\n",
            "Successfully built pycocotools aicrowd-api\n",
            "Installing collected packages: deprecated, redis, pycocotools, aicrowd-api\n",
            "  Attempting uninstall: pycocotools\n",
            "    Found existing installation: pycocotools 2.0.2\n",
            "    Uninstalling pycocotools-2.0.2:\n",
            "      Successfully uninstalled pycocotools-2.0.2\n",
            "Successfully installed aicrowd-api-0.1.23 deprecated-1.2.13 pycocotools-2.0 redis-4.0.2\n"
          ]
        }
      ]
    },
    {
      "cell_type": "code",
      "metadata": {
        "id": "3IeBrALmMbWY",
        "colab": {
          "base_uri": "https://localhost:8080/"
        },
        "outputId": "62ebdc38-e1ea-42bc-cb02-61b9e4c236a5"
      },
      "source": [
        "!pip install -Uqq fastbook\n",
        "import fastbook\n",
        "fastbook.setup_book()"
      ],
      "execution_count": 2,
      "outputs": [
        {
          "output_type": "stream",
          "name": "stdout",
          "text": [
            "\u001b[K     |████████████████████████████████| 720 kB 5.3 MB/s \n",
            "\u001b[K     |████████████████████████████████| 189 kB 47.1 MB/s \n",
            "\u001b[K     |████████████████████████████████| 1.2 MB 31.1 MB/s \n",
            "\u001b[K     |████████████████████████████████| 46 kB 3.9 MB/s \n",
            "\u001b[K     |████████████████████████████████| 56 kB 4.4 MB/s \n",
            "\u001b[K     |████████████████████████████████| 51 kB 307 kB/s \n",
            "\u001b[?25hMounted at /content/gdrive\n"
          ]
        }
      ]
    },
    {
      "cell_type": "code",
      "metadata": {
        "id": "JveWajFEMfCR",
        "colab": {
          "base_uri": "https://localhost:8080/"
        },
        "outputId": "ab564ce0-8799-4289-aba5-56358b415db0"
      },
      "source": [
        "#hide\n",
        "from fastbook import *\n",
        "#hide\n",
        "# test gpu is used\n",
        "import torch\n",
        "print(torch.cuda.is_available())\n",
        "# assert torch.cuda.is_available()\n",
        "\n",
        "DEVICE = torch.device(\"cuda\")"
      ],
      "execution_count": 3,
      "outputs": [
        {
          "output_type": "stream",
          "name": "stdout",
          "text": [
            "True\n"
          ]
        }
      ]
    },
    {
      "cell_type": "code",
      "metadata": {
        "id": "FYrdQtqs_sOR"
      },
      "source": [
        "!wget -q -O jq https://github.com/stedolan/jq/releases/download/jq-1.6/jq-linux64 && chmod +x jq"
      ],
      "execution_count": 4,
      "outputs": []
    },
    {
      "cell_type": "code",
      "metadata": {
        "id": "U9TA_gz38qjn"
      },
      "source": [
        "#!wget -q -nv https://datasets.aicrowd.com/default/aicrowd-public-datasets/food-recognition-challenge/v0.4/train-v0.4.tar.gz\n",
        "#!unzip -q -d dataset train-v0.4.tar.gz\n",
        "\n",
        "#!wget -q -nv https://datasets.aicrowd.com/default/aicrowd-public-datasets/food-recognition-challenge/v0.4/val-v0.4.tar.gz\n",
        "#!unzip -q -d dataset val-v0.4.tar.gz\n",
        "!rm -rf *.gz"
      ],
      "execution_count": 5,
      "outputs": []
    },
    {
      "cell_type": "code",
      "metadata": {
        "id": "QAouH2oI8Kic",
        "colab": {
          "base_uri": "https://localhost:8080/"
        },
        "outputId": "a8d90ace-bd8c-4985-b473-3117b8b73828"
      },
      "source": [
        "!wget https://s3.eu-central-1.wasabisys.com/aicrowd-public-datasets/myfoodrepo/round-1/train.tar.gz\n",
        "!wget https://s3.eu-central-1.wasabisys.com/aicrowd-public-datasets/myfoodrepo/round-1/test_images.tar.gz\n",
        "!wget https://s3.eu-central-1.wasabisys.com/aicrowd-public-datasets/myfoodrepo/round-1/val.tar.gz"
      ],
      "execution_count": 6,
      "outputs": [
        {
          "output_type": "stream",
          "name": "stdout",
          "text": [
            "--2021-11-24 20:18:57--  https://s3.eu-central-1.wasabisys.com/aicrowd-public-datasets/myfoodrepo/round-1/train.tar.gz\n",
            "Resolving s3.eu-central-1.wasabisys.com (s3.eu-central-1.wasabisys.com)... 130.117.252.23, 130.117.252.20, 130.117.252.11, ...\n",
            "Connecting to s3.eu-central-1.wasabisys.com (s3.eu-central-1.wasabisys.com)|130.117.252.23|:443... connected.\n",
            "HTTP request sent, awaiting response... 200 OK\n",
            "Length: 290012672 (277M) [application/x-gzip]\n",
            "Saving to: ‘train.tar.gz’\n",
            "\n",
            "train.tar.gz        100%[===================>] 276.58M  26.9MB/s    in 11s     \n",
            "\n",
            "2021-11-24 20:19:09 (24.4 MB/s) - ‘train.tar.gz’ saved [290012672/290012672]\n",
            "\n",
            "--2021-11-24 20:19:10--  https://s3.eu-central-1.wasabisys.com/aicrowd-public-datasets/myfoodrepo/round-1/test_images.tar.gz\n",
            "Resolving s3.eu-central-1.wasabisys.com (s3.eu-central-1.wasabisys.com)... 130.117.252.19, 130.117.252.12, 130.117.252.22, ...\n",
            "Connecting to s3.eu-central-1.wasabisys.com (s3.eu-central-1.wasabisys.com)|130.117.252.19|:443... connected.\n",
            "HTTP request sent, awaiting response... 200 OK\n",
            "Length: 11947772 (11M) [application/x-gzip]\n",
            "Saving to: ‘test_images.tar.gz’\n",
            "\n",
            "test_images.tar.gz  100%[===================>]  11.39M  9.47MB/s    in 1.2s    \n",
            "\n",
            "2021-11-24 20:19:12 (9.47 MB/s) - ‘test_images.tar.gz’ saved [11947772/11947772]\n",
            "\n",
            "--2021-11-24 20:19:12--  https://s3.eu-central-1.wasabisys.com/aicrowd-public-datasets/myfoodrepo/round-1/val.tar.gz\n",
            "Resolving s3.eu-central-1.wasabisys.com (s3.eu-central-1.wasabisys.com)... 130.117.252.19, 130.117.252.12, 130.117.252.22, ...\n",
            "Connecting to s3.eu-central-1.wasabisys.com (s3.eu-central-1.wasabisys.com)|130.117.252.19|:443... connected.\n",
            "HTTP request sent, awaiting response... 200 OK\n",
            "Length: 12157308 (12M) [application/x-gzip]\n",
            "Saving to: ‘val.tar.gz’\n",
            "\n",
            "val.tar.gz          100%[===================>]  11.59M  9.54MB/s    in 1.2s    \n",
            "\n",
            "2021-11-24 20:19:14 (9.54 MB/s) - ‘val.tar.gz’ saved [12157308/12157308]\n",
            "\n"
          ]
        }
      ]
    },
    {
      "cell_type": "code",
      "metadata": {
        "id": "ZXO6-8_-9Fye",
        "colab": {
          "base_uri": "https://localhost:8080/"
        },
        "outputId": "0731aac3-054f-4532-fd76-d54b01a2e16b"
      },
      "source": [
        "!pwd\n",
        "!ls"
      ],
      "execution_count": 7,
      "outputs": [
        {
          "output_type": "stream",
          "name": "stdout",
          "text": [
            "/content\n",
            "gdrive\tjq  sample_data  test_images.tar.gz  train.tar.gz  val.tar.gz\n"
          ]
        }
      ]
    },
    {
      "cell_type": "code",
      "metadata": {
        "id": "tCp41mm08ruj",
        "colab": {
          "base_uri": "https://localhost:8080/"
        },
        "outputId": "b9906c9b-67e5-4d8d-aea2-ddd6b6bf63f7"
      },
      "source": [
        "!for f in *.tar.gz; do echo \"$f\"; tar xf \"$f\"; done"
      ],
      "execution_count": 8,
      "outputs": [
        {
          "output_type": "stream",
          "name": "stdout",
          "text": [
            "test_images.tar.gz\n",
            "train.tar.gz\n",
            "val.tar.gz\n"
          ]
        }
      ]
    },
    {
      "cell_type": "code",
      "metadata": {
        "id": "g-OseIO9-DAD",
        "colab": {
          "base_uri": "https://localhost:8080/"
        },
        "outputId": "7247cc87-2abf-4050-9d48-0bdf283dba83"
      },
      "source": [
        "!ls train\n",
        "!cat train/annotations.json | ./jq . | head -n 50"
      ],
      "execution_count": 9,
      "outputs": [
        {
          "output_type": "stream",
          "name": "stdout",
          "text": [
            "annotations.json  images\n",
            "{\n",
            "  \"categories\": [\n",
            "    {\n",
            "      \"id\": 1565,\n",
            "      \"name\": \"bread-wholemeal\",\n",
            "      \"name_readable\": \"Bread, wholemeal\",\n",
            "      \"supercategory\": \"food\"\n",
            "    },\n",
            "    {\n",
            "      \"id\": 1010,\n",
            "      \"name\": \"potatoes-steamed\",\n",
            "      \"name_readable\": \"Potatoes steamed\",\n",
            "      \"supercategory\": \"food\"\n",
            "    },\n",
            "    {\n",
            "      \"id\": 1085,\n",
            "      \"name\": \"broccoli\",\n",
            "      \"name_readable\": \"Broccoli\",\n",
            "      \"supercategory\": \"food\"\n",
            "    },\n",
            "    {\n",
            "      \"id\": 2053,\n",
            "      \"name\": \"butter\",\n",
            "      \"name_readable\": \"Butter\",\n",
            "      \"supercategory\": \"food\"\n",
            "    },\n",
            "    {\n",
            "      \"id\": 1310,\n",
            "      \"name\": \"hard-cheese\",\n",
            "      \"name_readable\": \"Hard cheese\",\n",
            "      \"supercategory\": \"food\"\n",
            "    },\n",
            "    {\n",
            "      \"id\": 2578,\n",
            "      \"name\": \"water\",\n",
            "      \"name_readable\": \"Water\",\n",
            "      \"supercategory\": \"food\"\n",
            "    },\n",
            "    {\n",
            "      \"id\": 1154,\n",
            "      \"name\": \"banana\",\n",
            "      \"name_readable\": \"Banana\",\n",
            "      \"supercategory\": \"food\"\n",
            "    },\n",
            "    {\n",
            "      \"id\": 2620,\n",
            "      \"name\": \"wine-white\",\n",
            "      \"name_readable\": \"Wine, white\",\n",
            "      \"supercategory\": \"food\"\n",
            "    },\n"
          ]
        }
      ]
    },
    {
      "cell_type": "markdown",
      "metadata": {
        "id": "SDA1bgkg-8yu"
      },
      "source": [
        "# Configure static variables 📎"
      ]
    },
    {
      "cell_type": "code",
      "metadata": {
        "id": "r6kEtMOl-8GO"
      },
      "source": [
        "from pathlib import Path\n",
        "import os\n",
        "from multiprocessing import Pool\n",
        "import json\n",
        "\n",
        "from tqdm.notebook import tqdm\n",
        "from pycocotools.coco import COCO\n",
        "from torch import tensor\n",
        "import numpy as np\n",
        "import cv2\n",
        "import PIL\n",
        "\n",
        "class Paths:\n",
        "  DATASET_DIR = Path(\".\")\n",
        "  \n",
        "  TRAIN_DATA_DIR = DATASET_DIR/\"train\"\n",
        "  TRAIN_IMAGES_DIR = TRAIN_DATA_DIR/\"images\"\n",
        "  TRAIN_ANNOTATIONS = TRAIN_DATA_DIR/\"annotations.json\"\n",
        "  TRAIN_MULTI_SEG_DIR = TRAIN_DATA_DIR/\"segmentations\"\n",
        "  \n",
        "  VAL_DATA_DIR = DATASET_DIR/\"val\"\n",
        "  VAL_ANNOTATIONS = VAL_DATA_DIR/\"annotations.json\"\n",
        "  VAL_IMAGES_DIR = VAL_DATA_DIR/\"images\"\n",
        "  VAL_MULTI_SEG_DIR = VAL_DATA_DIR/\"segmentations\"\n",
        "\n",
        "  CURR_DATA_DIR = DATASET_DIR/\"curr\"\n",
        "  CURR_IMAGES_DIR = CURR_DATA_DIR/\"images\"\n",
        "  CURR_ANNOTATIONS = CURR_DATA_DIR/\"annotations.json\"\n",
        "  CURR_MULTI_SEG_DIR = CURR_DATA_DIR/\"segmentations\"\n",
        "\n",
        "\n",
        "class DatasetLabels:\n",
        "  TRAIN = \"dataset_train\"\n",
        "  VAL = \"dataset_val\"\n",
        "\n",
        "import os\n",
        "for dirs in [Paths.CURR_IMAGES_DIR,Paths.TRAIN_MULTI_SEG_DIR,Paths.VAL_MULTI_SEG_DIR,Paths.CURR_MULTI_SEG_DIR]:\n",
        "  os.makedirs(dirs,exist_ok=True)"
      ],
      "execution_count": 10,
      "outputs": []
    },
    {
      "cell_type": "code",
      "metadata": {
        "id": "1jkAnlhzIvyM"
      },
      "source": [
        "GDRIVE_MIRROR_ROOT = gdrive/\"Food Challenge\"/\"persistent\"/\"mirror\"\n",
        "os.makedirs(GDRIVE_MIRROR_ROOT,exist_ok=True)\n",
        "\n",
        "def store_directory_to_google_drive(relative_dir):\n",
        "  destination = GDRIVE_MIRROR_ROOT/relative_dir\n",
        "  print(f\"Storing {relative_dir} -> {destination} (target removed before copy)\")\n",
        "  shutil.rmtree(destination, ignore_errors=True)\n",
        "  shutil.copytree(relative_dir,destination)\n",
        "\n",
        "def restore_directory_from_google_drive(relative_dir):\n",
        "  source = GDRIVE_MIRROR_ROOT/relative_dir\n",
        "  print(f\"Restoring {relative_dir} <- {source} (target removed before copy)\")\n",
        "  shutil.rmtree(relative_dir, ignore_errors=True)\n",
        "  shutil.copytree(source,relative_dir)"
      ],
      "execution_count": 11,
      "outputs": []
    },
    {
      "cell_type": "code",
      "metadata": {
        "id": "GpUFct7TK3Sj"
      },
      "source": [
        "# restore precomputed segmentation masks\n",
        "if False and \"we don't want to restore the segmentation masks from google drive, since this is slow. It's slower than computing them directly!\":\n",
        "  try:\n",
        "    restore_directory_from_google_drive(Paths.TRAIN_MULTI_SEG_DIR)\n",
        "  except Exception as e:\n",
        "    e.printStackTrace()"
      ],
      "execution_count": 12,
      "outputs": []
    },
    {
      "cell_type": "markdown",
      "metadata": {
        "id": "DGt1_dNs_LFB"
      },
      "source": [
        "# Packages 🗃\n",
        "\n",
        "Import here all the packages you need to define your model. "
      ]
    },
    {
      "cell_type": "code",
      "metadata": {
        "id": "XOxxkvKI5jhA",
        "colab": {
          "base_uri": "https://localhost:8080/"
        },
        "outputId": "6cd94ce8-f06c-497b-ad70-92b0923ead1d"
      },
      "source": [
        "\"\"\"from detectron2.data.datasets import register_coco_instances\n",
        "import detectron2\n",
        "from detectron2.utils.logger import setup_logger\n",
        "from detectron2.utils.visualizer import Visualizer\n",
        "from detectron2.utils.visualizer import ColorMode\n",
        "from detectron2.data import MetadataCatalog\n",
        "from detectron2.evaluation import COCOEvaluator, inference_on_dataset\n",
        "from detectron2.data import build_detection_test_loader\n",
        "from detectron2.engine import DefaultPredictor\n",
        "from detectron2.engine import DefaultTrainer\n",
        "from detectron2.config import get_cfg\n",
        "from detectron2 import model_zoo\n",
        "from detectron2.utils.events import get_event_storage\n",
        "from detectron2.engine import HookBase\n",
        "\"\"\"\n",
        "0"
      ],
      "execution_count": 13,
      "outputs": [
        {
          "output_type": "execute_result",
          "data": {
            "text/plain": [
              "0"
            ]
          },
          "metadata": {},
          "execution_count": 13
        }
      ]
    },
    {
      "cell_type": "markdown",
      "metadata": {
        "id": "rgc_ZDzmzyOE"
      },
      "source": [
        "# Loading the data 📲"
      ]
    },
    {
      "cell_type": "code",
      "metadata": {
        "id": "Xii1QDbCpZ0K",
        "colab": {
          "base_uri": "https://localhost:8080/"
        },
        "outputId": "4a68e208-95b3-42b4-f239-859cb699ba38"
      },
      "source": [
        "with open(Paths.TRAIN_ANNOTATIONS) as fp:\n",
        "  annotations = json.load(fp)\n",
        "  print(annotations.keys())"
      ],
      "execution_count": 14,
      "outputs": [
        {
          "output_type": "stream",
          "name": "stdout",
          "text": [
            "dict_keys(['categories', 'info', 'images', 'annotations'])\n"
          ]
        }
      ]
    },
    {
      "cell_type": "markdown",
      "metadata": {
        "id": "s7Yr5lfoAnwJ"
      },
      "source": [
        "## Helper functions to clean the dataset\n",
        "\n",
        "First, we will see if all the annotations in the dataset are properly aligned with the images. These helper functions will let us do that."
      ]
    },
    {
      "cell_type": "code",
      "metadata": {
        "id": "SstjAZ9UR6mk"
      },
      "source": [
        "image_dir = \"\"\n",
        "\n",
        "\n",
        "def validate_annotation(annotation):\n",
        "  \"\"\"Check the image dimensions and fix them if needed\n",
        "  \"\"\"\n",
        "  filepath = os.path.join(image_dir, annotation.get(\"file_name\"))\n",
        "  if not os.path.exists(filepath):\n",
        "    print(\"Skipping\", filepath)\n",
        "    return annotation\n",
        "  img = cv2.imread(filepath)\n",
        "  if img.shape[0] != annotation.get(\"height\") or img.shape[1] != annotation.get(\"width\"):\n",
        "    annotation[\"height\"], annotation[\"width\"] = annotation[\"width\"], annotation[\"height\"]\n",
        "  return annotation\n",
        "\n",
        "\n",
        "def clean_annotations(annotation_images):\n",
        "  \"\"\"Read the image dimensions and fix them in parallel\n",
        "  \"\"\"\n",
        "  annotated_images = []\n",
        "\n",
        "  with Pool() as p:\n",
        "    total_images = len(annotation_images)\n",
        "\n",
        "    with tqdm(total=total_images) as progress_bar:\n",
        "      for annotation in p.imap(validate_annotation, annotation_images):\n",
        "        annotated_images.append(annotation)\n",
        "        progress_bar.update(1)\n",
        "\n",
        "  return annotated_images"
      ],
      "execution_count": 15,
      "outputs": []
    },
    {
      "cell_type": "markdown",
      "metadata": {
        "id": "dbxqgfj0Xd8Q"
      },
      "source": [
        "## Clean the training data 🧹"
      ]
    },
    {
      "cell_type": "code",
      "metadata": {
        "id": "jVAP3Ds09qxe",
        "colab": {
          "base_uri": "https://localhost:8080/",
          "height": 49,
          "referenced_widgets": [
            "ed680a156ccc4a559e389f8973621323",
            "c209f41af8f44b6896aa00762e352aaf",
            "4c2fd3f130d949448e8182b38638fed1",
            "7b937054877343c4a4c079ed59353c7b",
            "86f46b5b463946dfb1caf1f261b91157",
            "1457cd0e3c0e41a6a6af2e1c3fdbead9",
            "66b936fc051147f88cca1e01f194696f",
            "7909163406dd4666ba3d2c3b25c9cc61",
            "6f454f86027c4f0382e09c193b2cf016",
            "126ca76e8d584fdb8e68f0c09d7e6b2a",
            "757ff47093b247299a6457eeec160c97"
          ]
        },
        "outputId": "097661e8-3b68-43e8-abaa-02cda3d2e06f"
      },
      "source": [
        "image_dir = Paths.TRAIN_IMAGES_DIR\n",
        "annotations[\"images\"] = clean_annotations(annotations.get(\"images\"))\n",
        "\n",
        "with open(Paths.TRAIN_ANNOTATIONS, \"w\") as fp:\n",
        "  json.dump(annotations, fp)"
      ],
      "execution_count": 16,
      "outputs": [
        {
          "output_type": "display_data",
          "data": {
            "application/vnd.jupyter.widget-view+json": {
              "model_id": "ed680a156ccc4a559e389f8973621323",
              "version_minor": 0,
              "version_major": 2
            },
            "text/plain": [
              "  0%|          | 0/5545 [00:00<?, ?it/s]"
            ]
          },
          "metadata": {}
        }
      ]
    },
    {
      "cell_type": "markdown",
      "metadata": {
        "id": "DZM_-xKcXhvH"
      },
      "source": [
        "## Clean the validation data 🧹"
      ]
    },
    {
      "cell_type": "code",
      "metadata": {
        "id": "JnFNbX9DX6Ci",
        "colab": {
          "base_uri": "https://localhost:8080/",
          "height": 49,
          "referenced_widgets": [
            "b28c52a97311420d88c36a5637780df8",
            "f99a251da447483daa69f05ddc6b9994",
            "a72690d3264c4b82a22bbbf33294f584",
            "8aa0e75242124f14881b99cb4178a616",
            "d513a261383741d8b688f40166169e36",
            "d51609477f634e1782a2767081907c25",
            "0aa9cb1d5390477a840976b8548b4085",
            "e90744f6480a41849703e692638f255b",
            "8d14cb6e0d634b89a877148f3e1b660a",
            "845e117e44d645088de1427de334c011",
            "2a90c81832444617ba8e1761bd2a9e36"
          ]
        },
        "outputId": "81b59335-fbb4-4a88-d2e6-7ad5d6db204a"
      },
      "source": [
        "image_dir = Paths.VAL_IMAGES_DIR\n",
        "\n",
        "with open(Paths.VAL_ANNOTATIONS) as fp:\n",
        "  validation_annotations = json.load(fp)\n",
        "\n",
        "validation_annotations[\"images\"] = clean_annotations(validation_annotations.get(\"images\"))\n",
        "\n",
        "with open(Paths.VAL_ANNOTATIONS, \"w\") as fp:\n",
        "  json.dump(validation_annotations, fp)"
      ],
      "execution_count": 17,
      "outputs": [
        {
          "output_type": "display_data",
          "data": {
            "application/vnd.jupyter.widget-view+json": {
              "model_id": "b28c52a97311420d88c36a5637780df8",
              "version_minor": 0,
              "version_major": 2
            },
            "text/plain": [
              "  0%|          | 0/291 [00:00<?, ?it/s]"
            ]
          },
          "metadata": {}
        }
      ]
    },
    {
      "cell_type": "markdown",
      "metadata": {
        "id": "M05KHR--CUq3"
      },
      "source": [
        "# My baseline model"
      ]
    },
    {
      "cell_type": "code",
      "metadata": {
        "id": "IfprvZ7ECWnA",
        "colab": {
          "base_uri": "https://localhost:8080/"
        },
        "outputId": "620f6706-5620-4dd7-e840-790e1118db3f"
      },
      "source": [
        "coco = COCO(Paths.TRAIN_ANNOTATIONS)"
      ],
      "execution_count": 18,
      "outputs": [
        {
          "output_type": "stream",
          "name": "stdout",
          "text": [
            "loading annotations into memory...\n",
            "Done (t=0.53s)\n",
            "creating index...\n",
            "index created!\n"
          ]
        }
      ]
    },
    {
      "cell_type": "code",
      "metadata": {
        "id": "U9FRSJyRCo9-",
        "colab": {
          "base_uri": "https://localhost:8080/"
        },
        "outputId": "5f51e082-36b8-4aab-e2bb-6a731d890fdc"
      },
      "source": [
        "category_ids = coco.loadCats(coco.getCatIds())\n",
        "category_names = [_[\"name\"] for _ in category_ids]\n",
        "\n",
        "N_CLASSES = len(category_ids)\n",
        "\n",
        "image_ids = coco.getImgIds()\n",
        "\n",
        "annotation_ids = coco.getAnnIds()\n",
        "annotations = coco.loadAnns(annotation_ids)\n",
        "\n",
        "print(\"Categories: \",\", \".join(category_names))\n",
        "\n",
        "print(\"Image ids: \", image_ids[:10],\"...\")\n",
        "\n",
        "print(\"Annotation:\" , annotations[0].keys())\n"
      ],
      "execution_count": 19,
      "outputs": [
        {
          "output_type": "stream",
          "name": "stdout",
          "text": [
            "Categories:  bread-wholemeal, potatoes-steamed, broccoli, butter, hard-cheese, water, banana, wine-white, bread-white, apple, pizza-margherita-baked, salad-leaf-salad-green, zucchini, water-mineral, coffee-with-caffeine, avocado, tomato, dark-chocolate, white-coffee-with-caffeine, egg, mixed-salad-chopped-without-sauce, sweet-pepper, mixed-vegetables, mayonnaise, rice, chips-french-fries, carrot, tomato-sauce, cucumber, wine-red, cheese, strawberries, espresso-with-caffeine, tea, chicken, jam, leaf-spinach, pasta-spaghetti, french-beans, bread-whole-wheat\n",
            "Image ids:  [16387, 49157, 16394, 49164, 49166, 16398, 49168, 49171, 16409, 49179] ...\n",
            "Annotation: dict_keys(['id', 'image_id', 'category_id', 'segmentation', 'area', 'bbox', 'iscrowd'])\n"
          ]
        }
      ]
    },
    {
      "cell_type": "code",
      "metadata": {
        "id": "hmVLSrsBR_T6",
        "colab": {
          "base_uri": "https://localhost:8080/"
        },
        "outputId": "e5470203-8fd5-4a37-9854-4c20b2efce1b"
      },
      "source": [
        "N = 1000\n",
        "choice = np.linspace(0,len(image_ids)-1,N,dtype=np.int16)\n",
        "tiny_train_imids = [image_ids[ci] for ci in choice] # [12886,22949,49145,54634]\n",
        "assert len(tiny_train_imids) == N\n",
        "\n",
        "import shutil\n",
        "# create currently trained on dataset\n",
        "for imid in tiny_train_imids:\n",
        "  im = coco.loadImgs(imid)[0]\n",
        "  shutil.copy(Paths.TRAIN_IMAGES_DIR/im['file_name'], Paths.CURR_IMAGES_DIR/im['file_name'])\n",
        "\n",
        "\n",
        "shutil.copy(Paths.TRAIN_ANNOTATIONS, Paths.CURR_ANNOTATIONS)"
      ],
      "execution_count": 20,
      "outputs": [
        {
          "output_type": "execute_result",
          "data": {
            "text/plain": [
              "Path('curr/annotations.json')"
            ]
          },
          "metadata": {},
          "execution_count": 20
        }
      ]
    },
    {
      "cell_type": "code",
      "metadata": {
        "id": "O9NEInrKS_Vo",
        "colab": {
          "base_uri": "https://localhost:8080/"
        },
        "outputId": "721fbb42-db69-4004-f0cb-e5e119e152f6"
      },
      "source": [
        "!ls curr\n",
        "!ls curr/images | head -n 50"
      ],
      "execution_count": 21,
      "outputs": [
        {
          "output_type": "stream",
          "name": "stdout",
          "text": [
            "annotations.json  images  segmentations\n",
            "006446.jpg\n",
            "006489.jpg\n",
            "006514.jpg\n",
            "006523.jpg\n",
            "006556.jpg\n",
            "006574.jpg\n",
            "006592.jpg\n",
            "006726.jpg\n",
            "006817.jpg\n",
            "006845.jpg\n",
            "006962.jpg\n",
            "007259.jpg\n",
            "007319.jpg\n",
            "007416.jpg\n",
            "007658.jpg\n",
            "007665.jpg\n",
            "007724.jpg\n",
            "007742.jpg\n",
            "007800.jpg\n",
            "007811.jpg\n",
            "007839.jpg\n",
            "007848.jpg\n",
            "007892.jpg\n",
            "007902.jpg\n",
            "007912.jpg\n",
            "007929.jpg\n",
            "007950.jpg\n",
            "007996.jpg\n",
            "008038.jpg\n",
            "008072.jpg\n",
            "008116.jpg\n",
            "008143.jpg\n",
            "008188.jpg\n",
            "008206.jpg\n",
            "008220.jpg\n",
            "008241.jpg\n",
            "008356.jpg\n",
            "008479.jpg\n",
            "008501.jpg\n",
            "008519.jpg\n",
            "008534.jpg\n",
            "008535.jpg\n",
            "008547.jpg\n",
            "008583.jpg\n",
            "008619.jpg\n",
            "008630.jpg\n",
            "008635.jpg\n",
            "008648.jpg\n",
            "008724.jpg\n",
            "008779.jpg\n"
          ]
        }
      ]
    },
    {
      "cell_type": "code",
      "metadata": {
        "id": "_wvHBPWqa7aA",
        "colab": {
          "base_uri": "https://localhost:8080/"
        },
        "outputId": "21898c3b-c1c5-4129-aead-f29834e149e4"
      },
      "source": [
        "[catdict[\"name\"] for catdict in category_ids]"
      ],
      "execution_count": 22,
      "outputs": [
        {
          "output_type": "execute_result",
          "data": {
            "text/plain": [
              "['bread-wholemeal',\n",
              " 'potatoes-steamed',\n",
              " 'broccoli',\n",
              " 'butter',\n",
              " 'hard-cheese',\n",
              " 'water',\n",
              " 'banana',\n",
              " 'wine-white',\n",
              " 'bread-white',\n",
              " 'apple',\n",
              " 'pizza-margherita-baked',\n",
              " 'salad-leaf-salad-green',\n",
              " 'zucchini',\n",
              " 'water-mineral',\n",
              " 'coffee-with-caffeine',\n",
              " 'avocado',\n",
              " 'tomato',\n",
              " 'dark-chocolate',\n",
              " 'white-coffee-with-caffeine',\n",
              " 'egg',\n",
              " 'mixed-salad-chopped-without-sauce',\n",
              " 'sweet-pepper',\n",
              " 'mixed-vegetables',\n",
              " 'mayonnaise',\n",
              " 'rice',\n",
              " 'chips-french-fries',\n",
              " 'carrot',\n",
              " 'tomato-sauce',\n",
              " 'cucumber',\n",
              " 'wine-red',\n",
              " 'cheese',\n",
              " 'strawberries',\n",
              " 'espresso-with-caffeine',\n",
              " 'tea',\n",
              " 'chicken',\n",
              " 'jam',\n",
              " 'leaf-spinach',\n",
              " 'pasta-spaghetti',\n",
              " 'french-beans',\n",
              " 'bread-whole-wheat']"
            ]
          },
          "metadata": {},
          "execution_count": 22
        }
      ]
    },
    {
      "cell_type": "code",
      "metadata": {
        "id": "ctgT-F9bYDqC",
        "colab": {
          "base_uri": "https://localhost:8080/"
        },
        "outputId": "24811ace-5d93-4564-8592-6dd2869c2dae"
      },
      "source": [
        "SEG_DTYPE = np.float32\n",
        "\n",
        "fai_multi_cats_from_coco_ids = Pipeline([MultiCategorize(vocab=[catdict[\"id\"] for catdict in category_ids]),\n",
        "                                         OneHotEncode(c=N_CLASSES),\n",
        "                                         Transform(enc = lambda tensor_mcat: np.array(tensor_mcat,dtype=SEG_DTYPE), dec = TensorMultiCategory, order=2)\n",
        "                                         ])\n",
        "\n",
        "coco_cat_id_to_name = lambda coco_cat_id : list(filter(lambda catdict: catdict[\"id\"] == coco_cat_id, category_ids))[0][\"name\"]\n",
        "fai_multi_cats_to_names = Transform(lambda fai_cats: list(map(coco_cat_id_to_name, fai_multi_cats_from_coco_ids.decode(fai_cats))))\n",
        "\n",
        "print(category_ids[0])\n",
        "print(category_ids[35])\n",
        "print(category_ids[24])\n",
        "\n",
        "print(fai_multi_cats_from_coco_ids)\n",
        "\n",
        "example_categories = fai_multi_cats_from_coco_ids([1565,2099,1468])\n",
        "print(\"bread-wholemeal,jam,rice ->\", example_categories)\n",
        "\n",
        "print(\"bread-wholemeal,jam,rice -> \", fai_multi_cats_to_names(example_categories))"
      ],
      "execution_count": 23,
      "outputs": [
        {
          "output_type": "stream",
          "name": "stdout",
          "text": [
            "{'id': 1565, 'name': 'bread-wholemeal', 'name_readable': 'Bread, wholemeal', 'supercategory': 'food'}\n",
            "{'id': 2099, 'name': 'jam', 'name_readable': 'Jam', 'supercategory': 'food'}\n",
            "{'id': 1468, 'name': 'rice', 'name_readable': 'Rice', 'supercategory': 'food'}\n",
            "Pipeline: MultiCategorize -- {'vocab': [1565, 1010, 1085, 2053, 1310, 2578, 1154, 2620, 1566, 1151, 2939, 1040, 1070, 2580, 2512, 1056, 1069, 2131, 2521, 2022, 1026, 1068, 1022, 2750, 1468, 1013, 1078, 2738, 1061, 2618, 1311, 1163, 2504, 2498, 1788, 2099, 1032, 1505, 1058, 1554], 'sort': False, 'add_na': False} -> OneHotEncode -- {'c': 40} -> <lambda>\n",
            "bread-wholemeal,jam,rice -> [1. 0. 0. 0. 0. 0. 0. 0. 0. 0. 0. 0. 0. 0. 0. 0. 0. 0. 0. 0. 0. 0. 0. 0. 1. 0. 0. 0. 0. 0. 0. 0. 0. 0. 0. 1. 0. 0. 0. 0.]\n",
            "bread-wholemeal,jam,rice ->  ['bread-wholemeal', 'rice', 'jam']\n"
          ]
        }
      ]
    },
    {
      "cell_type": "markdown",
      "metadata": {
        "id": "EGa3OshczaT9"
      },
      "source": [
        "#### Analyse Categories"
      ]
    },
    {
      "cell_type": "code",
      "metadata": {
        "colab": {
          "base_uri": "https://localhost:8080/",
          "height": 981
        },
        "id": "WvGv6Aa5zN37",
        "outputId": "17cf667f-a846-47af-95f2-35f49741e801"
      },
      "source": [
        "category_frequencies = []\n",
        "\n",
        "def show_category_frequencies():\n",
        "  coco_categories_for_histogram = [coco_cat_id_to_name(anno[\"category_id\"]) for anno in annotations]\n",
        "\n",
        "  plt.figure(figsize=(8,12))\n",
        "  hist, _, _ = plt.hist(coco_categories_for_histogram, len(category_names), rwidth=0.5)\n",
        "  plt.ylabel(\"number of images with this category\")\n",
        "  plt.xticks(rotation=90)\n",
        "  global category_frequencies\n",
        "  category_frequencies = hist / hist.sum()\n",
        "  plt.show()\n",
        "\n",
        "show_category_frequencies()\n",
        "\n",
        "print(\"Category frequencies:\", category_frequencies)"
      ],
      "execution_count": 24,
      "outputs": [
        {
          "output_type": "display_data",
          "data": {
            "image/png": "[encoded data removed]",
            "text/plain": [
              "<Figure size 576x864 with 1 Axes>"
            ]
          },
          "metadata": {
            "needs_background": "light"
          }
        },
        {
          "output_type": "stream",
          "name": "stdout",
          "text": [
            "Category frequencies: [0.04550743 0.02055591 0.01073045 0.05326438 0.01616031 0.09579832 0.02133161 0.01266968 0.06179703 0.02042663 0.01279897 0.06554622 0.01512605 0.01047188 0.04292178 0.01616031 0.0561086  0.01150614\n",
            " 0.01357466 0.02973497 0.01706529 0.01292825 0.03167421 0.01008403 0.02999354 0.01447964 0.04382676 0.01292825 0.01654816 0.02598578 0.01939237 0.01202327 0.02081448 0.02042663 0.01654816 0.02223659\n",
            " 0.00930834 0.0095669  0.01008403 0.01189399]\n"
          ]
        }
      ]
    },
    {
      "cell_type": "code",
      "metadata": {
        "id": "qIMMhF0_qwxD"
      },
      "source": [
        "if not \"example mini image masks\":\n",
        "  example_mini_image_masks = np.zeros((N_CLASSES,3,3),dtype=SEG_DTYPE)\n",
        "\n",
        "  example_mini_image_masks[2] = np.array([[1,1,1],[1,1,0],[1,0,0]])\n",
        "  example_mini_image_masks[5] = np.array([[1,0,0],[1,1,0],[1,1,1]])\n",
        "\n",
        "  print(example_mini_image_masks.shape)\n",
        "\n",
        "  example_mini_image_masks[:6]\n",
        "\n",
        "  for i in range(3):\n",
        "    for j in range(3):\n",
        "      print(f\"{i},{j} -> \",fai_multi_cats_from_coco_ids.decode(example_mini_image_masks[:,i,j]))"
      ],
      "execution_count": 25,
      "outputs": []
    },
    {
      "cell_type": "code",
      "metadata": {
        "id": "bhB3IQroC6xW",
        "colab": {
          "base_uri": "https://localhost:8080/",
          "height": 483
        },
        "outputId": "43068bb0-df4a-4682-a0f1-20eb5928e31f"
      },
      "source": [
        "import random\n",
        "import skimage.io as io\n",
        "import matplotlib.pyplot as plt\n",
        "%matplotlib inline\n",
        "\n",
        "imid = 30573\n",
        "imid = 16387\n",
        "imid = random.choice(image_ids)\n",
        "im = coco.loadImgs(imid)[0]\n",
        "im_annotations = coco.loadAnns(coco.getAnnIds(imgIds=imid))\n",
        "\n",
        "image_path = os.path.join(Paths.TRAIN_IMAGES_DIR, im[\"file_name\"])\n",
        "plt.figure(figsize=(8,8))\n",
        "I = io.imread(image_path)\n",
        "plt.imshow(I)\n",
        "plt.axis('off')\n",
        "# Render annotations on top of the image\n",
        "coco.showAnns(im_annotations)\n",
        "\n",
        "print(imid,im[\"width\"],im[\"height\"])"
      ],
      "execution_count": 26,
      "outputs": [
        {
          "output_type": "stream",
          "name": "stdout",
          "text": [
            "15455 480 479\n"
          ]
        },
        {
          "output_type": "display_data",
          "data": {
            "image/png": "[encoded data removed]",
            "text/plain": [
              "<Figure size 576x576 with 1 Axes>"
            ]
          },
          "metadata": {
            "needs_background": "light"
          }
        }
      ]
    },
    {
      "cell_type": "code",
      "metadata": {
        "id": "YZ4_NW8_LdbG"
      },
      "source": [
        "def one_hot_id_from_coco_id(coco_id):\n",
        "  return np.nonzero(fai_multi_cats_from_coco_ids([coco_id]))[0][0]\n",
        "\n",
        "def convert_annotations_to_multimask(im_annotations, image_dict, debug=False):\n",
        "  \"\"\"Produces a mask of shape [N_CLASSES, w, h] where each seg_pixel (c,x,y) is either 1 (in class) or 0\"\"\"\n",
        "\n",
        "  multi_seg_mask = np.zeros((N_CLASSES, image_dict[\"width\"], image_dict[\"height\"]),dtype=SEG_DTYPE)\n",
        "\n",
        "  if debug:\n",
        "    print(\"Image id\", image_dict['id'])\n",
        "    print(\"Image shape: \", image_dict['width'], image_dict['height'])\n",
        "\n",
        "  for im_anno in im_annotations:\n",
        "    encSeg = cocomask.frPyObjects(\n",
        "        im_anno['segmentation']\n",
        "        ,image_dict['width'], image_dict['height']\n",
        "      )\n",
        "    \n",
        "    one_hot_id = one_hot_id_from_coco_id(im_anno[\"category_id\"])\n",
        "    \n",
        "    if debug:\n",
        "      print(\"Processing\",im_anno['category_id'],\"->\",one_hot_id)\n",
        "    \n",
        "    org_seg = cocomask.decode(encSeg)\n",
        "\n",
        "    if debug:\n",
        "      print(\"Org seg shape \", org_seg.shape)\n",
        "      print(\"Number of components of this label \", org_seg.shape[2])\n",
        "\n",
        "    multi_component_segmentations = org_seg.reshape((image_dict['width'], image_dict['height'],-1))\n",
        "\n",
        "    if debug:\n",
        "      print(\"multi_component_segmentations.shape \", multi_component_segmentations.shape)\n",
        "\n",
        "    category_seg = np.sum(multi_component_segmentations, axis=2)\n",
        "    np.clip(category_seg,0,1,out=category_seg)\n",
        "\n",
        "    assert category_seg.shape == (image_dict[\"width\"],image_dict[\"height\"])\n",
        "\n",
        "    multi_seg_mask[one_hot_id] = category_seg\n",
        "\n",
        "  return multi_seg_mask"
      ],
      "execution_count": 27,
      "outputs": []
    },
    {
      "cell_type": "code",
      "metadata": {
        "id": "TkHCOTMZHsa-",
        "colab": {
          "base_uri": "https://localhost:8080/",
          "height": 660
        },
        "outputId": "ff62e329-ba20-4f9c-e2d7-236ec1fed83a"
      },
      "source": [
        "# test multi-label segmentation is correctly converted\n",
        "\n",
        "import pycocotools\n",
        "import pycocotools.mask as cocomask\n",
        "\n",
        "result = convert_annotations_to_multimask(im_annotations,im,debug=True)\n",
        "\n",
        "assert result.shape == (40, im[\"width\"], im[\"height\"])\n",
        "\n",
        "for im_anno in im_annotations:\n",
        "  encSeg = cocomask.frPyObjects(\n",
        "      im_anno['segmentation']\n",
        "      ,im['width'], im['height']\n",
        "    )\n",
        "  \n",
        "  one_hot_id = one_hot_id_from_coco_id(im_anno['category_id'])\n",
        "\n",
        "  m = cocomask.decode(encSeg)\n",
        "\n",
        "  m = m.reshape((im['width'], im['height'], -1))\n",
        "  for i in range(m.shape[2]):\n",
        "    print(\"component =\",i)\n",
        "    plt.imshow(m[:,:,i])\n",
        "    plt.show()\n",
        "  \n",
        "  print(\"mask\")\n",
        "  plt.imshow(result[one_hot_id])\n",
        "  plt.show()\n",
        "\n",
        "  assert np.all(m.sum(axis=2) == result[one_hot_id])"
      ],
      "execution_count": 28,
      "outputs": [
        {
          "output_type": "stream",
          "name": "stdout",
          "text": [
            "Image id 15455\n",
            "Image shape:  480 479\n",
            "Processing 2578 -> 5\n",
            "Org seg shape  (480, 479, 1)\n",
            "Number of components of this label  1\n",
            "multi_component_segmentations.shape  (480, 479, 1)\n",
            "component = 0\n"
          ]
        },
        {
          "output_type": "display_data",
          "data": {
            "image/png": "[encoded data removed]",
            "text/plain": [
              "<Figure size 432x288 with 1 Axes>"
            ]
          },
          "metadata": {
            "needs_background": "light"
          }
        },
        {
          "output_type": "stream",
          "name": "stdout",
          "text": [
            "mask\n"
          ]
        },
        {
          "output_type": "display_data",
          "data": {
            "image/png": "[encoded data removed]",
            "text/plain": [
              "<Figure size 432x288 with 1 Axes>"
            ]
          },
          "metadata": {
            "needs_background": "light"
          }
        }
      ]
    },
    {
      "cell_type": "code",
      "metadata": {
        "id": "yKRB5Xzg4QyF"
      },
      "source": [
        "# Transform given annotations into our desired segmentations format\n",
        "\n",
        "dest_segmentations_dir = None\n",
        "\n",
        "FORCE_RECOMPUTE = False\n",
        "\n",
        "def task(im_id):\n",
        "  try:\n",
        "    out_file = dest_segmentations_dir / f\"{im_id}.npz\"\n",
        "\n",
        "    if os.path.isfile(out_file) and not FORCE_RECOMPUTE:\n",
        "      return\n",
        "    \n",
        "    image_dict = coco.loadImgs(im_id)[0]\n",
        "    im_annotations = coco.loadAnns(coco.getAnnIds(imgIds=im_id))\n",
        "    multi_mask = convert_annotations_to_multimask(im_annotations, image_dict, debug=False)\n",
        "    np.savez_compressed(out_file, multi_mask, allow_pickle=False)\n",
        "  except Exception as e:\n",
        "    print(\"Error: \", im_id)\n",
        "    raise e\n",
        "\n",
        "def preprocess_and_store_segmentations(im_ids):\n",
        "\n",
        "  with Pool() as p:\n",
        "\n",
        "    with tqdm(total=len(im_ids)) as progress_bar:\n",
        "\n",
        "      for _ in p.imap(task, im_ids):\n",
        "        progress_bar.update(1)\n"
      ],
      "execution_count": 29,
      "outputs": []
    },
    {
      "cell_type": "code",
      "metadata": {
        "id": "sbYH7cc-51f9"
      },
      "source": [
        "def load_multi_segmentation(path):\n",
        "  arr = None\n",
        "  with np.load(path) as npz:\n",
        "    arr = npz[\"arr_0\"]\n",
        "  return arr"
      ],
      "execution_count": 30,
      "outputs": []
    },
    {
      "cell_type": "code",
      "metadata": {
        "id": "Zt6BQzXn9hnQ",
        "colab": {
          "base_uri": "https://localhost:8080/",
          "height": 67,
          "referenced_widgets": [
            "fee104a35bda47d69082c975364b5c4a",
            "cf4cdd0c82d6498da937b381396cc0d3",
            "a791840f51414075bddbac98fae2338b",
            "2da3c9f765194f4eb33ad6b709896c1e",
            "eecb3cad351f46bc9c3bfac119f7b209",
            "6bd89990e0a643a0b834145ed23437f6",
            "5cc70a9f9d6e4374814b0ec613874a87",
            "592a036dc3f64eb3a994f96874d414ec",
            "de8c58bdee2f48cfb5616a3db240a716",
            "bf800789afb34e0790b243c97afab0bd",
            "fbc296c900db40549bd5606b7c3b2518"
          ]
        },
        "outputId": "f7b8b159-fe94-4b71-eca0-88ed97b5bdcb"
      },
      "source": [
        "dest_segmentations_dir = Paths.CURR_MULTI_SEG_DIR\n",
        "preprocess_and_store_segmentations(tiny_train_imids)\n",
        "print(list(os.listdir(Paths.CURR_MULTI_SEG_DIR))[:5],\"...\")\n",
        "\n",
        "if not \"transform train data\":\n",
        "  dest_segmentations_dir = Paths.TRAIN_MULTI_SEG_DIR\n",
        "  preprocess_and_store_segmentations(image_ids)\n",
        "  print(list(os.listdir(Paths.TRAIN_MULTI_SEG_DIR))[:5],\"...\")\n",
        "\n"
      ],
      "execution_count": 31,
      "outputs": [
        {
          "output_type": "display_data",
          "data": {
            "application/vnd.jupyter.widget-view+json": {
              "model_id": "fee104a35bda47d69082c975364b5c4a",
              "version_minor": 0,
              "version_major": 2
            },
            "text/plain": [
              "  0%|          | 0/1000 [00:00<?, ?it/s]"
            ]
          },
          "metadata": {}
        },
        {
          "output_type": "stream",
          "name": "stdout",
          "text": [
            "['45531.npz', '55343.npz', '23265.npz', '16430.npz', '18516.npz'] ...\n"
          ]
        }
      ]
    },
    {
      "cell_type": "code",
      "metadata": {
        "id": "7PKFTAdAKQTk"
      },
      "source": [
        "if FORCE_RECOMPUTE and not \"we will not store it to google drive due ot it's slow read speed\":\n",
        "  store_directory_to_google_drive(Paths.TRAIN_MULTI_SEG_DIR)"
      ],
      "execution_count": 32,
      "outputs": []
    },
    {
      "cell_type": "code",
      "metadata": {
        "id": "EkiJEfRJnNzo"
      },
      "source": [
        "def segmentation_size_fraction(seg):\n",
        "  assert np.all(np.logical_or(seg == 0, seg == 1))\n",
        "  assert seg.shape == (seg.shape[0],seg.shape[1])\n",
        "  segSize = np.count_nonzero(seg)\n",
        "  return float(segSize) / seg.size\n",
        "\n",
        "def resize_mseg(mseg, debug=False):\n",
        "  dest = np.zeros((N_CLASSES, IM_SZ,IM_SZ), dtype=SEG_DTYPE)\n",
        "  for i in range(N_CLASSES):\n",
        "    dest_seg_shape = (IM_SZ, IM_SZ)\n",
        "    has_defined_segmentation_for_class = np.any(mseg[i] == 1)\n",
        "    if not has_defined_segmentation_for_class:\n",
        "      continue\n",
        "    \n",
        "    asimg = PIL.Image.fromarray(mseg[i]) # using autodetected PIL Image Modes: https://pillow.readthedocs.io/en/stable/handbook/concepts.html#concept-modes\n",
        "    # Pillow Image resize: https://pillow.readthedocs.io/en/stable/reference/Image.html#PIL.Image.Image.resize\n",
        "    resized = asimg.resize(dest_seg_shape, resample=PIL.Image.NEAREST)\n",
        "    resized = (np.array(resized, dtype=SEG_DTYPE) > 0.5).astype(SEG_DTYPE)\n",
        "\n",
        "    if debug:\n",
        "      print(\"original\",i)\n",
        "      plt.imshow(mseg[i])\n",
        "      plt.show()\n",
        "      print(\"resized\",i)\n",
        "      plt.imshow(resized)\n",
        "      plt.show()\n",
        "\n",
        "    assert resized.shape == dest_seg_shape\n",
        "    assert np.all(np.logical_or(resized == 0,resized == 1))\n",
        "\n",
        "    if \"check fraction of segmentation is approx. equal\":\n",
        "      org_frac = segmentation_size_fraction(mseg[i])\n",
        "      new_frac = segmentation_size_fraction(resized)\n",
        "      abs_diff = np.abs(new_frac - org_frac)\n",
        "      assert abs_diff < 0.01, f\"Segmentation size fraction has changed during resizing. i {i}, original {org_frac}, new {new_frac}\"\n",
        "    \n",
        "    dest[i] = resized\n",
        "\n",
        "  return dest\n",
        "  \n",
        "if not \"show transformed segmentations for data\":\n",
        "  for fname in fnames:\n",
        "    print(f\"{Path(fname).stem}\")\n",
        "    mseg = load_multi_segmentation(Paths.CURR_MULTI_SEG_DIR/f\"{Path(str(int(fname.stem)))}.npz\")\n",
        "    resize_mseg(mseg, debug=True)\n"
      ],
      "execution_count": 33,
      "outputs": []
    },
    {
      "cell_type": "code",
      "metadata": {
        "colab": {
          "base_uri": "https://localhost:8080/"
        },
        "id": "-zH0CpAri5p8",
        "outputId": "7b5f4acb-28bc-4693-fd58-1b9cf85785c5"
      },
      "source": [
        "!ls curr/images/*354*"
      ],
      "execution_count": 34,
      "outputs": [
        {
          "output_type": "stream",
          "name": "stdout",
          "text": [
            "curr/images/012354.jpg\tcurr/images/035438.jpg\n",
            "curr/images/035421.jpg\tcurr/images/035492.jpg\n"
          ]
        }
      ]
    },
    {
      "cell_type": "code",
      "metadata": {
        "colab": {
          "base_uri": "https://localhost:8080/"
        },
        "id": "WAI9EG4viqsO",
        "outputId": "8c12f765-3a9c-497a-c936-44e8ba0a2e76"
      },
      "source": [
        "!ls curr/segmentations/*354*"
      ],
      "execution_count": 35,
      "outputs": [
        {
          "output_type": "stream",
          "name": "stdout",
          "text": [
            "curr/segmentations/12354.npz  curr/segmentations/35438.npz\n",
            "curr/segmentations/35421.npz  curr/segmentations/35492.npz\n"
          ]
        }
      ]
    },
    {
      "cell_type": "code",
      "metadata": {
        "id": "KuV-1-NkPZ0m"
      },
      "source": [
        "# fastai delegation decorator: https://www.fast.ai/2019/08/06/delegation/\n",
        "\n",
        "SEED=1337\n",
        "# Attempts at a multi-label segmentation loader for fastai\n",
        "# How to write a data block: https://docs.fast.ai/tutorial.datablock.html#Building-a-DataBlock-from-scratch\n",
        "class MultiLabelSegmentationDataLoaders(DataLoaders):\n",
        "    @classmethod\n",
        "    @delegates(DataLoaders.from_dblock)\n",
        "    def from_label_func(cls, path, fnames, label_func, valid_pct=0.3, seed=None, codes=None, item_tfms=None, batch_tfms=None, **kwargs):\n",
        "        \"Create from list of `fnames` in `path`s with `label_func`.\"\n",
        "        dblock = DataBlock(blocks=(ImageBlock, TransformBlock),#todo. old: MaskBlock(codes=codes)), todo. set c = number of classes\n",
        "                           splitter=RandomSplitter(valid_pct, seed=seed),\n",
        "                           get_y=label_func,\n",
        "                           item_tfms=item_tfms,\n",
        "                           batch_tfms=batch_tfms)\n",
        "        res = cls.from_dblock(dblock, fnames, path=path, **kwargs)\n",
        "        return res\n",
        "\n",
        "if not \"fails due to unsupported multi-label segmetations. images cannot be loaded from npy format anyways\":\n",
        "  # IGNORE ME!!\n",
        "  dls = SegmentationDataLoaders.from_label_func(\n",
        "      Paths.CURR_DATA_DIR, bs=8, fnames = get_image_files(Paths.CURR_IMAGES_DIR),\n",
        "      label_func = lambda o: Paths.CURR_MULTI_SEG_DIR/f\"{int(o.stem)}.npz\",\n",
        "      codes = category_ids\n",
        "  )\n",
        "\n",
        "IM_SZ = 256\n",
        "resize_args = (IM_SZ, ResizeMethod.Crop)\n",
        "\n",
        "fnames = get_image_files(Paths.CURR_IMAGES_DIR)\n",
        "\n",
        "BATCH_SZ = min(N, 10) # NOTE. Batch size is small due to small initial training dataset\n",
        "dls = MultiLabelSegmentationDataLoaders.from_label_func(\n",
        "  Paths.CURR_DATA_DIR, bs=BATCH_SZ, fnames = fnames,\n",
        "  label_func = lambda o: resize_mseg(load_multi_segmentation(Paths.CURR_MULTI_SEG_DIR/f\"{int(o.stem)}.npz\")),\n",
        "  codes = category_ids,\n",
        "  item_tfms=Resize(*resize_args), # todo. actual resizing needs to happen here\n",
        "  seed = SEED\n",
        ")\n"
      ],
      "execution_count": 36,
      "outputs": []
    },
    {
      "cell_type": "code",
      "metadata": {
        "id": "EwhseLVVVAvo",
        "colab": {
          "base_uri": "https://localhost:8080/"
        },
        "outputId": "813ef729-18b2-45ed-ecc4-330a3162c931"
      },
      "source": [
        "print(\"train\",dls.train.n,dls.train.n_subsets)\n",
        "\n",
        "print(\"valid\",dls.valid.n,dls.valid.n_subsets)\n",
        "\n",
        "assert len(dls.train) >= 1, \"Training data generator is empty. Ensure, that the batch-size is small enough.\"\n",
        "assert len(dls.valid) >= 1, \"Validation data generator is empty. Ensure that the batch-size is small enough.\""
      ],
      "execution_count": 37,
      "outputs": [
        {
          "output_type": "stream",
          "name": "stdout",
          "text": [
            "train 700 2\n",
            "valid 300 2\n"
          ]
        }
      ]
    },
    {
      "cell_type": "code",
      "metadata": {
        "colab": {
          "base_uri": "https://localhost:8080/"
        },
        "id": "RmdsnG116X0M",
        "outputId": "0fb7bdb0-c7ca-4d33-a4f9-66733e4a12a7"
      },
      "source": [
        "# category balancing for BCELogitsLoss and variants\n",
        "# https://pytorch.org/docs/stable/generated/torch.nn.BCEWithLogitsLoss.html\n",
        "\n",
        "category_weights = tensor((1 - category_frequencies) / category_frequencies, dtype=torch.float16)\n",
        "# e.g. category_frequency = [0.3, 0.7]\n",
        "# cat_rest_freq = [0.7, 0.3]\n",
        "# weight = [2.33, 0.428]\n",
        "category_weights_normalised = category_weights / category_weights.sum()\n",
        "\n",
        "print(category_weights)\n"
      ],
      "execution_count": 38,
      "outputs": [
        {
          "output_type": "stream",
          "name": "stdout",
          "text": [
            "tensor([ 20.9688,  47.6562,  92.1875,  17.7812,  60.8750,   9.4375,  45.8750,  77.9375,  15.1797,  47.9688,  77.1250,  14.2578,  65.1250,  94.5000,  22.2969,  60.8750,  16.8281,  85.9375,  72.6875,\n",
            "         32.6250,  57.5938,  76.3750,  30.5781,  98.1875,  32.3438,  68.0625,  21.8125,  76.3750,  59.4375,  37.4688,  50.5625,  82.1875,  47.0312,  47.9688,  59.4375,  43.9688, 106.4375, 103.5000,\n",
            "         98.1875,  83.0625], dtype=torch.float16)\n"
          ]
        }
      ]
    },
    {
      "cell_type": "code",
      "metadata": {
        "id": "7rK1Vi56FYPW",
        "colab": {
          "base_uri": "https://localhost:8080/",
          "height": 1000,
          "referenced_widgets": [
            "eb254b92056745e986d5996a64de9ab4",
            "e3f502f368a540968fa95c0991b6ee24",
            "853ffe17a32f4a1f97caa5c2a9d20202",
            "7aa6133a224e4ec5bb6629078751fa1e",
            "75a63850307548d8b1a3e6114fecbfda",
            "162cdac1a70e43a8a1af2241e8c24218",
            "1c5bc64c3a43404599e953444d497e10",
            "f196bad0d34940fd9a46a821532e2105",
            "603357fdac5b45818e3330820f6a3ee0",
            "bea7d9b3c90d4295880c7ad83aedd520",
            "e820baac09824069a2606d33bd7f5eaa"
          ]
        },
        "outputId": "2a6aad4a-ed1b-4d14-8269-68e6a51d09cc"
      },
      "source": [
        "# learn = unet_learner(dls, resnet34) #cnn_learner\n",
        "\n",
        " # note. weights can be given here to balance out class-imbalance\n",
        "crossEntropyLoss = torch.nn.CrossEntropyLoss(reduction='mean', weight=category_weights_normalised)\n",
        "multiLabelMarginLoss = torch.nn.MultiLabelMarginLoss(reduction='mean')\n",
        "mseLoss = lambda x, y: torch.mean(torch.linalg.vector_norm(x - y, dim=(1,2,3)))\n",
        "bceLogitsLoss = torch.nn.BCEWithLogitsLoss(reduction='mean', pos_weight=category_weights.reshape((1,N_CLASSES,1,1)).to(device=DEVICE) )\n",
        "# alt: tensor[np.newaxis,N_CLASSES,np.newaxis,np.newaxis]\n",
        "# Bug with pytorch in pos_weight: https://discuss.pytorch.org/t/loss-function-for-multi-class-semantic-segmentation/40596?u=ptrblck\n",
        "\n",
        "\n",
        "from enum import auto\n",
        "class LossType(Enum):\n",
        "  CROSS_ENTROPY = (auto(),crossEntropyLoss)\n",
        "  MSE = (auto(), mseLoss)\n",
        "  # MULTI_LABEL_MARGIN_LOSS = (auto(), multiLabelMarginLoss)\n",
        "  BINARY_CROSS_ENTROPY_WITH_LOGITS_LOSS = (auto(), bceLogitsLoss)\n",
        "\n",
        "  def apply(self, x, y):\n",
        "    return self.value[1](x, y)\n",
        "\n",
        "LOSS_FUNCTION = LossType.BINARY_CROSS_ENTROPY_WITH_LOGITS_LOSS\n",
        "\n",
        "def loss_func(x,y):\n",
        "  assert x.shape == y.shape\n",
        "  assert x.shape[1:] == (N_CLASSES, IM_SZ, IM_SZ), f\"Unexpected shape: {x.shape}\"\n",
        "  assert x.shape[0] == BATCH_SZ or x.shape[0] == 1, f\"Unexpected shape (batch): {x.shape}\"\n",
        "  \n",
        "  result = LOSS_FUNCTION.apply(x, y)\n",
        "  \n",
        "  assert len(result.shape) == 0, f\"Result should be scalar, but got: {result.shape}\"\n",
        "  return result\n",
        "\n",
        "learn = unet_learner(\n",
        "  dls, resnet34,\n",
        "  n_out = N_CLASSES,\n",
        "  pretrained=True,\n",
        "  wd = 0.01,\n",
        "  # normalize = true ?\n",
        "  loss_func = loss_func # norm over segmentation. but sum over batch\n",
        "  # todo. use proper loss here\n",
        "  # lambda x, y: torch.mean torch.linalg.norm(x - y])\n",
        "  # cnn: loss_func = lambda x, y: torch.linalg.norm(x - y[:,:,y.shape[2]//2,y.shape[3]//2]) # y.shape = (bs, N_CLASSES, IMG_SIZE, IMG_SIZE)\n",
        ")\n",
        "\n",
        "print(learn.model,learn.summary())\n",
        "\n",
        "# todo. transform segmentation and data to be resized to a specific size -> data blocks\n",
        "# todo. how might we make this a fully convolutional pipeline?\n",
        "\n",
        "if False:\n",
        "  unet_learner(\n",
        "    dls, models.alexnet,\n",
        "    normalize=True, n_out=len(category_ids),\n",
        "    pretrained=True, config=None,\n",
        "    loss_func=None, opt_func=Adam,\n",
        "    lr=0.001, metrics=None,\n",
        "    model_dir='models', train_bn=True,\n",
        "    blur=False, blur_final=True,\n",
        "    self_attention=False, y_range=None, last_cross=True,\n",
        "    bottle=False, norm_type=None\n",
        "  )"
      ],
      "execution_count": 54,
      "outputs": [
        {
          "output_type": "stream",
          "name": "stderr",
          "text": [
            "Downloading: \"https://download.pytorch.org/models/resnet34-b627a593.pth\" to /root/.cache/torch/hub/checkpoints/resnet34-b627a593.pth\n"
          ]
        },
        {
          "output_type": "display_data",
          "data": {
            "application/vnd.jupyter.widget-view+json": {
              "model_id": "eb254b92056745e986d5996a64de9ab4",
              "version_minor": 0,
              "version_major": 2
            },
            "text/plain": [
              "  0%|          | 0.00/83.3M [00:00<?, ?B/s]"
            ]
          },
          "metadata": {}
        },
        {
          "output_type": "display_data",
          "data": {
            "text/html": [
              ""
            ],
            "text/plain": [
              "<IPython.core.display.HTML object>"
            ]
          },
          "metadata": {}
        },
        {
          "output_type": "stream",
          "name": "stdout",
          "text": [
            "DynamicUnet(\n",
            "  (layers): ModuleList(\n",
            "    (0): Sequential(\n",
            "      (0): Conv2d(3, 64, kernel_size=(7, 7), stride=(2, 2), padding=(3, 3), bias=False)\n",
            "      (1): BatchNorm2d(64, eps=1e-05, momentum=0.1, affine=True, track_running_stats=True)\n",
            "      (2): ReLU(inplace=True)\n",
            "      (3): MaxPool2d(kernel_size=3, stride=2, padding=1, dilation=1, ceil_mode=False)\n",
            "      (4): Sequential(\n",
            "        (0): BasicBlock(\n",
            "          (conv1): Conv2d(64, 64, kernel_size=(3, 3), stride=(1, 1), padding=(1, 1), bias=False)\n",
            "          (bn1): BatchNorm2d(64, eps=1e-05, momentum=0.1, affine=True, track_running_stats=True)\n",
            "          (relu): ReLU(inplace=True)\n",
            "          (conv2): Conv2d(64, 64, kernel_size=(3, 3), stride=(1, 1), padding=(1, 1), bias=False)\n",
            "          (bn2): BatchNorm2d(64, eps=1e-05, momentum=0.1, affine=True, track_running_stats=True)\n",
            "        )\n",
            "        (1): BasicBlock(\n",
            "          (conv1): Conv2d(64, 64, kernel_size=(3, 3), stride=(1, 1), padding=(1, 1), bias=False)\n",
            "          (bn1): BatchNorm2d(64, eps=1e-05, momentum=0.1, affine=True, track_running_stats=True)\n",
            "          (relu): ReLU(inplace=True)\n",
            "          (conv2): Conv2d(64, 64, kernel_size=(3, 3), stride=(1, 1), padding=(1, 1), bias=False)\n",
            "          (bn2): BatchNorm2d(64, eps=1e-05, momentum=0.1, affine=True, track_running_stats=True)\n",
            "        )\n",
            "        (2): BasicBlock(\n",
            "          (conv1): Conv2d(64, 64, kernel_size=(3, 3), stride=(1, 1), padding=(1, 1), bias=False)\n",
            "          (bn1): BatchNorm2d(64, eps=1e-05, momentum=0.1, affine=True, track_running_stats=True)\n",
            "          (relu): ReLU(inplace=True)\n",
            "          (conv2): Conv2d(64, 64, kernel_size=(3, 3), stride=(1, 1), padding=(1, 1), bias=False)\n",
            "          (bn2): BatchNorm2d(64, eps=1e-05, momentum=0.1, affine=True, track_running_stats=True)\n",
            "        )\n",
            "      )\n",
            "      (5): Sequential(\n",
            "        (0): BasicBlock(\n",
            "          (conv1): Conv2d(64, 128, kernel_size=(3, 3), stride=(2, 2), padding=(1, 1), bias=False)\n",
            "          (bn1): BatchNorm2d(128, eps=1e-05, momentum=0.1, affine=True, track_running_stats=True)\n",
            "          (relu): ReLU(inplace=True)\n",
            "          (conv2): Conv2d(128, 128, kernel_size=(3, 3), stride=(1, 1), padding=(1, 1), bias=False)\n",
            "          (bn2): BatchNorm2d(128, eps=1e-05, momentum=0.1, affine=True, track_running_stats=True)\n",
            "          (downsample): Sequential(\n",
            "            (0): Conv2d(64, 128, kernel_size=(1, 1), stride=(2, 2), bias=False)\n",
            "            (1): BatchNorm2d(128, eps=1e-05, momentum=0.1, affine=True, track_running_stats=True)\n",
            "          )\n",
            "        )\n",
            "        (1): BasicBlock(\n",
            "          (conv1): Conv2d(128, 128, kernel_size=(3, 3), stride=(1, 1), padding=(1, 1), bias=False)\n",
            "          (bn1): BatchNorm2d(128, eps=1e-05, momentum=0.1, affine=True, track_running_stats=True)\n",
            "          (relu): ReLU(inplace=True)\n",
            "          (conv2): Conv2d(128, 128, kernel_size=(3, 3), stride=(1, 1), padding=(1, 1), bias=False)\n",
            "          (bn2): BatchNorm2d(128, eps=1e-05, momentum=0.1, affine=True, track_running_stats=True)\n",
            "        )\n",
            "        (2): BasicBlock(\n",
            "          (conv1): Conv2d(128, 128, kernel_size=(3, 3), stride=(1, 1), padding=(1, 1), bias=False)\n",
            "          (bn1): BatchNorm2d(128, eps=1e-05, momentum=0.1, affine=True, track_running_stats=True)\n",
            "          (relu): ReLU(inplace=True)\n",
            "          (conv2): Conv2d(128, 128, kernel_size=(3, 3), stride=(1, 1), padding=(1, 1), bias=False)\n",
            "          (bn2): BatchNorm2d(128, eps=1e-05, momentum=0.1, affine=True, track_running_stats=True)\n",
            "        )\n",
            "        (3): BasicBlock(\n",
            "          (conv1): Conv2d(128, 128, kernel_size=(3, 3), stride=(1, 1), padding=(1, 1), bias=False)\n",
            "          (bn1): BatchNorm2d(128, eps=1e-05, momentum=0.1, affine=True, track_running_stats=True)\n",
            "          (relu): ReLU(inplace=True)\n",
            "          (conv2): Conv2d(128, 128, kernel_size=(3, 3), stride=(1, 1), padding=(1, 1), bias=False)\n",
            "          (bn2): BatchNorm2d(128, eps=1e-05, momentum=0.1, affine=True, track_running_stats=True)\n",
            "        )\n",
            "      )\n",
            "      (6): Sequential(\n",
            "        (0): BasicBlock(\n",
            "          (conv1): Conv2d(128, 256, kernel_size=(3, 3), stride=(2, 2), padding=(1, 1), bias=False)\n",
            "          (bn1): BatchNorm2d(256, eps=1e-05, momentum=0.1, affine=True, track_running_stats=True)\n",
            "          (relu): ReLU(inplace=True)\n",
            "          (conv2): Conv2d(256, 256, kernel_size=(3, 3), stride=(1, 1), padding=(1, 1), bias=False)\n",
            "          (bn2): BatchNorm2d(256, eps=1e-05, momentum=0.1, affine=True, track_running_stats=True)\n",
            "          (downsample): Sequential(\n",
            "            (0): Conv2d(128, 256, kernel_size=(1, 1), stride=(2, 2), bias=False)\n",
            "            (1): BatchNorm2d(256, eps=1e-05, momentum=0.1, affine=True, track_running_stats=True)\n",
            "          )\n",
            "        )\n",
            "        (1): BasicBlock(\n",
            "          (conv1): Conv2d(256, 256, kernel_size=(3, 3), stride=(1, 1), padding=(1, 1), bias=False)\n",
            "          (bn1): BatchNorm2d(256, eps=1e-05, momentum=0.1, affine=True, track_running_stats=True)\n",
            "          (relu): ReLU(inplace=True)\n",
            "          (conv2): Conv2d(256, 256, kernel_size=(3, 3), stride=(1, 1), padding=(1, 1), bias=False)\n",
            "          (bn2): BatchNorm2d(256, eps=1e-05, momentum=0.1, affine=True, track_running_stats=True)\n",
            "        )\n",
            "        (2): BasicBlock(\n",
            "          (conv1): Conv2d(256, 256, kernel_size=(3, 3), stride=(1, 1), padding=(1, 1), bias=False)\n",
            "          (bn1): BatchNorm2d(256, eps=1e-05, momentum=0.1, affine=True, track_running_stats=True)\n",
            "          (relu): ReLU(inplace=True)\n",
            "          (conv2): Conv2d(256, 256, kernel_size=(3, 3), stride=(1, 1), padding=(1, 1), bias=False)\n",
            "          (bn2): BatchNorm2d(256, eps=1e-05, momentum=0.1, affine=True, track_running_stats=True)\n",
            "        )\n",
            "        (3): BasicBlock(\n",
            "          (conv1): Conv2d(256, 256, kernel_size=(3, 3), stride=(1, 1), padding=(1, 1), bias=False)\n",
            "          (bn1): BatchNorm2d(256, eps=1e-05, momentum=0.1, affine=True, track_running_stats=True)\n",
            "          (relu): ReLU(inplace=True)\n",
            "          (conv2): Conv2d(256, 256, kernel_size=(3, 3), stride=(1, 1), padding=(1, 1), bias=False)\n",
            "          (bn2): BatchNorm2d(256, eps=1e-05, momentum=0.1, affine=True, track_running_stats=True)\n",
            "        )\n",
            "        (4): BasicBlock(\n",
            "          (conv1): Conv2d(256, 256, kernel_size=(3, 3), stride=(1, 1), padding=(1, 1), bias=False)\n",
            "          (bn1): BatchNorm2d(256, eps=1e-05, momentum=0.1, affine=True, track_running_stats=True)\n",
            "          (relu): ReLU(inplace=True)\n",
            "          (conv2): Conv2d(256, 256, kernel_size=(3, 3), stride=(1, 1), padding=(1, 1), bias=False)\n",
            "          (bn2): BatchNorm2d(256, eps=1e-05, momentum=0.1, affine=True, track_running_stats=True)\n",
            "        )\n",
            "        (5): BasicBlock(\n",
            "          (conv1): Conv2d(256, 256, kernel_size=(3, 3), stride=(1, 1), padding=(1, 1), bias=False)\n",
            "          (bn1): BatchNorm2d(256, eps=1e-05, momentum=0.1, affine=True, track_running_stats=True)\n",
            "          (relu): ReLU(inplace=True)\n",
            "          (conv2): Conv2d(256, 256, kernel_size=(3, 3), stride=(1, 1), padding=(1, 1), bias=False)\n",
            "          (bn2): BatchNorm2d(256, eps=1e-05, momentum=0.1, affine=True, track_running_stats=True)\n",
            "        )\n",
            "      )\n",
            "      (7): Sequential(\n",
            "        (0): BasicBlock(\n",
            "          (conv1): Conv2d(256, 512, kernel_size=(3, 3), stride=(2, 2), padding=(1, 1), bias=False)\n",
            "          (bn1): BatchNorm2d(512, eps=1e-05, momentum=0.1, affine=True, track_running_stats=True)\n",
            "          (relu): ReLU(inplace=True)\n",
            "          (conv2): Conv2d(512, 512, kernel_size=(3, 3), stride=(1, 1), padding=(1, 1), bias=False)\n",
            "          (bn2): BatchNorm2d(512, eps=1e-05, momentum=0.1, affine=True, track_running_stats=True)\n",
            "          (downsample): Sequential(\n",
            "            (0): Conv2d(256, 512, kernel_size=(1, 1), stride=(2, 2), bias=False)\n",
            "            (1): BatchNorm2d(512, eps=1e-05, momentum=0.1, affine=True, track_running_stats=True)\n",
            "          )\n",
            "        )\n",
            "        (1): BasicBlock(\n",
            "          (conv1): Conv2d(512, 512, kernel_size=(3, 3), stride=(1, 1), padding=(1, 1), bias=False)\n",
            "          (bn1): BatchNorm2d(512, eps=1e-05, momentum=0.1, affine=True, track_running_stats=True)\n",
            "          (relu): ReLU(inplace=True)\n",
            "          (conv2): Conv2d(512, 512, kernel_size=(3, 3), stride=(1, 1), padding=(1, 1), bias=False)\n",
            "          (bn2): BatchNorm2d(512, eps=1e-05, momentum=0.1, affine=True, track_running_stats=True)\n",
            "        )\n",
            "        (2): BasicBlock(\n",
            "          (conv1): Conv2d(512, 512, kernel_size=(3, 3), stride=(1, 1), padding=(1, 1), bias=False)\n",
            "          (bn1): BatchNorm2d(512, eps=1e-05, momentum=0.1, affine=True, track_running_stats=True)\n",
            "          (relu): ReLU(inplace=True)\n",
            "          (conv2): Conv2d(512, 512, kernel_size=(3, 3), stride=(1, 1), padding=(1, 1), bias=False)\n",
            "          (bn2): BatchNorm2d(512, eps=1e-05, momentum=0.1, affine=True, track_running_stats=True)\n",
            "        )\n",
            "      )\n",
            "    )\n",
            "    (1): BatchNorm2d(512, eps=1e-05, momentum=0.1, affine=True, track_running_stats=True)\n",
            "    (2): ReLU()\n",
            "    (3): Sequential(\n",
            "      (0): ConvLayer(\n",
            "        (0): Conv2d(512, 1024, kernel_size=(3, 3), stride=(1, 1), padding=(1, 1))\n",
            "        (1): ReLU()\n",
            "      )\n",
            "      (1): ConvLayer(\n",
            "        (0): Conv2d(1024, 512, kernel_size=(3, 3), stride=(1, 1), padding=(1, 1))\n",
            "        (1): ReLU()\n",
            "      )\n",
            "    )\n",
            "    (4): UnetBlock(\n",
            "      (shuf): PixelShuffle_ICNR(\n",
            "        (0): ConvLayer(\n",
            "          (0): Conv2d(512, 1024, kernel_size=(1, 1), stride=(1, 1))\n",
            "          (1): ReLU()\n",
            "        )\n",
            "        (1): PixelShuffle(upscale_factor=2)\n",
            "      )\n",
            "      (bn): BatchNorm2d(256, eps=1e-05, momentum=0.1, affine=True, track_running_stats=True)\n",
            "      (conv1): ConvLayer(\n",
            "        (0): Conv2d(512, 512, kernel_size=(3, 3), stride=(1, 1), padding=(1, 1))\n",
            "        (1): ReLU()\n",
            "      )\n",
            "      (conv2): ConvLayer(\n",
            "        (0): Conv2d(512, 512, kernel_size=(3, 3), stride=(1, 1), padding=(1, 1))\n",
            "        (1): ReLU()\n",
            "      )\n",
            "      (relu): ReLU()\n",
            "    )\n",
            "    (5): UnetBlock(\n",
            "      (shuf): PixelShuffle_ICNR(\n",
            "        (0): ConvLayer(\n",
            "          (0): Conv2d(512, 1024, kernel_size=(1, 1), stride=(1, 1))\n",
            "          (1): ReLU()\n",
            "        )\n",
            "        (1): PixelShuffle(upscale_factor=2)\n",
            "      )\n",
            "      (bn): BatchNorm2d(128, eps=1e-05, momentum=0.1, affine=True, track_running_stats=True)\n",
            "      (conv1): ConvLayer(\n",
            "        (0): Conv2d(384, 384, kernel_size=(3, 3), stride=(1, 1), padding=(1, 1))\n",
            "        (1): ReLU()\n",
            "      )\n",
            "      (conv2): ConvLayer(\n",
            "        (0): Conv2d(384, 384, kernel_size=(3, 3), stride=(1, 1), padding=(1, 1))\n",
            "        (1): ReLU()\n",
            "      )\n",
            "      (relu): ReLU()\n",
            "    )\n",
            "    (6): UnetBlock(\n",
            "      (shuf): PixelShuffle_ICNR(\n",
            "        (0): ConvLayer(\n",
            "          (0): Conv2d(384, 768, kernel_size=(1, 1), stride=(1, 1))\n",
            "          (1): ReLU()\n",
            "        )\n",
            "        (1): PixelShuffle(upscale_factor=2)\n",
            "      )\n",
            "      (bn): BatchNorm2d(64, eps=1e-05, momentum=0.1, affine=True, track_running_stats=True)\n",
            "      (conv1): ConvLayer(\n",
            "        (0): Conv2d(256, 256, kernel_size=(3, 3), stride=(1, 1), padding=(1, 1))\n",
            "        (1): ReLU()\n",
            "      )\n",
            "      (conv2): ConvLayer(\n",
            "        (0): Conv2d(256, 256, kernel_size=(3, 3), stride=(1, 1), padding=(1, 1))\n",
            "        (1): ReLU()\n",
            "      )\n",
            "      (relu): ReLU()\n",
            "    )\n",
            "    (7): UnetBlock(\n",
            "      (shuf): PixelShuffle_ICNR(\n",
            "        (0): ConvLayer(\n",
            "          (0): Conv2d(256, 512, kernel_size=(1, 1), stride=(1, 1))\n",
            "          (1): ReLU()\n",
            "        )\n",
            "        (1): PixelShuffle(upscale_factor=2)\n",
            "      )\n",
            "      (bn): BatchNorm2d(64, eps=1e-05, momentum=0.1, affine=True, track_running_stats=True)\n",
            "      (conv1): ConvLayer(\n",
            "        (0): Conv2d(192, 96, kernel_size=(3, 3), stride=(1, 1), padding=(1, 1))\n",
            "        (1): ReLU()\n",
            "      )\n",
            "      (conv2): ConvLayer(\n",
            "        (0): Conv2d(96, 96, kernel_size=(3, 3), stride=(1, 1), padding=(1, 1))\n",
            "        (1): ReLU()\n",
            "      )\n",
            "      (relu): ReLU()\n",
            "    )\n",
            "    (8): PixelShuffle_ICNR(\n",
            "      (0): ConvLayer(\n",
            "        (0): Conv2d(96, 384, kernel_size=(1, 1), stride=(1, 1))\n",
            "        (1): ReLU()\n",
            "      )\n",
            "      (1): PixelShuffle(upscale_factor=2)\n",
            "    )\n",
            "    (9): ResizeToOrig()\n",
            "    (10): MergeLayer()\n",
            "    (11): ResBlock(\n",
            "      (convpath): Sequential(\n",
            "        (0): ConvLayer(\n",
            "          (0): Conv2d(99, 99, kernel_size=(3, 3), stride=(1, 1), padding=(1, 1))\n",
            "          (1): ReLU()\n",
            "        )\n",
            "        (1): ConvLayer(\n",
            "          (0): Conv2d(99, 99, kernel_size=(3, 3), stride=(1, 1), padding=(1, 1))\n",
            "        )\n",
            "      )\n",
            "      (idpath): Sequential()\n",
            "      (act): ReLU(inplace=True)\n",
            "    )\n",
            "    (12): ConvLayer(\n",
            "      (0): Conv2d(99, 40, kernel_size=(1, 1), stride=(1, 1))\n",
            "    )\n",
            "    (13): ToTensorBase(tensor_cls=<class 'fastai.torch_core.TensorBase'>)\n",
            "  )\n",
            ") DynamicUnet (Input shape: 10 x 3 x 256 x 256)\n",
            "============================================================================\n",
            "Layer (type)         Output Shape         Param #    Trainable \n",
            "============================================================================\n",
            "                     10 x 64 x 128 x 128 \n",
            "Conv2d                                    9408       False     \n",
            "BatchNorm2d                               128        True      \n",
            "ReLU                                                           \n",
            "____________________________________________________________________________\n",
            "                     10 x 64 x 64 x 64   \n",
            "MaxPool2d                                                      \n",
            "Conv2d                                    36864      False     \n",
            "BatchNorm2d                               128        True      \n",
            "ReLU                                                           \n",
            "Conv2d                                    36864      False     \n",
            "BatchNorm2d                               128        True      \n",
            "Conv2d                                    36864      False     \n",
            "BatchNorm2d                               128        True      \n",
            "ReLU                                                           \n",
            "Conv2d                                    36864      False     \n",
            "BatchNorm2d                               128        True      \n",
            "Conv2d                                    36864      False     \n",
            "BatchNorm2d                               128        True      \n",
            "ReLU                                                           \n",
            "Conv2d                                    36864      False     \n",
            "BatchNorm2d                               128        True      \n",
            "____________________________________________________________________________\n",
            "                     10 x 128 x 32 x 32  \n",
            "Conv2d                                    73728      False     \n",
            "BatchNorm2d                               256        True      \n",
            "ReLU                                                           \n",
            "Conv2d                                    147456     False     \n",
            "BatchNorm2d                               256        True      \n",
            "Conv2d                                    8192       False     \n",
            "BatchNorm2d                               256        True      \n",
            "Conv2d                                    147456     False     \n",
            "BatchNorm2d                               256        True      \n",
            "ReLU                                                           \n",
            "Conv2d                                    147456     False     \n",
            "BatchNorm2d                               256        True      \n",
            "Conv2d                                    147456     False     \n",
            "BatchNorm2d                               256        True      \n",
            "ReLU                                                           \n",
            "Conv2d                                    147456     False     \n",
            "BatchNorm2d                               256        True      \n",
            "Conv2d                                    147456     False     \n",
            "BatchNorm2d                               256        True      \n",
            "ReLU                                                           \n",
            "Conv2d                                    147456     False     \n",
            "BatchNorm2d                               256        True      \n",
            "____________________________________________________________________________\n",
            "                     10 x 256 x 16 x 16  \n",
            "Conv2d                                    294912     False     \n",
            "BatchNorm2d                               512        True      \n",
            "ReLU                                                           \n",
            "Conv2d                                    589824     False     \n",
            "BatchNorm2d                               512        True      \n",
            "Conv2d                                    32768      False     \n",
            "BatchNorm2d                               512        True      \n",
            "Conv2d                                    589824     False     \n",
            "BatchNorm2d                               512        True      \n",
            "ReLU                                                           \n",
            "Conv2d                                    589824     False     \n",
            "BatchNorm2d                               512        True      \n",
            "Conv2d                                    589824     False     \n",
            "BatchNorm2d                               512        True      \n",
            "ReLU                                                           \n",
            "Conv2d                                    589824     False     \n",
            "BatchNorm2d                               512        True      \n",
            "Conv2d                                    589824     False     \n",
            "BatchNorm2d                               512        True      \n",
            "ReLU                                                           \n",
            "Conv2d                                    589824     False     \n",
            "BatchNorm2d                               512        True      \n",
            "Conv2d                                    589824     False     \n",
            "BatchNorm2d                               512        True      \n",
            "ReLU                                                           \n",
            "Conv2d                                    589824     False     \n",
            "BatchNorm2d                               512        True      \n",
            "Conv2d                                    589824     False     \n",
            "BatchNorm2d                               512        True      \n",
            "ReLU                                                           \n",
            "Conv2d                                    589824     False     \n",
            "BatchNorm2d                               512        True      \n",
            "____________________________________________________________________________\n",
            "                     10 x 512 x 8 x 8    \n",
            "Conv2d                                    1179648    False     \n",
            "BatchNorm2d                               1024       True      \n",
            "ReLU                                                           \n",
            "Conv2d                                    2359296    False     \n",
            "BatchNorm2d                               1024       True      \n",
            "Conv2d                                    131072     False     \n",
            "BatchNorm2d                               1024       True      \n",
            "Conv2d                                    2359296    False     \n",
            "BatchNorm2d                               1024       True      \n",
            "ReLU                                                           \n",
            "Conv2d                                    2359296    False     \n",
            "BatchNorm2d                               1024       True      \n",
            "Conv2d                                    2359296    False     \n",
            "BatchNorm2d                               1024       True      \n",
            "ReLU                                                           \n",
            "Conv2d                                    2359296    False     \n",
            "BatchNorm2d                               1024       True      \n",
            "BatchNorm2d                               1024       True      \n",
            "ReLU                                                           \n",
            "____________________________________________________________________________\n",
            "                     10 x 1024 x 8 x 8   \n",
            "Conv2d                                    4719616    True      \n",
            "ReLU                                                           \n",
            "____________________________________________________________________________\n",
            "                     10 x 512 x 8 x 8    \n",
            "Conv2d                                    4719104    True      \n",
            "ReLU                                                           \n",
            "____________________________________________________________________________\n",
            "                     10 x 1024 x 8 x 8   \n",
            "Conv2d                                    525312     True      \n",
            "ReLU                                                           \n",
            "____________________________________________________________________________\n",
            "                     10 x 256 x 16 x 16  \n",
            "PixelShuffle                                                   \n",
            "BatchNorm2d                               512        True      \n",
            "Conv2d                                    2359808    True      \n",
            "ReLU                                                           \n",
            "Conv2d                                    2359808    True      \n",
            "ReLU                                                           \n",
            "ReLU                                                           \n",
            "____________________________________________________________________________\n",
            "                     10 x 1024 x 16 x 16 \n",
            "Conv2d                                    525312     True      \n",
            "ReLU                                                           \n",
            "____________________________________________________________________________\n",
            "                     10 x 256 x 32 x 32  \n",
            "PixelShuffle                                                   \n",
            "BatchNorm2d                               256        True      \n",
            "Conv2d                                    1327488    True      \n",
            "ReLU                                                           \n",
            "Conv2d                                    1327488    True      \n",
            "ReLU                                                           \n",
            "ReLU                                                           \n",
            "____________________________________________________________________________\n",
            "                     10 x 768 x 32 x 32  \n",
            "Conv2d                                    295680     True      \n",
            "ReLU                                                           \n",
            "____________________________________________________________________________\n",
            "                     10 x 192 x 64 x 64  \n",
            "PixelShuffle                                                   \n",
            "BatchNorm2d                               128        True      \n",
            "Conv2d                                    590080     True      \n",
            "ReLU                                                           \n",
            "Conv2d                                    590080     True      \n",
            "ReLU                                                           \n",
            "ReLU                                                           \n",
            "____________________________________________________________________________\n",
            "                     10 x 512 x 64 x 64  \n",
            "Conv2d                                    131584     True      \n",
            "ReLU                                                           \n",
            "____________________________________________________________________________\n",
            "                     10 x 128 x 128 x 12 \n",
            "PixelShuffle                                                   \n",
            "BatchNorm2d                               128        True      \n",
            "____________________________________________________________________________\n",
            "                     10 x 96 x 128 x 128 \n",
            "Conv2d                                    165984     True      \n",
            "ReLU                                                           \n",
            "Conv2d                                    83040      True      \n",
            "ReLU                                                           \n",
            "ReLU                                                           \n",
            "____________________________________________________________________________\n",
            "                     10 x 384 x 128 x 12 \n",
            "Conv2d                                    37248      True      \n",
            "ReLU                                                           \n",
            "____________________________________________________________________________\n",
            "                     10 x 96 x 256 x 256 \n",
            "PixelShuffle                                                   \n",
            "ResizeToOrig                                                   \n",
            "____________________________________________________________________________\n",
            "                     10 x 99 x 256 x 256 \n",
            "MergeLayer                                                     \n",
            "Conv2d                                    88308      True      \n",
            "ReLU                                                           \n",
            "Conv2d                                    88308      True      \n",
            "Sequential                                                     \n",
            "ReLU                                                           \n",
            "____________________________________________________________________________\n",
            "                     10 x 40 x 256 x 256 \n",
            "Conv2d                                    4000       True      \n",
            "ToTensorBase                                                   \n",
            "____________________________________________________________________________\n",
            "\n",
            "Total params: 41,224,968\n",
            "Total trainable params: 19,957,320\n",
            "Total non-trainable params: 21,267,648\n",
            "\n",
            "Optimizer used: <function Adam at 0x7f5b1514b9e0>\n",
            "Loss function: <function loss_func at 0x7f5af1d68320>\n",
            "\n",
            "Model frozen up to parameter group #2\n",
            "\n",
            "Callbacks:\n",
            "  - TrainEvalCallback\n",
            "  - Recorder\n",
            "  - ProgressCallback\n"
          ]
        }
      ]
    },
    {
      "cell_type": "code",
      "metadata": {
        "colab": {
          "base_uri": "https://localhost:8080/",
          "height": 316
        },
        "id": "H9GcqvlmhgIw",
        "outputId": "15fcffe7-a53c-4b55-888f-779898bf75f0"
      },
      "source": [
        "# learn.show_training_loop()\n",
        "EPOCHS = 10\n",
        "\n",
        "learn.fine_tune(EPOCHS)\n",
        "\n",
        "# learn.fine_tune(10)\n",
        "# learn.fit_one_cycle(5)\n",
        "\n",
        "# learn.show_results()\n",
        "# todo. cannot show tensor multi-segmentation mask. need to define custom class for that"
      ],
      "execution_count": null,
      "outputs": [
        {
          "output_type": "display_data",
          "data": {
            "text/html": [
              "<table border=\"1\" class=\"dataframe\">\n",
              "  <thead>\n",
              "    <tr style=\"text-align: left;\">\n",
              "      <th>epoch</th>\n",
              "      <th>train_loss</th>\n",
              "      <th>valid_loss</th>\n",
              "      <th>time</th>\n",
              "    </tr>\n",
              "  </thead>\n",
              "  <tbody>\n",
              "    <tr>\n",
              "      <td>0</td>\n",
              "      <td>0.907428</td>\n",
              "      <td>0.700982</td>\n",
              "      <td>04:32</td>\n",
              "    </tr>\n",
              "  </tbody>\n",
              "</table>"
            ],
            "text/plain": [
              "<IPython.core.display.HTML object>"
            ]
          },
          "metadata": {}
        },
        {
          "output_type": "display_data",
          "data": {
            "text/html": [
              "\n",
              "    <div>\n",
              "        <style>\n",
              "            /* Turns off some styling */\n",
              "            progress {\n",
              "                /* gets rid of default border in Firefox and Opera. */\n",
              "                border: none;\n",
              "                /* Needs to be in here for Safari polyfill so background images work as expected. */\n",
              "                background-size: auto;\n",
              "            }\n",
              "            .progress-bar-interrupted, .progress-bar-interrupted::-webkit-progress-bar {\n",
              "                background: #F44336;\n",
              "            }\n",
              "        </style>\n",
              "      <progress value='5' class='' max='10' style='width:300px; height:20px; vertical-align: middle;'></progress>\n",
              "      50.00% [5/10 23:07<23:07]\n",
              "    </div>\n",
              "    \n",
              "<table border=\"1\" class=\"dataframe\">\n",
              "  <thead>\n",
              "    <tr style=\"text-align: left;\">\n",
              "      <th>epoch</th>\n",
              "      <th>train_loss</th>\n",
              "      <th>valid_loss</th>\n",
              "      <th>time</th>\n",
              "    </tr>\n",
              "  </thead>\n",
              "  <tbody>\n",
              "    <tr>\n",
              "      <td>0</td>\n",
              "      <td>0.522314</td>\n",
              "      <td>0.505840</td>\n",
              "      <td>04:36</td>\n",
              "    </tr>\n",
              "    <tr>\n",
              "      <td>1</td>\n",
              "      <td>0.490974</td>\n",
              "      <td>0.506031</td>\n",
              "      <td>04:40</td>\n",
              "    </tr>\n",
              "    <tr>\n",
              "      <td>2</td>\n",
              "      <td>0.448941</td>\n",
              "      <td>0.486266</td>\n",
              "      <td>04:41</td>\n",
              "    </tr>\n",
              "    <tr>\n",
              "      <td>3</td>\n",
              "      <td>0.428534</td>\n",
              "      <td>0.467016</td>\n",
              "      <td>04:33</td>\n",
              "    </tr>\n",
              "    <tr>\n",
              "      <td>4</td>\n",
              "      <td>0.396415</td>\n",
              "      <td>0.447753</td>\n",
              "      <td>04:35</td>\n",
              "    </tr>\n",
              "  </tbody>\n",
              "</table><p>\n",
              "\n",
              "    <div>\n",
              "        <style>\n",
              "            /* Turns off some styling */\n",
              "            progress {\n",
              "                /* gets rid of default border in Firefox and Opera. */\n",
              "                border: none;\n",
              "                /* Needs to be in here for Safari polyfill so background images work as expected. */\n",
              "                background-size: auto;\n",
              "            }\n",
              "            .progress-bar-interrupted, .progress-bar-interrupted::-webkit-progress-bar {\n",
              "                background: #F44336;\n",
              "            }\n",
              "        </style>\n",
              "      <progress value='18' class='' max='30' style='width:300px; height:20px; vertical-align: middle;'></progress>\n",
              "      60.00% [18/30 00:41<00:27 0.3624]\n",
              "    </div>\n",
              "    "
            ],
            "text/plain": [
              "<IPython.core.display.HTML object>"
            ]
          },
          "metadata": {}
        }
      ]
    },
    {
      "cell_type": "code",
      "metadata": {
        "id": "cdMFZ11jOIJJ"
      },
      "source": [
        "# save model\n",
        "# todo. need access to some S3 storage or so for this"
      ],
      "execution_count": null,
      "outputs": []
    },
    {
      "cell_type": "code",
      "metadata": {
        "id": "yg2ZQKQhIGyn"
      },
      "source": [
        "def loss_func_single(x, y):\n",
        "  assert x.shape == y.shape\n",
        "  assert x.shape == (N_CLASSES,IM_SZ, IM_SZ)\n",
        "  x = tensor(x, dtype=torch.float32).to(device=DEVICE)\n",
        "  y = tensor(y, dtype=torch.float32).to(device=DEVICE)\n",
        "  return loss_func(x[None,:], y[None,:])"
      ],
      "execution_count": null,
      "outputs": []
    },
    {
      "cell_type": "code",
      "metadata": {
        "id": "hnIQ6yeXKV4M"
      },
      "source": [
        "matplotlib_colormaps = ['Greys', 'Purples', 'Blues', 'Greens', 'Oranges', 'Reds',\n",
        "                      'YlOrBr', 'YlOrRd', 'OrRd', 'PuRd', 'RdPu', 'BuPu',\n",
        "                      'GnBu', 'PuBu', 'YlGnBu', 'PuBuGn', 'BuGn', 'YlGn']\n",
        "\n",
        "class_colormaps = (matplotlib_colormaps * 3)[:N_CLASSES]\n",
        "# e.g. class_colormaps[2] = \"Blues\"\n",
        "\n",
        "def show_multi_segmentation(seg, alpha = 0.4, max_colorbars=3):\n",
        "  seg = np.array(seg)\n",
        "  assert seg.shape == (N_CLASSES,IM_SZ,IM_SZ)\n",
        "\n",
        "  colorbar_sources = []\n",
        "\n",
        "  for i in range(N_CLASSES):\n",
        "    is_defined_for_class = np.any(seg[i] != 0)\n",
        "    if is_defined_for_class:\n",
        "      print(class_colormaps[i],\"<-\",category_names[i])\n",
        "      res = plt.imshow(seg[i], cmap=class_colormaps[i], alpha = alpha)\n",
        "\n",
        "      if len(colorbar_sources) < max_colorbars:\n",
        "        cbar = plt.colorbar(res)\n",
        "        cbar.ax.set_ylabel(category_names[i])\n",
        "\n",
        "      colorbar_sources.append(res)\n",
        "\n",
        "    if i % len(matplotlib_colormaps) // 3 == 0:\n",
        "      if len(colorbar_sources) >= 1:\n",
        "        plt.show()\n",
        "      colorbar_sources = []"
      ],
      "execution_count": null,
      "outputs": []
    },
    {
      "cell_type": "code",
      "metadata": {
        "id": "leOnG3KaQahk"
      },
      "source": [
        "def get_train_data(idx):\n",
        "  input, ground_truth = dls.train_ds[idx]\n",
        "  assert ground_truth.shape == (N_CLASSES, IM_SZ, IM_SZ)\n",
        "  return input, ground_truth\n",
        "\n",
        "def show_results(n=10):\n",
        "\n",
        "  for i in range(min(n,len(dls.train_ds))):\n",
        "\n",
        "    print(f\"=================== i = {i} ====================\")\n",
        "\n",
        "    im, gt = get_train_data(i)\n",
        "\n",
        "    plt.imshow(im)\n",
        "    plt.show()\n",
        "\n",
        "    full_dec_pred, _, _  = learn.predict(im)\n",
        "    # predict return values: https://docs.fast.ai/learner.html#Learner.predict\n",
        "\n",
        "    show_multi_segmentation(gt)\n",
        "    plt.show()\n",
        "\n",
        "    print(\"=================== PREDICTION ====================\")\n",
        "\n",
        "    threshold = 0.8\n",
        "    show_multi_segmentation(np.array(full_dec_pred >= threshold, dtype=SEG_DTYPE), max_colorbars=3)\n",
        "    plt.show()\n",
        "\n",
        "    print(\"Ground truth loss:\", loss_func_single(gt, gt))\n",
        "    print(\"Prediction loss:\", loss_func_single(full_dec_pred, gt))\n"
      ],
      "execution_count": null,
      "outputs": []
    },
    {
      "cell_type": "code",
      "metadata": {
        "id": "3fMqakyqfxNX"
      },
      "source": [
        "show_results()"
      ],
      "execution_count": null,
      "outputs": []
    },
    {
      "cell_type": "markdown",
      "metadata": {
        "id": "Ht-gFR2KbhjX"
      },
      "source": [
        "# Initialize detectron2"
      ]
    },
    {
      "cell_type": "code",
      "metadata": {
        "id": "hFhNKYKLXiYG"
      },
      "source": [
        "_ = setup_logger()\n",
        "\n",
        "register_coco_instances(DatasetLabels.TRAIN, {}, Paths.TRAIN_ANNOTATIONS, Paths.TRAIN_IMAGES_DIR)\n",
        "register_coco_instances(DatasetLabels.VAL, {}, Paths.VAL_ANNOTATIONS, Paths.VAL_IMAGES_DIR)"
      ],
      "execution_count": null,
      "outputs": []
    },
    {
      "cell_type": "markdown",
      "metadata": {
        "id": "BEn4diGaA_ph"
      },
      "source": [
        "# Build your Model 🏭\n",
        "\n",
        "We will use Mask R-CNN to generate the segmentation masks for the food items 🌯"
      ]
    },
    {
      "cell_type": "markdown",
      "metadata": {
        "id": "gYqXect1M4Jz"
      },
      "source": [
        "## Configure detectron2\n",
        "\n",
        "Detectron2 has a variety of Instance Segmentation Models. We will use the zoo model with Mask RCNN + ResNet 50. If you want to try other models, you can find them [here]((https://github.com/facebookresearch/detectron2)."
      ]
    },
    {
      "cell_type": "code",
      "metadata": {
        "id": "X_q2fu8wXikF"
      },
      "source": [
        "cfg = get_cfg()\n",
        "cfg.merge_from_file(model_zoo.get_config_file(\"COCO-InstanceSegmentation/mask_rcnn_R_50_FPN_3x.yaml\"))\n",
        "\n",
        "cfg.DATASETS.TRAIN = (DatasetLabels.TRAIN,)\n",
        "cfg.DATASETS.TEST = ()\n",
        "cfg.DATALOADER.NUM_WORKERS = 2\n",
        "cfg.MODEL.ROI_HEADS.NUM_CLASSES = 273  # Number of output classes\n",
        "\n",
        "cfg.OUTPUT_DIR = \"outputs\"\n",
        "os.makedirs(cfg.OUTPUT_DIR, exist_ok=True)"
      ],
      "execution_count": null,
      "outputs": []
    },
    {
      "cell_type": "markdown",
      "metadata": {
        "id": "OzaHmc0IPAIZ"
      },
      "source": [
        "## Load the pre-trained weights "
      ]
    },
    {
      "cell_type": "code",
      "metadata": {
        "id": "FWmZ6VySPC14"
      },
      "source": [
        "cfg.MODEL.WEIGHTS = model_zoo.get_checkpoint_url(\"COCO-InstanceSegmentation/mask_rcnn_R_50_FPN_3x.yaml\")\n",
        "cfg.SOLVER.IMS_PER_BATCH = 2"
      ],
      "execution_count": null,
      "outputs": []
    },
    {
      "cell_type": "markdown",
      "metadata": {
        "id": "wg5Ra2qzO5YV"
      },
      "source": [
        "## Hyperparameters"
      ]
    },
    {
      "cell_type": "code",
      "metadata": {
        "id": "fj5HPBMVO-I3"
      },
      "source": [
        "cfg.SOLVER.BASE_LR = 0.00025  # Learning Rate\n",
        "cfg.SOLVER.MAX_ITER = 20000  # MAx Iterations\n",
        "cfg.MODEL.ROI_HEADS.BATCH_SIZE_PER_IMAGE = 128  # Batch Size"
      ],
      "execution_count": null,
      "outputs": []
    },
    {
      "cell_type": "markdown",
      "metadata": {
        "id": "EER82dGmQGS9"
      },
      "source": [
        "# Train the model 🚂\n",
        "\n",
        "We will setup tensorboard to check the performance of the model while it is training."
      ]
    },
    {
      "cell_type": "markdown",
      "metadata": {
        "id": "XMMmjhlO62Pj"
      },
      "source": [
        "## Setting up Tensorboard"
      ]
    },
    {
      "cell_type": "code",
      "metadata": {
        "id": "kMOcJUcmfQI8"
      },
      "source": [
        "%load_ext tensorboard\n",
        "%tensorboard --logdir outputs"
      ],
      "execution_count": null,
      "outputs": []
    },
    {
      "cell_type": "markdown",
      "metadata": {
        "id": "6E_Np0qn64uM"
      },
      "source": [
        "## Train the Model"
      ]
    },
    {
      "cell_type": "code",
      "metadata": {
        "id": "ZS5IZOx5XjDm"
      },
      "source": [
        "trainer = DefaultTrainer(cfg) \n",
        "trainer.resume_or_load(resume=False)\n",
        "trainer.train()"
      ],
      "execution_count": null,
      "outputs": []
    },
    {
      "cell_type": "markdown",
      "metadata": {
        "id": "6GBGSt63QZf1"
      },
      "source": [
        "# Evaluating the model 🧪\n",
        "\n",
        "We will check the performance of our model on the validation dataset."
      ]
    },
    {
      "cell_type": "code",
      "metadata": {
        "id": "BC0EzphvkslK"
      },
      "source": [
        "cfg.MODEL.WEIGHTS = os.path.join(cfg.OUTPUT_DIR, \"model_final.pth\")\n",
        "cfg.MODEL.ROI_HEADS.SCORE_THRESH_TEST = 0.5   # set the testing threshold for this model\n",
        "cfg.DATASETS.TEST = (DatasetLabels.VAL, )\n",
        "predictor = DefaultPredictor(cfg)"
      ],
      "execution_count": null,
      "outputs": []
    },
    {
      "cell_type": "markdown",
      "metadata": {
        "id": "n5VkmUr1Qlyj"
      },
      "source": [
        "## Generate predictions on validation data "
      ]
    },
    {
      "cell_type": "code",
      "metadata": {
        "id": "mrfk7SynXjbV"
      },
      "source": [
        "evaluator = COCOEvaluator(DatasetLabels.VAL, cfg, False, output_dir=cfg.OUTPUT_DIR)\n",
        "data_loader = build_detection_test_loader(cfg, DatasetLabels.VAL)\n",
        "results = inference_on_dataset(predictor.model, data_loader, evaluator)"
      ],
      "execution_count": null,
      "outputs": []
    },
    {
      "cell_type": "markdown",
      "metadata": {
        "id": "XNb_H5L-xX6d"
      },
      "source": [
        "## Visualizing the results 👓\n",
        "\n",
        "Numbers are good, but visualizations are better!"
      ]
    },
    {
      "cell_type": "code",
      "metadata": {
        "id": "6Gr_8OPtfyja"
      },
      "source": [
        "metadata = MetadataCatalog.get(DatasetLabels.VAL)\n",
        "\n",
        "# Load the training annotations if not loaded\n",
        "if not validation_annotations:\n",
        "  with open(Paths.VAL_ANNOTATIONS) as json_file:\n",
        "      annotations = json.load(json_file)"
      ],
      "execution_count": null,
      "outputs": []
    },
    {
      "cell_type": "markdown",
      "metadata": {
        "id": "9eXHZzn0S4Dp"
      },
      "source": [
        "## Check the predictions\n",
        "\n",
        "**Note:** If you are not able to see segmentation masks on the images, that generally means that the model didn't predict a mask for that image. You can verify this by doing\n",
        "\n",
        "```python\n",
        "predictions = predictor(img)\n",
        "print(predictions)\n",
        "```"
      ]
    },
    {
      "cell_type": "code",
      "metadata": {
        "id": "Q1XMJcWLS7rX"
      },
      "source": [
        "%matplotlib inline\n",
        "import matplotlib.pyplot as plt\n",
        "plt.rcParams['figure.dpi'] = 180\n",
        "\n",
        "\n",
        "# Visualize some random images\n",
        "for i in range(8):\n",
        "  image_filename = np.random.choice(validation_annotations.get(\"images\")).get(\"file_name\")\n",
        "  image_filename = os.path.join(Paths.VAL_IMAGES_DIR, image_filename)\n",
        "\n",
        "  img = cv2.imread(image_filename)\n",
        "  predictions = predictor(img)\n",
        "\n",
        "  v = Visualizer(img[:, :, ::-1],\n",
        "    metadata=metadata, \n",
        "    scale=0.5, \n",
        "    # instance_mode=ColorMode.IMAGE_BW\n",
        "  )\n",
        "  annotated_image = v.draw_instance_predictions(predictions[\"instances\"].to(\"cpu\"))\n",
        "\n",
        "  plt.subplot(2, 4, i+1)\n",
        "  plt.axis('off')\n",
        "  plt.imshow(annotated_image.get_image())"
      ],
      "execution_count": null,
      "outputs": []
    },
    {
      "cell_type": "markdown",
      "metadata": {
        "id": "tFAos6c6DGcx"
      },
      "source": [
        "# A note on class ID mappings\n",
        "\n",
        "Here is how the category object looks like\n",
        "\n",
        "```json\n",
        "{\n",
        "  \"id\": 2578,\n",
        "  \"name\": \"water\",\n",
        "  \"name_readable\": \"Water\",\n",
        "  \"supercategory\": \"food\"\n",
        "}\n",
        "```\n",
        "\n",
        "Detectron2 usually maps the category IDs to contiguous numbers. For example, consider the following categories,\n",
        "\n",
        "```json\n",
        "[\n",
        "  {\n",
        "    \"id\": 2578,\n",
        "    \"name\": \"water\",\n",
        "    \"name_readable\": \"Water\",\n",
        "    \"supercategory\": \"food\"\n",
        "  },\n",
        "  {\n",
        "    \"id\": 1157,\n",
        "    \"name\": \"pear\",\n",
        "    \"name_readable\": \"Pear\",\n",
        "    \"supercategory\": \"food\"\n",
        "  },\n",
        "  {\n",
        "    \"id\": 2022,\n",
        "    \"name\": \"egg\",\n",
        "    \"name_readable\": \"Egg\",\n",
        "    \"supercategory\": \"food\"\n",
        "  }\n",
        "]\n",
        "```\n",
        "\n",
        "Detectron internally maps these categories to something like\n",
        "\n",
        "```json\n",
        "{\n",
        "  0: 2578, # detectron_id: actual_class_id\n",
        "  1: 1157,\n",
        "  2: 2022\n",
        "}\n",
        "```\n",
        "\n",
        "So, when your model detects water, the prediction class ID that your model returns will be `0` and **not** `2578` . You should make sure to map these detectron IDs to their original actual class IDs for your submission to get scored properly.\n",
        "\n",
        "Here's how you can get this mapping."
      ]
    },
    {
      "cell_type": "code",
      "metadata": {
        "id": "O98OLrwV7IPO",
        "colab": {
          "base_uri": "https://localhost:8080/"
        },
        "outputId": "09d28337-fb76-4ef8-8823-8ace13626a8f"
      },
      "source": [
        "coco_api = COCO(Paths.TRAIN_ANNOTATIONS)\n",
        "\n",
        "category_ids = sorted(coco_api.getCatIds())\n",
        "categories = coco_api.loadCats(category_ids)\n",
        "\n",
        "class_to_category = { int(class_id): int(category_id) for class_id, category_id in enumerate(category_ids) }\n",
        "\n",
        "with open(\"class_to_category.json\", \"w\") as fp:\n",
        "  json.dump(class_to_category, fp)"
      ],
      "execution_count": null,
      "outputs": [
        {
          "output_type": "stream",
          "text": [
            "loading annotations into memory...\n",
            "Done (t=2.93s)\n",
            "creating index...\n",
            "index created!\n"
          ],
          "name": "stdout"
        }
      ]
    },
    {
      "cell_type": "markdown",
      "metadata": {
        "id": "7fThCV_4uAm4"
      },
      "source": [
        "# Ready? Submit to AIcrowd 🚀\n",
        "\n",
        "Now you can submit the trained model to AIcrowd!"
      ]
    },
    {
      "cell_type": "markdown",
      "metadata": {
        "id": "kcaSuCpiMVvb"
      },
      "source": [
        "## Submission configuration ⚙️"
      ]
    },
    {
      "cell_type": "code",
      "metadata": {
        "id": "OEPtkV57KC54"
      },
      "source": [
        "aicrowd_submission = {\n",
        "    \"author\": \"<your name>\",\n",
        "    \"username\": \"<your aicrowd username>\",\n",
        "    \"description\": \"initial submission with detectron\",\n",
        "    \"debug\": False,\n",
        "    \"model_path\": \"outputs/model_final.pth\",\n",
        "    \"model_type\": \"model_zoo\",\n",
        "    \"model_config_file\": \"COCO-InstanceSegmentation/mask_rcnn_R_50_FPN_3x.yaml\",\n",
        "    \"detectron_model_config\": {\n",
        "      \"ROI_HEADS\": {\n",
        "        \"SCORE_THRESH_TEST\": 0.5,\n",
        "        \"NUM_CLASSES\": 273\n",
        "      }\n",
        "    }\n",
        "}\n",
        "\n",
        "aicrowd_submission[\"description\"] = aicrowd_submission[\"description\"].replace(\" \", \"-\")\n",
        "with open(\"aicrowd.json\", \"w\") as fp:\n",
        "  json.dump(aicrowd_submission, fp)"
      ],
      "execution_count": null,
      "outputs": []
    },
    {
      "cell_type": "markdown",
      "metadata": {
        "id": "3PKKwhlkKCfc"
      },
      "source": [
        "## Submit to AIcrowd\n",
        "\n",
        "**Note:** We will create an SSH key on your google drive. This key will be used to identify you on gitlab.aicrowd.com."
      ]
    },
    {
      "cell_type": "code",
      "metadata": {
        "id": "NFB2X_nkrGU5"
      },
      "source": [
        "!bash <(curl -sL https://gitlab.aicrowd.com/jyotish/food-recognition-challenge-detectron2-baseline/raw/master/utils/submit-colab.sh)"
      ],
      "execution_count": null,
      "outputs": []
    },
    {
      "cell_type": "markdown",
      "metadata": {
        "id": "CrEBfu7rPHir"
      },
      "source": [
        "# 📎 Important Links\n",
        "\n",
        "* 💪 Challenge Page: https://www.aicrowd.com/challenges/food-recognition-challenge\n",
        "* 🗣 Discussion Forum: https://discourse.aicrowd.com/c/food-recognition-challenge\n",
        "* 🏆 Leaderboard: https://www.aicrowd.com/challenges/food-recognition-challenge/leaderboards  "
      ]
    }
  ]
}