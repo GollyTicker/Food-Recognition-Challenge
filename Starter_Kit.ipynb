{
 "cells": [
  {
   "cell_type": "markdown",
   "metadata": {
    "colab_type": "text",
    "id": "view-in-github"
   },
   "source": [
    "<a href=\"https://colab.research.google.com/github/GollyTicker/Food-Recognition-Challenge/blob/main/Starter_Kit.ipynb\" target=\"_parent\"><img src=\"https://colab.research.google.com/assets/colab-badge.svg\" alt=\"Open In Colab\"/></a>"
   ]
  },
  {
   "cell_type": "markdown",
   "metadata": {
    "id": "yt_yLzMyRHP8"
   },
   "source": [
    "![AIcrowd-Logo](https://raw.githubusercontent.com/AIcrowd/AIcrowd/master/app/assets/images/misc/aicrowd-horizontal.png)\n",
    "\n",
    "This dataset and notebook correspond to the [Food Recognition Challenge](https://www.aicrowd.com/challenges/food-recognition-challenge) being held on [AIcrowd](https://www.aicrowd.com/).\n",
    "\n",
    "<p align=\"right\"> Join the communty! <br><a href=\"https://discord.gg/GTckBMx\"><img src=\"https://img.shields.io/discord/657211973435392011?style=for-the-badge\" alt=\"chat on Discord\"></a>\n",
    "</p>\n",
    "\n",
    "# <center> 🍕 Food Recognition Challenge: Detectron2 starter kit </center>\n",
    "\n",
    "<center>This notebook aims to build a model for food detection and segmentation using <code>detectron2</code></center>\n",
    "\n",
    "# How to use this notebook? 📝\n",
    "1. **Copy the notebook**. This is a shared template and any edits you make here will not be saved. _You should copy it into your own drive folder._ For this, click the \"File\" menu (top-left), then \"Save a Copy in Drive\". You can edit your copy however you like.\n",
    "2. **Make a submission**. Run all the code in the notebook to get a feel of how the notebook and the submission process works.\n",
    "3. **Try tweaking the parameters**. If you are new to the problem, a great way to start is try tweaking the configuration flags, train your model and submit again.\n",
    "4. **Diving into the code**. When you submit via this notebook, we create a repository on [gitlab.aicrowd.com](https://gitlab.aicrowd.com). You can check the code we generated based on this notebook and directly make changes you want there!\n"
   ]
  },
  {
   "cell_type": "markdown",
   "metadata": {
    "id": "AqCwgApzqFK6"
   },
   "source": [
    "# Setup the notebook 🛠\n",
    "\n",
    "If you are running this locally (instead of in Colab), then please use Conda and execute the setup instructions in estup-windows.txt. After that, you can continue with these setup instructions"
   ]
  },
  {
   "cell_type": "code",
   "execution_count": 1,
   "metadata": {
    "colab": {
     "base_uri": "https://localhost:8080/"
    },
    "id": "_embMQfcqIK5",
    "outputId": "8fd57cc5-af84-41b5-a48e-f4712719d478"
   },
   "outputs": [],
   "source": [
    "# !bash <(curl -sL https://gitlab.aicrowd.com/jyotish/food-recognition-challenge-detectron2-baseline/raw/master/utils/setup-colab.sh)\n",
    "!pip install -q numpy python-dotenv minio multiprocess scikit-image nbdime\n",
    "!pip install -q cython aicrowd-api Pillow opencv-python\n",
    "# !pip install -f https://download.pytorch.org/whl/cu101/torch_stable.html torch==1.5 torchvision==0.6\n",
    "# !pip install -f https://dl.fbaipublicfiles.com/detectron2/wheels/cu101/index.html detectron2==0.1.2"
   ]
  },
  {
   "cell_type": "code",
   "execution_count": 2,
   "metadata": {},
   "outputs": [
    {
     "name": "stdout",
     "output_type": "stream",
     "text": [
      "Collecting git+https://github.com/philferriere/cocoapi.git#subdirectory=PythonAPI\n",
      "  Cloning https://github.com/philferriere/cocoapi.git to c:\\users\\s.sahoo\\appdata\\local\\temp\\pip-req-build-aeuz22l9\n",
      "  Resolved https://github.com/philferriere/cocoapi.git to commit 2929bd2ef6b451054755dfd7ceb09278f935f7ad\n"
     ]
    },
    {
     "name": "stderr",
     "output_type": "stream",
     "text": [
      "  Running command git clone -q https://github.com/philferriere/cocoapi.git 'C:\\Users\\s.sahoo\\AppData\\Local\\Temp\\pip-req-build-aeuz22l9'\n"
     ]
    }
   ],
   "source": [
    "!pip install git+https://github.com/philferriere/cocoapi.git#subdirectory=PythonAPI"
   ]
  },
  {
   "cell_type": "code",
   "execution_count": 3,
   "metadata": {
    "colab": {
     "base_uri": "https://localhost:8080/"
    },
    "id": "3IeBrALmMbWY",
    "outputId": "cb6a792a-f6b7-4988-b919-4995bb328792"
   },
   "outputs": [],
   "source": [
    "!pip install -qq fastbook\n",
    "import fastbook\n",
    "fastbook.setup_book()"
   ]
  },
  {
   "cell_type": "code",
   "execution_count": 47,
   "metadata": {
    "colab": {
     "base_uri": "https://localhost:8080/"
    },
    "id": "JveWajFEMfCR",
    "outputId": "aae9e8c1-29d5-440f-e182-8e4517994e54"
   },
   "outputs": [
    {
     "name": "stdout",
     "output_type": "stream",
     "text": [
      "True\n"
     ]
    }
   ],
   "source": [
    "%matplotlib inline\n",
    "from pathlib import Path\n",
    "import os\n",
    "import json\n",
    "from multiprocess import Pool # Attention: We use multiprocess instead of multiprocessing library.\n",
    "# This works for parallelism on Windows in Jupyter\n",
    "\n",
    "from tqdm.notebook import tqdm\n",
    "from pycocotools.coco import COCO\n",
    "from torch import tensor\n",
    "import numpy as np\n",
    "import cv2\n",
    "import PIL\n",
    "import platform\n",
    "import skimage\n",
    "\n",
    "from poolstore import *\n",
    "\n",
    "from fastbook import *\n",
    "#hide\n",
    "# test gpu is used\n",
    "import torch\n",
    "print(torch.cuda.is_available())\n",
    "# assert torch.cuda.is_available()\n",
    "\n",
    "WINDOWS = platform.system() == 'Windows'\n",
    "DEVICE = torch.device(\"cuda\")\n",
    "PAR_PROCS = 3 if WINDOWS else None"
   ]
  },
  {
   "cell_type": "markdown",
   "metadata": {},
   "source": [
    "##### Parallel Processing\n",
    "`multiprocessing` had execution issues on Windows within jupyter. Hence, this notebook uses `multiprocess`. However, to ensure, that all dependencies (variables) are useable in the worker task, I created a script `poolstore` which is imported in the cells here and in the worker task. The variables need to be stored to disk via `storePool(myVar, \"myVar\")` and restored in the worker function via `loadPool(\"myVar\", globals())`. **Changes in global variables are not reflected across worker processes and the main process.**."
   ]
  },
  {
   "cell_type": "code",
   "execution_count": 48,
   "metadata": {},
   "outputs": [
    {
     "data": {
      "application/vnd.jupyter.widget-view+json": {
       "model_id": "8abc922428524983b9b36c9723485e4c",
       "version_major": 2,
       "version_minor": 0
      },
      "text/plain": [
       "  0%|          | 0/2 [00:00<?, ?it/s]"
      ]
     },
     "metadata": {},
     "output_type": "display_data"
    },
    {
     "name": "stdout",
     "output_type": "stream",
     "text": [
      "Parallel processing works.\n"
     ]
    }
   ],
   "source": [
    "def prepareTask(taskVarName):\n",
    "  storePool(globals()[taskVarName], \"currentTask\")\n",
    "  def worker(*args):\n",
    "    from poolstore import loadPool\n",
    "    loadPool(\"currentTask\", globals())\n",
    "    return currentTask(*args)\n",
    "  return worker\n",
    "\n",
    "data = np.random.random((2,10))\n",
    "constdata = np.random.random((10))\n",
    "constdata2 = np.random.random((10))\n",
    "\n",
    "def subfunction(a, b):\n",
    "  return a * b + constdata2\n",
    "\n",
    "def exampleTask(xs):\n",
    "  return subfunction(xs, constdata)[:3]\n",
    "  \n",
    "def doStuff(data):\n",
    "  result = []\n",
    "  \n",
    "  f = prepareTask(\"exampleTask\")\n",
    "\n",
    "  with Pool(PAR_PROCS) as p:\n",
    "    with tqdm(total=len(data)) as progress_bar:\n",
    "      for funcres in p.imap(f, data):\n",
    "        result.append(funcres)\n",
    "        progress_bar.update(1)\n",
    "\n",
    "  return result\n",
    "\n",
    "if np.array(doStuff(data)).shape == (2,3):\n",
    "  print(\"Parallel processing works.\")"
   ]
  },
  {
   "cell_type": "markdown",
   "metadata": {},
   "source": [
    "#### Downloading Data"
   ]
  },
  {
   "cell_type": "code",
   "execution_count": 8,
   "metadata": {},
   "outputs": [],
   "source": [
    "import urllib\n",
    "if WINDOWS:\n",
    "  urllib.request.urlretrieve(\"https://github.com/stedolan/jq/releases/download/jq-1.6/jq-win64.exe\", \"jq.exe\")\n",
    "else:\n",
    "  os.system(\"wget -q -O jq https://github.com/stedolan/jq/releases/download/jq-1.6/jq-linux64 && chmod +x jq\")"
   ]
  },
  {
   "cell_type": "code",
   "execution_count": 9,
   "metadata": {
    "id": "U9TA_gz38qjn"
   },
   "outputs": [],
   "source": [
    "#!wget -q -nv https://datasets.aicrowd.com/default/aicrowd-public-datasets/food-recognition-challenge/v0.4/train-v0.4.tar.gz\n",
    "#!wget -q -nv https://datasets.aicrowd.com/default/aicrowd-public-datasets/food-recognition-challenge/v0.4/val-v0.4.tar.gz"
   ]
  },
  {
   "cell_type": "code",
   "execution_count": 10,
   "metadata": {},
   "outputs": [],
   "source": [
    "def path_exists(path):\n",
    "  return Path(path).exists()\n",
    "\n",
    "def wget(url):\n",
    "  dest = url.split('/')[-1]\n",
    "  if path_exists(dest):\n",
    "    print(f\"{dest} already exists.\")\n",
    "  else:\n",
    "    print(\"Downloading\",url,end=\" \")\n",
    "    urllib.request.urlretrieve(url, dest)\n",
    "    print(\"Done.\")"
   ]
  },
  {
   "cell_type": "code",
   "execution_count": 11,
   "metadata": {
    "colab": {
     "base_uri": "https://localhost:8080/"
    },
    "id": "QAouH2oI8Kic",
    "outputId": "c546d347-4118-491b-fe65-5ee6b4975dc7"
   },
   "outputs": [
    {
     "name": "stdout",
     "output_type": "stream",
     "text": [
      "train.tar.gz already exists.\n",
      "test_images.tar.gz already exists.\n",
      "val.tar.gz already exists.\n"
     ]
    }
   ],
   "source": [
    "wget(\"https://s3.eu-central-1.wasabisys.com/aicrowd-public-datasets/myfoodrepo/round-1/train.tar.gz\")\n",
    "wget(\"https://s3.eu-central-1.wasabisys.com/aicrowd-public-datasets/myfoodrepo/round-1/test_images.tar.gz\")\n",
    "wget(\"https://s3.eu-central-1.wasabisys.com/aicrowd-public-datasets/myfoodrepo/round-1/val.tar.gz\")"
   ]
  },
  {
   "cell_type": "code",
   "execution_count": 12,
   "metadata": {
    "colab": {
     "base_uri": "https://localhost:8080/"
    },
    "id": "ZXO6-8_-9Fye",
    "outputId": "2a31af91-0c6e-4766-9579-ec93e80aee59"
   },
   "outputs": [
    {
     "name": "stdout",
     "output_type": "stream",
     "text": [
      "Current directory: C:\\Users\\s.sahoo\\Documents\\privat\\Artificial Intelligence\\Food-Recognition-Challenge\n",
      ".git\n",
      ".gitignore\n",
      ".ipynb_checkpoints\n",
      "Anaconda Prompt (Anaconda3).lnk\n",
      "curr\n",
      "jq.exe\n",
      "multiprocessingtest.py\n",
      "pool-store\n",
      "poolstore.py\n",
      "README.md\n",
      "Starter_Kit.ipynb\n",
      "swnt-storage-credentials.txt\n",
      "test_images\n",
      "test_images.tar.gz\n",
      "train\n",
      "train.tar.gz\n",
      "val\n",
      "val.tar.gz\n",
      "windows-setup.txt\n",
      "__pycache__\n"
     ]
    }
   ],
   "source": [
    "def ls(path, n=10000):\n",
    "  for f in os.listdir(Path(path))[:n]:\n",
    "    print(f)\n",
    "\n",
    "print(\"Current directory:\", os.getcwd())\n",
    "ls(\".\")"
   ]
  },
  {
   "cell_type": "code",
   "execution_count": 13,
   "metadata": {},
   "outputs": [
    {
     "name": "stdout",
     "output_type": "stream",
     "text": [
      "test_images.tar.gz already extracted.\n",
      "train.tar.gz already extracted.\n",
      "val.tar.gz already extracted.\n"
     ]
    }
   ],
   "source": [
    "import tarfile\n",
    "\n",
    "def untar_idempotent(file):\n",
    "  ext = \".tar.gz\"\n",
    "  assert file.endswith(ext)\n",
    "  filename = file[:-len(ext)]\n",
    "  if path_exists(filename):\n",
    "    print(file,\"already extracted.\")\n",
    "  else:\n",
    "    with tarfile.open(file, \"r:gz\") as tar:\n",
    "      tar.extractall()\n",
    "    print(file,\"extracted.\")\n",
    "\n",
    "for file in os.listdir(\".\"):\n",
    "  if file.endswith('.tar.gz'):\n",
    "    untar_idempotent(file)"
   ]
  },
  {
   "cell_type": "code",
   "execution_count": 14,
   "metadata": {
    "colab": {
     "base_uri": "https://localhost:8080/"
    },
    "id": "g-OseIO9-DAD",
    "outputId": "d20137b3-d1ae-4701-f900-ce76e15c5884"
   },
   "outputs": [
    {
     "name": "stdout",
     "output_type": "stream",
     "text": [
      "annotations.json\n",
      "images\n",
      "segmentations\n",
      "Preview of annotations.json not on Windows.\n"
     ]
    }
   ],
   "source": [
    "ls(\"train\")\n",
    "\n",
    "if WINDOWS:\n",
    "  print(\"Preview of annotations.json not on Windows.\")\n",
    "else:\n",
    "  os.system(\"cat train/annotations.json | ./jq . | head -n 50\")"
   ]
  },
  {
   "cell_type": "markdown",
   "metadata": {
    "id": "SDA1bgkg-8yu"
   },
   "source": [
    "# Configure static variables 📎"
   ]
  },
  {
   "cell_type": "markdown",
   "metadata": {
    "id": "f4MJxXiHvQHn"
   },
   "source": [
    "On, Colab, if you are using a S3 storage to store models, intermediate data etc., then you can point to it here.\n",
    "\n",
    "If it does not exist, then the notebook will always recompute stuff instead of caching them on the S3.\n",
    "\n",
    "If you are executing this locally, you do not need this."
   ]
  },
  {
   "cell_type": "code",
   "execution_count": 15,
   "metadata": {
    "id": "IPSrviCIyiJZ"
   },
   "outputs": [],
   "source": [
    "# The credentials for the storage as expected to be read from this file in Google Drive.\n",
    "# You can populate that file using:\n",
    "\n",
    "# echo \"USER=<user>\" >> \"/content/gdrive/My Drive/<path-to-file>\"\n",
    "# echo \"PASSWORD=<password>\" >> \"/content/gdrive/My Drive/<path-to-file>\"\n",
    "# echo \"URL=<endpoint-url>\" >> \"/content/gdrive/My Drive/<path-to-file>\"\n",
    "# echo \"PATH_WITH_BUCKET=some-bucket/some/path/in/bucket/without/trailing/slash\" >> \"/content/gdrive/My Drive/<path-to-file>\"\n",
    "\n",
    "STORAGE_CREDENTIALS_PATH = Path(\"/content/gdrive/My Drive/swnt-storage-credentials.txt\") if not WINDOWS else Path(\"swnt-storage-credentials.txt\")\n",
    "\n",
    "STORAGE = {\n",
    "  \"USER\": None,\n",
    "  \"PASSWORD\": None,\n",
    "  \"URL\": None,\n",
    "  \"BUCKET\": None,\n",
    "  \"PATH\": None\n",
    "}"
   ]
  },
  {
   "cell_type": "code",
   "execution_count": 16,
   "metadata": {
    "colab": {
     "base_uri": "https://localhost:8080/"
    },
    "id": "4pGX4C6UtVBV",
    "outputId": "1a26d1b9-e0ef-44d8-ae8e-7b6e5e5e1652"
   },
   "outputs": [
    {
     "name": "stdout",
     "output_type": "stream",
     "text": [
      "Found storage credentials with user d12d9ba117aba1286859 at swaneet.eu:9000\n",
      "Probing of storage successful.\n",
      "STORAGE_AVAILABLE = True. Some functions will cache results.\n"
     ]
    }
   ],
   "source": [
    "from dotenv import dotenv_values\n",
    "from minio import Minio\n",
    "from minio.deleteobjects import DeleteObject\n",
    "import random\n",
    "\n",
    "STORAGE_AVAILABLE=False\n",
    "\n",
    "storage_client = None\n",
    "\n",
    "def extract_storage_credentials():\n",
    "  credentials = dotenv_values(STORAGE_CREDENTIALS_PATH)\n",
    "  \n",
    "  try:\n",
    "    STORAGE[\"USER\"] = credentials[\"USER\"]\n",
    "    STORAGE[\"PASSWORD\"] = credentials[\"PASSWORD\"]\n",
    "    STORAGE[\"URL\"] = credentials[\"URL\"]\n",
    "  \n",
    "    path_with_bucket = credentials[\"PATH_WITH_BUCKET\"]\n",
    "    STORAGE[\"BUCKET\"] = path_with_bucket.split(\"/\")[0]\n",
    "    STORAGE[\"PATH\"] = path_with_bucket[len(STORAGE[\"BUCKET\"])+1:]\n",
    "\n",
    "    print(\"Found storage credentials with user\", STORAGE[\"USER\"],\"at\", STORAGE[\"URL\"])\n",
    "  \n",
    "  except KeyError as e:\n",
    "    print(f\"Please ensure USER, PASSWORD and URL are defined in the file {STORAGE_CREDENTIALS_PATH}?\")\n",
    "    raise e\n",
    "\n",
    "def make_storage_client():\n",
    "  global storage_client\n",
    "  storage_client = Minio(\n",
    "      STORAGE[\"URL\"],\n",
    "      access_key = STORAGE[\"USER\"],\n",
    "      secret_key = STORAGE[\"PASSWORD\"]\n",
    "  )\n",
    "\n",
    "def storage_list_objects_with_prefix(prefix):\n",
    "  prefix = str(prefix)\n",
    "  return storage_client.list_objects(STORAGE[\"BUCKET\"], prefix=prefix, recursive=True)\n",
    "\n",
    "def storage_remove_all_with_prefix(prefix):\n",
    "  prefix = str(prefix)\n",
    "  test_objects_to_delete = storage_list_objects_with_prefix(prefix)\n",
    "  delete_objects_list = map(lambda obj: DeleteObject(obj.object_name), test_objects_to_delete)\n",
    "  errors = storage_client.remove_objects(STORAGE[\"BUCKET\"], delete_objects_list)\n",
    "  return errors\n",
    "\n",
    "def storage_upload_single_file(file, key):\n",
    "  file, key = str(file), str(key)\n",
    "  storage_client.fput_object(STORAGE[\"BUCKET\"], key, file)\n",
    "\n",
    "def test_storage_with_files():\n",
    "  test_suffix = str(random.randint(100000,999999))\n",
    "  test_prefix = f\"{STORAGE['PATH']}/delete-me---storage-access-test-tmp-\"\n",
    "  test_path = f\"{test_prefix}-{test_suffix}\"\n",
    "  test_content = b\"sdlfslife\"\n",
    "\n",
    "  storage_client.put_object(STORAGE[\"BUCKET\"], test_path, io.BytesIO(test_content), len(test_content))\n",
    "\n",
    "  result = None\n",
    "  try:\n",
    "      response = storage_client.get_object(STORAGE[\"BUCKET\"], test_path)\n",
    "      result = response.data\n",
    "  finally:\n",
    "      response.close()\n",
    "      response.release_conn()\n",
    "\n",
    "  assert test_content == result\n",
    "\n",
    "  errors = list( storage_remove_all_with_prefix(test_prefix) )\n",
    "  \n",
    "  for err in errors:\n",
    "    print(\"Error while deleting:\", err)\n",
    "  assert len(errors) == 0\n",
    "\n",
    "  print(\"Probing of storage successful.\")\n",
    "\n",
    "def test_storage():\n",
    "  try:\n",
    "    make_storage_client()\n",
    "    test_storage_with_files()\n",
    "  except Exception as e:\n",
    "    print(\"Failed to write, read or delete a test object in storage.\")\n",
    "    raise e\n",
    "\n",
    "\n",
    "if STORAGE_CREDENTIALS_PATH.exists():\n",
    "  extract_storage_credentials()\n",
    "\n",
    "  test_storage()\n",
    "\n",
    "  STORAGE_AVAILABLE=True\n",
    "\n",
    "if STORAGE_AVAILABLE:\n",
    "  print(f\"STORAGE_AVAILABLE = {STORAGE_AVAILABLE}. Some functions will cache results.\")\n",
    "else:\n",
    "  print(f\"STORAGE_AVAILABLE = {STORAGE_AVAILABLE}. All computed results will be lost when your Colab is closed!\")\n",
    "  print(\"To store and cache results, please specify a S3 compatible storage.\")"
   ]
  },
  {
   "cell_type": "code",
   "execution_count": 17,
   "metadata": {
    "id": "83P8YszC_qV5"
   },
   "outputs": [],
   "source": [
    "import os\n",
    "STORAGE_MIRRORS=Path(STORAGE[\"PATH\"]) / \"mirrors\"\n",
    "\n",
    "def storage_store_directory_idempotent(dir, name, debug=False):\n",
    "  \"Mirrors the given directory onto the storage. If run a second time, the backup already exists and it is then not overwritten.\"\n",
    "\n",
    "  mirrorRoot = STORAGE_MIRRORS / name\n",
    "\n",
    "  for _ in storage_list_objects_with_prefix(mirrorRoot):\n",
    "    if debug:\n",
    "      print(f\"Name {name} is already defined and will not be stored again.\")\n",
    "    return\n",
    "\n",
    "  print(f\"Storing for name {name}.\")\n",
    "\n",
    "  for root, dirs, files in os.walk(dir):\n",
    "    for file in files:\n",
    "      relpath = Path(root) / file\n",
    "      if debug:\n",
    "        print(\"Save\",relpath,\" -> \",mirrorRoot/relpath)\n",
    "      storage_upload_single_file(file=relpath, key=mirrorRoot/relpath)\n",
    "\n",
    "def print_on_error(msg, errors):\n",
    "  for err in errors:\n",
    "    print(msg, err)\n",
    "\n",
    "def storage_remove_stored_directory(name):\n",
    "  print_on_error(\"Error removing\", storage_remove_all_with_prefix(STORAGE_MIRRORS / name))\n",
    "  print(f\"Removed stored {name}.\")"
   ]
  },
  {
   "cell_type": "code",
   "execution_count": 18,
   "metadata": {
    "colab": {
     "base_uri": "https://localhost:8080/"
    },
    "id": "TN0ltyKDJchy",
    "outputId": "ed3928f6-f12d-4339-f8bc-13e5b2fd5a64"
   },
   "outputs": [
    {
     "name": "stdout",
     "output_type": "stream",
     "text": [
      "Storing for name test.\n",
      "Save test-dir\\1\\1.txt  ->  Artificial_Intelligence\\FoodRecChallenge\\colab-storage\\mirrors\\test\\test-dir\\1\\1.txt\n",
      "Save test-dir\\2\\2.txt  ->  Artificial_Intelligence\\FoodRecChallenge\\colab-storage\\mirrors\\test\\test-dir\\2\\2.txt\n",
      "Save test-dir\\2\\3.txt  ->  Artificial_Intelligence\\FoodRecChallenge\\colab-storage\\mirrors\\test\\test-dir\\2\\3.txt\n",
      "Removed stored test.\n"
     ]
    }
   ],
   "source": [
    "def set_file_contents(file, string):\n",
    "  with open(file,\"w+\") as f:\n",
    "    f.write(string)\n",
    "    \n",
    "def remove_recursive_force(dir):\n",
    "  shutil.rmtree(dir, ignore_errors=True)\n",
    "\n",
    "if \"test directories\":\n",
    "  d = Path(\"test-dir\")\n",
    "  \n",
    "  for dr in [d, d / \"1\", d / \"2\"]:\n",
    "    os.makedirs(dr, exist_ok=True)\n",
    "\n",
    "  set_file_contents(d/\"1\"/\"1.txt\", \"1.1\")\n",
    "  set_file_contents(d/\"2\"/\"2.txt\", \"2.2\")\n",
    "  set_file_contents(d/\"2\"/\"3.txt\", \"2.3\")\n",
    "\n",
    "  if STORAGE_AVAILABLE:\n",
    "    storage_store_directory_idempotent(\"test-dir\", name=\"test\", debug=True)\n",
    "    storage_remove_stored_directory(name=\"test\")\n",
    "    remove_recursive_force(\"test-dir\")"
   ]
  },
  {
   "cell_type": "code",
   "execution_count": 19,
   "metadata": {
    "id": "Zc4ZRDB7LbzM"
   },
   "outputs": [],
   "source": [
    "# todo. continue here\n",
    "if STORAGE_AVAILABLE:\n",
    "  pass # storage_load_directory_overwrite_local(\"test-dir\", name=\"test\", debug=True)"
   ]
  },
  {
   "cell_type": "code",
   "execution_count": 20,
   "metadata": {
    "id": "r6kEtMOl-8GO"
   },
   "outputs": [],
   "source": [
    "class Paths:\n",
    "  DATASET_DIR = Path(\".\")\n",
    "  \n",
    "  TRAIN_DATA_DIR = DATASET_DIR/\"train\"\n",
    "  TRAIN_IMAGES_DIR = TRAIN_DATA_DIR/\"images\"\n",
    "  TRAIN_ANNOTATIONS = TRAIN_DATA_DIR/\"annotations.json\"\n",
    "  TRAIN_MULTI_SEG_DIR = TRAIN_DATA_DIR/\"segmentations\"\n",
    "  \n",
    "  VAL_DATA_DIR = DATASET_DIR/\"val\"\n",
    "  VAL_ANNOTATIONS = VAL_DATA_DIR/\"annotations.json\"\n",
    "  VAL_IMAGES_DIR = VAL_DATA_DIR/\"images\"\n",
    "  VAL_MULTI_SEG_DIR = VAL_DATA_DIR/\"segmentations\"\n",
    "\n",
    "  CURR_DATA_DIR = DATASET_DIR/\"curr\"\n",
    "  CURR_IMAGES_DIR = CURR_DATA_DIR/\"images\"\n",
    "  CURR_ANNOTATIONS = CURR_DATA_DIR/\"annotations.json\"\n",
    "  CURR_MULTI_SEG_DIR = CURR_DATA_DIR/\"segmentations\"\n",
    "\n",
    "\n",
    "class DatasetLabels:\n",
    "  TRAIN = \"dataset_train\"\n",
    "  VAL = \"dataset_val\"\n",
    "\n",
    "import os\n",
    "for dirs in [Paths.CURR_IMAGES_DIR,Paths.TRAIN_MULTI_SEG_DIR,Paths.VAL_MULTI_SEG_DIR,Paths.CURR_MULTI_SEG_DIR]:\n",
    "  os.makedirs(dirs,exist_ok=True)"
   ]
  },
  {
   "cell_type": "code",
   "execution_count": 21,
   "metadata": {
    "id": "1jkAnlhzIvyM"
   },
   "outputs": [],
   "source": [
    "# this cell needs to be updated\n",
    "\n",
    "if False:\n",
    "  GDRIVE_MIRROR_ROOT = gdrive/\"Food Challenge\"/\"persistent\"/\"mirror\"\n",
    "  os.makedirs(GDRIVE_MIRROR_ROOT,exist_ok=True)\n",
    "\n",
    "  def store_directory_to_google_drive(relative_dir):\n",
    "    destination = GDRIVE_MIRROR_ROOT/relative_dir\n",
    "    print(f\"Storing {relative_dir} -> {destination} (target removed before copy)\")\n",
    "    shutil.rmtree(destination, ignore_errors=True)\n",
    "    shutil.copytree(relative_dir,destination)\n",
    "\n",
    "  def restore_directory_from_google_drive(relative_dir):\n",
    "    source = GDRIVE_MIRROR_ROOT/relative_dir\n",
    "    print(f\"Restoring {relative_dir} <- {source} (target removed before copy)\")\n",
    "    shutil.rmtree(relative_dir, ignore_errors=True)\n",
    "    shutil.copytree(source,relative_dir)"
   ]
  },
  {
   "cell_type": "code",
   "execution_count": 22,
   "metadata": {
    "id": "GpUFct7TK3Sj"
   },
   "outputs": [],
   "source": [
    "# restore precomputed segmentation masks\n",
    "if False and \"we don't want to restore the segmentation masks from google drive, since this is slow. It's slower than computing them directly!\":\n",
    "  try:\n",
    "    restore_directory_from_google_drive(Paths.TRAIN_MULTI_SEG_DIR)\n",
    "  except Exception as e:\n",
    "    e.printStackTrace()"
   ]
  },
  {
   "cell_type": "markdown",
   "metadata": {
    "id": "DGt1_dNs_LFB"
   },
   "source": [
    "# Packages 🗃\n",
    "\n",
    "Import here all the packages you need to define your model. "
   ]
  },
  {
   "cell_type": "code",
   "execution_count": 23,
   "metadata": {
    "colab": {
     "base_uri": "https://localhost:8080/"
    },
    "id": "XOxxkvKI5jhA",
    "outputId": "0c3d4425-df66-4fc3-d107-2cac604ea9b9"
   },
   "outputs": [],
   "source": [
    "\"\"\"from detectron2.data.datasets import register_coco_instances\n",
    "import detectron2\n",
    "from detectron2.utils.logger import setup_logger\n",
    "from detectron2.utils.visualizer import Visualizer\n",
    "from detectron2.utils.visualizer import ColorMode\n",
    "from detectron2.data import MetadataCatalog\n",
    "from detectron2.evaluation import COCOEvaluator, inference_on_dataset\n",
    "from detectron2.data import build_detection_test_loader\n",
    "from detectron2.engine import DefaultPredictor\n",
    "from detectron2.engine import DefaultTrainer\n",
    "from detectron2.config import get_cfg\n",
    "from detectron2 import model_zoo\n",
    "from detectron2.utils.events import get_event_storage\n",
    "from detectron2.engine import HookBase\n",
    "\"\"\";"
   ]
  },
  {
   "cell_type": "markdown",
   "metadata": {
    "id": "rgc_ZDzmzyOE"
   },
   "source": [
    "# Loading the data 📲"
   ]
  },
  {
   "cell_type": "code",
   "execution_count": 24,
   "metadata": {
    "colab": {
     "base_uri": "https://localhost:8080/"
    },
    "id": "Xii1QDbCpZ0K",
    "outputId": "a5dfc3da-7c60-4e74-d450-a9bf32571663"
   },
   "outputs": [
    {
     "name": "stdout",
     "output_type": "stream",
     "text": [
      "dict_keys(['categories', 'info', 'images', 'annotations'])\n"
     ]
    }
   ],
   "source": [
    "with open(Paths.TRAIN_ANNOTATIONS) as fp:\n",
    "  annotations = json.load(fp)\n",
    "  print(annotations.keys())"
   ]
  },
  {
   "cell_type": "markdown",
   "metadata": {
    "id": "s7Yr5lfoAnwJ"
   },
   "source": [
    "## Helper functions to clean the dataset\n",
    "\n",
    "First, we will see if all the annotations in the dataset are properly aligned with the images. These helper functions will let us do that."
   ]
  },
  {
   "cell_type": "code",
   "execution_count": 25,
   "metadata": {
    "id": "SstjAZ9UR6mk"
   },
   "outputs": [],
   "source": [
    "# LIMITATION: multiprocess does not seem to support global variables... all functions seem to need to be stand-alone...\n",
    "\n",
    "def validate_annotation(annotation):\n",
    "  \"\"\"Check the image dimensions and fix them if needed\n",
    "  \"\"\"\n",
    "  import os\n",
    "  filepath = annotation.get(\"file_name\")\n",
    "  if not os.path.exists(filepath):\n",
    "    print(\"Skipping\", filepath)\n",
    "    return annotation\n",
    "  img = cv2.imread(filepath)\n",
    "  if img.shape[0] != annotation.get(\"height\") or img.shape[1] != annotation.get(\"width\"):\n",
    "    annotation[\"height\"], annotation[\"width\"] = annotation[\"width\"], annotation[\"height\"]\n",
    "  return annotation\n",
    "\n",
    "\n",
    "def clean_annotations(annotation_images):\n",
    "  \"\"\"Read the image dimensions and fix them in parallel\n",
    "  \"\"\"\n",
    "  annotated_images = []\n",
    "\n",
    "  with Pool() as p:\n",
    "    total_images = len(annotation_images)\n",
    "\n",
    "    with tqdm(total=total_images) as progress_bar:\n",
    "      for annotation in p.imap(validate_annotation, annotation_images):\n",
    "        annotated_images.append(annotation)\n",
    "        progress_bar.update(1)\n",
    "\n",
    "  return annotated_images"
   ]
  },
  {
   "cell_type": "markdown",
   "metadata": {
    "id": "dbxqgfj0Xd8Q"
   },
   "source": [
    "## Clean the training data 🧹"
   ]
  },
  {
   "cell_type": "code",
   "execution_count": 26,
   "metadata": {
    "colab": {
     "base_uri": "https://localhost:8080/",
     "height": 49,
     "referenced_widgets": [
      "dc2c83b7976148deb3940b2af616628d",
      "603b891994ee4c40af945ee4b0662628",
      "d2470efe370c40acafeb43ca91b16b49",
      "e1585637be1b4217a1c8abef9de8fd96",
      "e35788df0e95470bb8386cd0e2a82762",
      "5fd71b6dbd7f4f39b443a07452dd678e",
      "b76583f3df1845ff91d32e6579dc70ae",
      "bf1bacab16f14aeebae4b0b5d5d43248",
      "c0fb424ef88941e3832a7c7e22e08a9f",
      "5b4a5ca1df9e4ad6b12e723cc81ceac9",
      "b902cc3601b34f08ad0be120d6cae88d"
     ]
    },
    "id": "jVAP3Ds09qxe",
    "outputId": "13ab7d26-8d7b-4558-e6df-b2caee12b1bf"
   },
   "outputs": [
    {
     "data": {
      "application/vnd.jupyter.widget-view+json": {
       "model_id": "a5546fdb2aeb46fe841bf16db3c5db58",
       "version_major": 2,
       "version_minor": 0
      },
      "text/plain": [
       "  0%|          | 0/5545 [00:00<?, ?it/s]"
      ]
     },
     "metadata": {},
     "output_type": "display_data"
    }
   ],
   "source": [
    "image_dir = Paths.TRAIN_IMAGES_DIR\n",
    "annotations[\"images\"] = clean_annotations(annotations.get(\"images\"))\n",
    "\n",
    "with open(Paths.TRAIN_ANNOTATIONS, \"w\") as fp:\n",
    "  json.dump(annotations, fp)"
   ]
  },
  {
   "cell_type": "markdown",
   "metadata": {
    "id": "DZM_-xKcXhvH"
   },
   "source": [
    "## Clean the validation data 🧹"
   ]
  },
  {
   "cell_type": "code",
   "execution_count": 27,
   "metadata": {
    "colab": {
     "base_uri": "https://localhost:8080/",
     "height": 49,
     "referenced_widgets": [
      "2b40359f19bc40c1bc6c9cecab619d03",
      "e8f173e77504425dbc7715e0a7af42c0",
      "38caea5cb9154a35b4f5bb72b9948168",
      "c07fcfd7153645f8ab21e16eec1289d5",
      "e788cfaee4df40c6800ba1d257288dc0",
      "7f125faa9f8846838a86fd82df543d0f",
      "e8a9938949ba49aab5982a88718dfa2e",
      "f7f0285815b04923879075580ee46483",
      "79f49b6cbcc64ddc91ef1a54614fff6c",
      "c65809f2929241a9a9f0aacaf8e8cc9c",
      "6ed6ee2c18ad4333b0b718bb993196d8"
     ]
    },
    "id": "JnFNbX9DX6Ci",
    "outputId": "4d2c3ab0-f737-418c-bed2-cc03eca33bc5"
   },
   "outputs": [
    {
     "data": {
      "application/vnd.jupyter.widget-view+json": {
       "model_id": "60cb615171744cfea49af88330f8f12f",
       "version_major": 2,
       "version_minor": 0
      },
      "text/plain": [
       "  0%|          | 0/291 [00:00<?, ?it/s]"
      ]
     },
     "metadata": {},
     "output_type": "display_data"
    }
   ],
   "source": [
    "image_dir = Paths.VAL_IMAGES_DIR\n",
    "\n",
    "with open(Paths.VAL_ANNOTATIONS) as fp:\n",
    "  validation_annotations = json.load(fp)\n",
    "\n",
    "validation_annotations[\"images\"] = clean_annotations(validation_annotations.get(\"images\"))\n",
    "\n",
    "with open(Paths.VAL_ANNOTATIONS, \"w\") as fp:\n",
    "  json.dump(validation_annotations, fp)"
   ]
  },
  {
   "cell_type": "markdown",
   "metadata": {
    "id": "M05KHR--CUq3"
   },
   "source": [
    "# My baseline model"
   ]
  },
  {
   "cell_type": "code",
   "execution_count": 28,
   "metadata": {
    "colab": {
     "base_uri": "https://localhost:8080/"
    },
    "id": "IfprvZ7ECWnA",
    "outputId": "8b44bc4a-e32a-4aa4-8ae3-dbc4648fbe16"
   },
   "outputs": [
    {
     "name": "stdout",
     "output_type": "stream",
     "text": [
      "loading annotations into memory...\n",
      "Done (t=0.55s)\n",
      "creating index...\n",
      "index created!\n"
     ]
    }
   ],
   "source": [
    "coco = COCO(Paths.TRAIN_ANNOTATIONS)"
   ]
  },
  {
   "cell_type": "code",
   "execution_count": 29,
   "metadata": {
    "colab": {
     "base_uri": "https://localhost:8080/"
    },
    "id": "U9FRSJyRCo9-",
    "outputId": "3658f501-6dc1-4b71-f246-24e1dec56b79"
   },
   "outputs": [
    {
     "name": "stdout",
     "output_type": "stream",
     "text": [
      "Categories:  bread-wholemeal, potatoes-steamed, broccoli, butter, hard-cheese, water, banana, wine-white, bread-white, apple, pizza-margherita-baked, salad-leaf-salad-green, zucchini, water-mineral, coffee-with-caffeine, avocado, tomato, dark-chocolate, white-coffee-with-caffeine, egg, mixed-salad-chopped-without-sauce, sweet-pepper, mixed-vegetables, mayonnaise, rice, chips-french-fries, carrot, tomato-sauce, cucumber, wine-red, cheese, strawberries, espresso-with-caffeine, tea, chicken, jam, leaf-spinach, pasta-spaghetti, french-beans, bread-whole-wheat\n",
      "Image ids:  [16387, 49157, 16394, 49164, 49166, 16398, 49168, 49171, 16409, 49179] ...\n",
      "Annotation: dict_keys(['id', 'image_id', 'category_id', 'segmentation', 'area', 'bbox', 'iscrowd'])\n"
     ]
    }
   ],
   "source": [
    "category_ids = coco.loadCats(coco.getCatIds())\n",
    "category_names = [_[\"name\"] for _ in category_ids]\n",
    "\n",
    "N_CLASSES = len(category_ids)\n",
    "\n",
    "image_ids = coco.getImgIds()\n",
    "\n",
    "annotation_ids = coco.getAnnIds()\n",
    "annotations = coco.loadAnns(annotation_ids)\n",
    "\n",
    "print(\"Categories: \",\", \".join(category_names))\n",
    "\n",
    "print(\"Image ids: \", image_ids[:10],\"...\")\n",
    "\n",
    "print(\"Annotation:\" , annotations[0].keys())\n"
   ]
  },
  {
   "cell_type": "code",
   "execution_count": 30,
   "metadata": {
    "colab": {
     "base_uri": "https://localhost:8080/"
    },
    "id": "hmVLSrsBR_T6",
    "outputId": "7f10cfff-c061-4353-c233-2f04d7ebb293"
   },
   "outputs": [
    {
     "data": {
      "text/plain": [
       "Path('curr/annotations.json')"
      ]
     },
     "execution_count": 30,
     "metadata": {},
     "output_type": "execute_result"
    }
   ],
   "source": [
    "N = 1000\n",
    "choice = np.linspace(0,len(image_ids)-1,N,dtype=np.int16)\n",
    "# tiny_train_imids = [image_ids[ci] for ci in choice]\n",
    "tiny_train_imids, N = [12886,22949,49145,54634], 4\n",
    "assert len(tiny_train_imids) == N\n",
    "\n",
    "import shutil\n",
    "# create currently trained on dataset\n",
    "for imid in tiny_train_imids:\n",
    "  im = coco.loadImgs(imid)[0]\n",
    "  shutil.copy(Paths.TRAIN_IMAGES_DIR/im['file_name'], Paths.CURR_IMAGES_DIR/im['file_name'])\n",
    "\n",
    "\n",
    "shutil.copy(Paths.TRAIN_ANNOTATIONS, Paths.CURR_ANNOTATIONS)"
   ]
  },
  {
   "cell_type": "code",
   "execution_count": 31,
   "metadata": {
    "colab": {
     "base_uri": "https://localhost:8080/"
    },
    "id": "O9NEInrKS_Vo",
    "outputId": "78962531-ed7e-4d81-d78c-79f997eee5e6"
   },
   "outputs": [
    {
     "name": "stdout",
     "output_type": "stream",
     "text": [
      "annotations.json\n",
      "images\n",
      "segmentations\n",
      "012886.jpg\n",
      "022949.jpg\n",
      "049145.jpg\n",
      "054634.jpg\n"
     ]
    }
   ],
   "source": [
    "ls(\"curr\")\n",
    "ls(\"curr/images\", n=50)"
   ]
  },
  {
   "cell_type": "code",
   "execution_count": 32,
   "metadata": {
    "colab": {
     "base_uri": "https://localhost:8080/"
    },
    "id": "_wvHBPWqa7aA",
    "outputId": "10921b9a-96de-4fe9-ad32-a8efb8b03ef7"
   },
   "outputs": [
    {
     "data": {
      "text/plain": [
       "['bread-wholemeal',\n",
       " 'potatoes-steamed',\n",
       " 'broccoli',\n",
       " 'butter',\n",
       " 'hard-cheese',\n",
       " 'water',\n",
       " 'banana',\n",
       " 'wine-white',\n",
       " 'bread-white',\n",
       " 'apple',\n",
       " 'pizza-margherita-baked',\n",
       " 'salad-leaf-salad-green',\n",
       " 'zucchini',\n",
       " 'water-mineral',\n",
       " 'coffee-with-caffeine',\n",
       " 'avocado',\n",
       " 'tomato',\n",
       " 'dark-chocolate',\n",
       " 'white-coffee-with-caffeine',\n",
       " 'egg',\n",
       " 'mixed-salad-chopped-without-sauce',\n",
       " 'sweet-pepper',\n",
       " 'mixed-vegetables',\n",
       " 'mayonnaise',\n",
       " 'rice',\n",
       " 'chips-french-fries',\n",
       " 'carrot',\n",
       " 'tomato-sauce',\n",
       " 'cucumber',\n",
       " 'wine-red',\n",
       " 'cheese',\n",
       " 'strawberries',\n",
       " 'espresso-with-caffeine',\n",
       " 'tea',\n",
       " 'chicken',\n",
       " 'jam',\n",
       " 'leaf-spinach',\n",
       " 'pasta-spaghetti',\n",
       " 'french-beans',\n",
       " 'bread-whole-wheat']"
      ]
     },
     "execution_count": 32,
     "metadata": {},
     "output_type": "execute_result"
    }
   ],
   "source": [
    "[catdict[\"name\"] for catdict in category_ids]"
   ]
  },
  {
   "cell_type": "code",
   "execution_count": 33,
   "metadata": {
    "colab": {
     "base_uri": "https://localhost:8080/"
    },
    "id": "ctgT-F9bYDqC",
    "outputId": "00e5cc1b-9aba-45ab-86d2-f6b9cf50bcd4"
   },
   "outputs": [
    {
     "name": "stdout",
     "output_type": "stream",
     "text": [
      "{'id': 1565, 'name': 'bread-wholemeal', 'name_readable': 'Bread, wholemeal', 'supercategory': 'food'}\n",
      "{'id': 2099, 'name': 'jam', 'name_readable': 'Jam', 'supercategory': 'food'}\n",
      "{'id': 1468, 'name': 'rice', 'name_readable': 'Rice', 'supercategory': 'food'}\n",
      "Pipeline: MultiCategorize -- {'vocab': [1565, 1010, 1085, 2053, 1310, 2578, 1154, 2620, 1566, 1151, 2939, 1040, 1070, 2580, 2512, 1056, 1069, 2131, 2521, 2022, 1026, 1068, 1022, 2750, 1468, 1013, 1078, 2738, 1061, 2618, 1311, 1163, 2504, 2498, 1788, 2099, 1032, 1505, 1058, 1554], 'sort': False, 'add_na': False} -> OneHotEncode -- {'c': 40} -> <lambda>\n",
      "bread-wholemeal,jam,rice -> [1. 0. 0. 0. 0. 0. 0. 0. 0. 0. 0. 0. 0. 0. 0. 0. 0. 0. 0. 0. 0. 0. 0. 0. 1. 0. 0. 0. 0. 0. 0. 0. 0. 0. 0. 1. 0. 0. 0. 0.]\n",
      "bread-wholemeal,jam,rice ->  ['bread-wholemeal', 'rice', 'jam']\n"
     ]
    }
   ],
   "source": [
    "SEG_DTYPE = np.float32\n",
    "\n",
    "fai_multi_cats_from_coco_ids = Pipeline([MultiCategorize(vocab=[catdict[\"id\"] for catdict in category_ids]),\n",
    "                                         OneHotEncode(c=N_CLASSES),\n",
    "                                         Transform(enc = lambda tensor_mcat: np.array(tensor_mcat,dtype=SEG_DTYPE), dec = TensorMultiCategory, order=2)\n",
    "                                         ])\n",
    "\n",
    "coco_cat_id_to_name = lambda coco_cat_id : list(filter(lambda catdict: catdict[\"id\"] == coco_cat_id, category_ids))[0][\"name\"]\n",
    "fai_multi_cats_to_names = Transform(lambda fai_cats: list(map(coco_cat_id_to_name, fai_multi_cats_from_coco_ids.decode(fai_cats))))\n",
    "\n",
    "print(category_ids[0])\n",
    "print(category_ids[35])\n",
    "print(category_ids[24])\n",
    "\n",
    "print(fai_multi_cats_from_coco_ids)\n",
    "\n",
    "example_categories = fai_multi_cats_from_coco_ids([1565,2099,1468])\n",
    "print(\"bread-wholemeal,jam,rice ->\", example_categories)\n",
    "\n",
    "print(\"bread-wholemeal,jam,rice -> \", fai_multi_cats_to_names(example_categories))"
   ]
  },
  {
   "cell_type": "markdown",
   "metadata": {
    "id": "EGa3OshczaT9"
   },
   "source": [
    "#### Analyse Categories"
   ]
  },
  {
   "cell_type": "code",
   "execution_count": 34,
   "metadata": {
    "colab": {
     "base_uri": "https://localhost:8080/",
     "height": 983
    },
    "id": "WvGv6Aa5zN37",
    "outputId": "1ddced31-d221-468a-e9b9-10131ff30d31"
   },
   "outputs": [
    {
     "name": "stdout",
     "output_type": "stream",
     "text": [
      "Category frequencies: [0.04550743 0.02055591 0.01073045 0.05326438 0.01616031 0.09579832 0.02133161 0.01266968 0.06179703 0.02042663 0.01279897 0.06554622 0.01512605 0.01047188 0.04292178 0.01616031 0.0561086  0.01150614\n",
      " 0.01357466 0.02973497 0.01706529 0.01292825 0.03167421 0.01008403 0.02999354 0.01447964 0.04382676 0.01292825 0.01654816 0.02598578 0.01939237 0.01202327 0.02081448 0.02042663 0.01654816 0.02223659\n",
      " 0.00930834 0.0095669  0.01008403 0.01189399]\n"
     ]
    },
    {
     "name": "stderr",
     "output_type": "stream",
     "text": [
      "C:\\Users\\SA17B~1.SAH\\AppData\\Local\\Temp/ipykernel_10180/3124003453.py:12: UserWarning: Matplotlib is currently using agg, which is a non-GUI backend, so cannot show the figure.\n",
      "  plt.show()\n"
     ]
    }
   ],
   "source": [
    "category_frequencies = []\n",
    "\n",
    "def show_category_frequencies():\n",
    "  coco_categories_for_histogram = [coco_cat_id_to_name(anno[\"category_id\"]) for anno in annotations]\n",
    "\n",
    "  plt.figure(figsize=(8,12))\n",
    "  hist, _, _ = plt.hist(coco_categories_for_histogram, len(category_names), rwidth=0.5)\n",
    "  plt.ylabel(\"number of images with this category\")\n",
    "  plt.xticks(rotation=90)\n",
    "  global category_frequencies\n",
    "  category_frequencies = hist / hist.sum()\n",
    "  plt.show()\n",
    "\n",
    "show_category_frequencies()\n",
    "\n",
    "print(\"Category frequencies:\", category_frequencies)"
   ]
  },
  {
   "cell_type": "code",
   "execution_count": 35,
   "metadata": {
    "id": "qIMMhF0_qwxD"
   },
   "outputs": [],
   "source": [
    "if not \"example mini image masks\":\n",
    "  example_mini_image_masks = np.zeros((N_CLASSES,3,3),dtype=SEG_DTYPE)\n",
    "\n",
    "  example_mini_image_masks[2] = np.array([[1,1,1],[1,1,0],[1,0,0]])\n",
    "  example_mini_image_masks[5] = np.array([[1,0,0],[1,1,0],[1,1,1]])\n",
    "\n",
    "  print(example_mini_image_masks.shape)\n",
    "\n",
    "  example_mini_image_masks[:6]\n",
    "\n",
    "  for i in range(3):\n",
    "    for j in range(3):\n",
    "      print(f\"{i},{j} -> \",fai_multi_cats_from_coco_ids.decode(example_mini_image_masks[:,i,j]))"
   ]
  },
  {
   "cell_type": "code",
   "execution_count": 36,
   "metadata": {
    "colab": {
     "base_uri": "https://localhost:8080/",
     "height": 484
    },
    "id": "bhB3IQroC6xW",
    "outputId": "b7304ef2-cb57-4936-e74a-200ef6749753"
   },
   "outputs": [
    {
     "name": "stdout",
     "output_type": "stream",
     "text": [
      "35592 607 607\n"
     ]
    }
   ],
   "source": [
    "import random\n",
    "import skimage.io as io\n",
    "import matplotlib.pyplot as plt\n",
    "\n",
    "imid = 30573\n",
    "imid = 16387\n",
    "imid = random.choice(image_ids)\n",
    "im = coco.loadImgs(imid)[0]\n",
    "im_annotations = coco.loadAnns(coco.getAnnIds(imgIds=imid))\n",
    "\n",
    "image_path = os.path.join(Paths.TRAIN_IMAGES_DIR, im[\"file_name\"])\n",
    "plt.figure(figsize=(8,8))\n",
    "I = io.imread(image_path)\n",
    "plt.imshow(I)\n",
    "plt.axis('off')\n",
    "# Render annotations on top of the image\n",
    "coco.showAnns(im_annotations)\n",
    "\n",
    "print(imid,im[\"width\"],im[\"height\"])"
   ]
  },
  {
   "cell_type": "code",
   "execution_count": 37,
   "metadata": {
    "id": "YZ4_NW8_LdbG"
   },
   "outputs": [],
   "source": [
    "def one_hot_id_from_coco_id(coco_id):\n",
    "  return np.nonzero(fai_multi_cats_from_coco_ids([coco_id]))[0][0]\n",
    "\n",
    "def convert_annotations_to_multimask(im_annotations, image_dict, debug=False):\n",
    "  \"\"\"Produces a mask of shape [N_CLASSES, w, h] where each seg_pixel (c,x,y) is either 1 (in class) or 0\"\"\"\n",
    "\n",
    "  multi_seg_mask = np.zeros((N_CLASSES, image_dict[\"width\"], image_dict[\"height\"]),dtype=SEG_DTYPE)\n",
    "\n",
    "  if debug:\n",
    "    print(\"Image id\", image_dict['id'])\n",
    "    print(\"Image shape: \", image_dict['width'], image_dict['height'])\n",
    "\n",
    "  for im_anno in im_annotations:\n",
    "    encSeg = cocomask.frPyObjects(\n",
    "        im_anno['segmentation']\n",
    "        ,image_dict['width'], image_dict['height']\n",
    "      )\n",
    "    \n",
    "    one_hot_id = one_hot_id_from_coco_id(im_anno[\"category_id\"])\n",
    "    \n",
    "    if debug:\n",
    "      print(\"Processing\",im_anno['category_id'],\"->\",one_hot_id)\n",
    "    \n",
    "    org_seg = cocomask.decode(encSeg)\n",
    "\n",
    "    if debug:\n",
    "      print(\"Org seg shape \", org_seg.shape)\n",
    "      print(\"Number of components of this label \", org_seg.shape[2])\n",
    "\n",
    "    multi_component_segmentations = org_seg.reshape((image_dict['width'], image_dict['height'],-1))\n",
    "\n",
    "    if debug:\n",
    "      print(\"multi_component_segmentations.shape \", multi_component_segmentations.shape)\n",
    "\n",
    "    category_seg = np.sum(multi_component_segmentations, axis=2)\n",
    "    np.clip(category_seg,0,1,out=category_seg)\n",
    "\n",
    "    assert category_seg.shape == (image_dict[\"width\"],image_dict[\"height\"])\n",
    "\n",
    "    multi_seg_mask[one_hot_id] = category_seg\n",
    "\n",
    "  return multi_seg_mask"
   ]
  },
  {
   "cell_type": "code",
   "execution_count": 38,
   "metadata": {
    "colab": {
     "base_uri": "https://localhost:8080/",
     "height": 665
    },
    "id": "TkHCOTMZHsa-",
    "outputId": "74994ec5-b53b-4d13-e024-3dd3d0fa8bdd"
   },
   "outputs": [
    {
     "name": "stdout",
     "output_type": "stream",
     "text": [
      "Image id 35592\n",
      "Image shape:  607 607\n",
      "Processing 1022 -> 22\n",
      "Org seg shape  (607, 607, 1)\n",
      "Number of components of this label  1\n",
      "multi_component_segmentations.shape  (607, 607, 1)\n",
      "Processing 1069 -> 16\n",
      "Org seg shape  (607, 607, 1)\n",
      "Number of components of this label  1\n",
      "multi_component_segmentations.shape  (607, 607, 1)\n",
      "Processing 1056 -> 15\n",
      "Org seg shape  (607, 607, 2)\n",
      "Number of components of this label  2\n",
      "multi_component_segmentations.shape  (607, 607, 2)\n",
      "component = 0\n",
      "mask\n",
      "component = 0\n",
      "mask\n",
      "component = 0\n",
      "component = 1\n",
      "mask\n"
     ]
    },
    {
     "name": "stderr",
     "output_type": "stream",
     "text": [
      "C:\\Users\\SA17B~1.SAH\\AppData\\Local\\Temp/ipykernel_10180/3784931347.py:24: UserWarning: Matplotlib is currently using agg, which is a non-GUI backend, so cannot show the figure.\n",
      "  plt.show()\n",
      "C:\\Users\\SA17B~1.SAH\\AppData\\Local\\Temp/ipykernel_10180/3784931347.py:28: UserWarning: Matplotlib is currently using agg, which is a non-GUI backend, so cannot show the figure.\n",
      "  plt.show()\n"
     ]
    }
   ],
   "source": [
    "# test multi-label segmentation is correctly converted\n",
    "\n",
    "import pycocotools\n",
    "import pycocotools.mask as cocomask\n",
    "\n",
    "result = convert_annotations_to_multimask(im_annotations,im,debug=True)\n",
    "\n",
    "assert result.shape == (40, im[\"width\"], im[\"height\"])\n",
    "\n",
    "for im_anno in im_annotations:\n",
    "  encSeg = cocomask.frPyObjects(\n",
    "      im_anno['segmentation']\n",
    "      ,im['width'], im['height']\n",
    "    )\n",
    "  \n",
    "  one_hot_id = one_hot_id_from_coco_id(im_anno['category_id'])\n",
    "\n",
    "  m = cocomask.decode(encSeg)\n",
    "\n",
    "  m = m.reshape((im['width'], im['height'], -1))\n",
    "  for i in range(m.shape[2]):\n",
    "    print(\"component =\",i)\n",
    "    plt.imshow(m[:,:,i])\n",
    "    plt.show()\n",
    "  \n",
    "  print(\"mask\")\n",
    "  plt.imshow(result[one_hot_id])\n",
    "  plt.show()\n",
    "\n",
    "  assert np.all(m.sum(axis=2) == result[one_hot_id])"
   ]
  },
  {
   "cell_type": "code",
   "execution_count": 49,
   "metadata": {
    "id": "yKRB5Xzg4QyF"
   },
   "outputs": [],
   "source": [
    "# Transform given annotations into our desired segmentations format\n",
    "\n",
    "FORCE_RECOMPUTE = False\n",
    "\n",
    "dest_segmentations_dir = None\n",
    "def task(im_id):\n",
    "  try:\n",
    "    out_file = dest_segmentations_dir / f\"{im_id}.npz\"\n",
    "\n",
    "    if os.path.isfile(out_file) and not FORCE_RECOMPUTE:\n",
    "      return\n",
    "\n",
    "    image_dict = coco.loadImgs(im_id)[0]\n",
    "    im_annotations = coco.loadAnns(coco.getAnnIds(imgIds=im_id))\n",
    "    multi_mask = convert_annotations_to_multimask(im_annotations, image_dict, debug=False)\n",
    "    np.savez_compressed(out_file, multi_mask, allow_pickle=False)\n",
    "  except Exception as e:\n",
    "    print(\"Error: \", im_id)\n",
    "    raise e\n",
    "\n",
    "def preprocess_and_store_segmentations(im_ids):\n",
    "  worker = prepareTask(\"task\")\n",
    "  with Pool(PAR_PROCS) as p:\n",
    "    with tqdm(total=len(im_ids)) as progress_bar:\n",
    "      for _ in p.imap(worker, im_ids):\n",
    "        progress_bar.update(1)\n"
   ]
  },
  {
   "cell_type": "code",
   "execution_count": 50,
   "metadata": {
    "id": "sbYH7cc-51f9"
   },
   "outputs": [],
   "source": [
    "def load_multi_segmentation(path):\n",
    "  arr = None\n",
    "  with np.load(path) as npz:\n",
    "    arr = npz[\"arr_0\"]\n",
    "  return arr"
   ]
  },
  {
   "cell_type": "code",
   "execution_count": 51,
   "metadata": {
    "colab": {
     "base_uri": "https://localhost:8080/",
     "height": 67,
     "referenced_widgets": [
      "dab1d2289dd945e5862f80843fada1e9",
      "65afa1127b6e43338b31ee2338ee2ad7",
      "be43c53d822b4989ab0b292a92331de8",
      "ab980737f96b4e8f917eea64dd86d98a",
      "6da42afaee4e4bf28585639ff877880e",
      "31815a87d54a481da49b781289591f69",
      "773342d3856741988a3a98f84b81bf76",
      "bc5f96ad32da4848bf58cbf19a4e9752",
      "5b751465eff04ebd91ad374455849636",
      "085829770cf14af6a2e3d057ae79670c",
      "dbda75a873c14de8a76cb489bb755304"
     ]
    },
    "id": "Zt6BQzXn9hnQ",
    "outputId": "5f846134-022b-4d9a-ec3d-f3a5f384941b"
   },
   "outputs": [
    {
     "data": {
      "application/vnd.jupyter.widget-view+json": {
       "model_id": "11dd64253e6c483ba8da01549e501946",
       "version_major": 2,
       "version_minor": 0
      },
      "text/plain": [
       "  0%|          | 0/4 [00:00<?, ?it/s]"
      ]
     },
     "metadata": {},
     "output_type": "display_data"
    },
    {
     "name": "stdout",
     "output_type": "stream",
     "text": [
      "['12886.npz', '22949.npz', '49145.npz', '54634.npz'] ...\n"
     ]
    }
   ],
   "source": [
    "dest_segmentations_dir = Paths.CURR_MULTI_SEG_DIR\n",
    "preprocess_and_store_segmentations(tiny_train_imids)\n",
    "print(list(os.listdir(Paths.CURR_MULTI_SEG_DIR))[:5],\"...\")"
   ]
  },
  {
   "cell_type": "code",
   "execution_count": 52,
   "metadata": {
    "colab": {
     "base_uri": "https://localhost:8080/",
     "height": 67,
     "referenced_widgets": [
      "dab1d2289dd945e5862f80843fada1e9",
      "65afa1127b6e43338b31ee2338ee2ad7",
      "be43c53d822b4989ab0b292a92331de8",
      "ab980737f96b4e8f917eea64dd86d98a",
      "6da42afaee4e4bf28585639ff877880e",
      "31815a87d54a481da49b781289591f69",
      "773342d3856741988a3a98f84b81bf76",
      "bc5f96ad32da4848bf58cbf19a4e9752",
      "5b751465eff04ebd91ad374455849636",
      "085829770cf14af6a2e3d057ae79670c",
      "dbda75a873c14de8a76cb489bb755304"
     ]
    },
    "id": "Zt6BQzXn9hnQ",
    "outputId": "5f846134-022b-4d9a-ec3d-f3a5f384941b"
   },
   "outputs": [
    {
     "data": {
      "application/vnd.jupyter.widget-view+json": {
       "model_id": "eaeebea0be964d24935d93396681ed2c",
       "version_major": 2,
       "version_minor": 0
      },
      "text/plain": [
       "  0%|          | 0/5545 [00:00<?, ?it/s]"
      ]
     },
     "metadata": {},
     "output_type": "display_data"
    },
    {
     "name": "stdout",
     "output_type": "stream",
     "text": [
      "['10034.npz', '10042.npz', '10045.npz', '10051.npz', '10052.npz'] ...\n"
     ]
    }
   ],
   "source": [
    "if not \"transform train data\":\n",
    "  dest_segmentations_dir = Paths.TRAIN_MULTI_SEG_DIR\n",
    "  preprocess_and_store_segmentations(image_ids)\n",
    "  print(list(os.listdir(Paths.TRAIN_MULTI_SEG_DIR))[:5],\"...\")"
   ]
  },
  {
   "cell_type": "code",
   "execution_count": 53,
   "metadata": {
    "id": "7PKFTAdAKQTk"
   },
   "outputs": [],
   "source": [
    "if FORCE_RECOMPUTE and not \"we will not store it to google drive due ot it's slow read speed\":\n",
    "  store_directory_to_google_drive(Paths.TRAIN_MULTI_SEG_DIR)"
   ]
  },
  {
   "cell_type": "code",
   "execution_count": 54,
   "metadata": {
    "id": "EkiJEfRJnNzo"
   },
   "outputs": [],
   "source": [
    "def segmentation_size_fraction(seg):\n",
    "  assert np.all(np.logical_or(seg == 0, seg == 1))\n",
    "  assert seg.shape == (seg.shape[0],seg.shape[1])\n",
    "  segSize = np.count_nonzero(seg)\n",
    "  return float(segSize) / seg.size\n",
    "\n",
    "def resize_mseg(mseg, debug=False):\n",
    "  dest = np.zeros((N_CLASSES, IM_SZ,IM_SZ), dtype=SEG_DTYPE)\n",
    "  for i in range(N_CLASSES):\n",
    "    dest_seg_shape = (IM_SZ, IM_SZ)\n",
    "    has_defined_segmentation_for_class = np.any(mseg[i] == 1)\n",
    "    if not has_defined_segmentation_for_class:\n",
    "      continue\n",
    "    \n",
    "    asimg = PIL.Image.fromarray(mseg[i]) # using autodetected PIL Image Modes: https://pillow.readthedocs.io/en/stable/handbook/concepts.html#concept-modes\n",
    "    # Pillow Image resize: https://pillow.readthedocs.io/en/stable/reference/Image.html#PIL.Image.Image.resize\n",
    "    resized = asimg.resize(dest_seg_shape, resample=PIL.Image.NEAREST)\n",
    "    resized = (np.array(resized, dtype=SEG_DTYPE) > 0.5).astype(SEG_DTYPE)\n",
    "\n",
    "    if debug:\n",
    "      print(\"original\",i)\n",
    "      plt.imshow(mseg[i])\n",
    "      plt.show()\n",
    "      print(\"resized\",i)\n",
    "      plt.imshow(resized)\n",
    "      plt.show()\n",
    "\n",
    "    assert resized.shape == dest_seg_shape\n",
    "    assert np.all(np.logical_or(resized == 0,resized == 1))\n",
    "\n",
    "    if \"check fraction of segmentation is approx. equal\":\n",
    "      org_frac = segmentation_size_fraction(mseg[i])\n",
    "      new_frac = segmentation_size_fraction(resized)\n",
    "      abs_diff = np.abs(new_frac - org_frac)\n",
    "      assert abs_diff < 0.01, f\"Segmentation size fraction has changed during resizing. i {i}, original {org_frac}, new {new_frac}\"\n",
    "    \n",
    "    dest[i] = resized\n",
    "\n",
    "  return dest\n",
    "  \n",
    "if not \"show transformed segmentations for data\":\n",
    "  for fname in fnames:\n",
    "    print(f\"{Path(fname).stem}\")\n",
    "    mseg = load_multi_segmentation(Paths.CURR_MULTI_SEG_DIR/f\"{Path(str(int(fname.stem)))}.npz\")\n",
    "    resize_mseg(mseg, debug=True)\n"
   ]
  },
  {
   "cell_type": "code",
   "execution_count": 56,
   "metadata": {
    "colab": {
     "base_uri": "https://localhost:8080/"
    },
    "id": "-zH0CpAri5p8",
    "outputId": "f96f90e2-a23d-43d7-826a-927414979004"
   },
   "outputs": [
    {
     "name": "stdout",
     "output_type": "stream",
     "text": [
      "012886.jpg\n",
      "022949.jpg\n",
      "049145.jpg\n",
      "054634.jpg\n"
     ]
    }
   ],
   "source": [
    "ls(\"curr/images\",n=10)"
   ]
  },
  {
   "cell_type": "code",
   "execution_count": 57,
   "metadata": {
    "colab": {
     "base_uri": "https://localhost:8080/"
    },
    "id": "WAI9EG4viqsO",
    "outputId": "1a0d9868-7bf8-4e06-df57-e14d1cb89ef7"
   },
   "outputs": [
    {
     "name": "stdout",
     "output_type": "stream",
     "text": [
      "12886.npz\n",
      "22949.npz\n",
      "49145.npz\n",
      "54634.npz\n"
     ]
    }
   ],
   "source": [
    "ls(\"curr/segmentations\",n=10)"
   ]
  },
  {
   "cell_type": "code",
   "execution_count": 58,
   "metadata": {
    "id": "KuV-1-NkPZ0m"
   },
   "outputs": [
    {
     "name": "stdout",
     "output_type": "stream",
     "text": [
      "Due to IPython and Windows limitation, python multiprocessing isn't available now.\n",
      "So `number_workers` is changed to 0 to avoid getting stuck\n"
     ]
    }
   ],
   "source": [
    "# fastai delegation decorator: https://www.fast.ai/2019/08/06/delegation/\n",
    "\n",
    "SEED=1337\n",
    "# Attempts at a multi-label segmentation loader for fastai\n",
    "# How to write a data block: https://docs.fast.ai/tutorial.datablock.html#Building-a-DataBlock-from-scratch\n",
    "class MultiLabelSegmentationDataLoaders(DataLoaders):\n",
    "    @classmethod\n",
    "    @delegates(DataLoaders.from_dblock)\n",
    "    def from_label_func(cls, path, fnames, label_func, valid_pct=0.3, seed=None, codes=None, item_tfms=None, batch_tfms=None, **kwargs):\n",
    "        \"Create from list of `fnames` in `path`s with `label_func`.\"\n",
    "        dblock = DataBlock(blocks=(ImageBlock, TransformBlock),#todo. old: MaskBlock(codes=codes)), todo. set c = number of classes\n",
    "                           splitter=RandomSplitter(valid_pct, seed=seed),\n",
    "                           get_y=label_func,\n",
    "                           item_tfms=item_tfms,\n",
    "                           batch_tfms=batch_tfms)\n",
    "        res = cls.from_dblock(dblock, fnames, path=path, **kwargs)\n",
    "        return res\n",
    "\n",
    "if not \"fails due to unsupported multi-label segmetations. images cannot be loaded from npy format anyways\":\n",
    "  # IGNORE ME!!\n",
    "  dls = SegmentationDataLoaders.from_label_func(\n",
    "      Paths.CURR_DATA_DIR, bs=8, fnames = get_image_files(Paths.CURR_IMAGES_DIR),\n",
    "      label_func = lambda o: Paths.CURR_MULTI_SEG_DIR/f\"{int(o.stem)}.npz\",\n",
    "      codes = category_ids\n",
    "  )\n",
    "\n",
    "IM_SZ = 256\n",
    "resize_args = (IM_SZ, ResizeMethod.Crop)\n",
    "\n",
    "fnames = get_image_files(Paths.CURR_IMAGES_DIR)\n",
    "\n",
    "BATCH_SZ = min(N // 2, 10) # NOTE. Batch size is small due to small initial training dataset\n",
    "dls = MultiLabelSegmentationDataLoaders.from_label_func(\n",
    "  Paths.CURR_DATA_DIR, bs=BATCH_SZ, fnames = fnames,\n",
    "  label_func = lambda o: resize_mseg(load_multi_segmentation(Paths.CURR_MULTI_SEG_DIR/f\"{int(o.stem)}.npz\")),\n",
    "  codes = category_ids,\n",
    "  item_tfms=Resize(*resize_args), # todo. actual resizing needs to happen here\n",
    "  seed = SEED\n",
    ")\n"
   ]
  },
  {
   "cell_type": "code",
   "execution_count": 59,
   "metadata": {
    "colab": {
     "base_uri": "https://localhost:8080/"
    },
    "id": "EwhseLVVVAvo",
    "outputId": "f0dbdc71-414a-4b60-b575-b985f988f2cf"
   },
   "outputs": [
    {
     "name": "stdout",
     "output_type": "stream",
     "text": [
      "train 3 2\n",
      "valid 1 2\n"
     ]
    }
   ],
   "source": [
    "print(\"train\",dls.train.n,dls.train.n_subsets)\n",
    "\n",
    "print(\"valid\",dls.valid.n,dls.valid.n_subsets)\n",
    "\n",
    "assert len(dls.train) >= 1, \"Training data generator is empty. Ensure, that the batch-size is small enough.\"\n",
    "assert len(dls.valid) >= 1, \"Validation data generator is empty. Ensure that the batch-size is small enough.\""
   ]
  },
  {
   "cell_type": "code",
   "execution_count": 60,
   "metadata": {
    "colab": {
     "base_uri": "https://localhost:8080/"
    },
    "id": "RmdsnG116X0M",
    "outputId": "02241b32-5210-4dd2-b683-c12dbc190e49"
   },
   "outputs": [
    {
     "name": "stdout",
     "output_type": "stream",
     "text": [
      "tensor([ 20.9744,  47.6478,  92.1928,  17.7743,  60.8800,   9.4386,  45.8788,  77.9286,  15.1820,  47.9557,  77.1313,  14.2564,  65.1111,  94.4938,  22.2982,  60.8800,  16.8226,  85.9101,  72.6667,\n",
      "         32.6304,  57.5985,  76.3500,  30.5714,  98.1667,  32.3405,  68.0625,  21.8171,  76.3500,  59.4297,  37.4826,  50.5667,  82.1720,  47.0435,  47.9557,  59.4297,  43.9709, 106.4306, 103.5270,\n",
      "         98.1667,  83.0761])\n"
     ]
    }
   ],
   "source": [
    "# category balancing for BCELogitsLoss and variants\n",
    "# https://pytorch.org/docs/stable/generated/torch.nn.BCEWithLogitsLoss.html\n",
    "\n",
    "category_weights = tensor((1 - category_frequencies) / category_frequencies, dtype=torch.float16)\n",
    "# e.g. category_frequency = [0.3, 0.7]\n",
    "# cat_rest_freq = [0.7, 0.3]\n",
    "# weight = [2.33, 0.428]\n",
    "category_weights_normalised = category_weights / category_weights.sum()\n",
    "\n",
    "print(category_weights)\n"
   ]
  },
  {
   "cell_type": "code",
   "execution_count": 61,
   "metadata": {
    "colab": {
     "base_uri": "https://localhost:8080/",
     "height": 1000
    },
    "id": "7rK1Vi56FYPW",
    "outputId": "cc9a10ca-df49-4974-8e13-893c0fcc7869"
   },
   "outputs": [
    {
     "data": {
      "text/html": [],
      "text/plain": [
       "<IPython.core.display.HTML object>"
      ]
     },
     "metadata": {},
     "output_type": "display_data"
    },
    {
     "name": "stdout",
     "output_type": "stream",
     "text": [
      "DynamicUnet(\n",
      "  (layers): ModuleList(\n",
      "    (0): Sequential(\n",
      "      (0): Conv2d(3, 64, kernel_size=(7, 7), stride=(2, 2), padding=(3, 3), bias=False)\n",
      "      (1): BatchNorm2d(64, eps=1e-05, momentum=0.1, affine=True, track_running_stats=True)\n",
      "      (2): ReLU(inplace=True)\n",
      "      (3): MaxPool2d(kernel_size=3, stride=2, padding=1, dilation=1, ceil_mode=False)\n",
      "      (4): Sequential(\n",
      "        (0): BasicBlock(\n",
      "          (conv1): Conv2d(64, 64, kernel_size=(3, 3), stride=(1, 1), padding=(1, 1), bias=False)\n",
      "          (bn1): BatchNorm2d(64, eps=1e-05, momentum=0.1, affine=True, track_running_stats=True)\n",
      "          (relu): ReLU(inplace=True)\n",
      "          (conv2): Conv2d(64, 64, kernel_size=(3, 3), stride=(1, 1), padding=(1, 1), bias=False)\n",
      "          (bn2): BatchNorm2d(64, eps=1e-05, momentum=0.1, affine=True, track_running_stats=True)\n",
      "        )\n",
      "        (1): BasicBlock(\n",
      "          (conv1): Conv2d(64, 64, kernel_size=(3, 3), stride=(1, 1), padding=(1, 1), bias=False)\n",
      "          (bn1): BatchNorm2d(64, eps=1e-05, momentum=0.1, affine=True, track_running_stats=True)\n",
      "          (relu): ReLU(inplace=True)\n",
      "          (conv2): Conv2d(64, 64, kernel_size=(3, 3), stride=(1, 1), padding=(1, 1), bias=False)\n",
      "          (bn2): BatchNorm2d(64, eps=1e-05, momentum=0.1, affine=True, track_running_stats=True)\n",
      "        )\n",
      "        (2): BasicBlock(\n",
      "          (conv1): Conv2d(64, 64, kernel_size=(3, 3), stride=(1, 1), padding=(1, 1), bias=False)\n",
      "          (bn1): BatchNorm2d(64, eps=1e-05, momentum=0.1, affine=True, track_running_stats=True)\n",
      "          (relu): ReLU(inplace=True)\n",
      "          (conv2): Conv2d(64, 64, kernel_size=(3, 3), stride=(1, 1), padding=(1, 1), bias=False)\n",
      "          (bn2): BatchNorm2d(64, eps=1e-05, momentum=0.1, affine=True, track_running_stats=True)\n",
      "        )\n",
      "      )\n",
      "      (5): Sequential(\n",
      "        (0): BasicBlock(\n",
      "          (conv1): Conv2d(64, 128, kernel_size=(3, 3), stride=(2, 2), padding=(1, 1), bias=False)\n",
      "          (bn1): BatchNorm2d(128, eps=1e-05, momentum=0.1, affine=True, track_running_stats=True)\n",
      "          (relu): ReLU(inplace=True)\n",
      "          (conv2): Conv2d(128, 128, kernel_size=(3, 3), stride=(1, 1), padding=(1, 1), bias=False)\n",
      "          (bn2): BatchNorm2d(128, eps=1e-05, momentum=0.1, affine=True, track_running_stats=True)\n",
      "          (downsample): Sequential(\n",
      "            (0): Conv2d(64, 128, kernel_size=(1, 1), stride=(2, 2), bias=False)\n",
      "            (1): BatchNorm2d(128, eps=1e-05, momentum=0.1, affine=True, track_running_stats=True)\n",
      "          )\n",
      "        )\n",
      "        (1): BasicBlock(\n",
      "          (conv1): Conv2d(128, 128, kernel_size=(3, 3), stride=(1, 1), padding=(1, 1), bias=False)\n",
      "          (bn1): BatchNorm2d(128, eps=1e-05, momentum=0.1, affine=True, track_running_stats=True)\n",
      "          (relu): ReLU(inplace=True)\n",
      "          (conv2): Conv2d(128, 128, kernel_size=(3, 3), stride=(1, 1), padding=(1, 1), bias=False)\n",
      "          (bn2): BatchNorm2d(128, eps=1e-05, momentum=0.1, affine=True, track_running_stats=True)\n",
      "        )\n",
      "        (2): BasicBlock(\n",
      "          (conv1): Conv2d(128, 128, kernel_size=(3, 3), stride=(1, 1), padding=(1, 1), bias=False)\n",
      "          (bn1): BatchNorm2d(128, eps=1e-05, momentum=0.1, affine=True, track_running_stats=True)\n",
      "          (relu): ReLU(inplace=True)\n",
      "          (conv2): Conv2d(128, 128, kernel_size=(3, 3), stride=(1, 1), padding=(1, 1), bias=False)\n",
      "          (bn2): BatchNorm2d(128, eps=1e-05, momentum=0.1, affine=True, track_running_stats=True)\n",
      "        )\n",
      "        (3): BasicBlock(\n",
      "          (conv1): Conv2d(128, 128, kernel_size=(3, 3), stride=(1, 1), padding=(1, 1), bias=False)\n",
      "          (bn1): BatchNorm2d(128, eps=1e-05, momentum=0.1, affine=True, track_running_stats=True)\n",
      "          (relu): ReLU(inplace=True)\n",
      "          (conv2): Conv2d(128, 128, kernel_size=(3, 3), stride=(1, 1), padding=(1, 1), bias=False)\n",
      "          (bn2): BatchNorm2d(128, eps=1e-05, momentum=0.1, affine=True, track_running_stats=True)\n",
      "        )\n",
      "      )\n",
      "      (6): Sequential(\n",
      "        (0): BasicBlock(\n",
      "          (conv1): Conv2d(128, 256, kernel_size=(3, 3), stride=(2, 2), padding=(1, 1), bias=False)\n",
      "          (bn1): BatchNorm2d(256, eps=1e-05, momentum=0.1, affine=True, track_running_stats=True)\n",
      "          (relu): ReLU(inplace=True)\n",
      "          (conv2): Conv2d(256, 256, kernel_size=(3, 3), stride=(1, 1), padding=(1, 1), bias=False)\n",
      "          (bn2): BatchNorm2d(256, eps=1e-05, momentum=0.1, affine=True, track_running_stats=True)\n",
      "          (downsample): Sequential(\n",
      "            (0): Conv2d(128, 256, kernel_size=(1, 1), stride=(2, 2), bias=False)\n",
      "            (1): BatchNorm2d(256, eps=1e-05, momentum=0.1, affine=True, track_running_stats=True)\n",
      "          )\n",
      "        )\n",
      "        (1): BasicBlock(\n",
      "          (conv1): Conv2d(256, 256, kernel_size=(3, 3), stride=(1, 1), padding=(1, 1), bias=False)\n",
      "          (bn1): BatchNorm2d(256, eps=1e-05, momentum=0.1, affine=True, track_running_stats=True)\n",
      "          (relu): ReLU(inplace=True)\n",
      "          (conv2): Conv2d(256, 256, kernel_size=(3, 3), stride=(1, 1), padding=(1, 1), bias=False)\n",
      "          (bn2): BatchNorm2d(256, eps=1e-05, momentum=0.1, affine=True, track_running_stats=True)\n",
      "        )\n",
      "        (2): BasicBlock(\n",
      "          (conv1): Conv2d(256, 256, kernel_size=(3, 3), stride=(1, 1), padding=(1, 1), bias=False)\n",
      "          (bn1): BatchNorm2d(256, eps=1e-05, momentum=0.1, affine=True, track_running_stats=True)\n",
      "          (relu): ReLU(inplace=True)\n",
      "          (conv2): Conv2d(256, 256, kernel_size=(3, 3), stride=(1, 1), padding=(1, 1), bias=False)\n",
      "          (bn2): BatchNorm2d(256, eps=1e-05, momentum=0.1, affine=True, track_running_stats=True)\n",
      "        )\n",
      "        (3): BasicBlock(\n",
      "          (conv1): Conv2d(256, 256, kernel_size=(3, 3), stride=(1, 1), padding=(1, 1), bias=False)\n",
      "          (bn1): BatchNorm2d(256, eps=1e-05, momentum=0.1, affine=True, track_running_stats=True)\n",
      "          (relu): ReLU(inplace=True)\n",
      "          (conv2): Conv2d(256, 256, kernel_size=(3, 3), stride=(1, 1), padding=(1, 1), bias=False)\n",
      "          (bn2): BatchNorm2d(256, eps=1e-05, momentum=0.1, affine=True, track_running_stats=True)\n",
      "        )\n",
      "        (4): BasicBlock(\n",
      "          (conv1): Conv2d(256, 256, kernel_size=(3, 3), stride=(1, 1), padding=(1, 1), bias=False)\n",
      "          (bn1): BatchNorm2d(256, eps=1e-05, momentum=0.1, affine=True, track_running_stats=True)\n",
      "          (relu): ReLU(inplace=True)\n",
      "          (conv2): Conv2d(256, 256, kernel_size=(3, 3), stride=(1, 1), padding=(1, 1), bias=False)\n",
      "          (bn2): BatchNorm2d(256, eps=1e-05, momentum=0.1, affine=True, track_running_stats=True)\n",
      "        )\n",
      "        (5): BasicBlock(\n",
      "          (conv1): Conv2d(256, 256, kernel_size=(3, 3), stride=(1, 1), padding=(1, 1), bias=False)\n",
      "          (bn1): BatchNorm2d(256, eps=1e-05, momentum=0.1, affine=True, track_running_stats=True)\n",
      "          (relu): ReLU(inplace=True)\n",
      "          (conv2): Conv2d(256, 256, kernel_size=(3, 3), stride=(1, 1), padding=(1, 1), bias=False)\n",
      "          (bn2): BatchNorm2d(256, eps=1e-05, momentum=0.1, affine=True, track_running_stats=True)\n",
      "        )\n",
      "      )\n",
      "      (7): Sequential(\n",
      "        (0): BasicBlock(\n",
      "          (conv1): Conv2d(256, 512, kernel_size=(3, 3), stride=(2, 2), padding=(1, 1), bias=False)\n",
      "          (bn1): BatchNorm2d(512, eps=1e-05, momentum=0.1, affine=True, track_running_stats=True)\n",
      "          (relu): ReLU(inplace=True)\n",
      "          (conv2): Conv2d(512, 512, kernel_size=(3, 3), stride=(1, 1), padding=(1, 1), bias=False)\n",
      "          (bn2): BatchNorm2d(512, eps=1e-05, momentum=0.1, affine=True, track_running_stats=True)\n",
      "          (downsample): Sequential(\n",
      "            (0): Conv2d(256, 512, kernel_size=(1, 1), stride=(2, 2), bias=False)\n",
      "            (1): BatchNorm2d(512, eps=1e-05, momentum=0.1, affine=True, track_running_stats=True)\n",
      "          )\n",
      "        )\n",
      "        (1): BasicBlock(\n",
      "          (conv1): Conv2d(512, 512, kernel_size=(3, 3), stride=(1, 1), padding=(1, 1), bias=False)\n",
      "          (bn1): BatchNorm2d(512, eps=1e-05, momentum=0.1, affine=True, track_running_stats=True)\n",
      "          (relu): ReLU(inplace=True)\n",
      "          (conv2): Conv2d(512, 512, kernel_size=(3, 3), stride=(1, 1), padding=(1, 1), bias=False)\n",
      "          (bn2): BatchNorm2d(512, eps=1e-05, momentum=0.1, affine=True, track_running_stats=True)\n",
      "        )\n",
      "        (2): BasicBlock(\n",
      "          (conv1): Conv2d(512, 512, kernel_size=(3, 3), stride=(1, 1), padding=(1, 1), bias=False)\n",
      "          (bn1): BatchNorm2d(512, eps=1e-05, momentum=0.1, affine=True, track_running_stats=True)\n",
      "          (relu): ReLU(inplace=True)\n",
      "          (conv2): Conv2d(512, 512, kernel_size=(3, 3), stride=(1, 1), padding=(1, 1), bias=False)\n",
      "          (bn2): BatchNorm2d(512, eps=1e-05, momentum=0.1, affine=True, track_running_stats=True)\n",
      "        )\n",
      "      )\n",
      "    )\n",
      "    (1): BatchNorm2d(512, eps=1e-05, momentum=0.1, affine=True, track_running_stats=True)\n",
      "    (2): ReLU()\n",
      "    (3): Sequential(\n",
      "      (0): ConvLayer(\n",
      "        (0): Conv2d(512, 1024, kernel_size=(3, 3), stride=(1, 1), padding=(1, 1))\n",
      "        (1): ReLU()\n",
      "      )\n",
      "      (1): ConvLayer(\n",
      "        (0): Conv2d(1024, 512, kernel_size=(3, 3), stride=(1, 1), padding=(1, 1))\n",
      "        (1): ReLU()\n",
      "      )\n",
      "    )\n",
      "    (4): UnetBlock(\n",
      "      (shuf): PixelShuffle_ICNR(\n",
      "        (0): ConvLayer(\n",
      "          (0): Conv2d(512, 1024, kernel_size=(1, 1), stride=(1, 1))\n",
      "          (1): ReLU()\n",
      "        )\n",
      "        (1): PixelShuffle(upscale_factor=2)\n",
      "      )\n",
      "      (bn): BatchNorm2d(256, eps=1e-05, momentum=0.1, affine=True, track_running_stats=True)\n",
      "      (conv1): ConvLayer(\n",
      "        (0): Conv2d(512, 512, kernel_size=(3, 3), stride=(1, 1), padding=(1, 1))\n",
      "        (1): ReLU()\n",
      "      )\n",
      "      (conv2): ConvLayer(\n",
      "        (0): Conv2d(512, 512, kernel_size=(3, 3), stride=(1, 1), padding=(1, 1))\n",
      "        (1): ReLU()\n",
      "      )\n",
      "      (relu): ReLU()\n",
      "    )\n",
      "    (5): UnetBlock(\n",
      "      (shuf): PixelShuffle_ICNR(\n",
      "        (0): ConvLayer(\n",
      "          (0): Conv2d(512, 1024, kernel_size=(1, 1), stride=(1, 1))\n",
      "          (1): ReLU()\n",
      "        )\n",
      "        (1): PixelShuffle(upscale_factor=2)\n",
      "      )\n",
      "      (bn): BatchNorm2d(128, eps=1e-05, momentum=0.1, affine=True, track_running_stats=True)\n",
      "      (conv1): ConvLayer(\n",
      "        (0): Conv2d(384, 384, kernel_size=(3, 3), stride=(1, 1), padding=(1, 1))\n",
      "        (1): ReLU()\n",
      "      )\n",
      "      (conv2): ConvLayer(\n",
      "        (0): Conv2d(384, 384, kernel_size=(3, 3), stride=(1, 1), padding=(1, 1))\n",
      "        (1): ReLU()\n",
      "      )\n",
      "      (relu): ReLU()\n",
      "    )\n",
      "    (6): UnetBlock(\n",
      "      (shuf): PixelShuffle_ICNR(\n",
      "        (0): ConvLayer(\n",
      "          (0): Conv2d(384, 768, kernel_size=(1, 1), stride=(1, 1))\n",
      "          (1): ReLU()\n",
      "        )\n",
      "        (1): PixelShuffle(upscale_factor=2)\n",
      "      )\n",
      "      (bn): BatchNorm2d(64, eps=1e-05, momentum=0.1, affine=True, track_running_stats=True)\n",
      "      (conv1): ConvLayer(\n",
      "        (0): Conv2d(256, 256, kernel_size=(3, 3), stride=(1, 1), padding=(1, 1))\n",
      "        (1): ReLU()\n",
      "      )\n",
      "      (conv2): ConvLayer(\n",
      "        (0): Conv2d(256, 256, kernel_size=(3, 3), stride=(1, 1), padding=(1, 1))\n",
      "        (1): ReLU()\n",
      "      )\n",
      "      (relu): ReLU()\n",
      "    )\n",
      "    (7): UnetBlock(\n",
      "      (shuf): PixelShuffle_ICNR(\n",
      "        (0): ConvLayer(\n",
      "          (0): Conv2d(256, 512, kernel_size=(1, 1), stride=(1, 1))\n",
      "          (1): ReLU()\n",
      "        )\n",
      "        (1): PixelShuffle(upscale_factor=2)\n",
      "      )\n",
      "      (bn): BatchNorm2d(64, eps=1e-05, momentum=0.1, affine=True, track_running_stats=True)\n",
      "      (conv1): ConvLayer(\n",
      "        (0): Conv2d(192, 96, kernel_size=(3, 3), stride=(1, 1), padding=(1, 1))\n",
      "        (1): ReLU()\n",
      "      )\n",
      "      (conv2): ConvLayer(\n",
      "        (0): Conv2d(96, 96, kernel_size=(3, 3), stride=(1, 1), padding=(1, 1))\n",
      "        (1): ReLU()\n",
      "      )\n",
      "      (relu): ReLU()\n",
      "    )\n",
      "    (8): PixelShuffle_ICNR(\n",
      "      (0): ConvLayer(\n",
      "        (0): Conv2d(96, 384, kernel_size=(1, 1), stride=(1, 1))\n",
      "        (1): ReLU()\n",
      "      )\n",
      "      (1): PixelShuffle(upscale_factor=2)\n",
      "    )\n",
      "    (9): ResizeToOrig()\n",
      "    (10): MergeLayer()\n",
      "    (11): ResBlock(\n",
      "      (convpath): Sequential(\n",
      "        (0): ConvLayer(\n",
      "          (0): Conv2d(99, 99, kernel_size=(3, 3), stride=(1, 1), padding=(1, 1))\n",
      "          (1): ReLU()\n",
      "        )\n",
      "        (1): ConvLayer(\n",
      "          (0): Conv2d(99, 99, kernel_size=(3, 3), stride=(1, 1), padding=(1, 1))\n",
      "        )\n",
      "      )\n",
      "      (idpath): Sequential()\n",
      "      (act): ReLU(inplace=True)\n",
      "    )\n",
      "    (12): ConvLayer(\n",
      "      (0): Conv2d(99, 40, kernel_size=(1, 1), stride=(1, 1))\n",
      "    )\n",
      "    (13): ToTensorBase(tensor_cls=<class 'fastai.torch_core.TensorBase'>)\n",
      "  )\n",
      ") DynamicUnet (Input shape: 2 x 3 x 256 x 256)\n",
      "============================================================================\n",
      "Layer (type)         Output Shape         Param #    Trainable \n",
      "============================================================================\n",
      "                     2 x 64 x 128 x 128  \n",
      "Conv2d                                    9408       False     \n",
      "BatchNorm2d                               128        True      \n",
      "ReLU                                                           \n",
      "____________________________________________________________________________\n",
      "                     2 x 64 x 64 x 64    \n",
      "MaxPool2d                                                      \n",
      "Conv2d                                    36864      False     \n",
      "BatchNorm2d                               128        True      \n",
      "ReLU                                                           \n",
      "Conv2d                                    36864      False     \n",
      "BatchNorm2d                               128        True      \n",
      "Conv2d                                    36864      False     \n",
      "BatchNorm2d                               128        True      \n",
      "ReLU                                                           \n",
      "Conv2d                                    36864      False     \n",
      "BatchNorm2d                               128        True      \n",
      "Conv2d                                    36864      False     \n",
      "BatchNorm2d                               128        True      \n",
      "ReLU                                                           \n",
      "Conv2d                                    36864      False     \n",
      "BatchNorm2d                               128        True      \n",
      "____________________________________________________________________________\n",
      "                     2 x 128 x 32 x 32   \n",
      "Conv2d                                    73728      False     \n",
      "BatchNorm2d                               256        True      \n",
      "ReLU                                                           \n",
      "Conv2d                                    147456     False     \n",
      "BatchNorm2d                               256        True      \n",
      "Conv2d                                    8192       False     \n",
      "BatchNorm2d                               256        True      \n",
      "Conv2d                                    147456     False     \n",
      "BatchNorm2d                               256        True      \n",
      "ReLU                                                           \n",
      "Conv2d                                    147456     False     \n",
      "BatchNorm2d                               256        True      \n",
      "Conv2d                                    147456     False     \n",
      "BatchNorm2d                               256        True      \n",
      "ReLU                                                           \n",
      "Conv2d                                    147456     False     \n",
      "BatchNorm2d                               256        True      \n",
      "Conv2d                                    147456     False     \n",
      "BatchNorm2d                               256        True      \n",
      "ReLU                                                           \n",
      "Conv2d                                    147456     False     \n",
      "BatchNorm2d                               256        True      \n",
      "____________________________________________________________________________\n",
      "                     2 x 256 x 16 x 16   \n",
      "Conv2d                                    294912     False     \n",
      "BatchNorm2d                               512        True      \n",
      "ReLU                                                           \n",
      "Conv2d                                    589824     False     \n",
      "BatchNorm2d                               512        True      \n",
      "Conv2d                                    32768      False     \n",
      "BatchNorm2d                               512        True      \n",
      "Conv2d                                    589824     False     \n",
      "BatchNorm2d                               512        True      \n",
      "ReLU                                                           \n",
      "Conv2d                                    589824     False     \n",
      "BatchNorm2d                               512        True      \n",
      "Conv2d                                    589824     False     \n",
      "BatchNorm2d                               512        True      \n",
      "ReLU                                                           \n",
      "Conv2d                                    589824     False     \n",
      "BatchNorm2d                               512        True      \n",
      "Conv2d                                    589824     False     \n",
      "BatchNorm2d                               512        True      \n",
      "ReLU                                                           \n",
      "Conv2d                                    589824     False     \n",
      "BatchNorm2d                               512        True      \n",
      "Conv2d                                    589824     False     \n",
      "BatchNorm2d                               512        True      \n",
      "ReLU                                                           \n",
      "Conv2d                                    589824     False     \n",
      "BatchNorm2d                               512        True      \n",
      "Conv2d                                    589824     False     \n",
      "BatchNorm2d                               512        True      \n",
      "ReLU                                                           \n",
      "Conv2d                                    589824     False     \n",
      "BatchNorm2d                               512        True      \n",
      "____________________________________________________________________________\n",
      "                     2 x 512 x 8 x 8     \n",
      "Conv2d                                    1179648    False     \n",
      "BatchNorm2d                               1024       True      \n",
      "ReLU                                                           \n",
      "Conv2d                                    2359296    False     \n",
      "BatchNorm2d                               1024       True      \n",
      "Conv2d                                    131072     False     \n",
      "BatchNorm2d                               1024       True      \n",
      "Conv2d                                    2359296    False     \n",
      "BatchNorm2d                               1024       True      \n",
      "ReLU                                                           \n",
      "Conv2d                                    2359296    False     \n",
      "BatchNorm2d                               1024       True      \n",
      "Conv2d                                    2359296    False     \n",
      "BatchNorm2d                               1024       True      \n",
      "ReLU                                                           \n",
      "Conv2d                                    2359296    False     \n",
      "BatchNorm2d                               1024       True      \n",
      "BatchNorm2d                               1024       True      \n",
      "ReLU                                                           \n",
      "____________________________________________________________________________\n",
      "                     2 x 1024 x 8 x 8    \n",
      "Conv2d                                    4719616    True      \n",
      "ReLU                                                           \n",
      "____________________________________________________________________________\n",
      "                     2 x 512 x 8 x 8     \n",
      "Conv2d                                    4719104    True      \n",
      "ReLU                                                           \n",
      "____________________________________________________________________________\n",
      "                     2 x 1024 x 8 x 8    \n",
      "Conv2d                                    525312     True      \n",
      "ReLU                                                           \n",
      "____________________________________________________________________________\n",
      "                     2 x 256 x 16 x 16   \n",
      "PixelShuffle                                                   \n",
      "BatchNorm2d                               512        True      \n",
      "Conv2d                                    2359808    True      \n",
      "ReLU                                                           \n",
      "Conv2d                                    2359808    True      \n",
      "ReLU                                                           \n",
      "ReLU                                                           \n",
      "____________________________________________________________________________\n",
      "                     2 x 1024 x 16 x 16  \n",
      "Conv2d                                    525312     True      \n",
      "ReLU                                                           \n",
      "____________________________________________________________________________\n",
      "                     2 x 256 x 32 x 32   \n",
      "PixelShuffle                                                   \n",
      "BatchNorm2d                               256        True      \n",
      "Conv2d                                    1327488    True      \n",
      "ReLU                                                           \n",
      "Conv2d                                    1327488    True      \n",
      "ReLU                                                           \n",
      "ReLU                                                           \n",
      "____________________________________________________________________________\n",
      "                     2 x 768 x 32 x 32   \n",
      "Conv2d                                    295680     True      \n",
      "ReLU                                                           \n",
      "____________________________________________________________________________\n",
      "                     2 x 192 x 64 x 64   \n",
      "PixelShuffle                                                   \n",
      "BatchNorm2d                               128        True      \n",
      "Conv2d                                    590080     True      \n",
      "ReLU                                                           \n",
      "Conv2d                                    590080     True      \n",
      "ReLU                                                           \n",
      "ReLU                                                           \n",
      "____________________________________________________________________________\n",
      "                     2 x 512 x 64 x 64   \n",
      "Conv2d                                    131584     True      \n",
      "ReLU                                                           \n",
      "____________________________________________________________________________\n",
      "                     2 x 128 x 128 x 128 \n",
      "PixelShuffle                                                   \n",
      "BatchNorm2d                               128        True      \n",
      "____________________________________________________________________________\n",
      "                     2 x 96 x 128 x 128  \n",
      "Conv2d                                    165984     True      \n",
      "ReLU                                                           \n",
      "Conv2d                                    83040      True      \n",
      "ReLU                                                           \n",
      "ReLU                                                           \n",
      "____________________________________________________________________________\n",
      "                     2 x 384 x 128 x 128 \n",
      "Conv2d                                    37248      True      \n",
      "ReLU                                                           \n",
      "____________________________________________________________________________\n",
      "                     2 x 96 x 256 x 256  \n",
      "PixelShuffle                                                   \n",
      "ResizeToOrig                                                   \n",
      "____________________________________________________________________________\n",
      "                     2 x 99 x 256 x 256  \n",
      "MergeLayer                                                     \n",
      "Conv2d                                    88308      True      \n",
      "ReLU                                                           \n",
      "Conv2d                                    88308      True      \n",
      "Sequential                                                     \n",
      "ReLU                                                           \n",
      "____________________________________________________________________________\n",
      "                     2 x 40 x 256 x 256  \n",
      "Conv2d                                    4000       True      \n",
      "ToTensorBase                                                   \n",
      "____________________________________________________________________________\n",
      "\n",
      "Total params: 41,224,968\n",
      "Total trainable params: 19,957,320\n",
      "Total non-trainable params: 21,267,648\n",
      "\n",
      "Optimizer used: <function Adam at 0x00000145018FF820>\n",
      "Loss function: <function loss_func at 0x0000014503D17A60>\n",
      "\n",
      "Model frozen up to parameter group #2\n",
      "\n",
      "Callbacks:\n",
      "  - TrainEvalCallback\n",
      "  - Recorder\n",
      "  - ProgressCallback\n"
     ]
    }
   ],
   "source": [
    "# learn = unet_learner(dls, resnet34) #cnn_learner\n",
    "\n",
    " # note. weights can be given here to balance out class-imbalance\n",
    "crossEntropyLoss = torch.nn.CrossEntropyLoss(reduction='mean', weight=category_weights_normalised)\n",
    "multiLabelMarginLoss = torch.nn.MultiLabelMarginLoss(reduction='mean')\n",
    "mseLoss = lambda x, y: torch.mean(torch.linalg.vector_norm(x - y, dim=(1,2,3)))\n",
    "bceLogitsLoss = torch.nn.BCEWithLogitsLoss(reduction='mean', pos_weight=category_weights.reshape((1,N_CLASSES,1,1)).to(device=DEVICE) )\n",
    "# alt: tensor[np.newaxis,N_CLASSES,np.newaxis,np.newaxis]\n",
    "# Bug with pytorch in pos_weight: https://discuss.pytorch.org/t/loss-function-for-multi-class-semantic-segmentation/40596?u=ptrblck\n",
    "\n",
    "\n",
    "from enum import auto\n",
    "class LossType(Enum):\n",
    "  CROSS_ENTROPY = (auto(),crossEntropyLoss)\n",
    "  MSE = (auto(), mseLoss)\n",
    "  # MULTI_LABEL_MARGIN_LOSS = (auto(), multiLabelMarginLoss)\n",
    "  BINARY_CROSS_ENTROPY_WITH_LOGITS_LOSS = (auto(), bceLogitsLoss)\n",
    "\n",
    "  def apply(self, x, y):\n",
    "    return self.value[1](x, y)\n",
    "\n",
    "LOSS_FUNCTION = LossType.BINARY_CROSS_ENTROPY_WITH_LOGITS_LOSS\n",
    "\n",
    "def loss_func(x,y):\n",
    "  assert x.shape == y.shape\n",
    "  assert x.shape[1:] == (N_CLASSES, IM_SZ, IM_SZ), f\"Unexpected shape: {x.shape}\"\n",
    "  assert x.shape[0] == BATCH_SZ or x.shape[0] == 1, f\"Unexpected shape (batch): {x.shape}\"\n",
    "  \n",
    "  result = LOSS_FUNCTION.apply(x, y)\n",
    "  \n",
    "  assert len(result.shape) == 0, f\"Result should be scalar, but got: {result.shape}\"\n",
    "  return result\n",
    "\n",
    "learn = unet_learner(\n",
    "  dls, resnet34,\n",
    "  n_out = N_CLASSES,\n",
    "  pretrained=True,\n",
    "  wd = 0.05,\n",
    "  # normalize = true ?\n",
    "  loss_func = loss_func # norm over segmentation. but sum over batch\n",
    "  # todo. use proper loss here\n",
    "  # lambda x, y: torch.mean torch.linalg.norm(x - y])\n",
    "  # cnn: loss_func = lambda x, y: torch.linalg.norm(x - y[:,:,y.shape[2]//2,y.shape[3]//2]) # y.shape = (bs, N_CLASSES, IMG_SIZE, IMG_SIZE)\n",
    ")\n",
    "\n",
    "print(learn.model,learn.summary())\n",
    "\n",
    "# todo. transform segmentation and data to be resized to a specific size -> data blocks\n",
    "# todo. how might we make this a fully convolutional pipeline?\n",
    "\n",
    "if False:\n",
    "  unet_learner(\n",
    "    dls, models.alexnet,\n",
    "    normalize=True, n_out=len(category_ids),\n",
    "    pretrained=True, config=None,\n",
    "    loss_func=None, opt_func=Adam,\n",
    "    lr=0.001, metrics=None,\n",
    "    model_dir='models', train_bn=True,\n",
    "    blur=False, blur_final=True,\n",
    "    self_attention=False, y_range=None, last_cross=True,\n",
    "    bottle=False, norm_type=None\n",
    "  )"
   ]
  },
  {
   "cell_type": "code",
   "execution_count": 62,
   "metadata": {
    "colab": {
     "base_uri": "https://localhost:8080/",
     "height": 1000
    },
    "id": "H9GcqvlmhgIw",
    "outputId": "109a5bf4-706e-4773-b724-095c63d2d285"
   },
   "outputs": [
    {
     "data": {
      "text/html": [
       "<table border=\"1\" class=\"dataframe\">\n",
       "  <thead>\n",
       "    <tr style=\"text-align: left;\">\n",
       "      <th>epoch</th>\n",
       "      <th>train_loss</th>\n",
       "      <th>valid_loss</th>\n",
       "      <th>time</th>\n",
       "    </tr>\n",
       "  </thead>\n",
       "  <tbody>\n",
       "    <tr>\n",
       "      <td>0</td>\n",
       "      <td>1.076625</td>\n",
       "      <td>0.998224</td>\n",
       "      <td>00:01</td>\n",
       "    </tr>\n",
       "  </tbody>\n",
       "</table>"
      ],
      "text/plain": [
       "<IPython.core.display.HTML object>"
      ]
     },
     "metadata": {},
     "output_type": "display_data"
    },
    {
     "data": {
      "text/html": [
       "<table border=\"1\" class=\"dataframe\">\n",
       "  <thead>\n",
       "    <tr style=\"text-align: left;\">\n",
       "      <th>epoch</th>\n",
       "      <th>train_loss</th>\n",
       "      <th>valid_loss</th>\n",
       "      <th>time</th>\n",
       "    </tr>\n",
       "  </thead>\n",
       "  <tbody>\n",
       "    <tr>\n",
       "      <td>0</td>\n",
       "      <td>1.350813</td>\n",
       "      <td>1.022782</td>\n",
       "      <td>00:01</td>\n",
       "    </tr>\n",
       "    <tr>\n",
       "      <td>1</td>\n",
       "      <td>1.223470</td>\n",
       "      <td>1.988167</td>\n",
       "      <td>00:01</td>\n",
       "    </tr>\n",
       "    <tr>\n",
       "      <td>2</td>\n",
       "      <td>1.128185</td>\n",
       "      <td>1.322063</td>\n",
       "      <td>00:01</td>\n",
       "    </tr>\n",
       "    <tr>\n",
       "      <td>3</td>\n",
       "      <td>1.063120</td>\n",
       "      <td>1.128460</td>\n",
       "      <td>00:01</td>\n",
       "    </tr>\n",
       "    <tr>\n",
       "      <td>4</td>\n",
       "      <td>1.006571</td>\n",
       "      <td>1.288887</td>\n",
       "      <td>00:01</td>\n",
       "    </tr>\n",
       "    <tr>\n",
       "      <td>5</td>\n",
       "      <td>0.958728</td>\n",
       "      <td>1.643359</td>\n",
       "      <td>00:01</td>\n",
       "    </tr>\n",
       "    <tr>\n",
       "      <td>6</td>\n",
       "      <td>0.922463</td>\n",
       "      <td>1.562965</td>\n",
       "      <td>00:01</td>\n",
       "    </tr>\n",
       "    <tr>\n",
       "      <td>7</td>\n",
       "      <td>0.887265</td>\n",
       "      <td>1.384147</td>\n",
       "      <td>00:01</td>\n",
       "    </tr>\n",
       "    <tr>\n",
       "      <td>8</td>\n",
       "      <td>0.863500</td>\n",
       "      <td>1.165443</td>\n",
       "      <td>00:01</td>\n",
       "    </tr>\n",
       "    <tr>\n",
       "      <td>9</td>\n",
       "      <td>0.833096</td>\n",
       "      <td>1.137107</td>\n",
       "      <td>00:01</td>\n",
       "    </tr>\n",
       "    <tr>\n",
       "      <td>10</td>\n",
       "      <td>0.803637</td>\n",
       "      <td>1.212552</td>\n",
       "      <td>00:01</td>\n",
       "    </tr>\n",
       "    <tr>\n",
       "      <td>11</td>\n",
       "      <td>0.775034</td>\n",
       "      <td>1.308964</td>\n",
       "      <td>00:01</td>\n",
       "    </tr>\n",
       "    <tr>\n",
       "      <td>12</td>\n",
       "      <td>0.746579</td>\n",
       "      <td>1.435857</td>\n",
       "      <td>00:01</td>\n",
       "    </tr>\n",
       "    <tr>\n",
       "      <td>13</td>\n",
       "      <td>0.718750</td>\n",
       "      <td>1.487244</td>\n",
       "      <td>00:01</td>\n",
       "    </tr>\n",
       "    <tr>\n",
       "      <td>14</td>\n",
       "      <td>0.690731</td>\n",
       "      <td>1.405047</td>\n",
       "      <td>00:01</td>\n",
       "    </tr>\n",
       "    <tr>\n",
       "      <td>15</td>\n",
       "      <td>0.670730</td>\n",
       "      <td>1.177368</td>\n",
       "      <td>00:01</td>\n",
       "    </tr>\n",
       "    <tr>\n",
       "      <td>16</td>\n",
       "      <td>0.644579</td>\n",
       "      <td>1.532743</td>\n",
       "      <td>00:01</td>\n",
       "    </tr>\n",
       "    <tr>\n",
       "      <td>17</td>\n",
       "      <td>0.630212</td>\n",
       "      <td>1.701170</td>\n",
       "      <td>00:01</td>\n",
       "    </tr>\n",
       "    <tr>\n",
       "      <td>18</td>\n",
       "      <td>0.608262</td>\n",
       "      <td>2.345709</td>\n",
       "      <td>00:01</td>\n",
       "    </tr>\n",
       "    <tr>\n",
       "      <td>19</td>\n",
       "      <td>0.601780</td>\n",
       "      <td>1.929508</td>\n",
       "      <td>00:01</td>\n",
       "    </tr>\n",
       "    <tr>\n",
       "      <td>20</td>\n",
       "      <td>0.598493</td>\n",
       "      <td>1.299233</td>\n",
       "      <td>00:01</td>\n",
       "    </tr>\n",
       "    <tr>\n",
       "      <td>21</td>\n",
       "      <td>0.582889</td>\n",
       "      <td>1.190907</td>\n",
       "      <td>00:01</td>\n",
       "    </tr>\n",
       "    <tr>\n",
       "      <td>22</td>\n",
       "      <td>0.569870</td>\n",
       "      <td>1.353050</td>\n",
       "      <td>00:01</td>\n",
       "    </tr>\n",
       "    <tr>\n",
       "      <td>23</td>\n",
       "      <td>0.557239</td>\n",
       "      <td>1.362322</td>\n",
       "      <td>00:01</td>\n",
       "    </tr>\n",
       "    <tr>\n",
       "      <td>24</td>\n",
       "      <td>0.544638</td>\n",
       "      <td>1.296583</td>\n",
       "      <td>00:01</td>\n",
       "    </tr>\n",
       "    <tr>\n",
       "      <td>25</td>\n",
       "      <td>0.531834</td>\n",
       "      <td>1.343295</td>\n",
       "      <td>00:01</td>\n",
       "    </tr>\n",
       "    <tr>\n",
       "      <td>26</td>\n",
       "      <td>0.520221</td>\n",
       "      <td>1.975479</td>\n",
       "      <td>00:01</td>\n",
       "    </tr>\n",
       "    <tr>\n",
       "      <td>27</td>\n",
       "      <td>0.508091</td>\n",
       "      <td>1.466984</td>\n",
       "      <td>00:01</td>\n",
       "    </tr>\n",
       "    <tr>\n",
       "      <td>28</td>\n",
       "      <td>0.496695</td>\n",
       "      <td>1.611067</td>\n",
       "      <td>00:01</td>\n",
       "    </tr>\n",
       "    <tr>\n",
       "      <td>29</td>\n",
       "      <td>0.484193</td>\n",
       "      <td>2.025235</td>\n",
       "      <td>00:01</td>\n",
       "    </tr>\n",
       "    <tr>\n",
       "      <td>30</td>\n",
       "      <td>0.473017</td>\n",
       "      <td>2.003685</td>\n",
       "      <td>00:01</td>\n",
       "    </tr>\n",
       "    <tr>\n",
       "      <td>31</td>\n",
       "      <td>0.460828</td>\n",
       "      <td>1.834238</td>\n",
       "      <td>00:01</td>\n",
       "    </tr>\n",
       "    <tr>\n",
       "      <td>32</td>\n",
       "      <td>0.448111</td>\n",
       "      <td>2.238762</td>\n",
       "      <td>00:01</td>\n",
       "    </tr>\n",
       "    <tr>\n",
       "      <td>33</td>\n",
       "      <td>0.440902</td>\n",
       "      <td>3.205279</td>\n",
       "      <td>00:01</td>\n",
       "    </tr>\n",
       "    <tr>\n",
       "      <td>34</td>\n",
       "      <td>0.430587</td>\n",
       "      <td>2.737077</td>\n",
       "      <td>00:01</td>\n",
       "    </tr>\n",
       "    <tr>\n",
       "      <td>35</td>\n",
       "      <td>0.419849</td>\n",
       "      <td>1.776608</td>\n",
       "      <td>00:01</td>\n",
       "    </tr>\n",
       "    <tr>\n",
       "      <td>36</td>\n",
       "      <td>0.413131</td>\n",
       "      <td>1.421341</td>\n",
       "      <td>00:01</td>\n",
       "    </tr>\n",
       "    <tr>\n",
       "      <td>37</td>\n",
       "      <td>0.405369</td>\n",
       "      <td>1.730631</td>\n",
       "      <td>00:01</td>\n",
       "    </tr>\n",
       "    <tr>\n",
       "      <td>38</td>\n",
       "      <td>0.394974</td>\n",
       "      <td>1.993112</td>\n",
       "      <td>00:01</td>\n",
       "    </tr>\n",
       "    <tr>\n",
       "      <td>39</td>\n",
       "      <td>0.386753</td>\n",
       "      <td>1.839793</td>\n",
       "      <td>00:01</td>\n",
       "    </tr>\n",
       "    <tr>\n",
       "      <td>40</td>\n",
       "      <td>0.376834</td>\n",
       "      <td>1.603349</td>\n",
       "      <td>00:01</td>\n",
       "    </tr>\n",
       "    <tr>\n",
       "      <td>41</td>\n",
       "      <td>0.368271</td>\n",
       "      <td>1.588264</td>\n",
       "      <td>00:01</td>\n",
       "    </tr>\n",
       "    <tr>\n",
       "      <td>42</td>\n",
       "      <td>0.359963</td>\n",
       "      <td>1.633520</td>\n",
       "      <td>00:01</td>\n",
       "    </tr>\n",
       "    <tr>\n",
       "      <td>43</td>\n",
       "      <td>0.351745</td>\n",
       "      <td>1.959919</td>\n",
       "      <td>00:01</td>\n",
       "    </tr>\n",
       "    <tr>\n",
       "      <td>44</td>\n",
       "      <td>0.342113</td>\n",
       "      <td>2.824190</td>\n",
       "      <td>00:01</td>\n",
       "    </tr>\n",
       "    <tr>\n",
       "      <td>45</td>\n",
       "      <td>0.336448</td>\n",
       "      <td>3.117831</td>\n",
       "      <td>00:01</td>\n",
       "    </tr>\n",
       "    <tr>\n",
       "      <td>46</td>\n",
       "      <td>0.332526</td>\n",
       "      <td>2.910189</td>\n",
       "      <td>00:01</td>\n",
       "    </tr>\n",
       "    <tr>\n",
       "      <td>47</td>\n",
       "      <td>0.328037</td>\n",
       "      <td>1.919433</td>\n",
       "      <td>00:01</td>\n",
       "    </tr>\n",
       "    <tr>\n",
       "      <td>48</td>\n",
       "      <td>0.321269</td>\n",
       "      <td>2.276603</td>\n",
       "      <td>00:01</td>\n",
       "    </tr>\n",
       "    <tr>\n",
       "      <td>49</td>\n",
       "      <td>0.314944</td>\n",
       "      <td>3.230595</td>\n",
       "      <td>00:01</td>\n",
       "    </tr>\n",
       "    <tr>\n",
       "      <td>50</td>\n",
       "      <td>0.309026</td>\n",
       "      <td>2.650220</td>\n",
       "      <td>00:01</td>\n",
       "    </tr>\n",
       "    <tr>\n",
       "      <td>51</td>\n",
       "      <td>0.301089</td>\n",
       "      <td>2.503408</td>\n",
       "      <td>00:01</td>\n",
       "    </tr>\n",
       "    <tr>\n",
       "      <td>52</td>\n",
       "      <td>0.293724</td>\n",
       "      <td>2.630039</td>\n",
       "      <td>00:01</td>\n",
       "    </tr>\n",
       "    <tr>\n",
       "      <td>53</td>\n",
       "      <td>0.286628</td>\n",
       "      <td>2.980332</td>\n",
       "      <td>00:01</td>\n",
       "    </tr>\n",
       "    <tr>\n",
       "      <td>54</td>\n",
       "      <td>0.279279</td>\n",
       "      <td>4.362008</td>\n",
       "      <td>00:01</td>\n",
       "    </tr>\n",
       "    <tr>\n",
       "      <td>55</td>\n",
       "      <td>0.273828</td>\n",
       "      <td>3.719337</td>\n",
       "      <td>00:01</td>\n",
       "    </tr>\n",
       "    <tr>\n",
       "      <td>56</td>\n",
       "      <td>0.270267</td>\n",
       "      <td>2.414976</td>\n",
       "      <td>00:01</td>\n",
       "    </tr>\n",
       "    <tr>\n",
       "      <td>57</td>\n",
       "      <td>0.266050</td>\n",
       "      <td>1.912900</td>\n",
       "      <td>00:01</td>\n",
       "    </tr>\n",
       "    <tr>\n",
       "      <td>58</td>\n",
       "      <td>0.267848</td>\n",
       "      <td>1.356624</td>\n",
       "      <td>00:01</td>\n",
       "    </tr>\n",
       "    <tr>\n",
       "      <td>59</td>\n",
       "      <td>0.264544</td>\n",
       "      <td>1.322464</td>\n",
       "      <td>00:01</td>\n",
       "    </tr>\n",
       "    <tr>\n",
       "      <td>60</td>\n",
       "      <td>0.262336</td>\n",
       "      <td>1.394741</td>\n",
       "      <td>00:01</td>\n",
       "    </tr>\n",
       "    <tr>\n",
       "      <td>61</td>\n",
       "      <td>0.259126</td>\n",
       "      <td>1.490721</td>\n",
       "      <td>00:01</td>\n",
       "    </tr>\n",
       "    <tr>\n",
       "      <td>62</td>\n",
       "      <td>0.258879</td>\n",
       "      <td>1.497515</td>\n",
       "      <td>00:01</td>\n",
       "    </tr>\n",
       "    <tr>\n",
       "      <td>63</td>\n",
       "      <td>0.256092</td>\n",
       "      <td>1.569906</td>\n",
       "      <td>00:01</td>\n",
       "    </tr>\n",
       "    <tr>\n",
       "      <td>64</td>\n",
       "      <td>0.253843</td>\n",
       "      <td>1.684677</td>\n",
       "      <td>00:01</td>\n",
       "    </tr>\n",
       "    <tr>\n",
       "      <td>65</td>\n",
       "      <td>0.250732</td>\n",
       "      <td>1.797554</td>\n",
       "      <td>00:01</td>\n",
       "    </tr>\n",
       "    <tr>\n",
       "      <td>66</td>\n",
       "      <td>0.248259</td>\n",
       "      <td>1.946760</td>\n",
       "      <td>00:01</td>\n",
       "    </tr>\n",
       "    <tr>\n",
       "      <td>67</td>\n",
       "      <td>0.247523</td>\n",
       "      <td>2.071483</td>\n",
       "      <td>00:01</td>\n",
       "    </tr>\n",
       "    <tr>\n",
       "      <td>68</td>\n",
       "      <td>0.246557</td>\n",
       "      <td>2.175542</td>\n",
       "      <td>00:01</td>\n",
       "    </tr>\n",
       "    <tr>\n",
       "      <td>69</td>\n",
       "      <td>0.243876</td>\n",
       "      <td>2.217253</td>\n",
       "      <td>00:01</td>\n",
       "    </tr>\n",
       "    <tr>\n",
       "      <td>70</td>\n",
       "      <td>0.241178</td>\n",
       "      <td>2.288619</td>\n",
       "      <td>00:01</td>\n",
       "    </tr>\n",
       "    <tr>\n",
       "      <td>71</td>\n",
       "      <td>0.238351</td>\n",
       "      <td>2.351443</td>\n",
       "      <td>00:01</td>\n",
       "    </tr>\n",
       "    <tr>\n",
       "      <td>72</td>\n",
       "      <td>0.235338</td>\n",
       "      <td>2.413671</td>\n",
       "      <td>00:01</td>\n",
       "    </tr>\n",
       "    <tr>\n",
       "      <td>73</td>\n",
       "      <td>0.232136</td>\n",
       "      <td>2.447578</td>\n",
       "      <td>00:01</td>\n",
       "    </tr>\n",
       "    <tr>\n",
       "      <td>74</td>\n",
       "      <td>0.228720</td>\n",
       "      <td>2.500047</td>\n",
       "      <td>00:01</td>\n",
       "    </tr>\n",
       "    <tr>\n",
       "      <td>75</td>\n",
       "      <td>0.225088</td>\n",
       "      <td>2.569394</td>\n",
       "      <td>00:01</td>\n",
       "    </tr>\n",
       "    <tr>\n",
       "      <td>76</td>\n",
       "      <td>0.221263</td>\n",
       "      <td>2.649786</td>\n",
       "      <td>00:01</td>\n",
       "    </tr>\n",
       "    <tr>\n",
       "      <td>77</td>\n",
       "      <td>0.218509</td>\n",
       "      <td>2.755732</td>\n",
       "      <td>00:01</td>\n",
       "    </tr>\n",
       "    <tr>\n",
       "      <td>78</td>\n",
       "      <td>0.215537</td>\n",
       "      <td>2.851635</td>\n",
       "      <td>00:01</td>\n",
       "    </tr>\n",
       "    <tr>\n",
       "      <td>79</td>\n",
       "      <td>0.212434</td>\n",
       "      <td>2.936014</td>\n",
       "      <td>00:01</td>\n",
       "    </tr>\n",
       "    <tr>\n",
       "      <td>80</td>\n",
       "      <td>0.208982</td>\n",
       "      <td>2.984280</td>\n",
       "      <td>00:01</td>\n",
       "    </tr>\n",
       "    <tr>\n",
       "      <td>81</td>\n",
       "      <td>0.205569</td>\n",
       "      <td>3.012183</td>\n",
       "      <td>00:01</td>\n",
       "    </tr>\n",
       "    <tr>\n",
       "      <td>82</td>\n",
       "      <td>0.202211</td>\n",
       "      <td>3.027919</td>\n",
       "      <td>00:01</td>\n",
       "    </tr>\n",
       "    <tr>\n",
       "      <td>83</td>\n",
       "      <td>0.198916</td>\n",
       "      <td>3.039718</td>\n",
       "      <td>00:01</td>\n",
       "    </tr>\n",
       "    <tr>\n",
       "      <td>84</td>\n",
       "      <td>0.195689</td>\n",
       "      <td>3.050970</td>\n",
       "      <td>00:01</td>\n",
       "    </tr>\n",
       "    <tr>\n",
       "      <td>85</td>\n",
       "      <td>0.193423</td>\n",
       "      <td>3.058965</td>\n",
       "      <td>00:01</td>\n",
       "    </tr>\n",
       "    <tr>\n",
       "      <td>86</td>\n",
       "      <td>0.190291</td>\n",
       "      <td>3.079886</td>\n",
       "      <td>00:01</td>\n",
       "    </tr>\n",
       "    <tr>\n",
       "      <td>87</td>\n",
       "      <td>0.186963</td>\n",
       "      <td>3.058361</td>\n",
       "      <td>00:01</td>\n",
       "    </tr>\n",
       "    <tr>\n",
       "      <td>88</td>\n",
       "      <td>0.183672</td>\n",
       "      <td>3.048104</td>\n",
       "      <td>00:01</td>\n",
       "    </tr>\n",
       "    <tr>\n",
       "      <td>89</td>\n",
       "      <td>0.180410</td>\n",
       "      <td>3.045418</td>\n",
       "      <td>00:01</td>\n",
       "    </tr>\n",
       "    <tr>\n",
       "      <td>90</td>\n",
       "      <td>0.177176</td>\n",
       "      <td>3.046855</td>\n",
       "      <td>00:01</td>\n",
       "    </tr>\n",
       "    <tr>\n",
       "      <td>91</td>\n",
       "      <td>0.173977</td>\n",
       "      <td>3.049271</td>\n",
       "      <td>00:01</td>\n",
       "    </tr>\n",
       "    <tr>\n",
       "      <td>92</td>\n",
       "      <td>0.171219</td>\n",
       "      <td>3.101339</td>\n",
       "      <td>00:01</td>\n",
       "    </tr>\n",
       "    <tr>\n",
       "      <td>93</td>\n",
       "      <td>0.168104</td>\n",
       "      <td>3.093507</td>\n",
       "      <td>00:01</td>\n",
       "    </tr>\n",
       "    <tr>\n",
       "      <td>94</td>\n",
       "      <td>0.165486</td>\n",
       "      <td>3.136782</td>\n",
       "      <td>00:01</td>\n",
       "    </tr>\n",
       "    <tr>\n",
       "      <td>95</td>\n",
       "      <td>0.162932</td>\n",
       "      <td>3.172583</td>\n",
       "      <td>00:01</td>\n",
       "    </tr>\n",
       "    <tr>\n",
       "      <td>96</td>\n",
       "      <td>0.160442</td>\n",
       "      <td>3.202832</td>\n",
       "      <td>00:01</td>\n",
       "    </tr>\n",
       "    <tr>\n",
       "      <td>97</td>\n",
       "      <td>0.157555</td>\n",
       "      <td>3.172513</td>\n",
       "      <td>00:01</td>\n",
       "    </tr>\n",
       "    <tr>\n",
       "      <td>98</td>\n",
       "      <td>0.155739</td>\n",
       "      <td>3.189043</td>\n",
       "      <td>00:01</td>\n",
       "    </tr>\n",
       "    <tr>\n",
       "      <td>99</td>\n",
       "      <td>0.153432</td>\n",
       "      <td>3.212866</td>\n",
       "      <td>00:01</td>\n",
       "    </tr>\n",
       "  </tbody>\n",
       "</table>"
      ],
      "text/plain": [
       "<IPython.core.display.HTML object>"
      ]
     },
     "metadata": {},
     "output_type": "display_data"
    }
   ],
   "source": [
    "# learn.show_training_loop()\n",
    "EPOCHS = 100\n",
    "\n",
    "learn.fine_tune(EPOCHS)\n",
    "\n",
    "# learn.fine_tune(10)\n",
    "# learn.fit_one_cycle(5)\n",
    "\n",
    "# learn.show_results()\n",
    "# todo. cannot show tensor multi-segmentation mask. need to define custom class for that"
   ]
  },
  {
   "cell_type": "code",
   "execution_count": 63,
   "metadata": {
    "colab": {
     "base_uri": "https://localhost:8080/"
    },
    "id": "Ifxl2F7jvlri",
    "outputId": "16faf26c-2450-4494-ad35-0bfb6a9408e6"
   },
   "outputs": [
    {
     "name": "stdout",
     "output_type": "stream",
     "text": [
      "|===========================================================================|\n",
      "|                  PyTorch CUDA memory summary, device ID 0                 |\n",
      "|---------------------------------------------------------------------------|\n",
      "|            CUDA OOMs: 0            |        cudaMalloc retries: 0         |\n",
      "|===========================================================================|\n",
      "|        Metric         | Cur Usage  | Peak Usage | Tot Alloc  | Tot Freed  |\n",
      "|---------------------------------------------------------------------------|\n",
      "| Allocated memory      |  660907 KB |    1268 MB |  417927 MB |  417282 MB |\n",
      "|       from large pool |  624896 KB |    1198 MB |  389999 MB |  389389 MB |\n",
      "|       from small pool |   36011 KB |      73 MB |   27928 MB |   27893 MB |\n",
      "|---------------------------------------------------------------------------|\n",
      "| Active memory         |  660907 KB |    1268 MB |  417927 MB |  417282 MB |\n",
      "|       from large pool |  624896 KB |    1198 MB |  389999 MB |  389389 MB |\n",
      "|       from small pool |   36011 KB |      73 MB |   27928 MB |   27893 MB |\n",
      "|---------------------------------------------------------------------------|\n",
      "| GPU reserved memory   |    1542 MB |    1542 MB |    1542 MB |       0 B  |\n",
      "|       from large pool |    1466 MB |    1466 MB |    1466 MB |       0 B  |\n",
      "|       from small pool |      76 MB |      76 MB |      76 MB |       0 B  |\n",
      "|---------------------------------------------------------------------------|\n",
      "| Non-releasable memory |   88660 KB |  176788 KB |  317662 MB |  317575 MB |\n",
      "|       from large pool |   83712 KB |  172032 KB |  288664 MB |  288582 MB |\n",
      "|       from small pool |    4948 KB |   12795 KB |   28998 MB |   28993 MB |\n",
      "|---------------------------------------------------------------------------|\n",
      "| Allocations           |     748    |     930    |  156068    |  155320    |\n",
      "|       from large pool |     117    |     157    |   45549    |   45432    |\n",
      "|       from small pool |     631    |     776    |  110519    |  109888    |\n",
      "|---------------------------------------------------------------------------|\n",
      "| Active allocs         |     748    |     930    |  156068    |  155320    |\n",
      "|       from large pool |     117    |     157    |   45549    |   45432    |\n",
      "|       from small pool |     631    |     776    |  110519    |  109888    |\n",
      "|---------------------------------------------------------------------------|\n",
      "| GPU reserved segments |      83    |      83    |      83    |       0    |\n",
      "|       from large pool |      45    |      45    |      45    |       0    |\n",
      "|       from small pool |      38    |      38    |      38    |       0    |\n",
      "|---------------------------------------------------------------------------|\n",
      "| Non-releasable allocs |      66    |      80    |  101283    |  101217    |\n",
      "|       from large pool |      12    |      22    |   28891    |   28879    |\n",
      "|       from small pool |      54    |      63    |   72392    |   72338    |\n",
      "|---------------------------------------------------------------------------|\n",
      "| Oversize allocations  |       0    |       0    |       0    |       0    |\n",
      "|---------------------------------------------------------------------------|\n",
      "| Oversize GPU segments |       0    |       0    |       0    |       0    |\n",
      "|===========================================================================|\n",
      "\n"
     ]
    }
   ],
   "source": [
    "print(torch.cuda.memory_summary())"
   ]
  },
  {
   "cell_type": "code",
   "execution_count": 67,
   "metadata": {
    "id": "cdMFZ11jOIJJ"
   },
   "outputs": [],
   "source": [
    "# save model\n",
    "# todo. need access to some S3 storage or so for this"
   ]
  },
  {
   "cell_type": "code",
   "execution_count": 68,
   "metadata": {
    "id": "yg2ZQKQhIGyn"
   },
   "outputs": [],
   "source": [
    "def loss_func_single(x, y):\n",
    "  assert x.shape == y.shape\n",
    "  assert x.shape == (N_CLASSES,IM_SZ, IM_SZ)\n",
    "  x = tensor(x, dtype=torch.float32).to(device=DEVICE)\n",
    "  y = tensor(y, dtype=torch.float32).to(device=DEVICE)\n",
    "  return loss_func(x[None,:], y[None,:])"
   ]
  },
  {
   "cell_type": "code",
   "execution_count": 69,
   "metadata": {
    "id": "hnIQ6yeXKV4M"
   },
   "outputs": [],
   "source": [
    "matplotlib_colormaps = ['Greys', 'Purples', 'Blues', 'Greens', 'Oranges', 'Reds',\n",
    "                      'YlOrBr', 'YlOrRd', 'OrRd', 'PuRd', 'RdPu', 'BuPu',\n",
    "                      'GnBu', 'PuBu', 'YlGnBu', 'PuBuGn', 'BuGn', 'YlGn']\n",
    "\n",
    "class_colormaps = (matplotlib_colormaps * 3)[:N_CLASSES]\n",
    "# e.g. class_colormaps[2] = \"Blues\"\n",
    "\n",
    "def show_multi_segmentation(seg, alpha = 0.4, max_colorbars=3):\n",
    "  seg = np.array(seg)\n",
    "  assert seg.shape == (N_CLASSES,IM_SZ,IM_SZ)\n",
    "\n",
    "  colorbar_sources = []\n",
    "\n",
    "  for i in range(N_CLASSES):\n",
    "    is_defined_for_class = np.any(seg[i] != 0)\n",
    "    if is_defined_for_class:\n",
    "      print(class_colormaps[i],\"<-\",category_names[i])\n",
    "      res = plt.imshow(seg[i], cmap=class_colormaps[i], alpha = alpha)\n",
    "\n",
    "      if len(colorbar_sources) < max_colorbars:\n",
    "        cbar = plt.colorbar(res)\n",
    "        cbar.ax.set_ylabel(category_names[i])\n",
    "\n",
    "      colorbar_sources.append(res)\n",
    "\n",
    "    if i % len(matplotlib_colormaps) // 3 == 0:\n",
    "      if len(colorbar_sources) >= 1:\n",
    "        plt.show()\n",
    "      colorbar_sources = []"
   ]
  },
  {
   "cell_type": "code",
   "execution_count": 70,
   "metadata": {
    "id": "leOnG3KaQahk"
   },
   "outputs": [],
   "source": [
    "def get_train_data(idx):\n",
    "  input, ground_truth = dls.train_ds[idx]\n",
    "  assert ground_truth.shape == (N_CLASSES, IM_SZ, IM_SZ)\n",
    "  return input, ground_truth\n",
    "\n",
    "def show_results(n=10):\n",
    "\n",
    "  for i in range(min(n,len(dls.train_ds))):\n",
    "\n",
    "    print(f\"=================== i = {i} ====================\")\n",
    "\n",
    "    im, gt = get_train_data(i)\n",
    "\n",
    "    plt.imshow(im)\n",
    "    plt.show()\n",
    "\n",
    "    full_dec_pred, _, _  = learn.predict(im)\n",
    "    # predict return values: https://docs.fast.ai/learner.html#Learner.predict\n",
    "\n",
    "    show_multi_segmentation(gt)\n",
    "    plt.show()\n",
    "\n",
    "    print(\"=================== PREDICTION ====================\")\n",
    "\n",
    "    threshold = 0.8\n",
    "    show_multi_segmentation(np.array(full_dec_pred >= threshold, dtype=SEG_DTYPE), max_colorbars=3)\n",
    "    plt.show()\n",
    "\n",
    "    print(\"Ground truth loss:\", loss_func_single(gt, gt))\n",
    "    print(\"Prediction loss:\", loss_func_single(full_dec_pred, gt))\n"
   ]
  },
  {
   "cell_type": "code",
   "execution_count": 71,
   "metadata": {
    "colab": {
     "base_uri": "https://localhost:8080/",
     "height": 1000
    },
    "id": "3fMqakyqfxNX",
    "outputId": "2ca95e17-dac7-4122-a36b-28a6bfcd62b6",
    "scrolled": false
   },
   "outputs": [
    {
     "name": "stdout",
     "output_type": "stream",
     "text": [
      "=================== i = 0 ====================\n"
     ]
    },
    {
     "data": {
      "image/png": "[encoded data removed]",
      "text/plain": [
       "<Figure size 432x288 with 1 Axes>"
      ]
     },
     "metadata": {
      "needs_background": "light"
     },
     "output_type": "display_data"
    },
    {
     "data": {
      "text/html": [],
      "text/plain": [
       "<IPython.core.display.HTML object>"
      ]
     },
     "metadata": {},
     "output_type": "display_data"
    },
    {
     "name": "stdout",
     "output_type": "stream",
     "text": [
      "OrRd <- bread-white\n",
      "PuBuGn <- avocado\n"
     ]
    },
    {
     "data": {
      "image/png": "[encoded data removed]",
      "text/plain": [
       "<Figure size 432x288 with 3 Axes>"
      ]
     },
     "metadata": {
      "needs_background": "light"
     },
     "output_type": "display_data"
    },
    {
     "name": "stdout",
     "output_type": "stream",
     "text": [
      "Reds <- mayonnaise\n"
     ]
    },
    {
     "data": {
      "image/png": "[encoded data removed]",
      "text/plain": [
       "<Figure size 432x288 with 2 Axes>"
      ]
     },
     "metadata": {
      "needs_background": "light"
     },
     "output_type": "display_data"
    },
    {
     "name": "stdout",
     "output_type": "stream",
     "text": [
      "=================== PREDICTION ====================\n",
      "PuBuGn <- avocado\n"
     ]
    },
    {
     "data": {
      "image/png": "[encoded data removed]",
      "text/plain": [
       "<Figure size 432x288 with 2 Axes>"
      ]
     },
     "metadata": {
      "needs_background": "light"
     },
     "output_type": "display_data"
    },
    {
     "name": "stdout",
     "output_type": "stream",
     "text": [
      "Blues <- mixed-salad-chopped-without-sauce\n"
     ]
    },
    {
     "data": {
      "image/png": "[encoded data removed]",
      "text/plain": [
       "<Figure size 432x288 with 2 Axes>"
      ]
     },
     "metadata": {
      "needs_background": "light"
     },
     "output_type": "display_data"
    },
    {
     "name": "stdout",
     "output_type": "stream",
     "text": [
      "Reds <- mayonnaise\n"
     ]
    },
    {
     "data": {
      "image/png": "[encoded data removed]",
      "text/plain": [
       "<Figure size 432x288 with 2 Axes>"
      ]
     },
     "metadata": {
      "needs_background": "light"
     },
     "output_type": "display_data"
    },
    {
     "name": "stdout",
     "output_type": "stream",
     "text": [
      "Ground truth loss: tensor(0.8321, device='cuda:0')\n",
      "Prediction loss: TensorBase(0.1027, device='cuda:0')\n",
      "=================== i = 1 ====================\n"
     ]
    },
    {
     "data": {
      "image/png": "[encoded data removed]",
      "text/plain": [
       "<Figure size 432x288 with 1 Axes>"
      ]
     },
     "metadata": {
      "needs_background": "light"
     },
     "output_type": "display_data"
    },
    {
     "data": {
      "text/html": [],
      "text/plain": [
       "<IPython.core.display.HTML object>"
      ]
     },
     "metadata": {},
     "output_type": "display_data"
    },
    {
     "name": "stdout",
     "output_type": "stream",
     "text": [
      "PuRd <- tomato-sauce\n"
     ]
    },
    {
     "data": {
      "image/png": "[encoded data removed]",
      "text/plain": [
       "<Figure size 432x288 with 2 Axes>"
      ]
     },
     "metadata": {
      "needs_background": "light"
     },
     "output_type": "display_data"
    },
    {
     "name": "stdout",
     "output_type": "stream",
     "text": [
      "=================== PREDICTION ====================\n",
      "Reds <- mayonnaise\n",
      "PuRd <- tomato-sauce\n"
     ]
    },
    {
     "data": {
      "image/png": "[encoded data removed]",
      "text/plain": [
       "<Figure size 432x288 with 3 Axes>"
      ]
     },
     "metadata": {
      "needs_background": "light"
     },
     "output_type": "display_data"
    },
    {
     "name": "stdout",
     "output_type": "stream",
     "text": [
      "Ground truth loss: tensor(0.8434, device='cuda:0')\n",
      "Prediction loss: TensorBase(0.0154, device='cuda:0')\n",
      "=================== i = 2 ====================\n"
     ]
    },
    {
     "data": {
      "image/png": "[encoded data removed]",
      "text/plain": [
       "<Figure size 432x288 with 1 Axes>"
      ]
     },
     "metadata": {
      "needs_background": "light"
     },
     "output_type": "display_data"
    },
    {
     "data": {
      "text/html": [],
      "text/plain": [
       "<IPython.core.display.HTML object>"
      ]
     },
     "metadata": {},
     "output_type": "display_data"
    },
    {
     "name": "stdout",
     "output_type": "stream",
     "text": [
      "PuBuGn <- avocado\n"
     ]
    },
    {
     "data": {
      "image/png": "[encoded data removed]",
      "text/plain": [
       "<Figure size 432x288 with 2 Axes>"
      ]
     },
     "metadata": {
      "needs_background": "light"
     },
     "output_type": "display_data"
    },
    {
     "name": "stdout",
     "output_type": "stream",
     "text": [
      "Blues <- mixed-salad-chopped-without-sauce\n"
     ]
    },
    {
     "data": {
      "image/png": "[encoded data removed]",
      "text/plain": [
       "<Figure size 432x288 with 2 Axes>"
      ]
     },
     "metadata": {
      "needs_background": "light"
     },
     "output_type": "display_data"
    },
    {
     "name": "stdout",
     "output_type": "stream",
     "text": [
      "=================== PREDICTION ====================\n",
      "PuBuGn <- avocado\n"
     ]
    },
    {
     "data": {
      "image/png": "[encoded data removed]",
      "text/plain": [
       "<Figure size 432x288 with 2 Axes>"
      ]
     },
     "metadata": {
      "needs_background": "light"
     },
     "output_type": "display_data"
    },
    {
     "name": "stdout",
     "output_type": "stream",
     "text": [
      "Blues <- mixed-salad-chopped-without-sauce\n"
     ]
    },
    {
     "data": {
      "image/png": "[encoded data removed]",
      "text/plain": [
       "<Figure size 432x288 with 2 Axes>"
      ]
     },
     "metadata": {
      "needs_background": "light"
     },
     "output_type": "display_data"
    },
    {
     "name": "stdout",
     "output_type": "stream",
     "text": [
      "Reds <- mayonnaise\n"
     ]
    },
    {
     "data": {
      "image/png": "[encoded data removed]",
      "text/plain": [
       "<Figure size 432x288 with 2 Axes>"
      ]
     },
     "metadata": {
      "needs_background": "light"
     },
     "output_type": "display_data"
    },
    {
     "name": "stdout",
     "output_type": "stream",
     "text": [
      "Ground truth loss: tensor(0.9147, device='cuda:0')\n",
      "Prediction loss: TensorBase(0.0724, device='cuda:0')\n"
     ]
    }
   ],
   "source": [
    "show_results()"
   ]
  },
  {
   "cell_type": "markdown",
   "metadata": {
    "id": "Ht-gFR2KbhjX"
   },
   "source": [
    "# Initialize detectron2"
   ]
  },
  {
   "cell_type": "code",
   "execution_count": null,
   "metadata": {
    "id": "hFhNKYKLXiYG"
   },
   "outputs": [],
   "source": [
    "_ = setup_logger()\n",
    "\n",
    "register_coco_instances(DatasetLabels.TRAIN, {}, Paths.TRAIN_ANNOTATIONS, Paths.TRAIN_IMAGES_DIR)\n",
    "register_coco_instances(DatasetLabels.VAL, {}, Paths.VAL_ANNOTATIONS, Paths.VAL_IMAGES_DIR)"
   ]
  },
  {
   "cell_type": "markdown",
   "metadata": {
    "id": "BEn4diGaA_ph"
   },
   "source": [
    "# Build your Model 🏭\n",
    "\n",
    "We will use Mask R-CNN to generate the segmentation masks for the food items 🌯"
   ]
  },
  {
   "cell_type": "markdown",
   "metadata": {
    "id": "gYqXect1M4Jz"
   },
   "source": [
    "## Configure detectron2\n",
    "\n",
    "Detectron2 has a variety of Instance Segmentation Models. We will use the zoo model with Mask RCNN + ResNet 50. If you want to try other models, you can find them [here]((https://github.com/facebookresearch/detectron2)."
   ]
  },
  {
   "cell_type": "code",
   "execution_count": null,
   "metadata": {
    "id": "X_q2fu8wXikF"
   },
   "outputs": [],
   "source": [
    "cfg = get_cfg()\n",
    "cfg.merge_from_file(model_zoo.get_config_file(\"COCO-InstanceSegmentation/mask_rcnn_R_50_FPN_3x.yaml\"))\n",
    "\n",
    "cfg.DATASETS.TRAIN = (DatasetLabels.TRAIN,)\n",
    "cfg.DATASETS.TEST = ()\n",
    "cfg.DATALOADER.NUM_WORKERS = 2\n",
    "cfg.MODEL.ROI_HEADS.NUM_CLASSES = 273  # Number of output classes\n",
    "\n",
    "cfg.OUTPUT_DIR = \"outputs\"\n",
    "os.makedirs(cfg.OUTPUT_DIR, exist_ok=True)"
   ]
  },
  {
   "cell_type": "markdown",
   "metadata": {
    "id": "OzaHmc0IPAIZ"
   },
   "source": [
    "## Load the pre-trained weights "
   ]
  },
  {
   "cell_type": "code",
   "execution_count": null,
   "metadata": {
    "id": "FWmZ6VySPC14"
   },
   "outputs": [],
   "source": [
    "cfg.MODEL.WEIGHTS = model_zoo.get_checkpoint_url(\"COCO-InstanceSegmentation/mask_rcnn_R_50_FPN_3x.yaml\")\n",
    "cfg.SOLVER.IMS_PER_BATCH = 2"
   ]
  },
  {
   "cell_type": "markdown",
   "metadata": {
    "id": "wg5Ra2qzO5YV"
   },
   "source": [
    "## Hyperparameters"
   ]
  },
  {
   "cell_type": "code",
   "execution_count": null,
   "metadata": {
    "id": "fj5HPBMVO-I3"
   },
   "outputs": [],
   "source": [
    "cfg.SOLVER.BASE_LR = 0.00025  # Learning Rate\n",
    "cfg.SOLVER.MAX_ITER = 20000  # MAx Iterations\n",
    "cfg.MODEL.ROI_HEADS.BATCH_SIZE_PER_IMAGE = 128  # Batch Size"
   ]
  },
  {
   "cell_type": "markdown",
   "metadata": {
    "id": "EER82dGmQGS9"
   },
   "source": [
    "# Train the model 🚂\n",
    "\n",
    "We will setup tensorboard to check the performance of the model while it is training."
   ]
  },
  {
   "cell_type": "markdown",
   "metadata": {
    "id": "XMMmjhlO62Pj"
   },
   "source": [
    "## Setting up Tensorboard"
   ]
  },
  {
   "cell_type": "code",
   "execution_count": null,
   "metadata": {
    "id": "kMOcJUcmfQI8"
   },
   "outputs": [],
   "source": [
    "%load_ext tensorboard\n",
    "%tensorboard --logdir outputs"
   ]
  },
  {
   "cell_type": "markdown",
   "metadata": {
    "id": "6E_Np0qn64uM"
   },
   "source": [
    "## Train the Model"
   ]
  },
  {
   "cell_type": "code",
   "execution_count": null,
   "metadata": {
    "id": "ZS5IZOx5XjDm"
   },
   "outputs": [],
   "source": [
    "trainer = DefaultTrainer(cfg) \n",
    "trainer.resume_or_load(resume=False)\n",
    "trainer.train()"
   ]
  },
  {
   "cell_type": "markdown",
   "metadata": {
    "id": "6GBGSt63QZf1"
   },
   "source": [
    "# Evaluating the model 🧪\n",
    "\n",
    "We will check the performance of our model on the validation dataset."
   ]
  },
  {
   "cell_type": "code",
   "execution_count": null,
   "metadata": {
    "id": "BC0EzphvkslK"
   },
   "outputs": [],
   "source": [
    "cfg.MODEL.WEIGHTS = os.path.join(cfg.OUTPUT_DIR, \"model_final.pth\")\n",
    "cfg.MODEL.ROI_HEADS.SCORE_THRESH_TEST = 0.5   # set the testing threshold for this model\n",
    "cfg.DATASETS.TEST = (DatasetLabels.VAL, )\n",
    "predictor = DefaultPredictor(cfg)"
   ]
  },
  {
   "cell_type": "markdown",
   "metadata": {
    "id": "n5VkmUr1Qlyj"
   },
   "source": [
    "## Generate predictions on validation data "
   ]
  },
  {
   "cell_type": "code",
   "execution_count": null,
   "metadata": {
    "id": "mrfk7SynXjbV"
   },
   "outputs": [],
   "source": [
    "evaluator = COCOEvaluator(DatasetLabels.VAL, cfg, False, output_dir=cfg.OUTPUT_DIR)\n",
    "data_loader = build_detection_test_loader(cfg, DatasetLabels.VAL)\n",
    "results = inference_on_dataset(predictor.model, data_loader, evaluator)"
   ]
  },
  {
   "cell_type": "markdown",
   "metadata": {
    "id": "XNb_H5L-xX6d"
   },
   "source": [
    "## Visualizing the results 👓\n",
    "\n",
    "Numbers are good, but visualizations are better!"
   ]
  },
  {
   "cell_type": "code",
   "execution_count": null,
   "metadata": {
    "id": "6Gr_8OPtfyja"
   },
   "outputs": [],
   "source": [
    "metadata = MetadataCatalog.get(DatasetLabels.VAL)\n",
    "\n",
    "# Load the training annotations if not loaded\n",
    "if not validation_annotations:\n",
    "  with open(Paths.VAL_ANNOTATIONS) as json_file:\n",
    "      annotations = json.load(json_file)"
   ]
  },
  {
   "cell_type": "markdown",
   "metadata": {
    "id": "9eXHZzn0S4Dp"
   },
   "source": [
    "## Check the predictions\n",
    "\n",
    "**Note:** If you are not able to see segmentation masks on the images, that generally means that the model didn't predict a mask for that image. You can verify this by doing\n",
    "\n",
    "```python\n",
    "predictions = predictor(img)\n",
    "print(predictions)\n",
    "```"
   ]
  },
  {
   "cell_type": "code",
   "execution_count": null,
   "metadata": {
    "id": "Q1XMJcWLS7rX"
   },
   "outputs": [],
   "source": [
    "%matplotlib inline\n",
    "import matplotlib.pyplot as plt\n",
    "plt.rcParams['figure.dpi'] = 180\n",
    "\n",
    "\n",
    "# Visualize some random images\n",
    "for i in range(8):\n",
    "  image_filename = np.random.choice(validation_annotations.get(\"images\")).get(\"file_name\")\n",
    "  image_filename = os.path.join(Paths.VAL_IMAGES_DIR, image_filename)\n",
    "\n",
    "  img = cv2.imread(image_filename)\n",
    "  predictions = predictor(img)\n",
    "\n",
    "  v = Visualizer(img[:, :, ::-1],\n",
    "    metadata=metadata, \n",
    "    scale=0.5, \n",
    "    # instance_mode=ColorMode.IMAGE_BW\n",
    "  )\n",
    "  annotated_image = v.draw_instance_predictions(predictions[\"instances\"].to(\"cpu\"))\n",
    "\n",
    "  plt.subplot(2, 4, i+1)\n",
    "  plt.axis('off')\n",
    "  plt.imshow(annotated_image.get_image())"
   ]
  },
  {
   "cell_type": "markdown",
   "metadata": {
    "id": "tFAos6c6DGcx"
   },
   "source": [
    "# A note on class ID mappings\n",
    "\n",
    "Here is how the category object looks like\n",
    "\n",
    "```json\n",
    "{\n",
    "  \"id\": 2578,\n",
    "  \"name\": \"water\",\n",
    "  \"name_readable\": \"Water\",\n",
    "  \"supercategory\": \"food\"\n",
    "}\n",
    "```\n",
    "\n",
    "Detectron2 usually maps the category IDs to contiguous numbers. For example, consider the following categories,\n",
    "\n",
    "```json\n",
    "[\n",
    "  {\n",
    "    \"id\": 2578,\n",
    "    \"name\": \"water\",\n",
    "    \"name_readable\": \"Water\",\n",
    "    \"supercategory\": \"food\"\n",
    "  },\n",
    "  {\n",
    "    \"id\": 1157,\n",
    "    \"name\": \"pear\",\n",
    "    \"name_readable\": \"Pear\",\n",
    "    \"supercategory\": \"food\"\n",
    "  },\n",
    "  {\n",
    "    \"id\": 2022,\n",
    "    \"name\": \"egg\",\n",
    "    \"name_readable\": \"Egg\",\n",
    "    \"supercategory\": \"food\"\n",
    "  }\n",
    "]\n",
    "```\n",
    "\n",
    "Detectron internally maps these categories to something like\n",
    "\n",
    "```json\n",
    "{\n",
    "  0: 2578, # detectron_id: actual_class_id\n",
    "  1: 1157,\n",
    "  2: 2022\n",
    "}\n",
    "```\n",
    "\n",
    "So, when your model detects water, the prediction class ID that your model returns will be `0` and **not** `2578` . You should make sure to map these detectron IDs to their original actual class IDs for your submission to get scored properly.\n",
    "\n",
    "Here's how you can get this mapping."
   ]
  },
  {
   "cell_type": "code",
   "execution_count": null,
   "metadata": {
    "colab": {
     "base_uri": "https://localhost:8080/"
    },
    "id": "O98OLrwV7IPO",
    "outputId": "09d28337-fb76-4ef8-8823-8ace13626a8f"
   },
   "outputs": [
    {
     "name": "stdout",
     "output_type": "stream",
     "text": [
      "loading annotations into memory...\n",
      "Done (t=2.93s)\n",
      "creating index...\n",
      "index created!\n"
     ]
    }
   ],
   "source": [
    "coco_api = COCO(Paths.TRAIN_ANNOTATIONS)\n",
    "\n",
    "category_ids = sorted(coco_api.getCatIds())\n",
    "categories = coco_api.loadCats(category_ids)\n",
    "\n",
    "class_to_category = { int(class_id): int(category_id) for class_id, category_id in enumerate(category_ids) }\n",
    "\n",
    "with open(\"class_to_category.json\", \"w\") as fp:\n",
    "  json.dump(class_to_category, fp)"
   ]
  },
  {
   "cell_type": "markdown",
   "metadata": {
    "id": "7fThCV_4uAm4"
   },
   "source": [
    "# Ready? Submit to AIcrowd 🚀\n",
    "\n",
    "Now you can submit the trained model to AIcrowd!"
   ]
  },
  {
   "cell_type": "markdown",
   "metadata": {
    "id": "kcaSuCpiMVvb"
   },
   "source": [
    "## Submission configuration ⚙️"
   ]
  },
  {
   "cell_type": "code",
   "execution_count": null,
   "metadata": {
    "id": "OEPtkV57KC54"
   },
   "outputs": [],
   "source": [
    "aicrowd_submission = {\n",
    "    \"author\": \"<your name>\",\n",
    "    \"username\": \"<your aicrowd username>\",\n",
    "    \"description\": \"initial submission with detectron\",\n",
    "    \"debug\": False,\n",
    "    \"model_path\": \"outputs/model_final.pth\",\n",
    "    \"model_type\": \"model_zoo\",\n",
    "    \"model_config_file\": \"COCO-InstanceSegmentation/mask_rcnn_R_50_FPN_3x.yaml\",\n",
    "    \"detectron_model_config\": {\n",
    "      \"ROI_HEADS\": {\n",
    "        \"SCORE_THRESH_TEST\": 0.5,\n",
    "        \"NUM_CLASSES\": 273\n",
    "      }\n",
    "    }\n",
    "}\n",
    "\n",
    "aicrowd_submission[\"description\"] = aicrowd_submission[\"description\"].replace(\" \", \"-\")\n",
    "with open(\"aicrowd.json\", \"w\") as fp:\n",
    "  json.dump(aicrowd_submission, fp)"
   ]
  },
  {
   "cell_type": "markdown",
   "metadata": {
    "id": "3PKKwhlkKCfc"
   },
   "source": [
    "## Submit to AIcrowd\n",
    "\n",
    "**Note:** We will create an SSH key on your google drive. This key will be used to identify you on gitlab.aicrowd.com."
   ]
  },
  {
   "cell_type": "code",
   "execution_count": null,
   "metadata": {
    "id": "NFB2X_nkrGU5"
   },
   "outputs": [],
   "source": [
    "!bash <(curl -sL https://gitlab.aicrowd.com/jyotish/food-recognition-challenge-detectron2-baseline/raw/master/utils/submit-colab.sh)"
   ]
  },
  {
   "cell_type": "markdown",
   "metadata": {
    "id": "CrEBfu7rPHir"
   },
   "source": [
    "# 📎 Important Links\n",
    "\n",
    "* 💪 Challenge Page: https://www.aicrowd.com/challenges/food-recognition-challenge\n",
    "* 🗣 Discussion Forum: https://discourse.aicrowd.com/c/food-recognition-challenge\n",
    "* 🏆 Leaderboard: https://www.aicrowd.com/challenges/food-recognition-challenge/leaderboards  "
   ]
  }
 ],
 "metadata": {
  "colab": {
   "collapsed_sections": [],
   "include_colab_link": true,
   "name": "Detectron2 Starter Kit",
   "provenance": []
  },
  "kernelspec": {
   "display_name": "Python 3 (ipykernel)",
   "language": "python",
   "name": "python3"
  },
  "language_info": {
   "codemirror_mode": {
    "name": "ipython",
    "version": 3
   },
   "file_extension": ".py",
   "mimetype": "text/x-python",
   "name": "python",
   "nbconvert_exporter": "python",
   "pygments_lexer": "ipython3",
   "version": "3.9.7"
  },
  "widgets": {
   "application/vnd.jupyter.widget-state+json": {
    "085829770cf14af6a2e3d057ae79670c": {
     "model_module": "@jupyter-widgets/controls",
     "model_module_version": "1.5.0",
     "model_name": "DescriptionStyleModel",
     "state": {
      "_model_module": "@jupyter-widgets/controls",
      "_model_module_version": "1.5.0",
      "_model_name": "DescriptionStyleModel",
      "_view_count": null,
      "_view_module": "@jupyter-widgets/base",
      "_view_module_version": "1.2.0",
      "_view_name": "StyleView",
      "description_width": ""
     }
    },
    "2b40359f19bc40c1bc6c9cecab619d03": {
     "model_module": "@jupyter-widgets/controls",
     "model_module_version": "1.5.0",
     "model_name": "HBoxModel",
     "state": {
      "_dom_classes": [],
      "_model_module": "@jupyter-widgets/controls",
      "_model_module_version": "1.5.0",
      "_model_name": "HBoxModel",
      "_view_count": null,
      "_view_module": "@jupyter-widgets/controls",
      "_view_module_version": "1.5.0",
      "_view_name": "HBoxView",
      "box_style": "",
      "children": [
       "IPY_MODEL_38caea5cb9154a35b4f5bb72b9948168",
       "IPY_MODEL_c07fcfd7153645f8ab21e16eec1289d5",
       "IPY_MODEL_e788cfaee4df40c6800ba1d257288dc0"
      ],
      "layout": "IPY_MODEL_e8f173e77504425dbc7715e0a7af42c0"
     }
    },
    "31815a87d54a481da49b781289591f69": {
     "model_module": "@jupyter-widgets/controls",
     "model_module_version": "1.5.0",
     "model_name": "DescriptionStyleModel",
     "state": {
      "_model_module": "@jupyter-widgets/controls",
      "_model_module_version": "1.5.0",
      "_model_name": "DescriptionStyleModel",
      "_view_count": null,
      "_view_module": "@jupyter-widgets/base",
      "_view_module_version": "1.2.0",
      "_view_name": "StyleView",
      "description_width": ""
     }
    },
    "38caea5cb9154a35b4f5bb72b9948168": {
     "model_module": "@jupyter-widgets/controls",
     "model_module_version": "1.5.0",
     "model_name": "HTMLModel",
     "state": {
      "_dom_classes": [],
      "_model_module": "@jupyter-widgets/controls",
      "_model_module_version": "1.5.0",
      "_model_name": "HTMLModel",
      "_view_count": null,
      "_view_module": "@jupyter-widgets/controls",
      "_view_module_version": "1.5.0",
      "_view_name": "HTMLView",
      "description": "",
      "description_tooltip": null,
      "layout": "IPY_MODEL_e8a9938949ba49aab5982a88718dfa2e",
      "placeholder": "​",
      "style": "IPY_MODEL_7f125faa9f8846838a86fd82df543d0f",
      "value": "100%"
     }
    },
    "5b4a5ca1df9e4ad6b12e723cc81ceac9": {
     "model_module": "@jupyter-widgets/controls",
     "model_module_version": "1.5.0",
     "model_name": "DescriptionStyleModel",
     "state": {
      "_model_module": "@jupyter-widgets/controls",
      "_model_module_version": "1.5.0",
      "_model_name": "DescriptionStyleModel",
      "_view_count": null,
      "_view_module": "@jupyter-widgets/base",
      "_view_module_version": "1.2.0",
      "_view_name": "StyleView",
      "description_width": ""
     }
    },
    "5b751465eff04ebd91ad374455849636": {
     "model_module": "@jupyter-widgets/base",
     "model_module_version": "1.2.0",
     "model_name": "LayoutModel",
     "state": {
      "_model_module": "@jupyter-widgets/base",
      "_model_module_version": "1.2.0",
      "_model_name": "LayoutModel",
      "_view_count": null,
      "_view_module": "@jupyter-widgets/base",
      "_view_module_version": "1.2.0",
      "_view_name": "LayoutView",
      "align_content": null,
      "align_items": null,
      "align_self": null,
      "border": null,
      "bottom": null,
      "display": null,
      "flex": null,
      "flex_flow": null,
      "grid_area": null,
      "grid_auto_columns": null,
      "grid_auto_flow": null,
      "grid_auto_rows": null,
      "grid_column": null,
      "grid_gap": null,
      "grid_row": null,
      "grid_template_areas": null,
      "grid_template_columns": null,
      "grid_template_rows": null,
      "height": null,
      "justify_content": null,
      "justify_items": null,
      "left": null,
      "margin": null,
      "max_height": null,
      "max_width": null,
      "min_height": null,
      "min_width": null,
      "object_fit": null,
      "object_position": null,
      "order": null,
      "overflow": null,
      "overflow_x": null,
      "overflow_y": null,
      "padding": null,
      "right": null,
      "top": null,
      "visibility": null,
      "width": null
     }
    },
    "5fd71b6dbd7f4f39b443a07452dd678e": {
     "model_module": "@jupyter-widgets/controls",
     "model_module_version": "1.5.0",
     "model_name": "DescriptionStyleModel",
     "state": {
      "_model_module": "@jupyter-widgets/controls",
      "_model_module_version": "1.5.0",
      "_model_name": "DescriptionStyleModel",
      "_view_count": null,
      "_view_module": "@jupyter-widgets/base",
      "_view_module_version": "1.2.0",
      "_view_name": "StyleView",
      "description_width": ""
     }
    },
    "603b891994ee4c40af945ee4b0662628": {
     "model_module": "@jupyter-widgets/base",
     "model_module_version": "1.2.0",
     "model_name": "LayoutModel",
     "state": {
      "_model_module": "@jupyter-widgets/base",
      "_model_module_version": "1.2.0",
      "_model_name": "LayoutModel",
      "_view_count": null,
      "_view_module": "@jupyter-widgets/base",
      "_view_module_version": "1.2.0",
      "_view_name": "LayoutView",
      "align_content": null,
      "align_items": null,
      "align_self": null,
      "border": null,
      "bottom": null,
      "display": null,
      "flex": null,
      "flex_flow": null,
      "grid_area": null,
      "grid_auto_columns": null,
      "grid_auto_flow": null,
      "grid_auto_rows": null,
      "grid_column": null,
      "grid_gap": null,
      "grid_row": null,
      "grid_template_areas": null,
      "grid_template_columns": null,
      "grid_template_rows": null,
      "height": null,
      "justify_content": null,
      "justify_items": null,
      "left": null,
      "margin": null,
      "max_height": null,
      "max_width": null,
      "min_height": null,
      "min_width": null,
      "object_fit": null,
      "object_position": null,
      "order": null,
      "overflow": null,
      "overflow_x": null,
      "overflow_y": null,
      "padding": null,
      "right": null,
      "top": null,
      "visibility": null,
      "width": null
     }
    },
    "65afa1127b6e43338b31ee2338ee2ad7": {
     "model_module": "@jupyter-widgets/base",
     "model_module_version": "1.2.0",
     "model_name": "LayoutModel",
     "state": {
      "_model_module": "@jupyter-widgets/base",
      "_model_module_version": "1.2.0",
      "_model_name": "LayoutModel",
      "_view_count": null,
      "_view_module": "@jupyter-widgets/base",
      "_view_module_version": "1.2.0",
      "_view_name": "LayoutView",
      "align_content": null,
      "align_items": null,
      "align_self": null,
      "border": null,
      "bottom": null,
      "display": null,
      "flex": null,
      "flex_flow": null,
      "grid_area": null,
      "grid_auto_columns": null,
      "grid_auto_flow": null,
      "grid_auto_rows": null,
      "grid_column": null,
      "grid_gap": null,
      "grid_row": null,
      "grid_template_areas": null,
      "grid_template_columns": null,
      "grid_template_rows": null,
      "height": null,
      "justify_content": null,
      "justify_items": null,
      "left": null,
      "margin": null,
      "max_height": null,
      "max_width": null,
      "min_height": null,
      "min_width": null,
      "object_fit": null,
      "object_position": null,
      "order": null,
      "overflow": null,
      "overflow_x": null,
      "overflow_y": null,
      "padding": null,
      "right": null,
      "top": null,
      "visibility": null,
      "width": null
     }
    },
    "6da42afaee4e4bf28585639ff877880e": {
     "model_module": "@jupyter-widgets/controls",
     "model_module_version": "1.5.0",
     "model_name": "HTMLModel",
     "state": {
      "_dom_classes": [],
      "_model_module": "@jupyter-widgets/controls",
      "_model_module_version": "1.5.0",
      "_model_name": "HTMLModel",
      "_view_count": null,
      "_view_module": "@jupyter-widgets/controls",
      "_view_module_version": "1.5.0",
      "_view_name": "HTMLView",
      "description": "",
      "description_tooltip": null,
      "layout": "IPY_MODEL_dbda75a873c14de8a76cb489bb755304",
      "placeholder": "​",
      "style": "IPY_MODEL_085829770cf14af6a2e3d057ae79670c",
      "value": " 4/4 [00:01&lt;00:00,  3.31it/s]"
     }
    },
    "6ed6ee2c18ad4333b0b718bb993196d8": {
     "model_module": "@jupyter-widgets/base",
     "model_module_version": "1.2.0",
     "model_name": "LayoutModel",
     "state": {
      "_model_module": "@jupyter-widgets/base",
      "_model_module_version": "1.2.0",
      "_model_name": "LayoutModel",
      "_view_count": null,
      "_view_module": "@jupyter-widgets/base",
      "_view_module_version": "1.2.0",
      "_view_name": "LayoutView",
      "align_content": null,
      "align_items": null,
      "align_self": null,
      "border": null,
      "bottom": null,
      "display": null,
      "flex": null,
      "flex_flow": null,
      "grid_area": null,
      "grid_auto_columns": null,
      "grid_auto_flow": null,
      "grid_auto_rows": null,
      "grid_column": null,
      "grid_gap": null,
      "grid_row": null,
      "grid_template_areas": null,
      "grid_template_columns": null,
      "grid_template_rows": null,
      "height": null,
      "justify_content": null,
      "justify_items": null,
      "left": null,
      "margin": null,
      "max_height": null,
      "max_width": null,
      "min_height": null,
      "min_width": null,
      "object_fit": null,
      "object_position": null,
      "order": null,
      "overflow": null,
      "overflow_x": null,
      "overflow_y": null,
      "padding": null,
      "right": null,
      "top": null,
      "visibility": null,
      "width": null
     }
    },
    "773342d3856741988a3a98f84b81bf76": {
     "model_module": "@jupyter-widgets/base",
     "model_module_version": "1.2.0",
     "model_name": "LayoutModel",
     "state": {
      "_model_module": "@jupyter-widgets/base",
      "_model_module_version": "1.2.0",
      "_model_name": "LayoutModel",
      "_view_count": null,
      "_view_module": "@jupyter-widgets/base",
      "_view_module_version": "1.2.0",
      "_view_name": "LayoutView",
      "align_content": null,
      "align_items": null,
      "align_self": null,
      "border": null,
      "bottom": null,
      "display": null,
      "flex": null,
      "flex_flow": null,
      "grid_area": null,
      "grid_auto_columns": null,
      "grid_auto_flow": null,
      "grid_auto_rows": null,
      "grid_column": null,
      "grid_gap": null,
      "grid_row": null,
      "grid_template_areas": null,
      "grid_template_columns": null,
      "grid_template_rows": null,
      "height": null,
      "justify_content": null,
      "justify_items": null,
      "left": null,
      "margin": null,
      "max_height": null,
      "max_width": null,
      "min_height": null,
      "min_width": null,
      "object_fit": null,
      "object_position": null,
      "order": null,
      "overflow": null,
      "overflow_x": null,
      "overflow_y": null,
      "padding": null,
      "right": null,
      "top": null,
      "visibility": null,
      "width": null
     }
    },
    "79f49b6cbcc64ddc91ef1a54614fff6c": {
     "model_module": "@jupyter-widgets/base",
     "model_module_version": "1.2.0",
     "model_name": "LayoutModel",
     "state": {
      "_model_module": "@jupyter-widgets/base",
      "_model_module_version": "1.2.0",
      "_model_name": "LayoutModel",
      "_view_count": null,
      "_view_module": "@jupyter-widgets/base",
      "_view_module_version": "1.2.0",
      "_view_name": "LayoutView",
      "align_content": null,
      "align_items": null,
      "align_self": null,
      "border": null,
      "bottom": null,
      "display": null,
      "flex": null,
      "flex_flow": null,
      "grid_area": null,
      "grid_auto_columns": null,
      "grid_auto_flow": null,
      "grid_auto_rows": null,
      "grid_column": null,
      "grid_gap": null,
      "grid_row": null,
      "grid_template_areas": null,
      "grid_template_columns": null,
      "grid_template_rows": null,
      "height": null,
      "justify_content": null,
      "justify_items": null,
      "left": null,
      "margin": null,
      "max_height": null,
      "max_width": null,
      "min_height": null,
      "min_width": null,
      "object_fit": null,
      "object_position": null,
      "order": null,
      "overflow": null,
      "overflow_x": null,
      "overflow_y": null,
      "padding": null,
      "right": null,
      "top": null,
      "visibility": null,
      "width": null
     }
    },
    "7f125faa9f8846838a86fd82df543d0f": {
     "model_module": "@jupyter-widgets/controls",
     "model_module_version": "1.5.0",
     "model_name": "DescriptionStyleModel",
     "state": {
      "_model_module": "@jupyter-widgets/controls",
      "_model_module_version": "1.5.0",
      "_model_name": "DescriptionStyleModel",
      "_view_count": null,
      "_view_module": "@jupyter-widgets/base",
      "_view_module_version": "1.2.0",
      "_view_name": "StyleView",
      "description_width": ""
     }
    },
    "ab980737f96b4e8f917eea64dd86d98a": {
     "model_module": "@jupyter-widgets/controls",
     "model_module_version": "1.5.0",
     "model_name": "FloatProgressModel",
     "state": {
      "_dom_classes": [],
      "_model_module": "@jupyter-widgets/controls",
      "_model_module_version": "1.5.0",
      "_model_name": "FloatProgressModel",
      "_view_count": null,
      "_view_module": "@jupyter-widgets/controls",
      "_view_module_version": "1.5.0",
      "_view_name": "ProgressView",
      "bar_style": "success",
      "description": "",
      "description_tooltip": null,
      "layout": "IPY_MODEL_5b751465eff04ebd91ad374455849636",
      "max": 4,
      "min": 0,
      "orientation": "horizontal",
      "style": "IPY_MODEL_bc5f96ad32da4848bf58cbf19a4e9752",
      "value": 4
     }
    },
    "b76583f3df1845ff91d32e6579dc70ae": {
     "model_module": "@jupyter-widgets/base",
     "model_module_version": "1.2.0",
     "model_name": "LayoutModel",
     "state": {
      "_model_module": "@jupyter-widgets/base",
      "_model_module_version": "1.2.0",
      "_model_name": "LayoutModel",
      "_view_count": null,
      "_view_module": "@jupyter-widgets/base",
      "_view_module_version": "1.2.0",
      "_view_name": "LayoutView",
      "align_content": null,
      "align_items": null,
      "align_self": null,
      "border": null,
      "bottom": null,
      "display": null,
      "flex": null,
      "flex_flow": null,
      "grid_area": null,
      "grid_auto_columns": null,
      "grid_auto_flow": null,
      "grid_auto_rows": null,
      "grid_column": null,
      "grid_gap": null,
      "grid_row": null,
      "grid_template_areas": null,
      "grid_template_columns": null,
      "grid_template_rows": null,
      "height": null,
      "justify_content": null,
      "justify_items": null,
      "left": null,
      "margin": null,
      "max_height": null,
      "max_width": null,
      "min_height": null,
      "min_width": null,
      "object_fit": null,
      "object_position": null,
      "order": null,
      "overflow": null,
      "overflow_x": null,
      "overflow_y": null,
      "padding": null,
      "right": null,
      "top": null,
      "visibility": null,
      "width": null
     }
    },
    "b902cc3601b34f08ad0be120d6cae88d": {
     "model_module": "@jupyter-widgets/base",
     "model_module_version": "1.2.0",
     "model_name": "LayoutModel",
     "state": {
      "_model_module": "@jupyter-widgets/base",
      "_model_module_version": "1.2.0",
      "_model_name": "LayoutModel",
      "_view_count": null,
      "_view_module": "@jupyter-widgets/base",
      "_view_module_version": "1.2.0",
      "_view_name": "LayoutView",
      "align_content": null,
      "align_items": null,
      "align_self": null,
      "border": null,
      "bottom": null,
      "display": null,
      "flex": null,
      "flex_flow": null,
      "grid_area": null,
      "grid_auto_columns": null,
      "grid_auto_flow": null,
      "grid_auto_rows": null,
      "grid_column": null,
      "grid_gap": null,
      "grid_row": null,
      "grid_template_areas": null,
      "grid_template_columns": null,
      "grid_template_rows": null,
      "height": null,
      "justify_content": null,
      "justify_items": null,
      "left": null,
      "margin": null,
      "max_height": null,
      "max_width": null,
      "min_height": null,
      "min_width": null,
      "object_fit": null,
      "object_position": null,
      "order": null,
      "overflow": null,
      "overflow_x": null,
      "overflow_y": null,
      "padding": null,
      "right": null,
      "top": null,
      "visibility": null,
      "width": null
     }
    },
    "bc5f96ad32da4848bf58cbf19a4e9752": {
     "model_module": "@jupyter-widgets/controls",
     "model_module_version": "1.5.0",
     "model_name": "ProgressStyleModel",
     "state": {
      "_model_module": "@jupyter-widgets/controls",
      "_model_module_version": "1.5.0",
      "_model_name": "ProgressStyleModel",
      "_view_count": null,
      "_view_module": "@jupyter-widgets/base",
      "_view_module_version": "1.2.0",
      "_view_name": "StyleView",
      "bar_color": null,
      "description_width": ""
     }
    },
    "be43c53d822b4989ab0b292a92331de8": {
     "model_module": "@jupyter-widgets/controls",
     "model_module_version": "1.5.0",
     "model_name": "HTMLModel",
     "state": {
      "_dom_classes": [],
      "_model_module": "@jupyter-widgets/controls",
      "_model_module_version": "1.5.0",
      "_model_name": "HTMLModel",
      "_view_count": null,
      "_view_module": "@jupyter-widgets/controls",
      "_view_module_version": "1.5.0",
      "_view_name": "HTMLView",
      "description": "",
      "description_tooltip": null,
      "layout": "IPY_MODEL_773342d3856741988a3a98f84b81bf76",
      "placeholder": "​",
      "style": "IPY_MODEL_31815a87d54a481da49b781289591f69",
      "value": "100%"
     }
    },
    "bf1bacab16f14aeebae4b0b5d5d43248": {
     "model_module": "@jupyter-widgets/controls",
     "model_module_version": "1.5.0",
     "model_name": "ProgressStyleModel",
     "state": {
      "_model_module": "@jupyter-widgets/controls",
      "_model_module_version": "1.5.0",
      "_model_name": "ProgressStyleModel",
      "_view_count": null,
      "_view_module": "@jupyter-widgets/base",
      "_view_module_version": "1.2.0",
      "_view_name": "StyleView",
      "bar_color": null,
      "description_width": ""
     }
    },
    "c07fcfd7153645f8ab21e16eec1289d5": {
     "model_module": "@jupyter-widgets/controls",
     "model_module_version": "1.5.0",
     "model_name": "FloatProgressModel",
     "state": {
      "_dom_classes": [],
      "_model_module": "@jupyter-widgets/controls",
      "_model_module_version": "1.5.0",
      "_model_name": "FloatProgressModel",
      "_view_count": null,
      "_view_module": "@jupyter-widgets/controls",
      "_view_module_version": "1.5.0",
      "_view_name": "ProgressView",
      "bar_style": "success",
      "description": "",
      "description_tooltip": null,
      "layout": "IPY_MODEL_79f49b6cbcc64ddc91ef1a54614fff6c",
      "max": 291,
      "min": 0,
      "orientation": "horizontal",
      "style": "IPY_MODEL_f7f0285815b04923879075580ee46483",
      "value": 291
     }
    },
    "c0fb424ef88941e3832a7c7e22e08a9f": {
     "model_module": "@jupyter-widgets/base",
     "model_module_version": "1.2.0",
     "model_name": "LayoutModel",
     "state": {
      "_model_module": "@jupyter-widgets/base",
      "_model_module_version": "1.2.0",
      "_model_name": "LayoutModel",
      "_view_count": null,
      "_view_module": "@jupyter-widgets/base",
      "_view_module_version": "1.2.0",
      "_view_name": "LayoutView",
      "align_content": null,
      "align_items": null,
      "align_self": null,
      "border": null,
      "bottom": null,
      "display": null,
      "flex": null,
      "flex_flow": null,
      "grid_area": null,
      "grid_auto_columns": null,
      "grid_auto_flow": null,
      "grid_auto_rows": null,
      "grid_column": null,
      "grid_gap": null,
      "grid_row": null,
      "grid_template_areas": null,
      "grid_template_columns": null,
      "grid_template_rows": null,
      "height": null,
      "justify_content": null,
      "justify_items": null,
      "left": null,
      "margin": null,
      "max_height": null,
      "max_width": null,
      "min_height": null,
      "min_width": null,
      "object_fit": null,
      "object_position": null,
      "order": null,
      "overflow": null,
      "overflow_x": null,
      "overflow_y": null,
      "padding": null,
      "right": null,
      "top": null,
      "visibility": null,
      "width": null
     }
    },
    "c65809f2929241a9a9f0aacaf8e8cc9c": {
     "model_module": "@jupyter-widgets/controls",
     "model_module_version": "1.5.0",
     "model_name": "DescriptionStyleModel",
     "state": {
      "_model_module": "@jupyter-widgets/controls",
      "_model_module_version": "1.5.0",
      "_model_name": "DescriptionStyleModel",
      "_view_count": null,
      "_view_module": "@jupyter-widgets/base",
      "_view_module_version": "1.2.0",
      "_view_name": "StyleView",
      "description_width": ""
     }
    },
    "d2470efe370c40acafeb43ca91b16b49": {
     "model_module": "@jupyter-widgets/controls",
     "model_module_version": "1.5.0",
     "model_name": "HTMLModel",
     "state": {
      "_dom_classes": [],
      "_model_module": "@jupyter-widgets/controls",
      "_model_module_version": "1.5.0",
      "_model_name": "HTMLModel",
      "_view_count": null,
      "_view_module": "@jupyter-widgets/controls",
      "_view_module_version": "1.5.0",
      "_view_name": "HTMLView",
      "description": "",
      "description_tooltip": null,
      "layout": "IPY_MODEL_b76583f3df1845ff91d32e6579dc70ae",
      "placeholder": "​",
      "style": "IPY_MODEL_5fd71b6dbd7f4f39b443a07452dd678e",
      "value": "100%"
     }
    },
    "dab1d2289dd945e5862f80843fada1e9": {
     "model_module": "@jupyter-widgets/controls",
     "model_module_version": "1.5.0",
     "model_name": "HBoxModel",
     "state": {
      "_dom_classes": [],
      "_model_module": "@jupyter-widgets/controls",
      "_model_module_version": "1.5.0",
      "_model_name": "HBoxModel",
      "_view_count": null,
      "_view_module": "@jupyter-widgets/controls",
      "_view_module_version": "1.5.0",
      "_view_name": "HBoxView",
      "box_style": "",
      "children": [
       "IPY_MODEL_be43c53d822b4989ab0b292a92331de8",
       "IPY_MODEL_ab980737f96b4e8f917eea64dd86d98a",
       "IPY_MODEL_6da42afaee4e4bf28585639ff877880e"
      ],
      "layout": "IPY_MODEL_65afa1127b6e43338b31ee2338ee2ad7"
     }
    },
    "dbda75a873c14de8a76cb489bb755304": {
     "model_module": "@jupyter-widgets/base",
     "model_module_version": "1.2.0",
     "model_name": "LayoutModel",
     "state": {
      "_model_module": "@jupyter-widgets/base",
      "_model_module_version": "1.2.0",
      "_model_name": "LayoutModel",
      "_view_count": null,
      "_view_module": "@jupyter-widgets/base",
      "_view_module_version": "1.2.0",
      "_view_name": "LayoutView",
      "align_content": null,
      "align_items": null,
      "align_self": null,
      "border": null,
      "bottom": null,
      "display": null,
      "flex": null,
      "flex_flow": null,
      "grid_area": null,
      "grid_auto_columns": null,
      "grid_auto_flow": null,
      "grid_auto_rows": null,
      "grid_column": null,
      "grid_gap": null,
      "grid_row": null,
      "grid_template_areas": null,
      "grid_template_columns": null,
      "grid_template_rows": null,
      "height": null,
      "justify_content": null,
      "justify_items": null,
      "left": null,
      "margin": null,
      "max_height": null,
      "max_width": null,
      "min_height": null,
      "min_width": null,
      "object_fit": null,
      "object_position": null,
      "order": null,
      "overflow": null,
      "overflow_x": null,
      "overflow_y": null,
      "padding": null,
      "right": null,
      "top": null,
      "visibility": null,
      "width": null
     }
    },
    "dc2c83b7976148deb3940b2af616628d": {
     "model_module": "@jupyter-widgets/controls",
     "model_module_version": "1.5.0",
     "model_name": "HBoxModel",
     "state": {
      "_dom_classes": [],
      "_model_module": "@jupyter-widgets/controls",
      "_model_module_version": "1.5.0",
      "_model_name": "HBoxModel",
      "_view_count": null,
      "_view_module": "@jupyter-widgets/controls",
      "_view_module_version": "1.5.0",
      "_view_name": "HBoxView",
      "box_style": "",
      "children": [
       "IPY_MODEL_d2470efe370c40acafeb43ca91b16b49",
       "IPY_MODEL_e1585637be1b4217a1c8abef9de8fd96",
       "IPY_MODEL_e35788df0e95470bb8386cd0e2a82762"
      ],
      "layout": "IPY_MODEL_603b891994ee4c40af945ee4b0662628"
     }
    },
    "e1585637be1b4217a1c8abef9de8fd96": {
     "model_module": "@jupyter-widgets/controls",
     "model_module_version": "1.5.0",
     "model_name": "FloatProgressModel",
     "state": {
      "_dom_classes": [],
      "_model_module": "@jupyter-widgets/controls",
      "_model_module_version": "1.5.0",
      "_model_name": "FloatProgressModel",
      "_view_count": null,
      "_view_module": "@jupyter-widgets/controls",
      "_view_module_version": "1.5.0",
      "_view_name": "ProgressView",
      "bar_style": "success",
      "description": "",
      "description_tooltip": null,
      "layout": "IPY_MODEL_c0fb424ef88941e3832a7c7e22e08a9f",
      "max": 5545,
      "min": 0,
      "orientation": "horizontal",
      "style": "IPY_MODEL_bf1bacab16f14aeebae4b0b5d5d43248",
      "value": 5545
     }
    },
    "e35788df0e95470bb8386cd0e2a82762": {
     "model_module": "@jupyter-widgets/controls",
     "model_module_version": "1.5.0",
     "model_name": "HTMLModel",
     "state": {
      "_dom_classes": [],
      "_model_module": "@jupyter-widgets/controls",
      "_model_module_version": "1.5.0",
      "_model_name": "HTMLModel",
      "_view_count": null,
      "_view_module": "@jupyter-widgets/controls",
      "_view_module_version": "1.5.0",
      "_view_name": "HTMLView",
      "description": "",
      "description_tooltip": null,
      "layout": "IPY_MODEL_b902cc3601b34f08ad0be120d6cae88d",
      "placeholder": "​",
      "style": "IPY_MODEL_5b4a5ca1df9e4ad6b12e723cc81ceac9",
      "value": " 5545/5545 [00:33&lt;00:00, 186.38it/s]"
     }
    },
    "e788cfaee4df40c6800ba1d257288dc0": {
     "model_module": "@jupyter-widgets/controls",
     "model_module_version": "1.5.0",
     "model_name": "HTMLModel",
     "state": {
      "_dom_classes": [],
      "_model_module": "@jupyter-widgets/controls",
      "_model_module_version": "1.5.0",
      "_model_name": "HTMLModel",
      "_view_count": null,
      "_view_module": "@jupyter-widgets/controls",
      "_view_module_version": "1.5.0",
      "_view_name": "HTMLView",
      "description": "",
      "description_tooltip": null,
      "layout": "IPY_MODEL_6ed6ee2c18ad4333b0b718bb993196d8",
      "placeholder": "​",
      "style": "IPY_MODEL_c65809f2929241a9a9f0aacaf8e8cc9c",
      "value": " 291/291 [00:01&lt;00:00, 175.23it/s]"
     }
    },
    "e8a9938949ba49aab5982a88718dfa2e": {
     "model_module": "@jupyter-widgets/base",
     "model_module_version": "1.2.0",
     "model_name": "LayoutModel",
     "state": {
      "_model_module": "@jupyter-widgets/base",
      "_model_module_version": "1.2.0",
      "_model_name": "LayoutModel",
      "_view_count": null,
      "_view_module": "@jupyter-widgets/base",
      "_view_module_version": "1.2.0",
      "_view_name": "LayoutView",
      "align_content": null,
      "align_items": null,
      "align_self": null,
      "border": null,
      "bottom": null,
      "display": null,
      "flex": null,
      "flex_flow": null,
      "grid_area": null,
      "grid_auto_columns": null,
      "grid_auto_flow": null,
      "grid_auto_rows": null,
      "grid_column": null,
      "grid_gap": null,
      "grid_row": null,
      "grid_template_areas": null,
      "grid_template_columns": null,
      "grid_template_rows": null,
      "height": null,
      "justify_content": null,
      "justify_items": null,
      "left": null,
      "margin": null,
      "max_height": null,
      "max_width": null,
      "min_height": null,
      "min_width": null,
      "object_fit": null,
      "object_position": null,
      "order": null,
      "overflow": null,
      "overflow_x": null,
      "overflow_y": null,
      "padding": null,
      "right": null,
      "top": null,
      "visibility": null,
      "width": null
     }
    },
    "e8f173e77504425dbc7715e0a7af42c0": {
     "model_module": "@jupyter-widgets/base",
     "model_module_version": "1.2.0",
     "model_name": "LayoutModel",
     "state": {
      "_model_module": "@jupyter-widgets/base",
      "_model_module_version": "1.2.0",
      "_model_name": "LayoutModel",
      "_view_count": null,
      "_view_module": "@jupyter-widgets/base",
      "_view_module_version": "1.2.0",
      "_view_name": "LayoutView",
      "align_content": null,
      "align_items": null,
      "align_self": null,
      "border": null,
      "bottom": null,
      "display": null,
      "flex": null,
      "flex_flow": null,
      "grid_area": null,
      "grid_auto_columns": null,
      "grid_auto_flow": null,
      "grid_auto_rows": null,
      "grid_column": null,
      "grid_gap": null,
      "grid_row": null,
      "grid_template_areas": null,
      "grid_template_columns": null,
      "grid_template_rows": null,
      "height": null,
      "justify_content": null,
      "justify_items": null,
      "left": null,
      "margin": null,
      "max_height": null,
      "max_width": null,
      "min_height": null,
      "min_width": null,
      "object_fit": null,
      "object_position": null,
      "order": null,
      "overflow": null,
      "overflow_x": null,
      "overflow_y": null,
      "padding": null,
      "right": null,
      "top": null,
      "visibility": null,
      "width": null
     }
    },
    "f7f0285815b04923879075580ee46483": {
     "model_module": "@jupyter-widgets/controls",
     "model_module_version": "1.5.0",
     "model_name": "ProgressStyleModel",
     "state": {
      "_model_module": "@jupyter-widgets/controls",
      "_model_module_version": "1.5.0",
      "_model_name": "ProgressStyleModel",
      "_view_count": null,
      "_view_module": "@jupyter-widgets/base",
      "_view_module_version": "1.2.0",
      "_view_name": "StyleView",
      "bar_color": null,
      "description_width": ""
     }
    }
   }
  }
 },
 "nbformat": 4,
 "nbformat_minor": 1
}
