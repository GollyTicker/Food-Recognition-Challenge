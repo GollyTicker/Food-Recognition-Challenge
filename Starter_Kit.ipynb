{
  "nbformat": 4,
  "nbformat_minor": 0,
  "metadata": {
    "colab": {
      "name": "Detectron2 Starter Kit",
      "provenance": [],
      "collapsed_sections": [],
      "include_colab_link": true
    },
    "kernelspec": {
      "name": "python3",
      "display_name": "Python 3"
    },
    "widgets": {
      "application/vnd.jupyter.widget-state+json": {
        "8aebf759035e445b942c90301a677e60": {
          "model_module": "@jupyter-widgets/controls",
          "model_name": "HBoxModel",
          "model_module_version": "1.5.0",
          "state": {
            "_view_name": "HBoxView",
            "_dom_classes": [],
            "_model_name": "HBoxModel",
            "_view_module": "@jupyter-widgets/controls",
            "_model_module_version": "1.5.0",
            "_view_count": null,
            "_view_module_version": "1.5.0",
            "box_style": "",
            "layout": "IPY_MODEL_8700ade97610492ab478343fe5a6cf99",
            "_model_module": "@jupyter-widgets/controls",
            "children": [
              "IPY_MODEL_1f0ab32e7253469d982a6b3d28d38304",
              "IPY_MODEL_05f88399b1ab4ea3984bde4478a9a9f1",
              "IPY_MODEL_9c4c7f8aa89c429ebebf2dc917f7b6ef"
            ]
          }
        },
        "8700ade97610492ab478343fe5a6cf99": {
          "model_module": "@jupyter-widgets/base",
          "model_name": "LayoutModel",
          "model_module_version": "1.2.0",
          "state": {
            "_view_name": "LayoutView",
            "grid_template_rows": null,
            "right": null,
            "justify_content": null,
            "_view_module": "@jupyter-widgets/base",
            "overflow": null,
            "_model_module_version": "1.2.0",
            "_view_count": null,
            "flex_flow": null,
            "width": null,
            "min_width": null,
            "border": null,
            "align_items": null,
            "bottom": null,
            "_model_module": "@jupyter-widgets/base",
            "top": null,
            "grid_column": null,
            "overflow_y": null,
            "overflow_x": null,
            "grid_auto_flow": null,
            "grid_area": null,
            "grid_template_columns": null,
            "flex": null,
            "_model_name": "LayoutModel",
            "justify_items": null,
            "grid_row": null,
            "max_height": null,
            "align_content": null,
            "visibility": null,
            "align_self": null,
            "height": null,
            "min_height": null,
            "padding": null,
            "grid_auto_rows": null,
            "grid_gap": null,
            "max_width": null,
            "order": null,
            "_view_module_version": "1.2.0",
            "grid_template_areas": null,
            "object_position": null,
            "object_fit": null,
            "grid_auto_columns": null,
            "margin": null,
            "display": null,
            "left": null
          }
        },
        "1f0ab32e7253469d982a6b3d28d38304": {
          "model_module": "@jupyter-widgets/controls",
          "model_name": "HTMLModel",
          "model_module_version": "1.5.0",
          "state": {
            "_view_name": "HTMLView",
            "style": "IPY_MODEL_6e8e29df8dae4580b82b9b64b381bb2b",
            "_dom_classes": [],
            "description": "",
            "_model_name": "HTMLModel",
            "placeholder": "​",
            "_view_module": "@jupyter-widgets/controls",
            "_model_module_version": "1.5.0",
            "value": "100%",
            "_view_count": null,
            "_view_module_version": "1.5.0",
            "description_tooltip": null,
            "_model_module": "@jupyter-widgets/controls",
            "layout": "IPY_MODEL_a5640c4fbe3e4c42975f23970c2e06e7"
          }
        },
        "05f88399b1ab4ea3984bde4478a9a9f1": {
          "model_module": "@jupyter-widgets/controls",
          "model_name": "FloatProgressModel",
          "model_module_version": "1.5.0",
          "state": {
            "_view_name": "ProgressView",
            "style": "IPY_MODEL_d1623acb4ecc41a4beacb629e9847a04",
            "_dom_classes": [],
            "description": "",
            "_model_name": "FloatProgressModel",
            "bar_style": "success",
            "max": 5545,
            "_view_module": "@jupyter-widgets/controls",
            "_model_module_version": "1.5.0",
            "value": 5545,
            "_view_count": null,
            "_view_module_version": "1.5.0",
            "orientation": "horizontal",
            "min": 0,
            "description_tooltip": null,
            "_model_module": "@jupyter-widgets/controls",
            "layout": "IPY_MODEL_cbdcdb65abf542049555a83e74fbccff"
          }
        },
        "9c4c7f8aa89c429ebebf2dc917f7b6ef": {
          "model_module": "@jupyter-widgets/controls",
          "model_name": "HTMLModel",
          "model_module_version": "1.5.0",
          "state": {
            "_view_name": "HTMLView",
            "style": "IPY_MODEL_82be7db2269c46c8b81e82b289062be9",
            "_dom_classes": [],
            "description": "",
            "_model_name": "HTMLModel",
            "placeholder": "​",
            "_view_module": "@jupyter-widgets/controls",
            "_model_module_version": "1.5.0",
            "value": " 5545/5545 [00:34&lt;00:00, 185.45it/s]",
            "_view_count": null,
            "_view_module_version": "1.5.0",
            "description_tooltip": null,
            "_model_module": "@jupyter-widgets/controls",
            "layout": "IPY_MODEL_ab987595b80544f1aff28ce898b912bf"
          }
        },
        "6e8e29df8dae4580b82b9b64b381bb2b": {
          "model_module": "@jupyter-widgets/controls",
          "model_name": "DescriptionStyleModel",
          "model_module_version": "1.5.0",
          "state": {
            "_view_name": "StyleView",
            "_model_name": "DescriptionStyleModel",
            "description_width": "",
            "_view_module": "@jupyter-widgets/base",
            "_model_module_version": "1.5.0",
            "_view_count": null,
            "_view_module_version": "1.2.0",
            "_model_module": "@jupyter-widgets/controls"
          }
        },
        "a5640c4fbe3e4c42975f23970c2e06e7": {
          "model_module": "@jupyter-widgets/base",
          "model_name": "LayoutModel",
          "model_module_version": "1.2.0",
          "state": {
            "_view_name": "LayoutView",
            "grid_template_rows": null,
            "right": null,
            "justify_content": null,
            "_view_module": "@jupyter-widgets/base",
            "overflow": null,
            "_model_module_version": "1.2.0",
            "_view_count": null,
            "flex_flow": null,
            "width": null,
            "min_width": null,
            "border": null,
            "align_items": null,
            "bottom": null,
            "_model_module": "@jupyter-widgets/base",
            "top": null,
            "grid_column": null,
            "overflow_y": null,
            "overflow_x": null,
            "grid_auto_flow": null,
            "grid_area": null,
            "grid_template_columns": null,
            "flex": null,
            "_model_name": "LayoutModel",
            "justify_items": null,
            "grid_row": null,
            "max_height": null,
            "align_content": null,
            "visibility": null,
            "align_self": null,
            "height": null,
            "min_height": null,
            "padding": null,
            "grid_auto_rows": null,
            "grid_gap": null,
            "max_width": null,
            "order": null,
            "_view_module_version": "1.2.0",
            "grid_template_areas": null,
            "object_position": null,
            "object_fit": null,
            "grid_auto_columns": null,
            "margin": null,
            "display": null,
            "left": null
          }
        },
        "d1623acb4ecc41a4beacb629e9847a04": {
          "model_module": "@jupyter-widgets/controls",
          "model_name": "ProgressStyleModel",
          "model_module_version": "1.5.0",
          "state": {
            "_view_name": "StyleView",
            "_model_name": "ProgressStyleModel",
            "description_width": "",
            "_view_module": "@jupyter-widgets/base",
            "_model_module_version": "1.5.0",
            "_view_count": null,
            "_view_module_version": "1.2.0",
            "bar_color": null,
            "_model_module": "@jupyter-widgets/controls"
          }
        },
        "cbdcdb65abf542049555a83e74fbccff": {
          "model_module": "@jupyter-widgets/base",
          "model_name": "LayoutModel",
          "model_module_version": "1.2.0",
          "state": {
            "_view_name": "LayoutView",
            "grid_template_rows": null,
            "right": null,
            "justify_content": null,
            "_view_module": "@jupyter-widgets/base",
            "overflow": null,
            "_model_module_version": "1.2.0",
            "_view_count": null,
            "flex_flow": null,
            "width": null,
            "min_width": null,
            "border": null,
            "align_items": null,
            "bottom": null,
            "_model_module": "@jupyter-widgets/base",
            "top": null,
            "grid_column": null,
            "overflow_y": null,
            "overflow_x": null,
            "grid_auto_flow": null,
            "grid_area": null,
            "grid_template_columns": null,
            "flex": null,
            "_model_name": "LayoutModel",
            "justify_items": null,
            "grid_row": null,
            "max_height": null,
            "align_content": null,
            "visibility": null,
            "align_self": null,
            "height": null,
            "min_height": null,
            "padding": null,
            "grid_auto_rows": null,
            "grid_gap": null,
            "max_width": null,
            "order": null,
            "_view_module_version": "1.2.0",
            "grid_template_areas": null,
            "object_position": null,
            "object_fit": null,
            "grid_auto_columns": null,
            "margin": null,
            "display": null,
            "left": null
          }
        },
        "82be7db2269c46c8b81e82b289062be9": {
          "model_module": "@jupyter-widgets/controls",
          "model_name": "DescriptionStyleModel",
          "model_module_version": "1.5.0",
          "state": {
            "_view_name": "StyleView",
            "_model_name": "DescriptionStyleModel",
            "description_width": "",
            "_view_module": "@jupyter-widgets/base",
            "_model_module_version": "1.5.0",
            "_view_count": null,
            "_view_module_version": "1.2.0",
            "_model_module": "@jupyter-widgets/controls"
          }
        },
        "ab987595b80544f1aff28ce898b912bf": {
          "model_module": "@jupyter-widgets/base",
          "model_name": "LayoutModel",
          "model_module_version": "1.2.0",
          "state": {
            "_view_name": "LayoutView",
            "grid_template_rows": null,
            "right": null,
            "justify_content": null,
            "_view_module": "@jupyter-widgets/base",
            "overflow": null,
            "_model_module_version": "1.2.0",
            "_view_count": null,
            "flex_flow": null,
            "width": null,
            "min_width": null,
            "border": null,
            "align_items": null,
            "bottom": null,
            "_model_module": "@jupyter-widgets/base",
            "top": null,
            "grid_column": null,
            "overflow_y": null,
            "overflow_x": null,
            "grid_auto_flow": null,
            "grid_area": null,
            "grid_template_columns": null,
            "flex": null,
            "_model_name": "LayoutModel",
            "justify_items": null,
            "grid_row": null,
            "max_height": null,
            "align_content": null,
            "visibility": null,
            "align_self": null,
            "height": null,
            "min_height": null,
            "padding": null,
            "grid_auto_rows": null,
            "grid_gap": null,
            "max_width": null,
            "order": null,
            "_view_module_version": "1.2.0",
            "grid_template_areas": null,
            "object_position": null,
            "object_fit": null,
            "grid_auto_columns": null,
            "margin": null,
            "display": null,
            "left": null
          }
        },
        "cdd9781a21c1405b92d0bf6ea9731528": {
          "model_module": "@jupyter-widgets/controls",
          "model_name": "HBoxModel",
          "model_module_version": "1.5.0",
          "state": {
            "_view_name": "HBoxView",
            "_dom_classes": [],
            "_model_name": "HBoxModel",
            "_view_module": "@jupyter-widgets/controls",
            "_model_module_version": "1.5.0",
            "_view_count": null,
            "_view_module_version": "1.5.0",
            "box_style": "",
            "layout": "IPY_MODEL_73b8dfaf8a0d436db2339d158f4261ad",
            "_model_module": "@jupyter-widgets/controls",
            "children": [
              "IPY_MODEL_f738e522de1346c0909eb94317ebc09a",
              "IPY_MODEL_ca4484a140a94fc8b01f121ff3431779",
              "IPY_MODEL_67141c075d184107978c7db2e73ae83c"
            ]
          }
        },
        "73b8dfaf8a0d436db2339d158f4261ad": {
          "model_module": "@jupyter-widgets/base",
          "model_name": "LayoutModel",
          "model_module_version": "1.2.0",
          "state": {
            "_view_name": "LayoutView",
            "grid_template_rows": null,
            "right": null,
            "justify_content": null,
            "_view_module": "@jupyter-widgets/base",
            "overflow": null,
            "_model_module_version": "1.2.0",
            "_view_count": null,
            "flex_flow": null,
            "width": null,
            "min_width": null,
            "border": null,
            "align_items": null,
            "bottom": null,
            "_model_module": "@jupyter-widgets/base",
            "top": null,
            "grid_column": null,
            "overflow_y": null,
            "overflow_x": null,
            "grid_auto_flow": null,
            "grid_area": null,
            "grid_template_columns": null,
            "flex": null,
            "_model_name": "LayoutModel",
            "justify_items": null,
            "grid_row": null,
            "max_height": null,
            "align_content": null,
            "visibility": null,
            "align_self": null,
            "height": null,
            "min_height": null,
            "padding": null,
            "grid_auto_rows": null,
            "grid_gap": null,
            "max_width": null,
            "order": null,
            "_view_module_version": "1.2.0",
            "grid_template_areas": null,
            "object_position": null,
            "object_fit": null,
            "grid_auto_columns": null,
            "margin": null,
            "display": null,
            "left": null
          }
        },
        "f738e522de1346c0909eb94317ebc09a": {
          "model_module": "@jupyter-widgets/controls",
          "model_name": "HTMLModel",
          "model_module_version": "1.5.0",
          "state": {
            "_view_name": "HTMLView",
            "style": "IPY_MODEL_38c4c5e38f494477a74e07f4e6e1c8b5",
            "_dom_classes": [],
            "description": "",
            "_model_name": "HTMLModel",
            "placeholder": "​",
            "_view_module": "@jupyter-widgets/controls",
            "_model_module_version": "1.5.0",
            "value": "100%",
            "_view_count": null,
            "_view_module_version": "1.5.0",
            "description_tooltip": null,
            "_model_module": "@jupyter-widgets/controls",
            "layout": "IPY_MODEL_ed64e251ee1049a691ef0f52f026b73e"
          }
        },
        "ca4484a140a94fc8b01f121ff3431779": {
          "model_module": "@jupyter-widgets/controls",
          "model_name": "FloatProgressModel",
          "model_module_version": "1.5.0",
          "state": {
            "_view_name": "ProgressView",
            "style": "IPY_MODEL_8ac28c6e795d48528b067515eaac5cdd",
            "_dom_classes": [],
            "description": "",
            "_model_name": "FloatProgressModel",
            "bar_style": "success",
            "max": 291,
            "_view_module": "@jupyter-widgets/controls",
            "_model_module_version": "1.5.0",
            "value": 291,
            "_view_count": null,
            "_view_module_version": "1.5.0",
            "orientation": "horizontal",
            "min": 0,
            "description_tooltip": null,
            "_model_module": "@jupyter-widgets/controls",
            "layout": "IPY_MODEL_c96756217e914a538bf81596b3b32322"
          }
        },
        "67141c075d184107978c7db2e73ae83c": {
          "model_module": "@jupyter-widgets/controls",
          "model_name": "HTMLModel",
          "model_module_version": "1.5.0",
          "state": {
            "_view_name": "HTMLView",
            "style": "IPY_MODEL_ffe5d6e5bb4d4173bb35c3b8a2c6c7d7",
            "_dom_classes": [],
            "description": "",
            "_model_name": "HTMLModel",
            "placeholder": "​",
            "_view_module": "@jupyter-widgets/controls",
            "_model_module_version": "1.5.0",
            "value": " 291/291 [00:01&lt;00:00, 165.98it/s]",
            "_view_count": null,
            "_view_module_version": "1.5.0",
            "description_tooltip": null,
            "_model_module": "@jupyter-widgets/controls",
            "layout": "IPY_MODEL_f306e5d0a2254a52a08cb84511c53ddd"
          }
        },
        "38c4c5e38f494477a74e07f4e6e1c8b5": {
          "model_module": "@jupyter-widgets/controls",
          "model_name": "DescriptionStyleModel",
          "model_module_version": "1.5.0",
          "state": {
            "_view_name": "StyleView",
            "_model_name": "DescriptionStyleModel",
            "description_width": "",
            "_view_module": "@jupyter-widgets/base",
            "_model_module_version": "1.5.0",
            "_view_count": null,
            "_view_module_version": "1.2.0",
            "_model_module": "@jupyter-widgets/controls"
          }
        },
        "ed64e251ee1049a691ef0f52f026b73e": {
          "model_module": "@jupyter-widgets/base",
          "model_name": "LayoutModel",
          "model_module_version": "1.2.0",
          "state": {
            "_view_name": "LayoutView",
            "grid_template_rows": null,
            "right": null,
            "justify_content": null,
            "_view_module": "@jupyter-widgets/base",
            "overflow": null,
            "_model_module_version": "1.2.0",
            "_view_count": null,
            "flex_flow": null,
            "width": null,
            "min_width": null,
            "border": null,
            "align_items": null,
            "bottom": null,
            "_model_module": "@jupyter-widgets/base",
            "top": null,
            "grid_column": null,
            "overflow_y": null,
            "overflow_x": null,
            "grid_auto_flow": null,
            "grid_area": null,
            "grid_template_columns": null,
            "flex": null,
            "_model_name": "LayoutModel",
            "justify_items": null,
            "grid_row": null,
            "max_height": null,
            "align_content": null,
            "visibility": null,
            "align_self": null,
            "height": null,
            "min_height": null,
            "padding": null,
            "grid_auto_rows": null,
            "grid_gap": null,
            "max_width": null,
            "order": null,
            "_view_module_version": "1.2.0",
            "grid_template_areas": null,
            "object_position": null,
            "object_fit": null,
            "grid_auto_columns": null,
            "margin": null,
            "display": null,
            "left": null
          }
        },
        "8ac28c6e795d48528b067515eaac5cdd": {
          "model_module": "@jupyter-widgets/controls",
          "model_name": "ProgressStyleModel",
          "model_module_version": "1.5.0",
          "state": {
            "_view_name": "StyleView",
            "_model_name": "ProgressStyleModel",
            "description_width": "",
            "_view_module": "@jupyter-widgets/base",
            "_model_module_version": "1.5.0",
            "_view_count": null,
            "_view_module_version": "1.2.0",
            "bar_color": null,
            "_model_module": "@jupyter-widgets/controls"
          }
        },
        "c96756217e914a538bf81596b3b32322": {
          "model_module": "@jupyter-widgets/base",
          "model_name": "LayoutModel",
          "model_module_version": "1.2.0",
          "state": {
            "_view_name": "LayoutView",
            "grid_template_rows": null,
            "right": null,
            "justify_content": null,
            "_view_module": "@jupyter-widgets/base",
            "overflow": null,
            "_model_module_version": "1.2.0",
            "_view_count": null,
            "flex_flow": null,
            "width": null,
            "min_width": null,
            "border": null,
            "align_items": null,
            "bottom": null,
            "_model_module": "@jupyter-widgets/base",
            "top": null,
            "grid_column": null,
            "overflow_y": null,
            "overflow_x": null,
            "grid_auto_flow": null,
            "grid_area": null,
            "grid_template_columns": null,
            "flex": null,
            "_model_name": "LayoutModel",
            "justify_items": null,
            "grid_row": null,
            "max_height": null,
            "align_content": null,
            "visibility": null,
            "align_self": null,
            "height": null,
            "min_height": null,
            "padding": null,
            "grid_auto_rows": null,
            "grid_gap": null,
            "max_width": null,
            "order": null,
            "_view_module_version": "1.2.0",
            "grid_template_areas": null,
            "object_position": null,
            "object_fit": null,
            "grid_auto_columns": null,
            "margin": null,
            "display": null,
            "left": null
          }
        },
        "ffe5d6e5bb4d4173bb35c3b8a2c6c7d7": {
          "model_module": "@jupyter-widgets/controls",
          "model_name": "DescriptionStyleModel",
          "model_module_version": "1.5.0",
          "state": {
            "_view_name": "StyleView",
            "_model_name": "DescriptionStyleModel",
            "description_width": "",
            "_view_module": "@jupyter-widgets/base",
            "_model_module_version": "1.5.0",
            "_view_count": null,
            "_view_module_version": "1.2.0",
            "_model_module": "@jupyter-widgets/controls"
          }
        },
        "f306e5d0a2254a52a08cb84511c53ddd": {
          "model_module": "@jupyter-widgets/base",
          "model_name": "LayoutModel",
          "model_module_version": "1.2.0",
          "state": {
            "_view_name": "LayoutView",
            "grid_template_rows": null,
            "right": null,
            "justify_content": null,
            "_view_module": "@jupyter-widgets/base",
            "overflow": null,
            "_model_module_version": "1.2.0",
            "_view_count": null,
            "flex_flow": null,
            "width": null,
            "min_width": null,
            "border": null,
            "align_items": null,
            "bottom": null,
            "_model_module": "@jupyter-widgets/base",
            "top": null,
            "grid_column": null,
            "overflow_y": null,
            "overflow_x": null,
            "grid_auto_flow": null,
            "grid_area": null,
            "grid_template_columns": null,
            "flex": null,
            "_model_name": "LayoutModel",
            "justify_items": null,
            "grid_row": null,
            "max_height": null,
            "align_content": null,
            "visibility": null,
            "align_self": null,
            "height": null,
            "min_height": null,
            "padding": null,
            "grid_auto_rows": null,
            "grid_gap": null,
            "max_width": null,
            "order": null,
            "_view_module_version": "1.2.0",
            "grid_template_areas": null,
            "object_position": null,
            "object_fit": null,
            "grid_auto_columns": null,
            "margin": null,
            "display": null,
            "left": null
          }
        },
        "0403005bfc224d62be8a893c05e0f8a0": {
          "model_module": "@jupyter-widgets/controls",
          "model_name": "HBoxModel",
          "model_module_version": "1.5.0",
          "state": {
            "_view_name": "HBoxView",
            "_dom_classes": [],
            "_model_name": "HBoxModel",
            "_view_module": "@jupyter-widgets/controls",
            "_model_module_version": "1.5.0",
            "_view_count": null,
            "_view_module_version": "1.5.0",
            "box_style": "",
            "layout": "IPY_MODEL_90dcfa8f20904ae29e721f39730b8112",
            "_model_module": "@jupyter-widgets/controls",
            "children": [
              "IPY_MODEL_2d9ee5fa783f4325b902b3d8f43439cc",
              "IPY_MODEL_420bcf77dda149c28cfdcca96bd06c9f",
              "IPY_MODEL_40ff4f77e9e04ed2974a86e8b6f403b6"
            ]
          }
        },
        "90dcfa8f20904ae29e721f39730b8112": {
          "model_module": "@jupyter-widgets/base",
          "model_name": "LayoutModel",
          "model_module_version": "1.2.0",
          "state": {
            "_view_name": "LayoutView",
            "grid_template_rows": null,
            "right": null,
            "justify_content": null,
            "_view_module": "@jupyter-widgets/base",
            "overflow": null,
            "_model_module_version": "1.2.0",
            "_view_count": null,
            "flex_flow": null,
            "width": null,
            "min_width": null,
            "border": null,
            "align_items": null,
            "bottom": null,
            "_model_module": "@jupyter-widgets/base",
            "top": null,
            "grid_column": null,
            "overflow_y": null,
            "overflow_x": null,
            "grid_auto_flow": null,
            "grid_area": null,
            "grid_template_columns": null,
            "flex": null,
            "_model_name": "LayoutModel",
            "justify_items": null,
            "grid_row": null,
            "max_height": null,
            "align_content": null,
            "visibility": null,
            "align_self": null,
            "height": null,
            "min_height": null,
            "padding": null,
            "grid_auto_rows": null,
            "grid_gap": null,
            "max_width": null,
            "order": null,
            "_view_module_version": "1.2.0",
            "grid_template_areas": null,
            "object_position": null,
            "object_fit": null,
            "grid_auto_columns": null,
            "margin": null,
            "display": null,
            "left": null
          }
        },
        "2d9ee5fa783f4325b902b3d8f43439cc": {
          "model_module": "@jupyter-widgets/controls",
          "model_name": "HTMLModel",
          "model_module_version": "1.5.0",
          "state": {
            "_view_name": "HTMLView",
            "style": "IPY_MODEL_5c2ae14be2f94d2eb3c69801ce7f0ba0",
            "_dom_classes": [],
            "description": "",
            "_model_name": "HTMLModel",
            "placeholder": "​",
            "_view_module": "@jupyter-widgets/controls",
            "_model_module_version": "1.5.0",
            "value": "100%",
            "_view_count": null,
            "_view_module_version": "1.5.0",
            "description_tooltip": null,
            "_model_module": "@jupyter-widgets/controls",
            "layout": "IPY_MODEL_742049ea6f6a43d388c7693626fca3ca"
          }
        },
        "420bcf77dda149c28cfdcca96bd06c9f": {
          "model_module": "@jupyter-widgets/controls",
          "model_name": "FloatProgressModel",
          "model_module_version": "1.5.0",
          "state": {
            "_view_name": "ProgressView",
            "style": "IPY_MODEL_624e37014b07487cb43e6ca808c76dca",
            "_dom_classes": [],
            "description": "",
            "_model_name": "FloatProgressModel",
            "bar_style": "success",
            "max": 4,
            "_view_module": "@jupyter-widgets/controls",
            "_model_module_version": "1.5.0",
            "value": 4,
            "_view_count": null,
            "_view_module_version": "1.5.0",
            "orientation": "horizontal",
            "min": 0,
            "description_tooltip": null,
            "_model_module": "@jupyter-widgets/controls",
            "layout": "IPY_MODEL_14ae812224724fbea3115ee4574a1e8a"
          }
        },
        "40ff4f77e9e04ed2974a86e8b6f403b6": {
          "model_module": "@jupyter-widgets/controls",
          "model_name": "HTMLModel",
          "model_module_version": "1.5.0",
          "state": {
            "_view_name": "HTMLView",
            "style": "IPY_MODEL_4b8fe57e24bc42399055033141f5d723",
            "_dom_classes": [],
            "description": "",
            "_model_name": "HTMLModel",
            "placeholder": "​",
            "_view_module": "@jupyter-widgets/controls",
            "_model_module_version": "1.5.0",
            "value": " 4/4 [00:00&lt;00:00,  8.70it/s]",
            "_view_count": null,
            "_view_module_version": "1.5.0",
            "description_tooltip": null,
            "_model_module": "@jupyter-widgets/controls",
            "layout": "IPY_MODEL_ceb26c8c837244d48485ded5b230ecd1"
          }
        },
        "5c2ae14be2f94d2eb3c69801ce7f0ba0": {
          "model_module": "@jupyter-widgets/controls",
          "model_name": "DescriptionStyleModel",
          "model_module_version": "1.5.0",
          "state": {
            "_view_name": "StyleView",
            "_model_name": "DescriptionStyleModel",
            "description_width": "",
            "_view_module": "@jupyter-widgets/base",
            "_model_module_version": "1.5.0",
            "_view_count": null,
            "_view_module_version": "1.2.0",
            "_model_module": "@jupyter-widgets/controls"
          }
        },
        "742049ea6f6a43d388c7693626fca3ca": {
          "model_module": "@jupyter-widgets/base",
          "model_name": "LayoutModel",
          "model_module_version": "1.2.0",
          "state": {
            "_view_name": "LayoutView",
            "grid_template_rows": null,
            "right": null,
            "justify_content": null,
            "_view_module": "@jupyter-widgets/base",
            "overflow": null,
            "_model_module_version": "1.2.0",
            "_view_count": null,
            "flex_flow": null,
            "width": null,
            "min_width": null,
            "border": null,
            "align_items": null,
            "bottom": null,
            "_model_module": "@jupyter-widgets/base",
            "top": null,
            "grid_column": null,
            "overflow_y": null,
            "overflow_x": null,
            "grid_auto_flow": null,
            "grid_area": null,
            "grid_template_columns": null,
            "flex": null,
            "_model_name": "LayoutModel",
            "justify_items": null,
            "grid_row": null,
            "max_height": null,
            "align_content": null,
            "visibility": null,
            "align_self": null,
            "height": null,
            "min_height": null,
            "padding": null,
            "grid_auto_rows": null,
            "grid_gap": null,
            "max_width": null,
            "order": null,
            "_view_module_version": "1.2.0",
            "grid_template_areas": null,
            "object_position": null,
            "object_fit": null,
            "grid_auto_columns": null,
            "margin": null,
            "display": null,
            "left": null
          }
        },
        "624e37014b07487cb43e6ca808c76dca": {
          "model_module": "@jupyter-widgets/controls",
          "model_name": "ProgressStyleModel",
          "model_module_version": "1.5.0",
          "state": {
            "_view_name": "StyleView",
            "_model_name": "ProgressStyleModel",
            "description_width": "",
            "_view_module": "@jupyter-widgets/base",
            "_model_module_version": "1.5.0",
            "_view_count": null,
            "_view_module_version": "1.2.0",
            "bar_color": null,
            "_model_module": "@jupyter-widgets/controls"
          }
        },
        "14ae812224724fbea3115ee4574a1e8a": {
          "model_module": "@jupyter-widgets/base",
          "model_name": "LayoutModel",
          "model_module_version": "1.2.0",
          "state": {
            "_view_name": "LayoutView",
            "grid_template_rows": null,
            "right": null,
            "justify_content": null,
            "_view_module": "@jupyter-widgets/base",
            "overflow": null,
            "_model_module_version": "1.2.0",
            "_view_count": null,
            "flex_flow": null,
            "width": null,
            "min_width": null,
            "border": null,
            "align_items": null,
            "bottom": null,
            "_model_module": "@jupyter-widgets/base",
            "top": null,
            "grid_column": null,
            "overflow_y": null,
            "overflow_x": null,
            "grid_auto_flow": null,
            "grid_area": null,
            "grid_template_columns": null,
            "flex": null,
            "_model_name": "LayoutModel",
            "justify_items": null,
            "grid_row": null,
            "max_height": null,
            "align_content": null,
            "visibility": null,
            "align_self": null,
            "height": null,
            "min_height": null,
            "padding": null,
            "grid_auto_rows": null,
            "grid_gap": null,
            "max_width": null,
            "order": null,
            "_view_module_version": "1.2.0",
            "grid_template_areas": null,
            "object_position": null,
            "object_fit": null,
            "grid_auto_columns": null,
            "margin": null,
            "display": null,
            "left": null
          }
        },
        "4b8fe57e24bc42399055033141f5d723": {
          "model_module": "@jupyter-widgets/controls",
          "model_name": "DescriptionStyleModel",
          "model_module_version": "1.5.0",
          "state": {
            "_view_name": "StyleView",
            "_model_name": "DescriptionStyleModel",
            "description_width": "",
            "_view_module": "@jupyter-widgets/base",
            "_model_module_version": "1.5.0",
            "_view_count": null,
            "_view_module_version": "1.2.0",
            "_model_module": "@jupyter-widgets/controls"
          }
        },
        "ceb26c8c837244d48485ded5b230ecd1": {
          "model_module": "@jupyter-widgets/base",
          "model_name": "LayoutModel",
          "model_module_version": "1.2.0",
          "state": {
            "_view_name": "LayoutView",
            "grid_template_rows": null,
            "right": null,
            "justify_content": null,
            "_view_module": "@jupyter-widgets/base",
            "overflow": null,
            "_model_module_version": "1.2.0",
            "_view_count": null,
            "flex_flow": null,
            "width": null,
            "min_width": null,
            "border": null,
            "align_items": null,
            "bottom": null,
            "_model_module": "@jupyter-widgets/base",
            "top": null,
            "grid_column": null,
            "overflow_y": null,
            "overflow_x": null,
            "grid_auto_flow": null,
            "grid_area": null,
            "grid_template_columns": null,
            "flex": null,
            "_model_name": "LayoutModel",
            "justify_items": null,
            "grid_row": null,
            "max_height": null,
            "align_content": null,
            "visibility": null,
            "align_self": null,
            "height": null,
            "min_height": null,
            "padding": null,
            "grid_auto_rows": null,
            "grid_gap": null,
            "max_width": null,
            "order": null,
            "_view_module_version": "1.2.0",
            "grid_template_areas": null,
            "object_position": null,
            "object_fit": null,
            "grid_auto_columns": null,
            "margin": null,
            "display": null,
            "left": null
          }
        }
      }
    }
  },
  "cells": [
    {
      "cell_type": "markdown",
      "metadata": {
        "id": "view-in-github",
        "colab_type": "text"
      },
      "source": [
        "<a href=\"https://colab.research.google.com/github/GollyTicker/Food-Recognition-Challenge/blob/main/Starter_Kit.ipynb\" target=\"_parent\"><img src=\"https://colab.research.google.com/assets/colab-badge.svg\" alt=\"Open In Colab\"/></a>"
      ]
    },
    {
      "cell_type": "markdown",
      "metadata": {
        "id": "yt_yLzMyRHP8"
      },
      "source": [
        "![AIcrowd-Logo](https://raw.githubusercontent.com/AIcrowd/AIcrowd/master/app/assets/images/misc/aicrowd-horizontal.png)\n",
        "\n",
        "This dataset and notebook correspond to the [Food Recognition Challenge](https://www.aicrowd.com/challenges/food-recognition-challenge) being held on [AIcrowd](https://www.aicrowd.com/).\n",
        "\n",
        "<p align=\"right\"> Join the communty! <br><a href=\"https://discord.gg/GTckBMx\"><img src=\"https://img.shields.io/discord/657211973435392011?style=for-the-badge\" alt=\"chat on Discord\"></a>\n",
        "</p>\n",
        "\n",
        "# <center> 🍕 Food Recognition Challenge: Detectron2 starter kit </center>\n",
        "\n",
        "<center>This notebook aims to build a model for food detection and segmentation using <code>detectron2</code></center>\n",
        "\n",
        "# How to use this notebook? 📝\n",
        "1. **Copy the notebook**. This is a shared template and any edits you make here will not be saved. _You should copy it into your own drive folder._ For this, click the \"File\" menu (top-left), then \"Save a Copy in Drive\". You can edit your copy however you like.\n",
        "2. **Make a submission**. Run all the code in the notebook to get a feel of how the notebook and the submission process works.\n",
        "3. **Try tweaking the parameters**. If you are new to the problem, a great way to start is try tweaking the configuration flags, train your model and submit again.\n",
        "4. **Diving into the code**. When you submit via this notebook, we create a repository on [gitlab.aicrowd.com](https://gitlab.aicrowd.com). You can check the code we generated based on this notebook and directly make changes you want there!\n"
      ]
    },
    {
      "cell_type": "markdown",
      "metadata": {
        "id": "AqCwgApzqFK6"
      },
      "source": [
        "# Setup the notebook 🛠"
      ]
    },
    {
      "cell_type": "code",
      "metadata": {
        "id": "_embMQfcqIK5",
        "colab": {
          "base_uri": "https://localhost:8080/"
        },
        "outputId": "2111b769-7e23-471c-9bf4-a92189f8029d"
      },
      "source": [
        "# !bash <(curl -sL https://gitlab.aicrowd.com/jyotish/food-recognition-challenge-detectron2-baseline/raw/master/utils/setup-colab.sh)\n",
        "!pip install cython numpy aicrowd-api Pillow opencv-python git+https://github.com/cocodataset/cocoapi.git#subdirectory=PythonAPI\n",
        "\n",
        "# !pip install -f https://download.pytorch.org/whl/cu101/torch_stable.html torch==1.5 torchvision==0.6\n",
        "# !pip install -f https://dl.fbaipublicfiles.com/detectron2/wheels/cu101/index.html detectron2==0.1.2"
      ],
      "execution_count": 1,
      "outputs": [
        {
          "output_type": "stream",
          "name": "stdout",
          "text": [
            "Collecting git+https://github.com/cocodataset/cocoapi.git#subdirectory=PythonAPI\n",
            "  Cloning https://github.com/cocodataset/cocoapi.git to /tmp/pip-req-build-s7iyz6fh\n",
            "  Running command git clone -q https://github.com/cocodataset/cocoapi.git /tmp/pip-req-build-s7iyz6fh\n",
            "Requirement already satisfied: cython in /usr/local/lib/python3.7/dist-packages (0.29.24)\n",
            "Requirement already satisfied: numpy in /usr/local/lib/python3.7/dist-packages (1.19.5)\n",
            "Collecting aicrowd-api\n",
            "  Downloading aicrowd_api-0.1.23.tar.gz (7.6 kB)\n",
            "Requirement already satisfied: Pillow in /usr/local/lib/python3.7/dist-packages (7.1.2)\n",
            "Requirement already satisfied: opencv-python in /usr/local/lib/python3.7/dist-packages (4.1.2.30)\n",
            "Requirement already satisfied: setuptools>=18.0 in /usr/local/lib/python3.7/dist-packages (from pycocotools==2.0) (57.4.0)\n",
            "Requirement already satisfied: matplotlib>=2.1.0 in /usr/local/lib/python3.7/dist-packages (from pycocotools==2.0) (3.2.2)\n",
            "Requirement already satisfied: cycler>=0.10 in /usr/local/lib/python3.7/dist-packages (from matplotlib>=2.1.0->pycocotools==2.0) (0.11.0)\n",
            "Requirement already satisfied: python-dateutil>=2.1 in /usr/local/lib/python3.7/dist-packages (from matplotlib>=2.1.0->pycocotools==2.0) (2.8.2)\n",
            "Requirement already satisfied: kiwisolver>=1.0.1 in /usr/local/lib/python3.7/dist-packages (from matplotlib>=2.1.0->pycocotools==2.0) (1.3.2)\n",
            "Requirement already satisfied: pyparsing!=2.0.4,!=2.1.2,!=2.1.6,>=2.0.1 in /usr/local/lib/python3.7/dist-packages (from matplotlib>=2.1.0->pycocotools==2.0) (3.0.6)\n",
            "Requirement already satisfied: six>=1.5 in /usr/local/lib/python3.7/dist-packages (from python-dateutil>=2.1->matplotlib>=2.1.0->pycocotools==2.0) (1.15.0)\n",
            "Requirement already satisfied: requests>=2.18.4 in /usr/local/lib/python3.7/dist-packages (from aicrowd-api) (2.23.0)\n",
            "Collecting redis\n",
            "  Downloading redis-4.0.1-py3-none-any.whl (118 kB)\n",
            "\u001b[K     |████████████████████████████████| 118 kB 5.1 MB/s \n",
            "\u001b[?25hRequirement already satisfied: idna<3,>=2.5 in /usr/local/lib/python3.7/dist-packages (from requests>=2.18.4->aicrowd-api) (2.10)\n",
            "Requirement already satisfied: chardet<4,>=3.0.2 in /usr/local/lib/python3.7/dist-packages (from requests>=2.18.4->aicrowd-api) (3.0.4)\n",
            "Requirement already satisfied: certifi>=2017.4.17 in /usr/local/lib/python3.7/dist-packages (from requests>=2.18.4->aicrowd-api) (2021.10.8)\n",
            "Requirement already satisfied: urllib3!=1.25.0,!=1.25.1,<1.26,>=1.21.1 in /usr/local/lib/python3.7/dist-packages (from requests>=2.18.4->aicrowd-api) (1.24.3)\n",
            "Collecting deprecated\n",
            "  Downloading Deprecated-1.2.13-py2.py3-none-any.whl (9.6 kB)\n",
            "Requirement already satisfied: wrapt<2,>=1.10 in /usr/local/lib/python3.7/dist-packages (from deprecated->redis->aicrowd-api) (1.13.3)\n",
            "Building wheels for collected packages: pycocotools, aicrowd-api\n",
            "  Building wheel for pycocotools (setup.py) ... \u001b[?25l\u001b[?25hdone\n",
            "  Created wheel for pycocotools: filename=pycocotools-2.0-cp37-cp37m-linux_x86_64.whl size=263924 sha256=4e9b0a1af094eb534abfb43b0e50f764108f2f43877415d28805acea394c0e9f\n",
            "  Stored in directory: /tmp/pip-ephem-wheel-cache-67yiw3s9/wheels/e2/6b/1d/344ac773c7495ea0b85eb228bc66daec7400a143a92d36b7b1\n",
            "  Building wheel for aicrowd-api (setup.py) ... \u001b[?25l\u001b[?25hdone\n",
            "  Created wheel for aicrowd-api: filename=aicrowd_api-0.1.23-py2.py3-none-any.whl size=9077 sha256=5b06c55bc030b948445b8f9eea7fd348e7fcfcce879d51e9003bb2ec10e3a74a\n",
            "  Stored in directory: /root/.cache/pip/wheels/0c/43/c9/d6afde4916e82484be857a3d80b3c05b51720ea8bf877d4a5a\n",
            "Successfully built pycocotools aicrowd-api\n",
            "Installing collected packages: deprecated, redis, pycocotools, aicrowd-api\n",
            "  Attempting uninstall: pycocotools\n",
            "    Found existing installation: pycocotools 2.0.2\n",
            "    Uninstalling pycocotools-2.0.2:\n",
            "      Successfully uninstalled pycocotools-2.0.2\n",
            "Successfully installed aicrowd-api-0.1.23 deprecated-1.2.13 pycocotools-2.0 redis-4.0.1\n"
          ]
        }
      ]
    },
    {
      "cell_type": "code",
      "metadata": {
        "id": "3IeBrALmMbWY",
        "colab": {
          "base_uri": "https://localhost:8080/"
        },
        "outputId": "57ee9391-b9c4-4d8b-97c3-29f75a5d2107"
      },
      "source": [
        "!pip install -Uqq fastbook\n",
        "import fastbook\n",
        "fastbook.setup_book()"
      ],
      "execution_count": 2,
      "outputs": [
        {
          "output_type": "stream",
          "name": "stdout",
          "text": [
            "\u001b[K     |████████████████████████████████| 720 kB 5.1 MB/s \n",
            "\u001b[K     |████████████████████████████████| 1.2 MB 48.0 MB/s \n",
            "\u001b[K     |████████████████████████████████| 46 kB 4.1 MB/s \n",
            "\u001b[K     |████████████████████████████████| 189 kB 48.7 MB/s \n",
            "\u001b[K     |████████████████████████████████| 56 kB 4.1 MB/s \n",
            "\u001b[K     |████████████████████████████████| 51 kB 270 kB/s \n",
            "\u001b[?25hMounted at /content/gdrive\n"
          ]
        }
      ]
    },
    {
      "cell_type": "code",
      "metadata": {
        "id": "JveWajFEMfCR",
        "colab": {
          "base_uri": "https://localhost:8080/"
        },
        "outputId": "03c5892d-f890-4bdd-d5a6-103d2a0486b9"
      },
      "source": [
        "#hide\n",
        "from fastbook import *\n",
        "#hide\n",
        "# test gpu is used\n",
        "import torch\n",
        "print(torch.cuda.is_available())\n",
        "# assert torch.cuda.is_available()"
      ],
      "execution_count": 3,
      "outputs": [
        {
          "output_type": "stream",
          "name": "stdout",
          "text": [
            "False\n"
          ]
        }
      ]
    },
    {
      "cell_type": "code",
      "metadata": {
        "id": "FYrdQtqs_sOR"
      },
      "source": [
        "!wget -q -O jq https://github.com/stedolan/jq/releases/download/jq-1.6/jq-linux64 && chmod +x jq"
      ],
      "execution_count": 4,
      "outputs": []
    },
    {
      "cell_type": "code",
      "metadata": {
        "id": "U9TA_gz38qjn"
      },
      "source": [
        "#!wget -q -nv https://datasets.aicrowd.com/default/aicrowd-public-datasets/food-recognition-challenge/v0.4/train-v0.4.tar.gz\n",
        "#!unzip -q -d dataset train-v0.4.tar.gz\n",
        "\n",
        "#!wget -q -nv https://datasets.aicrowd.com/default/aicrowd-public-datasets/food-recognition-challenge/v0.4/val-v0.4.tar.gz\n",
        "#!unzip -q -d dataset val-v0.4.tar.gz\n",
        "!rm -rf *.gz"
      ],
      "execution_count": 5,
      "outputs": []
    },
    {
      "cell_type": "code",
      "metadata": {
        "id": "QAouH2oI8Kic",
        "colab": {
          "base_uri": "https://localhost:8080/"
        },
        "outputId": "da8236c0-80fa-4f85-e8f2-2f1d876175d4"
      },
      "source": [
        "!wget https://s3.eu-central-1.wasabisys.com/aicrowd-public-datasets/myfoodrepo/round-1/train.tar.gz\n",
        "!wget https://s3.eu-central-1.wasabisys.com/aicrowd-public-datasets/myfoodrepo/round-1/test_images.tar.gz\n",
        "!wget https://s3.eu-central-1.wasabisys.com/aicrowd-public-datasets/myfoodrepo/round-1/val.tar.gz"
      ],
      "execution_count": 6,
      "outputs": [
        {
          "output_type": "stream",
          "name": "stdout",
          "text": [
            "--2021-11-21 01:05:10--  https://s3.eu-central-1.wasabisys.com/aicrowd-public-datasets/myfoodrepo/round-1/train.tar.gz\n",
            "Resolving s3.eu-central-1.wasabisys.com (s3.eu-central-1.wasabisys.com)... 130.117.252.18, 130.117.252.21, 130.117.252.17, ...\n",
            "Connecting to s3.eu-central-1.wasabisys.com (s3.eu-central-1.wasabisys.com)|130.117.252.18|:443... connected.\n",
            "HTTP request sent, awaiting response... 200 OK\n",
            "Length: 290012672 (277M) [application/x-gzip]\n",
            "Saving to: ‘train.tar.gz’\n",
            "\n",
            "train.tar.gz        100%[===================>] 276.58M  31.9MB/s    in 9.7s    \n",
            "\n",
            "2021-11-21 01:05:20 (28.6 MB/s) - ‘train.tar.gz’ saved [290012672/290012672]\n",
            "\n",
            "--2021-11-21 01:05:20--  https://s3.eu-central-1.wasabisys.com/aicrowd-public-datasets/myfoodrepo/round-1/test_images.tar.gz\n",
            "Resolving s3.eu-central-1.wasabisys.com (s3.eu-central-1.wasabisys.com)... 130.117.252.22, 130.117.252.19, 130.117.252.12, ...\n",
            "Connecting to s3.eu-central-1.wasabisys.com (s3.eu-central-1.wasabisys.com)|130.117.252.22|:443... connected.\n",
            "HTTP request sent, awaiting response... 200 OK\n",
            "Length: 11947772 (11M) [application/x-gzip]\n",
            "Saving to: ‘test_images.tar.gz’\n",
            "\n",
            "test_images.tar.gz  100%[===================>]  11.39M  11.4MB/s    in 1.0s    \n",
            "\n",
            "2021-11-21 01:05:22 (11.4 MB/s) - ‘test_images.tar.gz’ saved [11947772/11947772]\n",
            "\n",
            "--2021-11-21 01:05:22--  https://s3.eu-central-1.wasabisys.com/aicrowd-public-datasets/myfoodrepo/round-1/val.tar.gz\n",
            "Resolving s3.eu-central-1.wasabisys.com (s3.eu-central-1.wasabisys.com)... 130.117.252.22, 130.117.252.19, 130.117.252.12, ...\n",
            "Connecting to s3.eu-central-1.wasabisys.com (s3.eu-central-1.wasabisys.com)|130.117.252.22|:443... connected.\n",
            "HTTP request sent, awaiting response... 200 OK\n",
            "Length: 12157308 (12M) [application/x-gzip]\n",
            "Saving to: ‘val.tar.gz’\n",
            "\n",
            "val.tar.gz          100%[===================>]  11.59M  3.40MB/s    in 3.4s    \n",
            "\n",
            "2021-11-21 01:05:26 (3.40 MB/s) - ‘val.tar.gz’ saved [12157308/12157308]\n",
            "\n"
          ]
        }
      ]
    },
    {
      "cell_type": "code",
      "metadata": {
        "id": "ZXO6-8_-9Fye",
        "colab": {
          "base_uri": "https://localhost:8080/"
        },
        "outputId": "dde45843-80ae-4386-feba-f69550bf602a"
      },
      "source": [
        "!pwd\n",
        "!ls"
      ],
      "execution_count": 7,
      "outputs": [
        {
          "output_type": "stream",
          "name": "stdout",
          "text": [
            "/content\n",
            "gdrive\tjq  sample_data  test_images.tar.gz  train.tar.gz  val.tar.gz\n"
          ]
        }
      ]
    },
    {
      "cell_type": "code",
      "metadata": {
        "id": "tCp41mm08ruj",
        "colab": {
          "base_uri": "https://localhost:8080/"
        },
        "outputId": "932be442-7ea5-48b7-b674-21c6a4d409db"
      },
      "source": [
        "!for f in *.tar.gz; do echo \"$f\"; tar xf \"$f\"; done"
      ],
      "execution_count": 8,
      "outputs": [
        {
          "output_type": "stream",
          "name": "stdout",
          "text": [
            "test_images.tar.gz\n",
            "train.tar.gz\n",
            "val.tar.gz\n"
          ]
        }
      ]
    },
    {
      "cell_type": "code",
      "metadata": {
        "id": "g-OseIO9-DAD",
        "colab": {
          "base_uri": "https://localhost:8080/"
        },
        "outputId": "d93d7ca0-e3d2-4b60-f801-ace7c3c2da63"
      },
      "source": [
        "!ls train\n",
        "!cat train/annotations.json | ./jq . | head -n 50"
      ],
      "execution_count": 9,
      "outputs": [
        {
          "output_type": "stream",
          "name": "stdout",
          "text": [
            "annotations.json  images\n",
            "{\n",
            "  \"categories\": [\n",
            "    {\n",
            "      \"id\": 1565,\n",
            "      \"name\": \"bread-wholemeal\",\n",
            "      \"name_readable\": \"Bread, wholemeal\",\n",
            "      \"supercategory\": \"food\"\n",
            "    },\n",
            "    {\n",
            "      \"id\": 1010,\n",
            "      \"name\": \"potatoes-steamed\",\n",
            "      \"name_readable\": \"Potatoes steamed\",\n",
            "      \"supercategory\": \"food\"\n",
            "    },\n",
            "    {\n",
            "      \"id\": 1085,\n",
            "      \"name\": \"broccoli\",\n",
            "      \"name_readable\": \"Broccoli\",\n",
            "      \"supercategory\": \"food\"\n",
            "    },\n",
            "    {\n",
            "      \"id\": 2053,\n",
            "      \"name\": \"butter\",\n",
            "      \"name_readable\": \"Butter\",\n",
            "      \"supercategory\": \"food\"\n",
            "    },\n",
            "    {\n",
            "      \"id\": 1310,\n",
            "      \"name\": \"hard-cheese\",\n",
            "      \"name_readable\": \"Hard cheese\",\n",
            "      \"supercategory\": \"food\"\n",
            "    },\n",
            "    {\n",
            "      \"id\": 2578,\n",
            "      \"name\": \"water\",\n",
            "      \"name_readable\": \"Water\",\n",
            "      \"supercategory\": \"food\"\n",
            "    },\n",
            "    {\n",
            "      \"id\": 1154,\n",
            "      \"name\": \"banana\",\n",
            "      \"name_readable\": \"Banana\",\n",
            "      \"supercategory\": \"food\"\n",
            "    },\n",
            "    {\n",
            "      \"id\": 2620,\n",
            "      \"name\": \"wine-white\",\n",
            "      \"name_readable\": \"Wine, white\",\n",
            "      \"supercategory\": \"food\"\n",
            "    },\n"
          ]
        }
      ]
    },
    {
      "cell_type": "markdown",
      "metadata": {
        "id": "SDA1bgkg-8yu"
      },
      "source": [
        "# Configure static variables 📎"
      ]
    },
    {
      "cell_type": "code",
      "metadata": {
        "id": "r6kEtMOl-8GO"
      },
      "source": [
        "from pathlib import Path\n",
        "import os\n",
        "from multiprocessing import Pool\n",
        "import json\n",
        "\n",
        "from tqdm.notebook import tqdm\n",
        "from pycocotools.coco import COCO\n",
        "import numpy as np\n",
        "import cv2\n",
        "\n",
        "class Paths:\n",
        "  DATASET_DIR = Path(\".\")\n",
        "  \n",
        "  TRAIN_DATA_DIR = DATASET_DIR/\"train\"\n",
        "  TRAIN_IMAGES_DIR = TRAIN_DATA_DIR/\"images\"\n",
        "  TRAIN_ANNOTATIONS = TRAIN_DATA_DIR/\"annotations.json\"\n",
        "  TRAIN_MULTI_SEG_DIR = TRAIN_DATA_DIR/\"segmentations\"\n",
        "  \n",
        "  VAL_DATA_DIR = DATASET_DIR/\"val\"\n",
        "  VAL_ANNOTATIONS = VAL_DATA_DIR/\"annotations.json\"\n",
        "  VAL_IMAGES_DIR = VAL_DATA_DIR/\"images\"\n",
        "  VAL_MULTI_SEG_DIR = VAL_DATA_DIR/\"segmentations\"\n",
        "\n",
        "  CURR_DATA_DIR = DATASET_DIR/\"curr\"\n",
        "  CURR_IMAGES_DIR = CURR_DATA_DIR/\"images\"\n",
        "  CURR_ANNOTATIONS = CURR_DATA_DIR/\"annotations.json\"\n",
        "  CURR_MULTI_SEG_DIR = CURR_DATA_DIR/\"segmentations\"\n",
        "\n",
        "\n",
        "class DatasetLabels:\n",
        "  TRAIN = \"dataset_train\"\n",
        "  VAL = \"dataset_val\"\n",
        "\n",
        "import os\n",
        "for dirs in [Paths.CURR_IMAGES_DIR,Paths.TRAIN_MULTI_SEG_DIR,Paths.VAL_MULTI_SEG_DIR,Paths.CURR_MULTI_SEG_DIR]:\n",
        "  os.makedirs(dirs,exist_ok=True)"
      ],
      "execution_count": 10,
      "outputs": []
    },
    {
      "cell_type": "code",
      "metadata": {
        "id": "1jkAnlhzIvyM"
      },
      "source": [
        "GDRIVE_MIRROR_ROOT = gdrive/\"Food Challenge\"/\"persistent\"/\"mirror\"\n",
        "os.makedirs(GDRIVE_MIRROR_ROOT,exist_ok=True)\n",
        "\n",
        "def store_directory_to_google_drive(relative_dir):\n",
        "  destination = GDRIVE_MIRROR_ROOT/relative_dir\n",
        "  print(f\"Storing {relative_dir} -> {destination} (target removed before copy)\")\n",
        "  shutil.rmtree(destination, ignore_errors=True)\n",
        "  shutil.copytree(relative_dir,destination)\n",
        "\n",
        "def restore_directory_from_google_drive(relative_dir):\n",
        "  source = GDRIVE_MIRROR_ROOT/relative_dir\n",
        "  print(f\"Restoring {relative_dir} <- {source} (target removed before copy)\")\n",
        "  shutil.rmtree(relative_dir, ignore_errors=True)\n",
        "  shutil.copytree(source,relative_dir)"
      ],
      "execution_count": 11,
      "outputs": []
    },
    {
      "cell_type": "code",
      "metadata": {
        "id": "GpUFct7TK3Sj"
      },
      "source": [
        "# restore precomputed segmentation masks\n",
        "if False and \"we don't want to restore the segmentation masks from google drive, since this is slow. It's slower than computing them directly!\":\n",
        "  try:\n",
        "    restore_directory_from_google_drive(Paths.TRAIN_MULTI_SEG_DIR)\n",
        "  except Exception as e:\n",
        "    e.printStackTrace()"
      ],
      "execution_count": 12,
      "outputs": []
    },
    {
      "cell_type": "markdown",
      "metadata": {
        "id": "DGt1_dNs_LFB"
      },
      "source": [
        "# Packages 🗃\n",
        "\n",
        "Import here all the packages you need to define your model. "
      ]
    },
    {
      "cell_type": "code",
      "metadata": {
        "id": "XOxxkvKI5jhA",
        "colab": {
          "base_uri": "https://localhost:8080/"
        },
        "outputId": "1398ca93-2482-4cf6-e411-c98dc0818b74"
      },
      "source": [
        "\"\"\"from detectron2.data.datasets import register_coco_instances\n",
        "import detectron2\n",
        "from detectron2.utils.logger import setup_logger\n",
        "from detectron2.utils.visualizer import Visualizer\n",
        "from detectron2.utils.visualizer import ColorMode\n",
        "from detectron2.data import MetadataCatalog\n",
        "from detectron2.evaluation import COCOEvaluator, inference_on_dataset\n",
        "from detectron2.data import build_detection_test_loader\n",
        "from detectron2.engine import DefaultPredictor\n",
        "from detectron2.engine import DefaultTrainer\n",
        "from detectron2.config import get_cfg\n",
        "from detectron2 import model_zoo\n",
        "from detectron2.utils.events import get_event_storage\n",
        "from detectron2.engine import HookBase\n",
        "\"\"\"\n",
        "0"
      ],
      "execution_count": 13,
      "outputs": [
        {
          "output_type": "execute_result",
          "data": {
            "text/plain": [
              "0"
            ]
          },
          "metadata": {},
          "execution_count": 13
        }
      ]
    },
    {
      "cell_type": "markdown",
      "metadata": {
        "id": "rgc_ZDzmzyOE"
      },
      "source": [
        "# Loading the data 📲"
      ]
    },
    {
      "cell_type": "code",
      "metadata": {
        "id": "Xii1QDbCpZ0K",
        "colab": {
          "base_uri": "https://localhost:8080/"
        },
        "outputId": "849ecd74-7fca-4acb-a2c0-1c16ac0187a2"
      },
      "source": [
        "with open(Paths.TRAIN_ANNOTATIONS) as fp:\n",
        "  annotations = json.load(fp)\n",
        "  print(annotations.keys())"
      ],
      "execution_count": 14,
      "outputs": [
        {
          "output_type": "stream",
          "name": "stdout",
          "text": [
            "dict_keys(['categories', 'info', 'images', 'annotations'])\n"
          ]
        }
      ]
    },
    {
      "cell_type": "markdown",
      "metadata": {
        "id": "s7Yr5lfoAnwJ"
      },
      "source": [
        "## Helper functions to clean the dataset\n",
        "\n",
        "First, we will see if all the annotations in the dataset are properly aligned with the images. These helper functions will let us do that."
      ]
    },
    {
      "cell_type": "code",
      "metadata": {
        "id": "SstjAZ9UR6mk"
      },
      "source": [
        "image_dir = \"\"\n",
        "\n",
        "\n",
        "def validate_annotation(annotation):\n",
        "  \"\"\"Check the image dimensions and fix them if needed\n",
        "  \"\"\"\n",
        "  filepath = os.path.join(image_dir, annotation.get(\"file_name\"))\n",
        "  if not os.path.exists(filepath):\n",
        "    print(\"Skipping\", filepath)\n",
        "    return annotation\n",
        "  img = cv2.imread(filepath)\n",
        "  if img.shape[0] != annotation.get(\"height\") or img.shape[1] != annotation.get(\"width\"):\n",
        "    annotation[\"height\"], annotation[\"width\"] = annotation[\"width\"], annotation[\"height\"]\n",
        "  return annotation\n",
        "\n",
        "\n",
        "def clean_annotations(annotation_images):\n",
        "  \"\"\"Read the image dimensions and fix them in parallel\n",
        "  \"\"\"\n",
        "  annotated_images = []\n",
        "\n",
        "  with Pool() as p:\n",
        "    total_images = len(annotation_images)\n",
        "\n",
        "    with tqdm(total=total_images) as progress_bar:\n",
        "      for annotation in p.imap(validate_annotation, annotation_images):\n",
        "        annotated_images.append(annotation)\n",
        "        progress_bar.update(1)\n",
        "\n",
        "  return annotated_images"
      ],
      "execution_count": 15,
      "outputs": []
    },
    {
      "cell_type": "markdown",
      "metadata": {
        "id": "dbxqgfj0Xd8Q"
      },
      "source": [
        "## Clean the training data 🧹"
      ]
    },
    {
      "cell_type": "code",
      "metadata": {
        "id": "jVAP3Ds09qxe",
        "colab": {
          "base_uri": "https://localhost:8080/",
          "height": 49,
          "referenced_widgets": [
            "8aebf759035e445b942c90301a677e60",
            "8700ade97610492ab478343fe5a6cf99",
            "1f0ab32e7253469d982a6b3d28d38304",
            "05f88399b1ab4ea3984bde4478a9a9f1",
            "9c4c7f8aa89c429ebebf2dc917f7b6ef",
            "6e8e29df8dae4580b82b9b64b381bb2b",
            "a5640c4fbe3e4c42975f23970c2e06e7",
            "d1623acb4ecc41a4beacb629e9847a04",
            "cbdcdb65abf542049555a83e74fbccff",
            "82be7db2269c46c8b81e82b289062be9",
            "ab987595b80544f1aff28ce898b912bf"
          ]
        },
        "outputId": "329a2803-0627-4a5b-d976-1fc0c74f0419"
      },
      "source": [
        "image_dir = Paths.TRAIN_IMAGES_DIR\n",
        "annotations[\"images\"] = clean_annotations(annotations.get(\"images\"))\n",
        "\n",
        "with open(Paths.TRAIN_ANNOTATIONS, \"w\") as fp:\n",
        "  json.dump(annotations, fp)"
      ],
      "execution_count": 16,
      "outputs": [
        {
          "output_type": "display_data",
          "data": {
            "application/vnd.jupyter.widget-view+json": {
              "model_id": "8aebf759035e445b942c90301a677e60",
              "version_minor": 0,
              "version_major": 2
            },
            "text/plain": [
              "  0%|          | 0/5545 [00:00<?, ?it/s]"
            ]
          },
          "metadata": {}
        }
      ]
    },
    {
      "cell_type": "markdown",
      "metadata": {
        "id": "DZM_-xKcXhvH"
      },
      "source": [
        "## Clean the validation data 🧹"
      ]
    },
    {
      "cell_type": "code",
      "metadata": {
        "id": "JnFNbX9DX6Ci",
        "colab": {
          "base_uri": "https://localhost:8080/",
          "height": 49,
          "referenced_widgets": [
            "cdd9781a21c1405b92d0bf6ea9731528",
            "73b8dfaf8a0d436db2339d158f4261ad",
            "f738e522de1346c0909eb94317ebc09a",
            "ca4484a140a94fc8b01f121ff3431779",
            "67141c075d184107978c7db2e73ae83c",
            "38c4c5e38f494477a74e07f4e6e1c8b5",
            "ed64e251ee1049a691ef0f52f026b73e",
            "8ac28c6e795d48528b067515eaac5cdd",
            "c96756217e914a538bf81596b3b32322",
            "ffe5d6e5bb4d4173bb35c3b8a2c6c7d7",
            "f306e5d0a2254a52a08cb84511c53ddd"
          ]
        },
        "outputId": "d129d13f-b4cf-4dd6-8da8-13c48447cf66"
      },
      "source": [
        "image_dir = Paths.VAL_IMAGES_DIR\n",
        "\n",
        "with open(Paths.VAL_ANNOTATIONS) as fp:\n",
        "  validation_annotations = json.load(fp)\n",
        "\n",
        "validation_annotations[\"images\"] = clean_annotations(validation_annotations.get(\"images\"))\n",
        "\n",
        "with open(Paths.VAL_ANNOTATIONS, \"w\") as fp:\n",
        "  json.dump(validation_annotations, fp)"
      ],
      "execution_count": 17,
      "outputs": [
        {
          "output_type": "display_data",
          "data": {
            "application/vnd.jupyter.widget-view+json": {
              "model_id": "cdd9781a21c1405b92d0bf6ea9731528",
              "version_minor": 0,
              "version_major": 2
            },
            "text/plain": [
              "  0%|          | 0/291 [00:00<?, ?it/s]"
            ]
          },
          "metadata": {}
        }
      ]
    },
    {
      "cell_type": "markdown",
      "metadata": {
        "id": "M05KHR--CUq3"
      },
      "source": [
        "# My baseline model"
      ]
    },
    {
      "cell_type": "code",
      "metadata": {
        "id": "IfprvZ7ECWnA",
        "colab": {
          "base_uri": "https://localhost:8080/"
        },
        "outputId": "8cb9335e-67ee-42c3-b936-97cb3fe07239"
      },
      "source": [
        "coco = COCO(Paths.TRAIN_ANNOTATIONS)"
      ],
      "execution_count": 18,
      "outputs": [
        {
          "output_type": "stream",
          "name": "stdout",
          "text": [
            "loading annotations into memory...\n",
            "Done (t=0.55s)\n",
            "creating index...\n",
            "index created!\n"
          ]
        }
      ]
    },
    {
      "cell_type": "code",
      "metadata": {
        "id": "U9FRSJyRCo9-",
        "colab": {
          "base_uri": "https://localhost:8080/"
        },
        "outputId": "e0eaca86-ec60-48ea-8f48-9ef447e83ec3"
      },
      "source": [
        "category_ids = coco.loadCats(coco.getCatIds())\n",
        "category_names = [_[\"name\"] for _ in category_ids]\n",
        "\n",
        "image_ids = coco.getImgIds()\n",
        "\n",
        "annotation_ids = coco.getAnnIds()\n",
        "annotations = coco.loadAnns(annotation_ids)\n",
        "\n",
        "print(\"Categories: \",\", \".join(category_names))\n",
        "\n",
        "print(\"Image ids: \", image_ids[:10],\"...\")\n",
        "\n",
        "print(\"Annotation:\" , annotations[0].keys())\n"
      ],
      "execution_count": 19,
      "outputs": [
        {
          "output_type": "stream",
          "name": "stdout",
          "text": [
            "Categories:  bread-wholemeal, potatoes-steamed, broccoli, butter, hard-cheese, water, banana, wine-white, bread-white, apple, pizza-margherita-baked, salad-leaf-salad-green, zucchini, water-mineral, coffee-with-caffeine, avocado, tomato, dark-chocolate, white-coffee-with-caffeine, egg, mixed-salad-chopped-without-sauce, sweet-pepper, mixed-vegetables, mayonnaise, rice, chips-french-fries, carrot, tomato-sauce, cucumber, wine-red, cheese, strawberries, espresso-with-caffeine, tea, chicken, jam, leaf-spinach, pasta-spaghetti, french-beans, bread-whole-wheat\n",
            "Image ids:  [16387, 49157, 16394, 49164, 49166, 16398, 49168, 49171, 16409, 49179] ...\n",
            "Annotation: dict_keys(['id', 'image_id', 'category_id', 'segmentation', 'area', 'bbox', 'iscrowd'])\n"
          ]
        }
      ]
    },
    {
      "cell_type": "code",
      "metadata": {
        "id": "hmVLSrsBR_T6",
        "colab": {
          "base_uri": "https://localhost:8080/"
        },
        "outputId": "6325a0b3-e446-4928-ad2d-ba7878069457"
      },
      "source": [
        "tiny_train_imids = [12886,22949,49145,54634]\n",
        "\n",
        "import shutil\n",
        "\n",
        "# create currently trained on dataset\n",
        "\n",
        "for imid in tiny_train_imids:\n",
        "  im = coco.loadImgs(imid)[0]\n",
        "  shutil.copy(Paths.TRAIN_IMAGES_DIR/im['file_name'], Paths.CURR_IMAGES_DIR/im['file_name'])\n",
        "\n",
        "\n",
        "shutil.copy(Paths.TRAIN_ANNOTATIONS, Paths.CURR_ANNOTATIONS)"
      ],
      "execution_count": 20,
      "outputs": [
        {
          "output_type": "execute_result",
          "data": {
            "text/plain": [
              "Path('curr/annotations.json')"
            ]
          },
          "metadata": {},
          "execution_count": 20
        }
      ]
    },
    {
      "cell_type": "code",
      "metadata": {
        "id": "O9NEInrKS_Vo",
        "colab": {
          "base_uri": "https://localhost:8080/"
        },
        "outputId": "e9cc8797-4848-4acf-a0f6-a04dfbfa3b06"
      },
      "source": [
        "!ls curr\n",
        "!ls curr/images"
      ],
      "execution_count": 21,
      "outputs": [
        {
          "output_type": "stream",
          "name": "stdout",
          "text": [
            "annotations.json  images  segmentations\n",
            "012886.jpg  022949.jpg\t049145.jpg  054634.jpg\n"
          ]
        }
      ]
    },
    {
      "cell_type": "code",
      "metadata": {
        "id": "_wvHBPWqa7aA",
        "colab": {
          "base_uri": "https://localhost:8080/"
        },
        "outputId": "78f2137e-6946-4c36-bb66-de8529f34957"
      },
      "source": [
        "[catdict[\"name\"] for catdict in category_ids]"
      ],
      "execution_count": 22,
      "outputs": [
        {
          "output_type": "execute_result",
          "data": {
            "text/plain": [
              "['bread-wholemeal',\n",
              " 'potatoes-steamed',\n",
              " 'broccoli',\n",
              " 'butter',\n",
              " 'hard-cheese',\n",
              " 'water',\n",
              " 'banana',\n",
              " 'wine-white',\n",
              " 'bread-white',\n",
              " 'apple',\n",
              " 'pizza-margherita-baked',\n",
              " 'salad-leaf-salad-green',\n",
              " 'zucchini',\n",
              " 'water-mineral',\n",
              " 'coffee-with-caffeine',\n",
              " 'avocado',\n",
              " 'tomato',\n",
              " 'dark-chocolate',\n",
              " 'white-coffee-with-caffeine',\n",
              " 'egg',\n",
              " 'mixed-salad-chopped-without-sauce',\n",
              " 'sweet-pepper',\n",
              " 'mixed-vegetables',\n",
              " 'mayonnaise',\n",
              " 'rice',\n",
              " 'chips-french-fries',\n",
              " 'carrot',\n",
              " 'tomato-sauce',\n",
              " 'cucumber',\n",
              " 'wine-red',\n",
              " 'cheese',\n",
              " 'strawberries',\n",
              " 'espresso-with-caffeine',\n",
              " 'tea',\n",
              " 'chicken',\n",
              " 'jam',\n",
              " 'leaf-spinach',\n",
              " 'pasta-spaghetti',\n",
              " 'french-beans',\n",
              " 'bread-whole-wheat']"
            ]
          },
          "metadata": {},
          "execution_count": 22
        }
      ]
    },
    {
      "cell_type": "code",
      "metadata": {
        "id": "ctgT-F9bYDqC",
        "colab": {
          "base_uri": "https://localhost:8080/"
        },
        "outputId": "02f1f7b1-1cf3-4b08-b519-f32daa6dfab1"
      },
      "source": [
        "fai_multi_cats_from_coco_ids = Pipeline([MultiCategorize(vocab=[catdict[\"id\"] for catdict in category_ids]),\n",
        "                                         OneHotEncode(c=len(category_ids)),\n",
        "                                         Transform(enc = lambda tensor_mcat: np.array(tensor_mcat,dtype=np.int8), dec = TensorMultiCategory, order=2)\n",
        "                                         ])\n",
        "\n",
        "coco_cat_id_to_name = lambda coco_cat_id : list(filter(lambda catdict: catdict[\"id\"] == coco_cat_id, category_ids))[0][\"name\"]\n",
        "fai_multi_cats_to_names = Transform(lambda fai_cats: list(map(coco_cat_id_to_name, fai_multi_cats_from_coco_ids.decode(fai_cats))))\n",
        "\n",
        "print(category_ids[0])\n",
        "print(category_ids[35])\n",
        "print(category_ids[24])\n",
        "\n",
        "print(fai_multi_cats_from_coco_ids)\n",
        "\n",
        "example_categories = fai_multi_cats_from_coco_ids([1565,2099,1468])\n",
        "print(\"bread-wholemeal,jam,rice ->\", example_categories)\n",
        "\n",
        "print(\"bread-wholemeal,jam,rice -> \", fai_multi_cats_to_names(example_categories))"
      ],
      "execution_count": 24,
      "outputs": [
        {
          "output_type": "stream",
          "name": "stdout",
          "text": [
            "{'id': 1565, 'name': 'bread-wholemeal', 'name_readable': 'Bread, wholemeal', 'supercategory': 'food'}\n",
            "{'id': 2099, 'name': 'jam', 'name_readable': 'Jam', 'supercategory': 'food'}\n",
            "{'id': 1468, 'name': 'rice', 'name_readable': 'Rice', 'supercategory': 'food'}\n",
            "Pipeline: MultiCategorize -- {'vocab': [1565, 1010, 1085, 2053, 1310, 2578, 1154, 2620, 1566, 1151, 2939, 1040, 1070, 2580, 2512, 1056, 1069, 2131, 2521, 2022, 1026, 1068, 1022, 2750, 1468, 1013, 1078, 2738, 1061, 2618, 1311, 1163, 2504, 2498, 1788, 2099, 1032, 1505, 1058, 1554], 'sort': False, 'add_na': False} -> OneHotEncode -- {'c': 40} -> <lambda>\n",
            "bread-wholemeal,jam,rice -> [1 0 0 0 0 0 0 0 0 0 0 0 0 0 0 0 0 0 0 0 0 0 0 0 1 0 0 0 0 0 0 0 0 0 0 1 0 0 0 0]\n",
            "bread-wholemeal,jam,rice ->  ['bread-wholemeal', 'rice', 'jam']\n"
          ]
        }
      ]
    },
    {
      "cell_type": "code",
      "metadata": {
        "id": "qIMMhF0_qwxD",
        "colab": {
          "base_uri": "https://localhost:8080/"
        },
        "outputId": "744e6281-aa92-40be-dbd4-70c4c8075723"
      },
      "source": [
        "example_mini_image_masks = np.zeros((len(category_ids),3,3),dtype=np.int8)\n",
        "\n",
        "example_mini_image_masks[2] = np.array([[1,1,1],[1,1,0],[1,0,0]])\n",
        "example_mini_image_masks[5] = np.array([[1,0,0],[1,1,0],[1,1,1]])\n",
        "\n",
        "print(example_mini_image_masks.shape)\n",
        "\n",
        "example_mini_image_masks[:6]\n",
        "\n",
        "for i in range(3):\n",
        "  for j in range(3):\n",
        "    print(f\"{i},{j} -> \",fai_multi_cats_from_coco_ids.decode(example_mini_image_masks[:,i,j]))"
      ],
      "execution_count": 25,
      "outputs": [
        {
          "output_type": "stream",
          "name": "stdout",
          "text": [
            "(40, 3, 3)\n",
            "0,0 ->  [1085, 2578]\n",
            "0,1 ->  [1085]\n",
            "0,2 ->  [1085]\n",
            "1,0 ->  [1085, 2578]\n",
            "1,1 ->  [1085, 2578]\n",
            "1,2 ->  []\n",
            "2,0 ->  [1085, 2578]\n",
            "2,1 ->  [2578]\n",
            "2,2 ->  [2578]\n"
          ]
        }
      ]
    },
    {
      "cell_type": "code",
      "metadata": {
        "id": "bhB3IQroC6xW",
        "colab": {
          "base_uri": "https://localhost:8080/",
          "height": 484
        },
        "outputId": "99a7bb60-2ec6-4894-918b-77c4d22cdbf9"
      },
      "source": [
        "import random\n",
        "import skimage.io as io\n",
        "import matplotlib.pyplot as plt\n",
        "%matplotlib inline\n",
        "\n",
        "imid = 30573\n",
        "imid = 16387\n",
        "imid = random.choice(image_ids)\n",
        "im = coco.loadImgs(imid)[0]\n",
        "im_annotations = coco.loadAnns(coco.getAnnIds(imgIds=imid))\n",
        "\n",
        "image_path = os.path.join(Paths.TRAIN_IMAGES_DIR, im[\"file_name\"])\n",
        "plt.figure(figsize=(8,8))\n",
        "I = io.imread(image_path)\n",
        "plt.imshow(I)\n",
        "plt.axis('off')\n",
        "# Render annotations on top of the image\n",
        "coco.showAnns(im_annotations)\n",
        "\n",
        "print(imid,im[\"width\"],im[\"height\"])"
      ],
      "execution_count": 104,
      "outputs": [
        {
          "output_type": "stream",
          "name": "stdout",
          "text": [
            "48984 480 479\n"
          ]
        },
        {
          "output_type": "display_data",
          "data": {
            "image/png": "[encoded data removed]",
            "text/plain": [
              "<Figure size 576x576 with 1 Axes>"
            ]
          },
          "metadata": {
            "needs_background": "light"
          }
        }
      ]
    },
    {
      "cell_type": "code",
      "metadata": {
        "id": "YZ4_NW8_LdbG"
      },
      "source": [
        "def one_hot_id_from_coco_id(coco_id):\n",
        "  return np.nonzero(fai_multi_cats_from_coco_ids([coco_id]))[0][0]\n",
        "\n",
        "def convert_annotations_to_multimask(im_annotations, image_dict, debug=False):\n",
        "  \"\"\"Produces a mask of shape [N_CLASSES, w, h] where each seg_pixel (c,x,y) is either 1 (in class) or 0\"\"\"\n",
        "\n",
        "  multi_seg_mask = np.zeros((len(category_ids), image_dict[\"width\"], image_dict[\"height\"]),dtype=np.int8)\n",
        "\n",
        "  if debug:\n",
        "    print(\"Image id\", image_dict['id'])\n",
        "    print(\"Image shape: \", image_dict['width'], image_dict['height'])\n",
        "\n",
        "  for im_anno in im_annotations:\n",
        "    encSeg = cocomask.frPyObjects(\n",
        "        im_anno['segmentation']\n",
        "        ,image_dict['width'], image_dict['height']\n",
        "      )\n",
        "    \n",
        "    one_hot_id = one_hot_id_from_coco_id(im_anno[\"category_id\"])\n",
        "    \n",
        "    if debug:\n",
        "      print(\"Processing\",im_anno['category_id'],\"->\",one_hot_id)\n",
        "    \n",
        "    org_seg = cocomask.decode(encSeg)\n",
        "\n",
        "    if debug:\n",
        "      print(\"Org seg shape \", org_seg.shape)\n",
        "      print(\"Number of components of this label \", org_seg.shape[2])\n",
        "\n",
        "    multi_component_segmentations = org_seg.reshape((image_dict['width'], image_dict['height'],-1))\n",
        "\n",
        "    if debug:\n",
        "      print(\"multi_component_segmentations.shape \", multi_component_segmentations.shape)\n",
        "\n",
        "    category_seg = np.sum(multi_component_segmentations, axis=2)\n",
        "    np.clip(category_seg,0,1,out=category_seg)\n",
        "\n",
        "    assert category_seg.shape == (image_dict[\"width\"],image_dict[\"height\"])\n",
        "\n",
        "    multi_seg_mask[one_hot_id] = category_seg\n",
        "\n",
        "  return multi_seg_mask"
      ],
      "execution_count": 27,
      "outputs": []
    },
    {
      "cell_type": "code",
      "metadata": {
        "id": "TkHCOTMZHsa-",
        "colab": {
          "base_uri": "https://localhost:8080/",
          "height": 1000
        },
        "outputId": "9906984f-6b86-4904-8e98-b12d0c398fcb"
      },
      "source": [
        "# test multi-label segmentation is correctly converted\n",
        "\n",
        "import pycocotools\n",
        "import pycocotools.mask as cocomask\n",
        "\n",
        "result = convert_annotations_to_multimask(im_annotations,im,debug=True)\n",
        "\n",
        "assert result.shape == (40, im[\"width\"], im[\"height\"])\n",
        "\n",
        "for im_anno in im_annotations:\n",
        "  encSeg = cocomask.frPyObjects(\n",
        "      im_anno['segmentation']\n",
        "      ,im['width'], im['height']\n",
        "    )\n",
        "  \n",
        "  one_hot_id = one_hot_id_from_coco_id(im_anno['category_id'])\n",
        "\n",
        "  m = cocomask.decode(encSeg)\n",
        "\n",
        "  m = m.reshape((im['width'], im['height'], -1))\n",
        "  for i in range(m.shape[2]):\n",
        "    print(\"component =\",i)\n",
        "    plt.imshow(m[:,:,i])\n",
        "    plt.show()\n",
        "  \n",
        "  print(\"mask\")\n",
        "  plt.imshow(result[one_hot_id])\n",
        "  plt.show()\n",
        "\n",
        "  assert np.all(m.sum(axis=2) == result[one_hot_id])"
      ],
      "execution_count": 28,
      "outputs": [
        {
          "output_type": "stream",
          "name": "stdout",
          "text": [
            "Image id 16387\n",
            "Image shape:  479 479\n",
            "Processing 1565 -> 0\n",
            "Org seg shape  (479, 479, 1)\n",
            "Number of components of this label  1\n",
            "multi_component_segmentations.shape  (479, 479, 1)\n",
            "Processing 1010 -> 1\n",
            "Org seg shape  (479, 479, 2)\n",
            "Number of components of this label  2\n",
            "multi_component_segmentations.shape  (479, 479, 2)\n",
            "component = 0\n"
          ]
        },
        {
          "output_type": "display_data",
          "data": {
            "image/png": "[encoded data removed]",
            "text/plain": [
              "<Figure size 432x288 with 1 Axes>"
            ]
          },
          "metadata": {
            "needs_background": "light"
          }
        },
        {
          "output_type": "stream",
          "name": "stdout",
          "text": [
            "mask\n"
          ]
        },
        {
          "output_type": "display_data",
          "data": {
            "image/png": "[encoded data removed]",
            "text/plain": [
              "<Figure size 432x288 with 1 Axes>"
            ]
          },
          "metadata": {
            "needs_background": "light"
          }
        },
        {
          "output_type": "stream",
          "name": "stdout",
          "text": [
            "component = 0\n"
          ]
        },
        {
          "output_type": "display_data",
          "data": {
            "image/png": "[encoded data removed]",
            "text/plain": [
              "<Figure size 432x288 with 1 Axes>"
            ]
          },
          "metadata": {
            "needs_background": "light"
          }
        },
        {
          "output_type": "stream",
          "name": "stdout",
          "text": [
            "component = 1\n"
          ]
        },
        {
          "output_type": "display_data",
          "data": {
            "image/png": "[encoded data removed]",
            "text/plain": [
              "<Figure size 432x288 with 1 Axes>"
            ]
          },
          "metadata": {
            "needs_background": "light"
          }
        },
        {
          "output_type": "stream",
          "name": "stdout",
          "text": [
            "mask\n"
          ]
        },
        {
          "output_type": "display_data",
          "data": {
            "image/png": "[encoded data removed]",
            "text/plain": [
              "<Figure size 432x288 with 1 Axes>"
            ]
          },
          "metadata": {
            "needs_background": "light"
          }
        }
      ]
    },
    {
      "cell_type": "code",
      "metadata": {
        "id": "yKRB5Xzg4QyF"
      },
      "source": [
        "# Transform given annotations into our desired segmentations format\n",
        "\n",
        "dest_segmentations_dir = None\n",
        "\n",
        "FORCE_RECOMPUTE = False\n",
        "\n",
        "def task(im_id):\n",
        "  try:\n",
        "    out_file = dest_segmentations_dir / f\"{im_id}.npz\"\n",
        "\n",
        "    if os.path.isfile(out_file) and not FORCE_RECOMPUTE:\n",
        "      return\n",
        "    \n",
        "    image_dict = coco.loadImgs(im_id)[0]\n",
        "    im_annotations = coco.loadAnns(coco.getAnnIds(imgIds=im_id))\n",
        "    multi_mask = convert_annotations_to_multimask(im_annotations, image_dict, debug=False)\n",
        "    np.savez_compressed(out_file, multi_mask, allow_pickle=False)\n",
        "  except Exception as e:\n",
        "    print(\"Error: \", im_id)\n",
        "    raise e\n",
        "\n",
        "def preprocess_and_store_segmentations(im_ids):\n",
        "\n",
        "  with Pool() as p:\n",
        "\n",
        "    with tqdm(total=len(im_ids)) as progress_bar:\n",
        "\n",
        "      for _ in p.imap(task, im_ids):\n",
        "        progress_bar.update(1)\n"
      ],
      "execution_count": 39,
      "outputs": []
    },
    {
      "cell_type": "code",
      "metadata": {
        "id": "sbYH7cc-51f9"
      },
      "source": [
        "def load_multi_segmentation(path):\n",
        "  arr = None\n",
        "  with np.load(path) as npz:\n",
        "    arr = npz[\"arr_0\"]\n",
        "  return arr"
      ],
      "execution_count": 40,
      "outputs": []
    },
    {
      "cell_type": "code",
      "metadata": {
        "id": "Zt6BQzXn9hnQ",
        "colab": {
          "base_uri": "https://localhost:8080/",
          "height": 67,
          "referenced_widgets": [
            "0403005bfc224d62be8a893c05e0f8a0",
            "90dcfa8f20904ae29e721f39730b8112",
            "2d9ee5fa783f4325b902b3d8f43439cc",
            "420bcf77dda149c28cfdcca96bd06c9f",
            "40ff4f77e9e04ed2974a86e8b6f403b6",
            "5c2ae14be2f94d2eb3c69801ce7f0ba0",
            "742049ea6f6a43d388c7693626fca3ca",
            "624e37014b07487cb43e6ca808c76dca",
            "14ae812224724fbea3115ee4574a1e8a",
            "4b8fe57e24bc42399055033141f5d723",
            "ceb26c8c837244d48485ded5b230ecd1"
          ]
        },
        "outputId": "c9237339-2a7f-403a-f783-f2ffce469e5c"
      },
      "source": [
        "dest_segmentations_dir = Paths.CURR_MULTI_SEG_DIR\n",
        "preprocess_and_store_segmentations(tiny_train_imids)\n",
        "print(list(os.listdir(Paths.CURR_MULTI_SEG_DIR))[:5],\"...\")\n",
        "\n",
        "if not \"transform train data\":\n",
        "  dest_segmentations_dir = Paths.TRAIN_MULTI_SEG_DIR\n",
        "  preprocess_and_store_segmentations(image_ids)\n",
        "  print(list(os.listdir(Paths.TRAIN_MULTI_SEG_DIR))[:5],\"...\")\n",
        "\n"
      ],
      "execution_count": 30,
      "outputs": [
        {
          "output_type": "display_data",
          "data": {
            "application/vnd.jupyter.widget-view+json": {
              "model_id": "0403005bfc224d62be8a893c05e0f8a0",
              "version_minor": 0,
              "version_major": 2
            },
            "text/plain": [
              "  0%|          | 0/4 [00:00<?, ?it/s]"
            ]
          },
          "metadata": {}
        },
        {
          "output_type": "stream",
          "name": "stdout",
          "text": [
            "['22949.npz', '54634.npz', '49145.npz', '12886.npz'] ...\n"
          ]
        }
      ]
    },
    {
      "cell_type": "code",
      "metadata": {
        "id": "7PKFTAdAKQTk"
      },
      "source": [
        "if FORCE_RECOMPUTE and not \"we will not store it to google drive due ot it's slow read speed\":\n",
        "  store_directory_to_google_drive(Paths.TRAIN_MULTI_SEG_DIR)"
      ],
      "execution_count": 31,
      "outputs": []
    },
    {
      "cell_type": "code",
      "metadata": {
        "id": "KuV-1-NkPZ0m"
      },
      "source": [
        "# fastai delegation decorator: https://www.fast.ai/2019/08/06/delegation/\n",
        "\n",
        "SEED=1337\n",
        "# Attempts at a multi-label segmentation loader for fastai\n",
        "# How to write a data block: https://docs.fast.ai/tutorial.datablock.html#Building-a-DataBlock-from-scratch\n",
        "class MultiLabelSegmentationDataLoaders(DataLoaders):\n",
        "    @classmethod\n",
        "    @delegates(DataLoaders.from_dblock)\n",
        "    def from_label_func(cls, path, fnames, label_func, valid_pct=0.2, seed=None, codes=None, item_tfms=None, batch_tfms=None, **kwargs):\n",
        "        \"Create from list of `fnames` in `path`s with `label_func`.\"\n",
        "        dblock = DataBlock(blocks=(ImageBlock, TransformBlock),#todo. old: MaskBlock(codes=codes)), todo. set c = number of classes\n",
        "                           splitter=RandomSplitter(valid_pct, seed=seed),\n",
        "                           get_y=label_func,\n",
        "                           item_tfms=item_tfms,\n",
        "                           batch_tfms=batch_tfms)\n",
        "        res = cls.from_dblock(dblock, fnames, path=path, **kwargs)\n",
        "        return res\n",
        "\n",
        "if not \"fails due to unsupported multi-label segmetations. images cannot be loaded from npy format anyways\":\n",
        "  # IGNORE ME!!\n",
        "  dls = SegmentationDataLoaders.from_label_func(\n",
        "      Paths.CURR_DATA_DIR, bs=8, fnames = get_image_files(Paths.CURR_IMAGES_DIR),\n",
        "      label_func = lambda o: Paths.CURR_MULTI_SEG_DIR/f\"{int(o.stem)}.npz\",\n",
        "      codes = category_ids\n",
        "  )\n",
        "\n",
        "resize_args = (256, ResizeMethod.Crop)\n",
        "\n",
        "def resize_mseg(mseg):\n",
        "  assert len(mseg.shape) == 3\n",
        "\n",
        "  destx = desty = resize_args[0]\n",
        "  xm, ym = mseg.shape[1], mseg.shape[2]\n",
        "\n",
        "  initx = xm//2 - (destx//2)\n",
        "  inity = ym//2 - (desty//2)    \n",
        "\n",
        "  cropped = mseg[:,initx:(initx+destx), inity:(inity+desty)]\n",
        "  \n",
        "  assert cropped.shape == (mseg.shape[0], destx, desty)\n",
        "  return cropped\n",
        "\n",
        "fnames = get_image_files(Paths.CURR_IMAGES_DIR)\n",
        "\n",
        "dls = MultiLabelSegmentationDataLoaders.from_label_func(\n",
        "  Paths.CURR_DATA_DIR, bs=len(fnames), fnames = fnames,\n",
        "  label_func = lambda o: resize_mseg(load_multi_segmentation(Paths.CURR_MULTI_SEG_DIR/f\"{int(o.stem)}.npz\")),\n",
        "  codes = category_ids,\n",
        "  item_tfms=Resize(*resize_args), # todo. actual resizing needs to happen here\n",
        "  seed = SEED\n",
        ")\n"
      ],
      "execution_count": 139,
      "outputs": []
    },
    {
      "cell_type": "code",
      "metadata": {
        "id": "EwhseLVVVAvo"
      },
      "source": [
        "#mseg = load_multi_segmentation(Paths.CURR_MULTI_SEG_DIR/\"22949.npz\")\n",
        "#res = resize_mseg(mseg)\n",
        "#res.shape"
      ],
      "execution_count": 140,
      "outputs": []
    },
    {
      "cell_type": "code",
      "metadata": {
        "id": "N7kk-acpPqPp"
      },
      "source": [
        "def resize_image_to_shape(image, shape):\n",
        "  pass #np.resize(image, shape, )\n",
        "\n",
        "# blk = ImageBlock(PILImage)"
      ],
      "execution_count": 141,
      "outputs": []
    },
    {
      "cell_type": "code",
      "metadata": {
        "id": "7rK1Vi56FYPW",
        "outputId": "91a3c673-8d0e-4335-c6ee-1f1a215656e2",
        "colab": {
          "base_uri": "https://localhost:8080/",
          "height": 216
        }
      },
      "source": [
        "print(dls.train)\n",
        "\n",
        "print(dls.valid)\n",
        "\n",
        "\n",
        "# learn = unet_learner(dls, resnet34)\n",
        "learn = cnn_learner(dls, resnet34, n_out = len(category_ids), loss_func = lambda x, y: torch.linalg.norm(x - y[:,:,0,0]))\n",
        "# todo.print(x.shape,y.shape)\n",
        "\n",
        "# print(learn.model)\n",
        "\n",
        "# todo. transform segmentation and data to be resized to a specific size -> data blocks\n",
        "# todo. how might we make this a fully convolutional pipeline?\n",
        "\n",
        "learn.fine_tune(1)\n",
        "\n",
        "if False:\n",
        "  unet_learner(\n",
        "    dls, models.alexnet,\n",
        "    normalize=True, n_out=len(category_ids),\n",
        "    pretrained=True, config=None,\n",
        "    loss_func=None, opt_func=Adam,\n",
        "    lr=0.001, metrics=None,\n",
        "    model_dir='models', train_bn=True,\n",
        "    blur=False, blur_final=True,\n",
        "    self_attention=False, y_range=None, last_cross=True,\n",
        "    bottle=False, norm_type=None\n",
        "  )\n",
        "\n",
        "\n",
        "#learn.fine_tune(16)\n"
      ],
      "execution_count": 147,
      "outputs": [
        {
          "output_type": "stream",
          "name": "stdout",
          "text": [
            "<fastai.data.core.TfmdDL object at 0x7f4c9a4eb8d0>\n",
            "<fastai.data.core.TfmdDL object at 0x7f4c9a5a5190>\n"
          ]
        },
        {
          "output_type": "display_data",
          "data": {
            "text/html": [
              "<table border=\"1\" class=\"dataframe\">\n",
              "  <thead>\n",
              "    <tr style=\"text-align: left;\">\n",
              "      <th>epoch</th>\n",
              "      <th>train_loss</th>\n",
              "      <th>valid_loss</th>\n",
              "      <th>time</th>\n",
              "    </tr>\n",
              "  </thead>\n",
              "  <tbody>\n",
              "    <tr>\n",
              "      <td>0</td>\n",
              "      <td>24.642445</td>\n",
              "      <td>None</td>\n",
              "      <td>00:02</td>\n",
              "    </tr>\n",
              "  </tbody>\n",
              "</table>"
            ],
            "text/plain": [
              "<IPython.core.display.HTML object>"
            ]
          },
          "metadata": {}
        },
        {
          "output_type": "stream",
          "name": "stderr",
          "text": [
            "/usr/local/lib/python3.7/dist-packages/fastprogress/fastprogress.py:74: UserWarning: Your generator is empty.\n",
            "  warn(\"Your generator is empty.\")\n"
          ]
        },
        {
          "output_type": "display_data",
          "data": {
            "text/html": [
              "<table border=\"1\" class=\"dataframe\">\n",
              "  <thead>\n",
              "    <tr style=\"text-align: left;\">\n",
              "      <th>epoch</th>\n",
              "      <th>train_loss</th>\n",
              "      <th>valid_loss</th>\n",
              "      <th>time</th>\n",
              "    </tr>\n",
              "  </thead>\n",
              "  <tbody>\n",
              "    <tr>\n",
              "      <td>0</td>\n",
              "      <td>24.981798</td>\n",
              "      <td>None</td>\n",
              "      <td>00:03</td>\n",
              "    </tr>\n",
              "  </tbody>\n",
              "</table>"
            ],
            "text/plain": [
              "<IPython.core.display.HTML object>"
            ]
          },
          "metadata": {}
        }
      ]
    },
    {
      "cell_type": "code",
      "metadata": {
        "id": "17JEwoi3CY2i",
        "outputId": "94be8e69-bf0d-491c-b4f0-2214ca717bab",
        "colab": {
          "base_uri": "https://localhost:8080/"
        }
      },
      "source": [
        "!ls curr/segmentations"
      ],
      "execution_count": 33,
      "outputs": [
        {
          "output_type": "stream",
          "name": "stdout",
          "text": [
            "12886.npz  22949.npz  49145.npz  54634.npz\n"
          ]
        }
      ]
    },
    {
      "cell_type": "markdown",
      "metadata": {
        "id": "Ht-gFR2KbhjX"
      },
      "source": [
        "# Initialize detectron2"
      ]
    },
    {
      "cell_type": "code",
      "metadata": {
        "id": "hFhNKYKLXiYG"
      },
      "source": [
        "_ = setup_logger()\n",
        "\n",
        "register_coco_instances(DatasetLabels.TRAIN, {}, Paths.TRAIN_ANNOTATIONS, Paths.TRAIN_IMAGES_DIR)\n",
        "register_coco_instances(DatasetLabels.VAL, {}, Paths.VAL_ANNOTATIONS, Paths.VAL_IMAGES_DIR)"
      ],
      "execution_count": null,
      "outputs": []
    },
    {
      "cell_type": "markdown",
      "metadata": {
        "id": "BEn4diGaA_ph"
      },
      "source": [
        "# Build your Model 🏭\n",
        "\n",
        "We will use Mask R-CNN to generate the segmentation masks for the food items 🌯"
      ]
    },
    {
      "cell_type": "markdown",
      "metadata": {
        "id": "gYqXect1M4Jz"
      },
      "source": [
        "## Configure detectron2\n",
        "\n",
        "Detectron2 has a variety of Instance Segmentation Models. We will use the zoo model with Mask RCNN + ResNet 50. If you want to try other models, you can find them [here]((https://github.com/facebookresearch/detectron2)."
      ]
    },
    {
      "cell_type": "code",
      "metadata": {
        "id": "X_q2fu8wXikF"
      },
      "source": [
        "cfg = get_cfg()\n",
        "cfg.merge_from_file(model_zoo.get_config_file(\"COCO-InstanceSegmentation/mask_rcnn_R_50_FPN_3x.yaml\"))\n",
        "\n",
        "cfg.DATASETS.TRAIN = (DatasetLabels.TRAIN,)\n",
        "cfg.DATASETS.TEST = ()\n",
        "cfg.DATALOADER.NUM_WORKERS = 2\n",
        "cfg.MODEL.ROI_HEADS.NUM_CLASSES = 273  # Number of output classes\n",
        "\n",
        "cfg.OUTPUT_DIR = \"outputs\"\n",
        "os.makedirs(cfg.OUTPUT_DIR, exist_ok=True)"
      ],
      "execution_count": null,
      "outputs": []
    },
    {
      "cell_type": "markdown",
      "metadata": {
        "id": "OzaHmc0IPAIZ"
      },
      "source": [
        "## Load the pre-trained weights "
      ]
    },
    {
      "cell_type": "code",
      "metadata": {
        "id": "FWmZ6VySPC14"
      },
      "source": [
        "cfg.MODEL.WEIGHTS = model_zoo.get_checkpoint_url(\"COCO-InstanceSegmentation/mask_rcnn_R_50_FPN_3x.yaml\")\n",
        "cfg.SOLVER.IMS_PER_BATCH = 2"
      ],
      "execution_count": null,
      "outputs": []
    },
    {
      "cell_type": "markdown",
      "metadata": {
        "id": "wg5Ra2qzO5YV"
      },
      "source": [
        "## Hyperparameters"
      ]
    },
    {
      "cell_type": "code",
      "metadata": {
        "id": "fj5HPBMVO-I3"
      },
      "source": [
        "cfg.SOLVER.BASE_LR = 0.00025  # Learning Rate\n",
        "cfg.SOLVER.MAX_ITER = 20000  # MAx Iterations\n",
        "cfg.MODEL.ROI_HEADS.BATCH_SIZE_PER_IMAGE = 128  # Batch Size"
      ],
      "execution_count": null,
      "outputs": []
    },
    {
      "cell_type": "markdown",
      "metadata": {
        "id": "EER82dGmQGS9"
      },
      "source": [
        "# Train the model 🚂\n",
        "\n",
        "We will setup tensorboard to check the performance of the model while it is training."
      ]
    },
    {
      "cell_type": "markdown",
      "metadata": {
        "id": "XMMmjhlO62Pj"
      },
      "source": [
        "## Setting up Tensorboard"
      ]
    },
    {
      "cell_type": "code",
      "metadata": {
        "id": "kMOcJUcmfQI8"
      },
      "source": [
        "%load_ext tensorboard\n",
        "%tensorboard --logdir outputs"
      ],
      "execution_count": null,
      "outputs": []
    },
    {
      "cell_type": "markdown",
      "metadata": {
        "id": "6E_Np0qn64uM"
      },
      "source": [
        "## Train the Model"
      ]
    },
    {
      "cell_type": "code",
      "metadata": {
        "id": "ZS5IZOx5XjDm"
      },
      "source": [
        "trainer = DefaultTrainer(cfg) \n",
        "trainer.resume_or_load(resume=False)\n",
        "trainer.train()"
      ],
      "execution_count": null,
      "outputs": []
    },
    {
      "cell_type": "markdown",
      "metadata": {
        "id": "6GBGSt63QZf1"
      },
      "source": [
        "# Evaluating the model 🧪\n",
        "\n",
        "We will check the performance of our model on the validation dataset."
      ]
    },
    {
      "cell_type": "code",
      "metadata": {
        "id": "BC0EzphvkslK"
      },
      "source": [
        "cfg.MODEL.WEIGHTS = os.path.join(cfg.OUTPUT_DIR, \"model_final.pth\")\n",
        "cfg.MODEL.ROI_HEADS.SCORE_THRESH_TEST = 0.5   # set the testing threshold for this model\n",
        "cfg.DATASETS.TEST = (DatasetLabels.VAL, )\n",
        "predictor = DefaultPredictor(cfg)"
      ],
      "execution_count": null,
      "outputs": []
    },
    {
      "cell_type": "markdown",
      "metadata": {
        "id": "n5VkmUr1Qlyj"
      },
      "source": [
        "## Generate predictions on validation data "
      ]
    },
    {
      "cell_type": "code",
      "metadata": {
        "id": "mrfk7SynXjbV"
      },
      "source": [
        "evaluator = COCOEvaluator(DatasetLabels.VAL, cfg, False, output_dir=cfg.OUTPUT_DIR)\n",
        "data_loader = build_detection_test_loader(cfg, DatasetLabels.VAL)\n",
        "results = inference_on_dataset(predictor.model, data_loader, evaluator)"
      ],
      "execution_count": null,
      "outputs": []
    },
    {
      "cell_type": "markdown",
      "metadata": {
        "id": "XNb_H5L-xX6d"
      },
      "source": [
        "## Visualizing the results 👓\n",
        "\n",
        "Numbers are good, but visualizations are better!"
      ]
    },
    {
      "cell_type": "code",
      "metadata": {
        "id": "6Gr_8OPtfyja"
      },
      "source": [
        "metadata = MetadataCatalog.get(DatasetLabels.VAL)\n",
        "\n",
        "# Load the training annotations if not loaded\n",
        "if not validation_annotations:\n",
        "  with open(Paths.VAL_ANNOTATIONS) as json_file:\n",
        "      annotations = json.load(json_file)"
      ],
      "execution_count": null,
      "outputs": []
    },
    {
      "cell_type": "markdown",
      "metadata": {
        "id": "9eXHZzn0S4Dp"
      },
      "source": [
        "## Check the predictions\n",
        "\n",
        "**Note:** If you are not able to see segmentation masks on the images, that generally means that the model didn't predict a mask for that image. You can verify this by doing\n",
        "\n",
        "```python\n",
        "predictions = predictor(img)\n",
        "print(predictions)\n",
        "```"
      ]
    },
    {
      "cell_type": "code",
      "metadata": {
        "id": "Q1XMJcWLS7rX"
      },
      "source": [
        "%matplotlib inline\n",
        "import matplotlib.pyplot as plt\n",
        "plt.rcParams['figure.dpi'] = 180\n",
        "\n",
        "\n",
        "# Visualize some random images\n",
        "for i in range(8):\n",
        "  image_filename = np.random.choice(validation_annotations.get(\"images\")).get(\"file_name\")\n",
        "  image_filename = os.path.join(Paths.VAL_IMAGES_DIR, image_filename)\n",
        "\n",
        "  img = cv2.imread(image_filename)\n",
        "  predictions = predictor(img)\n",
        "\n",
        "  v = Visualizer(img[:, :, ::-1],\n",
        "    metadata=metadata, \n",
        "    scale=0.5, \n",
        "    # instance_mode=ColorMode.IMAGE_BW\n",
        "  )\n",
        "  annotated_image = v.draw_instance_predictions(predictions[\"instances\"].to(\"cpu\"))\n",
        "\n",
        "  plt.subplot(2, 4, i+1)\n",
        "  plt.axis('off')\n",
        "  plt.imshow(annotated_image.get_image())"
      ],
      "execution_count": null,
      "outputs": []
    },
    {
      "cell_type": "markdown",
      "metadata": {
        "id": "tFAos6c6DGcx"
      },
      "source": [
        "# A note on class ID mappings\n",
        "\n",
        "Here is how the category object looks like\n",
        "\n",
        "```json\n",
        "{\n",
        "  \"id\": 2578,\n",
        "  \"name\": \"water\",\n",
        "  \"name_readable\": \"Water\",\n",
        "  \"supercategory\": \"food\"\n",
        "}\n",
        "```\n",
        "\n",
        "Detectron2 usually maps the category IDs to contiguous numbers. For example, consider the following categories,\n",
        "\n",
        "```json\n",
        "[\n",
        "  {\n",
        "    \"id\": 2578,\n",
        "    \"name\": \"water\",\n",
        "    \"name_readable\": \"Water\",\n",
        "    \"supercategory\": \"food\"\n",
        "  },\n",
        "  {\n",
        "    \"id\": 1157,\n",
        "    \"name\": \"pear\",\n",
        "    \"name_readable\": \"Pear\",\n",
        "    \"supercategory\": \"food\"\n",
        "  },\n",
        "  {\n",
        "    \"id\": 2022,\n",
        "    \"name\": \"egg\",\n",
        "    \"name_readable\": \"Egg\",\n",
        "    \"supercategory\": \"food\"\n",
        "  }\n",
        "]\n",
        "```\n",
        "\n",
        "Detectron internally maps these categories to something like\n",
        "\n",
        "```json\n",
        "{\n",
        "  0: 2578, # detectron_id: actual_class_id\n",
        "  1: 1157,\n",
        "  2: 2022\n",
        "}\n",
        "```\n",
        "\n",
        "So, when your model detects water, the prediction class ID that your model returns will be `0` and **not** `2578` . You should make sure to map these detectron IDs to their original actual class IDs for your submission to get scored properly.\n",
        "\n",
        "Here's how you can get this mapping."
      ]
    },
    {
      "cell_type": "code",
      "metadata": {
        "id": "O98OLrwV7IPO",
        "colab": {
          "base_uri": "https://localhost:8080/"
        },
        "outputId": "09d28337-fb76-4ef8-8823-8ace13626a8f"
      },
      "source": [
        "coco_api = COCO(Paths.TRAIN_ANNOTATIONS)\n",
        "\n",
        "category_ids = sorted(coco_api.getCatIds())\n",
        "categories = coco_api.loadCats(category_ids)\n",
        "\n",
        "class_to_category = { int(class_id): int(category_id) for class_id, category_id in enumerate(category_ids) }\n",
        "\n",
        "with open(\"class_to_category.json\", \"w\") as fp:\n",
        "  json.dump(class_to_category, fp)"
      ],
      "execution_count": null,
      "outputs": [
        {
          "output_type": "stream",
          "text": [
            "loading annotations into memory...\n",
            "Done (t=2.93s)\n",
            "creating index...\n",
            "index created!\n"
          ],
          "name": "stdout"
        }
      ]
    },
    {
      "cell_type": "markdown",
      "metadata": {
        "id": "7fThCV_4uAm4"
      },
      "source": [
        "# Ready? Submit to AIcrowd 🚀\n",
        "\n",
        "Now you can submit the trained model to AIcrowd!"
      ]
    },
    {
      "cell_type": "markdown",
      "metadata": {
        "id": "kcaSuCpiMVvb"
      },
      "source": [
        "## Submission configuration ⚙️"
      ]
    },
    {
      "cell_type": "code",
      "metadata": {
        "id": "OEPtkV57KC54"
      },
      "source": [
        "aicrowd_submission = {\n",
        "    \"author\": \"<your name>\",\n",
        "    \"username\": \"<your aicrowd username>\",\n",
        "    \"description\": \"initial submission with detectron\",\n",
        "    \"debug\": False,\n",
        "    \"model_path\": \"outputs/model_final.pth\",\n",
        "    \"model_type\": \"model_zoo\",\n",
        "    \"model_config_file\": \"COCO-InstanceSegmentation/mask_rcnn_R_50_FPN_3x.yaml\",\n",
        "    \"detectron_model_config\": {\n",
        "      \"ROI_HEADS\": {\n",
        "        \"SCORE_THRESH_TEST\": 0.5,\n",
        "        \"NUM_CLASSES\": 273\n",
        "      }\n",
        "    }\n",
        "}\n",
        "\n",
        "aicrowd_submission[\"description\"] = aicrowd_submission[\"description\"].replace(\" \", \"-\")\n",
        "with open(\"aicrowd.json\", \"w\") as fp:\n",
        "  json.dump(aicrowd_submission, fp)"
      ],
      "execution_count": null,
      "outputs": []
    },
    {
      "cell_type": "markdown",
      "metadata": {
        "id": "3PKKwhlkKCfc"
      },
      "source": [
        "## Submit to AIcrowd\n",
        "\n",
        "**Note:** We will create an SSH key on your google drive. This key will be used to identify you on gitlab.aicrowd.com."
      ]
    },
    {
      "cell_type": "code",
      "metadata": {
        "id": "NFB2X_nkrGU5"
      },
      "source": [
        "!bash <(curl -sL https://gitlab.aicrowd.com/jyotish/food-recognition-challenge-detectron2-baseline/raw/master/utils/submit-colab.sh)"
      ],
      "execution_count": null,
      "outputs": []
    },
    {
      "cell_type": "markdown",
      "metadata": {
        "id": "CrEBfu7rPHir"
      },
      "source": [
        "# 📎 Important Links\n",
        "\n",
        "* 💪 Challenge Page: https://www.aicrowd.com/challenges/food-recognition-challenge\n",
        "* 🗣 Discussion Forum: https://discourse.aicrowd.com/c/food-recognition-challenge\n",
        "* 🏆 Leaderboard: https://www.aicrowd.com/challenges/food-recognition-challenge/leaderboards  "
      ]
    }
  ]
}