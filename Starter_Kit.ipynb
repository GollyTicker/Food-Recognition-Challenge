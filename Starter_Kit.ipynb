{
  "nbformat": 4,
  "nbformat_minor": 0,
  "metadata": {
    "colab": {
      "name": "Detectron2 Starter Kit",
      "provenance": [],
      "collapsed_sections": [],
      "include_colab_link": true
    },
    "kernelspec": {
      "name": "python3",
      "display_name": "Python 3"
    },
    "widgets": {
      "application/vnd.jupyter.widget-state+json": {
        "475515d1fb894313af9c12cfce2a350c": {
          "model_module": "@jupyter-widgets/controls",
          "model_name": "HBoxModel",
          "model_module_version": "1.5.0",
          "state": {
            "_view_name": "HBoxView",
            "_dom_classes": [],
            "_model_name": "HBoxModel",
            "_view_module": "@jupyter-widgets/controls",
            "_model_module_version": "1.5.0",
            "_view_count": null,
            "_view_module_version": "1.5.0",
            "box_style": "",
            "layout": "IPY_MODEL_5394fda7ed004c76a400f7bb32f8b5a6",
            "_model_module": "@jupyter-widgets/controls",
            "children": [
              "IPY_MODEL_87aebbf02e1d4b63be2c34cbe50a1f8c",
              "IPY_MODEL_9368ae4e121045ccb5beab15dd245e11",
              "IPY_MODEL_4f4c7cfec6f6411fb1425158ca13143d"
            ]
          }
        },
        "5394fda7ed004c76a400f7bb32f8b5a6": {
          "model_module": "@jupyter-widgets/base",
          "model_name": "LayoutModel",
          "model_module_version": "1.2.0",
          "state": {
            "_view_name": "LayoutView",
            "grid_template_rows": null,
            "right": null,
            "justify_content": null,
            "_view_module": "@jupyter-widgets/base",
            "overflow": null,
            "_model_module_version": "1.2.0",
            "_view_count": null,
            "flex_flow": null,
            "width": null,
            "min_width": null,
            "border": null,
            "align_items": null,
            "bottom": null,
            "_model_module": "@jupyter-widgets/base",
            "top": null,
            "grid_column": null,
            "overflow_y": null,
            "overflow_x": null,
            "grid_auto_flow": null,
            "grid_area": null,
            "grid_template_columns": null,
            "flex": null,
            "_model_name": "LayoutModel",
            "justify_items": null,
            "grid_row": null,
            "max_height": null,
            "align_content": null,
            "visibility": null,
            "align_self": null,
            "height": null,
            "min_height": null,
            "padding": null,
            "grid_auto_rows": null,
            "grid_gap": null,
            "max_width": null,
            "order": null,
            "_view_module_version": "1.2.0",
            "grid_template_areas": null,
            "object_position": null,
            "object_fit": null,
            "grid_auto_columns": null,
            "margin": null,
            "display": null,
            "left": null
          }
        },
        "87aebbf02e1d4b63be2c34cbe50a1f8c": {
          "model_module": "@jupyter-widgets/controls",
          "model_name": "HTMLModel",
          "model_module_version": "1.5.0",
          "state": {
            "_view_name": "HTMLView",
            "style": "IPY_MODEL_3cb84e05f7884c13ad5434845dd44f52",
            "_dom_classes": [],
            "description": "",
            "_model_name": "HTMLModel",
            "placeholder": "​",
            "_view_module": "@jupyter-widgets/controls",
            "_model_module_version": "1.5.0",
            "value": "100%",
            "_view_count": null,
            "_view_module_version": "1.5.0",
            "description_tooltip": null,
            "_model_module": "@jupyter-widgets/controls",
            "layout": "IPY_MODEL_09268cf2e2ee4a69a81b8090802561f1"
          }
        },
        "9368ae4e121045ccb5beab15dd245e11": {
          "model_module": "@jupyter-widgets/controls",
          "model_name": "FloatProgressModel",
          "model_module_version": "1.5.0",
          "state": {
            "_view_name": "ProgressView",
            "style": "IPY_MODEL_5e93c89488a6446c9c90283292f71095",
            "_dom_classes": [],
            "description": "",
            "_model_name": "FloatProgressModel",
            "bar_style": "success",
            "max": 5545,
            "_view_module": "@jupyter-widgets/controls",
            "_model_module_version": "1.5.0",
            "value": 5545,
            "_view_count": null,
            "_view_module_version": "1.5.0",
            "orientation": "horizontal",
            "min": 0,
            "description_tooltip": null,
            "_model_module": "@jupyter-widgets/controls",
            "layout": "IPY_MODEL_c4153942c5ab45d28f816b13fab17f7b"
          }
        },
        "4f4c7cfec6f6411fb1425158ca13143d": {
          "model_module": "@jupyter-widgets/controls",
          "model_name": "HTMLModel",
          "model_module_version": "1.5.0",
          "state": {
            "_view_name": "HTMLView",
            "style": "IPY_MODEL_3a4669f43a9840f0b64e1c86cb30edd2",
            "_dom_classes": [],
            "description": "",
            "_model_name": "HTMLModel",
            "placeholder": "​",
            "_view_module": "@jupyter-widgets/controls",
            "_model_module_version": "1.5.0",
            "value": " 5545/5545 [00:25&lt;00:00, 249.49it/s]",
            "_view_count": null,
            "_view_module_version": "1.5.0",
            "description_tooltip": null,
            "_model_module": "@jupyter-widgets/controls",
            "layout": "IPY_MODEL_8091ae137d3041a7ba200fe188c8e1e3"
          }
        },
        "3cb84e05f7884c13ad5434845dd44f52": {
          "model_module": "@jupyter-widgets/controls",
          "model_name": "DescriptionStyleModel",
          "model_module_version": "1.5.0",
          "state": {
            "_view_name": "StyleView",
            "_model_name": "DescriptionStyleModel",
            "description_width": "",
            "_view_module": "@jupyter-widgets/base",
            "_model_module_version": "1.5.0",
            "_view_count": null,
            "_view_module_version": "1.2.0",
            "_model_module": "@jupyter-widgets/controls"
          }
        },
        "09268cf2e2ee4a69a81b8090802561f1": {
          "model_module": "@jupyter-widgets/base",
          "model_name": "LayoutModel",
          "model_module_version": "1.2.0",
          "state": {
            "_view_name": "LayoutView",
            "grid_template_rows": null,
            "right": null,
            "justify_content": null,
            "_view_module": "@jupyter-widgets/base",
            "overflow": null,
            "_model_module_version": "1.2.0",
            "_view_count": null,
            "flex_flow": null,
            "width": null,
            "min_width": null,
            "border": null,
            "align_items": null,
            "bottom": null,
            "_model_module": "@jupyter-widgets/base",
            "top": null,
            "grid_column": null,
            "overflow_y": null,
            "overflow_x": null,
            "grid_auto_flow": null,
            "grid_area": null,
            "grid_template_columns": null,
            "flex": null,
            "_model_name": "LayoutModel",
            "justify_items": null,
            "grid_row": null,
            "max_height": null,
            "align_content": null,
            "visibility": null,
            "align_self": null,
            "height": null,
            "min_height": null,
            "padding": null,
            "grid_auto_rows": null,
            "grid_gap": null,
            "max_width": null,
            "order": null,
            "_view_module_version": "1.2.0",
            "grid_template_areas": null,
            "object_position": null,
            "object_fit": null,
            "grid_auto_columns": null,
            "margin": null,
            "display": null,
            "left": null
          }
        },
        "5e93c89488a6446c9c90283292f71095": {
          "model_module": "@jupyter-widgets/controls",
          "model_name": "ProgressStyleModel",
          "model_module_version": "1.5.0",
          "state": {
            "_view_name": "StyleView",
            "_model_name": "ProgressStyleModel",
            "description_width": "",
            "_view_module": "@jupyter-widgets/base",
            "_model_module_version": "1.5.0",
            "_view_count": null,
            "_view_module_version": "1.2.0",
            "bar_color": null,
            "_model_module": "@jupyter-widgets/controls"
          }
        },
        "c4153942c5ab45d28f816b13fab17f7b": {
          "model_module": "@jupyter-widgets/base",
          "model_name": "LayoutModel",
          "model_module_version": "1.2.0",
          "state": {
            "_view_name": "LayoutView",
            "grid_template_rows": null,
            "right": null,
            "justify_content": null,
            "_view_module": "@jupyter-widgets/base",
            "overflow": null,
            "_model_module_version": "1.2.0",
            "_view_count": null,
            "flex_flow": null,
            "width": null,
            "min_width": null,
            "border": null,
            "align_items": null,
            "bottom": null,
            "_model_module": "@jupyter-widgets/base",
            "top": null,
            "grid_column": null,
            "overflow_y": null,
            "overflow_x": null,
            "grid_auto_flow": null,
            "grid_area": null,
            "grid_template_columns": null,
            "flex": null,
            "_model_name": "LayoutModel",
            "justify_items": null,
            "grid_row": null,
            "max_height": null,
            "align_content": null,
            "visibility": null,
            "align_self": null,
            "height": null,
            "min_height": null,
            "padding": null,
            "grid_auto_rows": null,
            "grid_gap": null,
            "max_width": null,
            "order": null,
            "_view_module_version": "1.2.0",
            "grid_template_areas": null,
            "object_position": null,
            "object_fit": null,
            "grid_auto_columns": null,
            "margin": null,
            "display": null,
            "left": null
          }
        },
        "3a4669f43a9840f0b64e1c86cb30edd2": {
          "model_module": "@jupyter-widgets/controls",
          "model_name": "DescriptionStyleModel",
          "model_module_version": "1.5.0",
          "state": {
            "_view_name": "StyleView",
            "_model_name": "DescriptionStyleModel",
            "description_width": "",
            "_view_module": "@jupyter-widgets/base",
            "_model_module_version": "1.5.0",
            "_view_count": null,
            "_view_module_version": "1.2.0",
            "_model_module": "@jupyter-widgets/controls"
          }
        },
        "8091ae137d3041a7ba200fe188c8e1e3": {
          "model_module": "@jupyter-widgets/base",
          "model_name": "LayoutModel",
          "model_module_version": "1.2.0",
          "state": {
            "_view_name": "LayoutView",
            "grid_template_rows": null,
            "right": null,
            "justify_content": null,
            "_view_module": "@jupyter-widgets/base",
            "overflow": null,
            "_model_module_version": "1.2.0",
            "_view_count": null,
            "flex_flow": null,
            "width": null,
            "min_width": null,
            "border": null,
            "align_items": null,
            "bottom": null,
            "_model_module": "@jupyter-widgets/base",
            "top": null,
            "grid_column": null,
            "overflow_y": null,
            "overflow_x": null,
            "grid_auto_flow": null,
            "grid_area": null,
            "grid_template_columns": null,
            "flex": null,
            "_model_name": "LayoutModel",
            "justify_items": null,
            "grid_row": null,
            "max_height": null,
            "align_content": null,
            "visibility": null,
            "align_self": null,
            "height": null,
            "min_height": null,
            "padding": null,
            "grid_auto_rows": null,
            "grid_gap": null,
            "max_width": null,
            "order": null,
            "_view_module_version": "1.2.0",
            "grid_template_areas": null,
            "object_position": null,
            "object_fit": null,
            "grid_auto_columns": null,
            "margin": null,
            "display": null,
            "left": null
          }
        },
        "5d2d1829118241c6ab69f1b3704d5610": {
          "model_module": "@jupyter-widgets/controls",
          "model_name": "HBoxModel",
          "model_module_version": "1.5.0",
          "state": {
            "_view_name": "HBoxView",
            "_dom_classes": [],
            "_model_name": "HBoxModel",
            "_view_module": "@jupyter-widgets/controls",
            "_model_module_version": "1.5.0",
            "_view_count": null,
            "_view_module_version": "1.5.0",
            "box_style": "",
            "layout": "IPY_MODEL_01440c3d87fd46b694704840055be667",
            "_model_module": "@jupyter-widgets/controls",
            "children": [
              "IPY_MODEL_f04d162b04d44fdca91e839c46f894d6",
              "IPY_MODEL_f062f96163b74f229f9d35b39add09d2",
              "IPY_MODEL_8d2129bd8c0a48f4b726b2c052017b7b"
            ]
          }
        },
        "01440c3d87fd46b694704840055be667": {
          "model_module": "@jupyter-widgets/base",
          "model_name": "LayoutModel",
          "model_module_version": "1.2.0",
          "state": {
            "_view_name": "LayoutView",
            "grid_template_rows": null,
            "right": null,
            "justify_content": null,
            "_view_module": "@jupyter-widgets/base",
            "overflow": null,
            "_model_module_version": "1.2.0",
            "_view_count": null,
            "flex_flow": null,
            "width": null,
            "min_width": null,
            "border": null,
            "align_items": null,
            "bottom": null,
            "_model_module": "@jupyter-widgets/base",
            "top": null,
            "grid_column": null,
            "overflow_y": null,
            "overflow_x": null,
            "grid_auto_flow": null,
            "grid_area": null,
            "grid_template_columns": null,
            "flex": null,
            "_model_name": "LayoutModel",
            "justify_items": null,
            "grid_row": null,
            "max_height": null,
            "align_content": null,
            "visibility": null,
            "align_self": null,
            "height": null,
            "min_height": null,
            "padding": null,
            "grid_auto_rows": null,
            "grid_gap": null,
            "max_width": null,
            "order": null,
            "_view_module_version": "1.2.0",
            "grid_template_areas": null,
            "object_position": null,
            "object_fit": null,
            "grid_auto_columns": null,
            "margin": null,
            "display": null,
            "left": null
          }
        },
        "f04d162b04d44fdca91e839c46f894d6": {
          "model_module": "@jupyter-widgets/controls",
          "model_name": "HTMLModel",
          "model_module_version": "1.5.0",
          "state": {
            "_view_name": "HTMLView",
            "style": "IPY_MODEL_334d89ff092f4296b241028a096bed29",
            "_dom_classes": [],
            "description": "",
            "_model_name": "HTMLModel",
            "placeholder": "​",
            "_view_module": "@jupyter-widgets/controls",
            "_model_module_version": "1.5.0",
            "value": "100%",
            "_view_count": null,
            "_view_module_version": "1.5.0",
            "description_tooltip": null,
            "_model_module": "@jupyter-widgets/controls",
            "layout": "IPY_MODEL_b89329cac526417bb9e63dfbcc6f7d26"
          }
        },
        "f062f96163b74f229f9d35b39add09d2": {
          "model_module": "@jupyter-widgets/controls",
          "model_name": "FloatProgressModel",
          "model_module_version": "1.5.0",
          "state": {
            "_view_name": "ProgressView",
            "style": "IPY_MODEL_498fba5386f3436d84de0a953710d8ec",
            "_dom_classes": [],
            "description": "",
            "_model_name": "FloatProgressModel",
            "bar_style": "success",
            "max": 291,
            "_view_module": "@jupyter-widgets/controls",
            "_model_module_version": "1.5.0",
            "value": 291,
            "_view_count": null,
            "_view_module_version": "1.5.0",
            "orientation": "horizontal",
            "min": 0,
            "description_tooltip": null,
            "_model_module": "@jupyter-widgets/controls",
            "layout": "IPY_MODEL_00565fe82c05474eb05d1d81691ec84e"
          }
        },
        "8d2129bd8c0a48f4b726b2c052017b7b": {
          "model_module": "@jupyter-widgets/controls",
          "model_name": "HTMLModel",
          "model_module_version": "1.5.0",
          "state": {
            "_view_name": "HTMLView",
            "style": "IPY_MODEL_cb934bb7e2f8479dbf80e99d75014ce8",
            "_dom_classes": [],
            "description": "",
            "_model_name": "HTMLModel",
            "placeholder": "​",
            "_view_module": "@jupyter-widgets/controls",
            "_model_module_version": "1.5.0",
            "value": " 291/291 [00:01&lt;00:00, 230.94it/s]",
            "_view_count": null,
            "_view_module_version": "1.5.0",
            "description_tooltip": null,
            "_model_module": "@jupyter-widgets/controls",
            "layout": "IPY_MODEL_3966a622a1634002a01db0cb70e7eb19"
          }
        },
        "334d89ff092f4296b241028a096bed29": {
          "model_module": "@jupyter-widgets/controls",
          "model_name": "DescriptionStyleModel",
          "model_module_version": "1.5.0",
          "state": {
            "_view_name": "StyleView",
            "_model_name": "DescriptionStyleModel",
            "description_width": "",
            "_view_module": "@jupyter-widgets/base",
            "_model_module_version": "1.5.0",
            "_view_count": null,
            "_view_module_version": "1.2.0",
            "_model_module": "@jupyter-widgets/controls"
          }
        },
        "b89329cac526417bb9e63dfbcc6f7d26": {
          "model_module": "@jupyter-widgets/base",
          "model_name": "LayoutModel",
          "model_module_version": "1.2.0",
          "state": {
            "_view_name": "LayoutView",
            "grid_template_rows": null,
            "right": null,
            "justify_content": null,
            "_view_module": "@jupyter-widgets/base",
            "overflow": null,
            "_model_module_version": "1.2.0",
            "_view_count": null,
            "flex_flow": null,
            "width": null,
            "min_width": null,
            "border": null,
            "align_items": null,
            "bottom": null,
            "_model_module": "@jupyter-widgets/base",
            "top": null,
            "grid_column": null,
            "overflow_y": null,
            "overflow_x": null,
            "grid_auto_flow": null,
            "grid_area": null,
            "grid_template_columns": null,
            "flex": null,
            "_model_name": "LayoutModel",
            "justify_items": null,
            "grid_row": null,
            "max_height": null,
            "align_content": null,
            "visibility": null,
            "align_self": null,
            "height": null,
            "min_height": null,
            "padding": null,
            "grid_auto_rows": null,
            "grid_gap": null,
            "max_width": null,
            "order": null,
            "_view_module_version": "1.2.0",
            "grid_template_areas": null,
            "object_position": null,
            "object_fit": null,
            "grid_auto_columns": null,
            "margin": null,
            "display": null,
            "left": null
          }
        },
        "498fba5386f3436d84de0a953710d8ec": {
          "model_module": "@jupyter-widgets/controls",
          "model_name": "ProgressStyleModel",
          "model_module_version": "1.5.0",
          "state": {
            "_view_name": "StyleView",
            "_model_name": "ProgressStyleModel",
            "description_width": "",
            "_view_module": "@jupyter-widgets/base",
            "_model_module_version": "1.5.0",
            "_view_count": null,
            "_view_module_version": "1.2.0",
            "bar_color": null,
            "_model_module": "@jupyter-widgets/controls"
          }
        },
        "00565fe82c05474eb05d1d81691ec84e": {
          "model_module": "@jupyter-widgets/base",
          "model_name": "LayoutModel",
          "model_module_version": "1.2.0",
          "state": {
            "_view_name": "LayoutView",
            "grid_template_rows": null,
            "right": null,
            "justify_content": null,
            "_view_module": "@jupyter-widgets/base",
            "overflow": null,
            "_model_module_version": "1.2.0",
            "_view_count": null,
            "flex_flow": null,
            "width": null,
            "min_width": null,
            "border": null,
            "align_items": null,
            "bottom": null,
            "_model_module": "@jupyter-widgets/base",
            "top": null,
            "grid_column": null,
            "overflow_y": null,
            "overflow_x": null,
            "grid_auto_flow": null,
            "grid_area": null,
            "grid_template_columns": null,
            "flex": null,
            "_model_name": "LayoutModel",
            "justify_items": null,
            "grid_row": null,
            "max_height": null,
            "align_content": null,
            "visibility": null,
            "align_self": null,
            "height": null,
            "min_height": null,
            "padding": null,
            "grid_auto_rows": null,
            "grid_gap": null,
            "max_width": null,
            "order": null,
            "_view_module_version": "1.2.0",
            "grid_template_areas": null,
            "object_position": null,
            "object_fit": null,
            "grid_auto_columns": null,
            "margin": null,
            "display": null,
            "left": null
          }
        },
        "cb934bb7e2f8479dbf80e99d75014ce8": {
          "model_module": "@jupyter-widgets/controls",
          "model_name": "DescriptionStyleModel",
          "model_module_version": "1.5.0",
          "state": {
            "_view_name": "StyleView",
            "_model_name": "DescriptionStyleModel",
            "description_width": "",
            "_view_module": "@jupyter-widgets/base",
            "_model_module_version": "1.5.0",
            "_view_count": null,
            "_view_module_version": "1.2.0",
            "_model_module": "@jupyter-widgets/controls"
          }
        },
        "3966a622a1634002a01db0cb70e7eb19": {
          "model_module": "@jupyter-widgets/base",
          "model_name": "LayoutModel",
          "model_module_version": "1.2.0",
          "state": {
            "_view_name": "LayoutView",
            "grid_template_rows": null,
            "right": null,
            "justify_content": null,
            "_view_module": "@jupyter-widgets/base",
            "overflow": null,
            "_model_module_version": "1.2.0",
            "_view_count": null,
            "flex_flow": null,
            "width": null,
            "min_width": null,
            "border": null,
            "align_items": null,
            "bottom": null,
            "_model_module": "@jupyter-widgets/base",
            "top": null,
            "grid_column": null,
            "overflow_y": null,
            "overflow_x": null,
            "grid_auto_flow": null,
            "grid_area": null,
            "grid_template_columns": null,
            "flex": null,
            "_model_name": "LayoutModel",
            "justify_items": null,
            "grid_row": null,
            "max_height": null,
            "align_content": null,
            "visibility": null,
            "align_self": null,
            "height": null,
            "min_height": null,
            "padding": null,
            "grid_auto_rows": null,
            "grid_gap": null,
            "max_width": null,
            "order": null,
            "_view_module_version": "1.2.0",
            "grid_template_areas": null,
            "object_position": null,
            "object_fit": null,
            "grid_auto_columns": null,
            "margin": null,
            "display": null,
            "left": null
          }
        },
        "b61f7782e9f14704a64f5ef60b9f314b": {
          "model_module": "@jupyter-widgets/controls",
          "model_name": "HBoxModel",
          "model_module_version": "1.5.0",
          "state": {
            "_view_name": "HBoxView",
            "_dom_classes": [],
            "_model_name": "HBoxModel",
            "_view_module": "@jupyter-widgets/controls",
            "_model_module_version": "1.5.0",
            "_view_count": null,
            "_view_module_version": "1.5.0",
            "box_style": "",
            "layout": "IPY_MODEL_8e855b7cd9f244e1bdb5a1902b2da91f",
            "_model_module": "@jupyter-widgets/controls",
            "children": [
              "IPY_MODEL_0c6bcf2d5d974a2c8bd8aa11b20c7bdd",
              "IPY_MODEL_234815e77857465395d2de7c7ef415fe",
              "IPY_MODEL_080d33249f35462783b060ed6268a988"
            ]
          }
        },
        "8e855b7cd9f244e1bdb5a1902b2da91f": {
          "model_module": "@jupyter-widgets/base",
          "model_name": "LayoutModel",
          "model_module_version": "1.2.0",
          "state": {
            "_view_name": "LayoutView",
            "grid_template_rows": null,
            "right": null,
            "justify_content": null,
            "_view_module": "@jupyter-widgets/base",
            "overflow": null,
            "_model_module_version": "1.2.0",
            "_view_count": null,
            "flex_flow": null,
            "width": null,
            "min_width": null,
            "border": null,
            "align_items": null,
            "bottom": null,
            "_model_module": "@jupyter-widgets/base",
            "top": null,
            "grid_column": null,
            "overflow_y": null,
            "overflow_x": null,
            "grid_auto_flow": null,
            "grid_area": null,
            "grid_template_columns": null,
            "flex": null,
            "_model_name": "LayoutModel",
            "justify_items": null,
            "grid_row": null,
            "max_height": null,
            "align_content": null,
            "visibility": null,
            "align_self": null,
            "height": null,
            "min_height": null,
            "padding": null,
            "grid_auto_rows": null,
            "grid_gap": null,
            "max_width": null,
            "order": null,
            "_view_module_version": "1.2.0",
            "grid_template_areas": null,
            "object_position": null,
            "object_fit": null,
            "grid_auto_columns": null,
            "margin": null,
            "display": null,
            "left": null
          }
        },
        "0c6bcf2d5d974a2c8bd8aa11b20c7bdd": {
          "model_module": "@jupyter-widgets/controls",
          "model_name": "HTMLModel",
          "model_module_version": "1.5.0",
          "state": {
            "_view_name": "HTMLView",
            "style": "IPY_MODEL_35e492a8aa1649bd98bf932ce322fd63",
            "_dom_classes": [],
            "description": "",
            "_model_name": "HTMLModel",
            "placeholder": "​",
            "_view_module": "@jupyter-widgets/controls",
            "_model_module_version": "1.5.0",
            "value": "100%",
            "_view_count": null,
            "_view_module_version": "1.5.0",
            "description_tooltip": null,
            "_model_module": "@jupyter-widgets/controls",
            "layout": "IPY_MODEL_1418278993ac4e4a9788e4ceec20701c"
          }
        },
        "234815e77857465395d2de7c7ef415fe": {
          "model_module": "@jupyter-widgets/controls",
          "model_name": "FloatProgressModel",
          "model_module_version": "1.5.0",
          "state": {
            "_view_name": "ProgressView",
            "style": "IPY_MODEL_51ac317184b3477ba712dc2a68e1463d",
            "_dom_classes": [],
            "description": "",
            "_model_name": "FloatProgressModel",
            "bar_style": "success",
            "max": 4,
            "_view_module": "@jupyter-widgets/controls",
            "_model_module_version": "1.5.0",
            "value": 4,
            "_view_count": null,
            "_view_module_version": "1.5.0",
            "orientation": "horizontal",
            "min": 0,
            "description_tooltip": null,
            "_model_module": "@jupyter-widgets/controls",
            "layout": "IPY_MODEL_63abdc968ed54254904deb603fdf7302"
          }
        },
        "080d33249f35462783b060ed6268a988": {
          "model_module": "@jupyter-widgets/controls",
          "model_name": "HTMLModel",
          "model_module_version": "1.5.0",
          "state": {
            "_view_name": "HTMLView",
            "style": "IPY_MODEL_9902a71b72f749db954006db625ae9f1",
            "_dom_classes": [],
            "description": "",
            "_model_name": "HTMLModel",
            "placeholder": "​",
            "_view_module": "@jupyter-widgets/controls",
            "_model_module_version": "1.5.0",
            "value": " 4/4 [00:00&lt;00:00, 72.53it/s]",
            "_view_count": null,
            "_view_module_version": "1.5.0",
            "description_tooltip": null,
            "_model_module": "@jupyter-widgets/controls",
            "layout": "IPY_MODEL_bf3f35bbab8644818efc0ee6a00a2d37"
          }
        },
        "35e492a8aa1649bd98bf932ce322fd63": {
          "model_module": "@jupyter-widgets/controls",
          "model_name": "DescriptionStyleModel",
          "model_module_version": "1.5.0",
          "state": {
            "_view_name": "StyleView",
            "_model_name": "DescriptionStyleModel",
            "description_width": "",
            "_view_module": "@jupyter-widgets/base",
            "_model_module_version": "1.5.0",
            "_view_count": null,
            "_view_module_version": "1.2.0",
            "_model_module": "@jupyter-widgets/controls"
          }
        },
        "1418278993ac4e4a9788e4ceec20701c": {
          "model_module": "@jupyter-widgets/base",
          "model_name": "LayoutModel",
          "model_module_version": "1.2.0",
          "state": {
            "_view_name": "LayoutView",
            "grid_template_rows": null,
            "right": null,
            "justify_content": null,
            "_view_module": "@jupyter-widgets/base",
            "overflow": null,
            "_model_module_version": "1.2.0",
            "_view_count": null,
            "flex_flow": null,
            "width": null,
            "min_width": null,
            "border": null,
            "align_items": null,
            "bottom": null,
            "_model_module": "@jupyter-widgets/base",
            "top": null,
            "grid_column": null,
            "overflow_y": null,
            "overflow_x": null,
            "grid_auto_flow": null,
            "grid_area": null,
            "grid_template_columns": null,
            "flex": null,
            "_model_name": "LayoutModel",
            "justify_items": null,
            "grid_row": null,
            "max_height": null,
            "align_content": null,
            "visibility": null,
            "align_self": null,
            "height": null,
            "min_height": null,
            "padding": null,
            "grid_auto_rows": null,
            "grid_gap": null,
            "max_width": null,
            "order": null,
            "_view_module_version": "1.2.0",
            "grid_template_areas": null,
            "object_position": null,
            "object_fit": null,
            "grid_auto_columns": null,
            "margin": null,
            "display": null,
            "left": null
          }
        },
        "51ac317184b3477ba712dc2a68e1463d": {
          "model_module": "@jupyter-widgets/controls",
          "model_name": "ProgressStyleModel",
          "model_module_version": "1.5.0",
          "state": {
            "_view_name": "StyleView",
            "_model_name": "ProgressStyleModel",
            "description_width": "",
            "_view_module": "@jupyter-widgets/base",
            "_model_module_version": "1.5.0",
            "_view_count": null,
            "_view_module_version": "1.2.0",
            "bar_color": null,
            "_model_module": "@jupyter-widgets/controls"
          }
        },
        "63abdc968ed54254904deb603fdf7302": {
          "model_module": "@jupyter-widgets/base",
          "model_name": "LayoutModel",
          "model_module_version": "1.2.0",
          "state": {
            "_view_name": "LayoutView",
            "grid_template_rows": null,
            "right": null,
            "justify_content": null,
            "_view_module": "@jupyter-widgets/base",
            "overflow": null,
            "_model_module_version": "1.2.0",
            "_view_count": null,
            "flex_flow": null,
            "width": null,
            "min_width": null,
            "border": null,
            "align_items": null,
            "bottom": null,
            "_model_module": "@jupyter-widgets/base",
            "top": null,
            "grid_column": null,
            "overflow_y": null,
            "overflow_x": null,
            "grid_auto_flow": null,
            "grid_area": null,
            "grid_template_columns": null,
            "flex": null,
            "_model_name": "LayoutModel",
            "justify_items": null,
            "grid_row": null,
            "max_height": null,
            "align_content": null,
            "visibility": null,
            "align_self": null,
            "height": null,
            "min_height": null,
            "padding": null,
            "grid_auto_rows": null,
            "grid_gap": null,
            "max_width": null,
            "order": null,
            "_view_module_version": "1.2.0",
            "grid_template_areas": null,
            "object_position": null,
            "object_fit": null,
            "grid_auto_columns": null,
            "margin": null,
            "display": null,
            "left": null
          }
        },
        "9902a71b72f749db954006db625ae9f1": {
          "model_module": "@jupyter-widgets/controls",
          "model_name": "DescriptionStyleModel",
          "model_module_version": "1.5.0",
          "state": {
            "_view_name": "StyleView",
            "_model_name": "DescriptionStyleModel",
            "description_width": "",
            "_view_module": "@jupyter-widgets/base",
            "_model_module_version": "1.5.0",
            "_view_count": null,
            "_view_module_version": "1.2.0",
            "_model_module": "@jupyter-widgets/controls"
          }
        },
        "bf3f35bbab8644818efc0ee6a00a2d37": {
          "model_module": "@jupyter-widgets/base",
          "model_name": "LayoutModel",
          "model_module_version": "1.2.0",
          "state": {
            "_view_name": "LayoutView",
            "grid_template_rows": null,
            "right": null,
            "justify_content": null,
            "_view_module": "@jupyter-widgets/base",
            "overflow": null,
            "_model_module_version": "1.2.0",
            "_view_count": null,
            "flex_flow": null,
            "width": null,
            "min_width": null,
            "border": null,
            "align_items": null,
            "bottom": null,
            "_model_module": "@jupyter-widgets/base",
            "top": null,
            "grid_column": null,
            "overflow_y": null,
            "overflow_x": null,
            "grid_auto_flow": null,
            "grid_area": null,
            "grid_template_columns": null,
            "flex": null,
            "_model_name": "LayoutModel",
            "justify_items": null,
            "grid_row": null,
            "max_height": null,
            "align_content": null,
            "visibility": null,
            "align_self": null,
            "height": null,
            "min_height": null,
            "padding": null,
            "grid_auto_rows": null,
            "grid_gap": null,
            "max_width": null,
            "order": null,
            "_view_module_version": "1.2.0",
            "grid_template_areas": null,
            "object_position": null,
            "object_fit": null,
            "grid_auto_columns": null,
            "margin": null,
            "display": null,
            "left": null
          }
        }
      }
    },
    "accelerator": "GPU"
  },
  "cells": [
    {
      "cell_type": "markdown",
      "metadata": {
        "id": "view-in-github",
        "colab_type": "text"
      },
      "source": [
        "<a href=\"https://colab.research.google.com/github/GollyTicker/Food-Recognition-Challenge/blob/main/Starter_Kit.ipynb\" target=\"_parent\"><img src=\"https://colab.research.google.com/assets/colab-badge.svg\" alt=\"Open In Colab\"/></a>"
      ]
    },
    {
      "cell_type": "markdown",
      "metadata": {
        "id": "yt_yLzMyRHP8"
      },
      "source": [
        "![AIcrowd-Logo](https://raw.githubusercontent.com/AIcrowd/AIcrowd/master/app/assets/images/misc/aicrowd-horizontal.png)\n",
        "\n",
        "This dataset and notebook correspond to the [Food Recognition Challenge](https://www.aicrowd.com/challenges/food-recognition-challenge) being held on [AIcrowd](https://www.aicrowd.com/).\n",
        "\n",
        "<p align=\"right\"> Join the communty! <br><a href=\"https://discord.gg/GTckBMx\"><img src=\"https://img.shields.io/discord/657211973435392011?style=for-the-badge\" alt=\"chat on Discord\"></a>\n",
        "</p>\n",
        "\n",
        "# <center> 🍕 Food Recognition Challenge: Detectron2 starter kit </center>\n",
        "\n",
        "<center>This notebook aims to build a model for food detection and segmentation using <code>detectron2</code></center>\n",
        "\n",
        "# How to use this notebook? 📝\n",
        "1. **Copy the notebook**. This is a shared template and any edits you make here will not be saved. _You should copy it into your own drive folder._ For this, click the \"File\" menu (top-left), then \"Save a Copy in Drive\". You can edit your copy however you like.\n",
        "2. **Make a submission**. Run all the code in the notebook to get a feel of how the notebook and the submission process works.\n",
        "3. **Try tweaking the parameters**. If you are new to the problem, a great way to start is try tweaking the configuration flags, train your model and submit again.\n",
        "4. **Diving into the code**. When you submit via this notebook, we create a repository on [gitlab.aicrowd.com](https://gitlab.aicrowd.com). You can check the code we generated based on this notebook and directly make changes you want there!\n"
      ]
    },
    {
      "cell_type": "markdown",
      "metadata": {
        "id": "AqCwgApzqFK6"
      },
      "source": [
        "# Setup the notebook 🛠"
      ]
    },
    {
      "cell_type": "code",
      "metadata": {
        "id": "_embMQfcqIK5",
        "colab": {
          "base_uri": "https://localhost:8080/"
        },
        "outputId": "b8e9535d-36c2-4a26-a4ef-2cbefcff26f7"
      },
      "source": [
        "# !bash <(curl -sL https://gitlab.aicrowd.com/jyotish/food-recognition-challenge-detectron2-baseline/raw/master/utils/setup-colab.sh)\n",
        "!pip install cython numpy aicrowd-api Pillow opencv-python git+https://github.com/cocodataset/cocoapi.git#subdirectory=PythonAPI\n",
        "\n",
        "# !pip install -f https://download.pytorch.org/whl/cu101/torch_stable.html torch==1.5 torchvision==0.6\n",
        "# !pip install -f https://dl.fbaipublicfiles.com/detectron2/wheels/cu101/index.html detectron2==0.1.2"
      ],
      "execution_count": 174,
      "outputs": [
        {
          "output_type": "stream",
          "name": "stdout",
          "text": [
            "Collecting git+https://github.com/cocodataset/cocoapi.git#subdirectory=PythonAPI\n",
            "  Cloning https://github.com/cocodataset/cocoapi.git to /tmp/pip-req-build-527_7k05\n",
            "  Running command git clone -q https://github.com/cocodataset/cocoapi.git /tmp/pip-req-build-527_7k05\n",
            "Requirement already satisfied: cython in /usr/local/lib/python3.7/dist-packages (0.29.24)\n",
            "Requirement already satisfied: numpy in /usr/local/lib/python3.7/dist-packages (1.19.5)\n",
            "Requirement already satisfied: aicrowd-api in /usr/local/lib/python3.7/dist-packages (0.1.23)\n",
            "Requirement already satisfied: Pillow in /usr/local/lib/python3.7/dist-packages (7.1.2)\n",
            "Requirement already satisfied: opencv-python in /usr/local/lib/python3.7/dist-packages (4.1.2.30)\n",
            "Requirement already satisfied: setuptools>=18.0 in /usr/local/lib/python3.7/dist-packages (from pycocotools==2.0) (57.4.0)\n",
            "Requirement already satisfied: matplotlib>=2.1.0 in /usr/local/lib/python3.7/dist-packages (from pycocotools==2.0) (3.2.2)\n",
            "Requirement already satisfied: pyparsing!=2.0.4,!=2.1.2,!=2.1.6,>=2.0.1 in /usr/local/lib/python3.7/dist-packages (from matplotlib>=2.1.0->pycocotools==2.0) (3.0.6)\n",
            "Requirement already satisfied: kiwisolver>=1.0.1 in /usr/local/lib/python3.7/dist-packages (from matplotlib>=2.1.0->pycocotools==2.0) (1.3.2)\n",
            "Requirement already satisfied: python-dateutil>=2.1 in /usr/local/lib/python3.7/dist-packages (from matplotlib>=2.1.0->pycocotools==2.0) (2.8.2)\n",
            "Requirement already satisfied: cycler>=0.10 in /usr/local/lib/python3.7/dist-packages (from matplotlib>=2.1.0->pycocotools==2.0) (0.11.0)\n",
            "Requirement already satisfied: six>=1.5 in /usr/local/lib/python3.7/dist-packages (from python-dateutil>=2.1->matplotlib>=2.1.0->pycocotools==2.0) (1.15.0)\n",
            "Requirement already satisfied: requests>=2.18.4 in /usr/local/lib/python3.7/dist-packages (from aicrowd-api) (2.23.0)\n",
            "Requirement already satisfied: redis in /usr/local/lib/python3.7/dist-packages (from aicrowd-api) (4.0.1)\n",
            "Requirement already satisfied: chardet<4,>=3.0.2 in /usr/local/lib/python3.7/dist-packages (from requests>=2.18.4->aicrowd-api) (3.0.4)\n",
            "Requirement already satisfied: urllib3!=1.25.0,!=1.25.1,<1.26,>=1.21.1 in /usr/local/lib/python3.7/dist-packages (from requests>=2.18.4->aicrowd-api) (1.24.3)\n",
            "Requirement already satisfied: idna<3,>=2.5 in /usr/local/lib/python3.7/dist-packages (from requests>=2.18.4->aicrowd-api) (2.10)\n",
            "Requirement already satisfied: certifi>=2017.4.17 in /usr/local/lib/python3.7/dist-packages (from requests>=2.18.4->aicrowd-api) (2021.10.8)\n",
            "Requirement already satisfied: deprecated in /usr/local/lib/python3.7/dist-packages (from redis->aicrowd-api) (1.2.13)\n",
            "Requirement already satisfied: wrapt<2,>=1.10 in /usr/local/lib/python3.7/dist-packages (from deprecated->redis->aicrowd-api) (1.13.3)\n"
          ]
        }
      ]
    },
    {
      "cell_type": "code",
      "metadata": {
        "id": "3IeBrALmMbWY"
      },
      "source": [
        "!pip install -Uqq fastbook\n",
        "import fastbook\n",
        "fastbook.setup_book()"
      ],
      "execution_count": 175,
      "outputs": []
    },
    {
      "cell_type": "code",
      "metadata": {
        "id": "JveWajFEMfCR",
        "colab": {
          "base_uri": "https://localhost:8080/"
        },
        "outputId": "61925c70-53c7-42bf-a8eb-1feede9e8bc4"
      },
      "source": [
        "#hide\n",
        "from fastbook import *\n",
        "#hide\n",
        "# test gpu is used\n",
        "import torch\n",
        "print(torch.cuda.is_available())\n",
        "# assert torch.cuda.is_available()"
      ],
      "execution_count": 176,
      "outputs": [
        {
          "output_type": "stream",
          "name": "stdout",
          "text": [
            "False\n"
          ]
        }
      ]
    },
    {
      "cell_type": "code",
      "metadata": {
        "id": "FYrdQtqs_sOR"
      },
      "source": [
        "!wget -q -O jq https://github.com/stedolan/jq/releases/download/jq-1.6/jq-linux64 && chmod +x jq"
      ],
      "execution_count": 177,
      "outputs": []
    },
    {
      "cell_type": "code",
      "metadata": {
        "id": "U9TA_gz38qjn"
      },
      "source": [
        "#!wget -q -nv https://datasets.aicrowd.com/default/aicrowd-public-datasets/food-recognition-challenge/v0.4/train-v0.4.tar.gz\n",
        "#!unzip -q -d dataset train-v0.4.tar.gz\n",
        "\n",
        "#!wget -q -nv https://datasets.aicrowd.com/default/aicrowd-public-datasets/food-recognition-challenge/v0.4/val-v0.4.tar.gz\n",
        "#!unzip -q -d dataset val-v0.4.tar.gz\n",
        "!rm -rf *.gz"
      ],
      "execution_count": 178,
      "outputs": []
    },
    {
      "cell_type": "code",
      "metadata": {
        "id": "QAouH2oI8Kic",
        "colab": {
          "base_uri": "https://localhost:8080/"
        },
        "outputId": "c66068cd-b121-4f06-fcb3-5564a3d7e14f"
      },
      "source": [
        "!wget https://s3.eu-central-1.wasabisys.com/aicrowd-public-datasets/myfoodrepo/round-1/train.tar.gz\n",
        "!wget https://s3.eu-central-1.wasabisys.com/aicrowd-public-datasets/myfoodrepo/round-1/test_images.tar.gz\n",
        "!wget https://s3.eu-central-1.wasabisys.com/aicrowd-public-datasets/myfoodrepo/round-1/val.tar.gz"
      ],
      "execution_count": 179,
      "outputs": [
        {
          "output_type": "stream",
          "name": "stdout",
          "text": [
            "--2021-11-21 17:00:17--  https://s3.eu-central-1.wasabisys.com/aicrowd-public-datasets/myfoodrepo/round-1/train.tar.gz\n",
            "Resolving s3.eu-central-1.wasabisys.com (s3.eu-central-1.wasabisys.com)... 130.117.252.21, 130.117.252.13, 130.117.252.20, ...\n",
            "Connecting to s3.eu-central-1.wasabisys.com (s3.eu-central-1.wasabisys.com)|130.117.252.21|:443... connected.\n",
            "HTTP request sent, awaiting response... 200 OK\n",
            "Length: 290012672 (277M) [application/x-gzip]\n",
            "Saving to: ‘train.tar.gz’\n",
            "\n",
            "train.tar.gz        100%[===================>] 276.58M   106MB/s    in 2.6s    \n",
            "\n",
            "2021-11-21 17:00:20 (106 MB/s) - ‘train.tar.gz’ saved [290012672/290012672]\n",
            "\n",
            "--2021-11-21 17:00:20--  https://s3.eu-central-1.wasabisys.com/aicrowd-public-datasets/myfoodrepo/round-1/test_images.tar.gz\n",
            "Resolving s3.eu-central-1.wasabisys.com (s3.eu-central-1.wasabisys.com)... 130.117.252.21, 130.117.252.13, 130.117.252.20, ...\n",
            "Connecting to s3.eu-central-1.wasabisys.com (s3.eu-central-1.wasabisys.com)|130.117.252.21|:443... connected.\n",
            "HTTP request sent, awaiting response... 200 OK\n",
            "Length: 11947772 (11M) [application/x-gzip]\n",
            "Saving to: ‘test_images.tar.gz’\n",
            "\n",
            "test_images.tar.gz  100%[===================>]  11.39M  --.-KB/s    in 0.09s   \n",
            "\n",
            "2021-11-21 17:00:21 (124 MB/s) - ‘test_images.tar.gz’ saved [11947772/11947772]\n",
            "\n",
            "--2021-11-21 17:00:21--  https://s3.eu-central-1.wasabisys.com/aicrowd-public-datasets/myfoodrepo/round-1/val.tar.gz\n",
            "Resolving s3.eu-central-1.wasabisys.com (s3.eu-central-1.wasabisys.com)... 130.117.252.21, 130.117.252.13, 130.117.252.20, ...\n",
            "Connecting to s3.eu-central-1.wasabisys.com (s3.eu-central-1.wasabisys.com)|130.117.252.21|:443... connected.\n",
            "HTTP request sent, awaiting response... 200 OK\n",
            "Length: 12157308 (12M) [application/x-gzip]\n",
            "Saving to: ‘val.tar.gz’\n",
            "\n",
            "val.tar.gz          100%[===================>]  11.59M  --.-KB/s    in 0.09s   \n",
            "\n",
            "2021-11-21 17:00:21 (129 MB/s) - ‘val.tar.gz’ saved [12157308/12157308]\n",
            "\n"
          ]
        }
      ]
    },
    {
      "cell_type": "code",
      "metadata": {
        "id": "ZXO6-8_-9Fye",
        "colab": {
          "base_uri": "https://localhost:8080/"
        },
        "outputId": "f4b2523d-0648-4fa7-8bbc-ddd2dcd33be4"
      },
      "source": [
        "!pwd\n",
        "!ls"
      ],
      "execution_count": 180,
      "outputs": [
        {
          "output_type": "stream",
          "name": "stdout",
          "text": [
            "/content\n",
            "curr\tjq\t     test_images\t train\t       val\n",
            "gdrive\tsample_data  test_images.tar.gz  train.tar.gz  val.tar.gz\n"
          ]
        }
      ]
    },
    {
      "cell_type": "code",
      "metadata": {
        "id": "tCp41mm08ruj",
        "colab": {
          "base_uri": "https://localhost:8080/"
        },
        "outputId": "b773a03d-c9b5-44ae-e263-bd48987859cb"
      },
      "source": [
        "!for f in *.tar.gz; do echo \"$f\"; tar xf \"$f\"; done"
      ],
      "execution_count": 181,
      "outputs": [
        {
          "output_type": "stream",
          "name": "stdout",
          "text": [
            "test_images.tar.gz\n",
            "train.tar.gz\n",
            "val.tar.gz\n"
          ]
        }
      ]
    },
    {
      "cell_type": "code",
      "metadata": {
        "id": "g-OseIO9-DAD",
        "colab": {
          "base_uri": "https://localhost:8080/"
        },
        "outputId": "2b708943-8447-4b36-cc78-77818af1a32b"
      },
      "source": [
        "!ls train\n",
        "!cat train/annotations.json | ./jq . | head -n 50"
      ],
      "execution_count": 182,
      "outputs": [
        {
          "output_type": "stream",
          "name": "stdout",
          "text": [
            "annotations.json  images  segmentations\n",
            "{\n",
            "  \"categories\": [\n",
            "    {\n",
            "      \"id\": 1565,\n",
            "      \"name\": \"bread-wholemeal\",\n",
            "      \"name_readable\": \"Bread, wholemeal\",\n",
            "      \"supercategory\": \"food\"\n",
            "    },\n",
            "    {\n",
            "      \"id\": 1010,\n",
            "      \"name\": \"potatoes-steamed\",\n",
            "      \"name_readable\": \"Potatoes steamed\",\n",
            "      \"supercategory\": \"food\"\n",
            "    },\n",
            "    {\n",
            "      \"id\": 1085,\n",
            "      \"name\": \"broccoli\",\n",
            "      \"name_readable\": \"Broccoli\",\n",
            "      \"supercategory\": \"food\"\n",
            "    },\n",
            "    {\n",
            "      \"id\": 2053,\n",
            "      \"name\": \"butter\",\n",
            "      \"name_readable\": \"Butter\",\n",
            "      \"supercategory\": \"food\"\n",
            "    },\n",
            "    {\n",
            "      \"id\": 1310,\n",
            "      \"name\": \"hard-cheese\",\n",
            "      \"name_readable\": \"Hard cheese\",\n",
            "      \"supercategory\": \"food\"\n",
            "    },\n",
            "    {\n",
            "      \"id\": 2578,\n",
            "      \"name\": \"water\",\n",
            "      \"name_readable\": \"Water\",\n",
            "      \"supercategory\": \"food\"\n",
            "    },\n",
            "    {\n",
            "      \"id\": 1154,\n",
            "      \"name\": \"banana\",\n",
            "      \"name_readable\": \"Banana\",\n",
            "      \"supercategory\": \"food\"\n",
            "    },\n",
            "    {\n",
            "      \"id\": 2620,\n",
            "      \"name\": \"wine-white\",\n",
            "      \"name_readable\": \"Wine, white\",\n",
            "      \"supercategory\": \"food\"\n",
            "    },\n"
          ]
        }
      ]
    },
    {
      "cell_type": "markdown",
      "metadata": {
        "id": "SDA1bgkg-8yu"
      },
      "source": [
        "# Configure static variables 📎"
      ]
    },
    {
      "cell_type": "code",
      "metadata": {
        "id": "r6kEtMOl-8GO"
      },
      "source": [
        "from pathlib import Path\n",
        "import os\n",
        "from multiprocessing import Pool\n",
        "import json\n",
        "\n",
        "from tqdm.notebook import tqdm\n",
        "from pycocotools.coco import COCO\n",
        "from torch import tensor\n",
        "import numpy as np\n",
        "import cv2\n",
        "import PIL\n",
        "\n",
        "class Paths:\n",
        "  DATASET_DIR = Path(\".\")\n",
        "  \n",
        "  TRAIN_DATA_DIR = DATASET_DIR/\"train\"\n",
        "  TRAIN_IMAGES_DIR = TRAIN_DATA_DIR/\"images\"\n",
        "  TRAIN_ANNOTATIONS = TRAIN_DATA_DIR/\"annotations.json\"\n",
        "  TRAIN_MULTI_SEG_DIR = TRAIN_DATA_DIR/\"segmentations\"\n",
        "  \n",
        "  VAL_DATA_DIR = DATASET_DIR/\"val\"\n",
        "  VAL_ANNOTATIONS = VAL_DATA_DIR/\"annotations.json\"\n",
        "  VAL_IMAGES_DIR = VAL_DATA_DIR/\"images\"\n",
        "  VAL_MULTI_SEG_DIR = VAL_DATA_DIR/\"segmentations\"\n",
        "\n",
        "  CURR_DATA_DIR = DATASET_DIR/\"curr\"\n",
        "  CURR_IMAGES_DIR = CURR_DATA_DIR/\"images\"\n",
        "  CURR_ANNOTATIONS = CURR_DATA_DIR/\"annotations.json\"\n",
        "  CURR_MULTI_SEG_DIR = CURR_DATA_DIR/\"segmentations\"\n",
        "\n",
        "\n",
        "class DatasetLabels:\n",
        "  TRAIN = \"dataset_train\"\n",
        "  VAL = \"dataset_val\"\n",
        "\n",
        "import os\n",
        "for dirs in [Paths.CURR_IMAGES_DIR,Paths.TRAIN_MULTI_SEG_DIR,Paths.VAL_MULTI_SEG_DIR,Paths.CURR_MULTI_SEG_DIR]:\n",
        "  os.makedirs(dirs,exist_ok=True)"
      ],
      "execution_count": 183,
      "outputs": []
    },
    {
      "cell_type": "code",
      "metadata": {
        "id": "1jkAnlhzIvyM"
      },
      "source": [
        "GDRIVE_MIRROR_ROOT = gdrive/\"Food Challenge\"/\"persistent\"/\"mirror\"\n",
        "os.makedirs(GDRIVE_MIRROR_ROOT,exist_ok=True)\n",
        "\n",
        "def store_directory_to_google_drive(relative_dir):\n",
        "  destination = GDRIVE_MIRROR_ROOT/relative_dir\n",
        "  print(f\"Storing {relative_dir} -> {destination} (target removed before copy)\")\n",
        "  shutil.rmtree(destination, ignore_errors=True)\n",
        "  shutil.copytree(relative_dir,destination)\n",
        "\n",
        "def restore_directory_from_google_drive(relative_dir):\n",
        "  source = GDRIVE_MIRROR_ROOT/relative_dir\n",
        "  print(f\"Restoring {relative_dir} <- {source} (target removed before copy)\")\n",
        "  shutil.rmtree(relative_dir, ignore_errors=True)\n",
        "  shutil.copytree(source,relative_dir)"
      ],
      "execution_count": 184,
      "outputs": []
    },
    {
      "cell_type": "code",
      "metadata": {
        "id": "GpUFct7TK3Sj"
      },
      "source": [
        "# restore precomputed segmentation masks\n",
        "if False and \"we don't want to restore the segmentation masks from google drive, since this is slow. It's slower than computing them directly!\":\n",
        "  try:\n",
        "    restore_directory_from_google_drive(Paths.TRAIN_MULTI_SEG_DIR)\n",
        "  except Exception as e:\n",
        "    e.printStackTrace()"
      ],
      "execution_count": 185,
      "outputs": []
    },
    {
      "cell_type": "markdown",
      "metadata": {
        "id": "DGt1_dNs_LFB"
      },
      "source": [
        "# Packages 🗃\n",
        "\n",
        "Import here all the packages you need to define your model. "
      ]
    },
    {
      "cell_type": "code",
      "metadata": {
        "id": "XOxxkvKI5jhA",
        "colab": {
          "base_uri": "https://localhost:8080/"
        },
        "outputId": "990aab38-92a8-49e0-d531-4f08c3e68866"
      },
      "source": [
        "\"\"\"from detectron2.data.datasets import register_coco_instances\n",
        "import detectron2\n",
        "from detectron2.utils.logger import setup_logger\n",
        "from detectron2.utils.visualizer import Visualizer\n",
        "from detectron2.utils.visualizer import ColorMode\n",
        "from detectron2.data import MetadataCatalog\n",
        "from detectron2.evaluation import COCOEvaluator, inference_on_dataset\n",
        "from detectron2.data import build_detection_test_loader\n",
        "from detectron2.engine import DefaultPredictor\n",
        "from detectron2.engine import DefaultTrainer\n",
        "from detectron2.config import get_cfg\n",
        "from detectron2 import model_zoo\n",
        "from detectron2.utils.events import get_event_storage\n",
        "from detectron2.engine import HookBase\n",
        "\"\"\"\n",
        "0"
      ],
      "execution_count": 186,
      "outputs": [
        {
          "output_type": "execute_result",
          "data": {
            "text/plain": [
              "0"
            ]
          },
          "metadata": {},
          "execution_count": 186
        }
      ]
    },
    {
      "cell_type": "markdown",
      "metadata": {
        "id": "rgc_ZDzmzyOE"
      },
      "source": [
        "# Loading the data 📲"
      ]
    },
    {
      "cell_type": "code",
      "metadata": {
        "id": "Xii1QDbCpZ0K",
        "colab": {
          "base_uri": "https://localhost:8080/"
        },
        "outputId": "af79c6de-0537-4bb1-e2d3-24b97321a11f"
      },
      "source": [
        "with open(Paths.TRAIN_ANNOTATIONS) as fp:\n",
        "  annotations = json.load(fp)\n",
        "  print(annotations.keys())"
      ],
      "execution_count": 187,
      "outputs": [
        {
          "output_type": "stream",
          "name": "stdout",
          "text": [
            "dict_keys(['categories', 'info', 'images', 'annotations'])\n"
          ]
        }
      ]
    },
    {
      "cell_type": "markdown",
      "metadata": {
        "id": "s7Yr5lfoAnwJ"
      },
      "source": [
        "## Helper functions to clean the dataset\n",
        "\n",
        "First, we will see if all the annotations in the dataset are properly aligned with the images. These helper functions will let us do that."
      ]
    },
    {
      "cell_type": "code",
      "metadata": {
        "id": "SstjAZ9UR6mk"
      },
      "source": [
        "image_dir = \"\"\n",
        "\n",
        "\n",
        "def validate_annotation(annotation):\n",
        "  \"\"\"Check the image dimensions and fix them if needed\n",
        "  \"\"\"\n",
        "  filepath = os.path.join(image_dir, annotation.get(\"file_name\"))\n",
        "  if not os.path.exists(filepath):\n",
        "    print(\"Skipping\", filepath)\n",
        "    return annotation\n",
        "  img = cv2.imread(filepath)\n",
        "  if img.shape[0] != annotation.get(\"height\") or img.shape[1] != annotation.get(\"width\"):\n",
        "    annotation[\"height\"], annotation[\"width\"] = annotation[\"width\"], annotation[\"height\"]\n",
        "  return annotation\n",
        "\n",
        "\n",
        "def clean_annotations(annotation_images):\n",
        "  \"\"\"Read the image dimensions and fix them in parallel\n",
        "  \"\"\"\n",
        "  annotated_images = []\n",
        "\n",
        "  with Pool() as p:\n",
        "    total_images = len(annotation_images)\n",
        "\n",
        "    with tqdm(total=total_images) as progress_bar:\n",
        "      for annotation in p.imap(validate_annotation, annotation_images):\n",
        "        annotated_images.append(annotation)\n",
        "        progress_bar.update(1)\n",
        "\n",
        "  return annotated_images"
      ],
      "execution_count": 188,
      "outputs": []
    },
    {
      "cell_type": "markdown",
      "metadata": {
        "id": "dbxqgfj0Xd8Q"
      },
      "source": [
        "## Clean the training data 🧹"
      ]
    },
    {
      "cell_type": "code",
      "metadata": {
        "id": "jVAP3Ds09qxe",
        "colab": {
          "base_uri": "https://localhost:8080/",
          "height": 49,
          "referenced_widgets": [
            "475515d1fb894313af9c12cfce2a350c",
            "5394fda7ed004c76a400f7bb32f8b5a6",
            "87aebbf02e1d4b63be2c34cbe50a1f8c",
            "9368ae4e121045ccb5beab15dd245e11",
            "4f4c7cfec6f6411fb1425158ca13143d",
            "3cb84e05f7884c13ad5434845dd44f52",
            "09268cf2e2ee4a69a81b8090802561f1",
            "5e93c89488a6446c9c90283292f71095",
            "c4153942c5ab45d28f816b13fab17f7b",
            "3a4669f43a9840f0b64e1c86cb30edd2",
            "8091ae137d3041a7ba200fe188c8e1e3"
          ]
        },
        "outputId": "52b48893-43ea-4fce-e572-05da20e7c949"
      },
      "source": [
        "image_dir = Paths.TRAIN_IMAGES_DIR\n",
        "annotations[\"images\"] = clean_annotations(annotations.get(\"images\"))\n",
        "\n",
        "with open(Paths.TRAIN_ANNOTATIONS, \"w\") as fp:\n",
        "  json.dump(annotations, fp)"
      ],
      "execution_count": 189,
      "outputs": [
        {
          "output_type": "display_data",
          "data": {
            "application/vnd.jupyter.widget-view+json": {
              "model_id": "475515d1fb894313af9c12cfce2a350c",
              "version_minor": 0,
              "version_major": 2
            },
            "text/plain": [
              "  0%|          | 0/5545 [00:00<?, ?it/s]"
            ]
          },
          "metadata": {}
        }
      ]
    },
    {
      "cell_type": "markdown",
      "metadata": {
        "id": "DZM_-xKcXhvH"
      },
      "source": [
        "## Clean the validation data 🧹"
      ]
    },
    {
      "cell_type": "code",
      "metadata": {
        "id": "JnFNbX9DX6Ci",
        "colab": {
          "base_uri": "https://localhost:8080/",
          "height": 49,
          "referenced_widgets": [
            "5d2d1829118241c6ab69f1b3704d5610",
            "01440c3d87fd46b694704840055be667",
            "f04d162b04d44fdca91e839c46f894d6",
            "f062f96163b74f229f9d35b39add09d2",
            "8d2129bd8c0a48f4b726b2c052017b7b",
            "334d89ff092f4296b241028a096bed29",
            "b89329cac526417bb9e63dfbcc6f7d26",
            "498fba5386f3436d84de0a953710d8ec",
            "00565fe82c05474eb05d1d81691ec84e",
            "cb934bb7e2f8479dbf80e99d75014ce8",
            "3966a622a1634002a01db0cb70e7eb19"
          ]
        },
        "outputId": "4b88941d-f7cb-4a59-977e-edd084013424"
      },
      "source": [
        "image_dir = Paths.VAL_IMAGES_DIR\n",
        "\n",
        "with open(Paths.VAL_ANNOTATIONS) as fp:\n",
        "  validation_annotations = json.load(fp)\n",
        "\n",
        "validation_annotations[\"images\"] = clean_annotations(validation_annotations.get(\"images\"))\n",
        "\n",
        "with open(Paths.VAL_ANNOTATIONS, \"w\") as fp:\n",
        "  json.dump(validation_annotations, fp)"
      ],
      "execution_count": 190,
      "outputs": [
        {
          "output_type": "display_data",
          "data": {
            "application/vnd.jupyter.widget-view+json": {
              "model_id": "5d2d1829118241c6ab69f1b3704d5610",
              "version_minor": 0,
              "version_major": 2
            },
            "text/plain": [
              "  0%|          | 0/291 [00:00<?, ?it/s]"
            ]
          },
          "metadata": {}
        }
      ]
    },
    {
      "cell_type": "markdown",
      "metadata": {
        "id": "M05KHR--CUq3"
      },
      "source": [
        "# My baseline model"
      ]
    },
    {
      "cell_type": "code",
      "metadata": {
        "id": "IfprvZ7ECWnA",
        "colab": {
          "base_uri": "https://localhost:8080/"
        },
        "outputId": "03ea5c5d-5237-46a4-8e36-313136f7a0cc"
      },
      "source": [
        "coco = COCO(Paths.TRAIN_ANNOTATIONS)"
      ],
      "execution_count": 191,
      "outputs": [
        {
          "output_type": "stream",
          "name": "stdout",
          "text": [
            "loading annotations into memory...\n",
            "Done (t=0.68s)\n",
            "creating index...\n",
            "index created!\n"
          ]
        }
      ]
    },
    {
      "cell_type": "code",
      "metadata": {
        "id": "U9FRSJyRCo9-",
        "colab": {
          "base_uri": "https://localhost:8080/"
        },
        "outputId": "c41999b9-209f-408d-8cf5-a1660edf00c4"
      },
      "source": [
        "category_ids = coco.loadCats(coco.getCatIds())\n",
        "category_names = [_[\"name\"] for _ in category_ids]\n",
        "\n",
        "N_CLASSES = len(category_ids)\n",
        "\n",
        "image_ids = coco.getImgIds()\n",
        "\n",
        "annotation_ids = coco.getAnnIds()\n",
        "annotations = coco.loadAnns(annotation_ids)\n",
        "\n",
        "print(\"Categories: \",\", \".join(category_names))\n",
        "\n",
        "print(\"Image ids: \", image_ids[:10],\"...\")\n",
        "\n",
        "print(\"Annotation:\" , annotations[0].keys())\n"
      ],
      "execution_count": 192,
      "outputs": [
        {
          "output_type": "stream",
          "name": "stdout",
          "text": [
            "Categories:  bread-wholemeal, potatoes-steamed, broccoli, butter, hard-cheese, water, banana, wine-white, bread-white, apple, pizza-margherita-baked, salad-leaf-salad-green, zucchini, water-mineral, coffee-with-caffeine, avocado, tomato, dark-chocolate, white-coffee-with-caffeine, egg, mixed-salad-chopped-without-sauce, sweet-pepper, mixed-vegetables, mayonnaise, rice, chips-french-fries, carrot, tomato-sauce, cucumber, wine-red, cheese, strawberries, espresso-with-caffeine, tea, chicken, jam, leaf-spinach, pasta-spaghetti, french-beans, bread-whole-wheat\n",
            "Image ids:  [16387, 49157, 16394, 49164, 49166, 16398, 49168, 49171, 16409, 49179] ...\n",
            "Annotation: dict_keys(['id', 'image_id', 'category_id', 'segmentation', 'area', 'bbox', 'iscrowd'])\n"
          ]
        }
      ]
    },
    {
      "cell_type": "code",
      "metadata": {
        "id": "hmVLSrsBR_T6",
        "colab": {
          "base_uri": "https://localhost:8080/"
        },
        "outputId": "70f516d7-9289-4742-cbfb-1541652a5598"
      },
      "source": [
        "tiny_train_imids = [12886,22949,49145,54634]\n",
        "\n",
        "import shutil\n",
        "\n",
        "# create currently trained on dataset\n",
        "\n",
        "for imid in tiny_train_imids:\n",
        "  im = coco.loadImgs(imid)[0]\n",
        "  shutil.copy(Paths.TRAIN_IMAGES_DIR/im['file_name'], Paths.CURR_IMAGES_DIR/im['file_name'])\n",
        "\n",
        "\n",
        "shutil.copy(Paths.TRAIN_ANNOTATIONS, Paths.CURR_ANNOTATIONS)"
      ],
      "execution_count": 193,
      "outputs": [
        {
          "output_type": "execute_result",
          "data": {
            "text/plain": [
              "Path('curr/annotations.json')"
            ]
          },
          "metadata": {},
          "execution_count": 193
        }
      ]
    },
    {
      "cell_type": "code",
      "metadata": {
        "id": "O9NEInrKS_Vo",
        "colab": {
          "base_uri": "https://localhost:8080/"
        },
        "outputId": "0757c69b-9ab3-4be7-d28c-7cc876deb31e"
      },
      "source": [
        "!ls curr\n",
        "!ls curr/images"
      ],
      "execution_count": 194,
      "outputs": [
        {
          "output_type": "stream",
          "name": "stdout",
          "text": [
            "annotations.json  images  segmentations\n",
            "012886.jpg  022949.jpg\t049145.jpg  054634.jpg\n"
          ]
        }
      ]
    },
    {
      "cell_type": "code",
      "metadata": {
        "id": "_wvHBPWqa7aA",
        "colab": {
          "base_uri": "https://localhost:8080/"
        },
        "outputId": "4d76160d-3f29-479a-f949-37e6bd85ba14"
      },
      "source": [
        "[catdict[\"name\"] for catdict in category_ids]"
      ],
      "execution_count": 195,
      "outputs": [
        {
          "output_type": "execute_result",
          "data": {
            "text/plain": [
              "['bread-wholemeal',\n",
              " 'potatoes-steamed',\n",
              " 'broccoli',\n",
              " 'butter',\n",
              " 'hard-cheese',\n",
              " 'water',\n",
              " 'banana',\n",
              " 'wine-white',\n",
              " 'bread-white',\n",
              " 'apple',\n",
              " 'pizza-margherita-baked',\n",
              " 'salad-leaf-salad-green',\n",
              " 'zucchini',\n",
              " 'water-mineral',\n",
              " 'coffee-with-caffeine',\n",
              " 'avocado',\n",
              " 'tomato',\n",
              " 'dark-chocolate',\n",
              " 'white-coffee-with-caffeine',\n",
              " 'egg',\n",
              " 'mixed-salad-chopped-without-sauce',\n",
              " 'sweet-pepper',\n",
              " 'mixed-vegetables',\n",
              " 'mayonnaise',\n",
              " 'rice',\n",
              " 'chips-french-fries',\n",
              " 'carrot',\n",
              " 'tomato-sauce',\n",
              " 'cucumber',\n",
              " 'wine-red',\n",
              " 'cheese',\n",
              " 'strawberries',\n",
              " 'espresso-with-caffeine',\n",
              " 'tea',\n",
              " 'chicken',\n",
              " 'jam',\n",
              " 'leaf-spinach',\n",
              " 'pasta-spaghetti',\n",
              " 'french-beans',\n",
              " 'bread-whole-wheat']"
            ]
          },
          "metadata": {},
          "execution_count": 195
        }
      ]
    },
    {
      "cell_type": "code",
      "metadata": {
        "id": "ctgT-F9bYDqC",
        "colab": {
          "base_uri": "https://localhost:8080/"
        },
        "outputId": "4f0afe03-0a57-4cbd-9145-eaa3db6e38ec"
      },
      "source": [
        "SEG_DTYPE = np.float32\n",
        "\n",
        "fai_multi_cats_from_coco_ids = Pipeline([MultiCategorize(vocab=[catdict[\"id\"] for catdict in category_ids]),\n",
        "                                         OneHotEncode(c=N_CLASSES),\n",
        "                                         Transform(enc = lambda tensor_mcat: np.array(tensor_mcat,dtype=SEG_DTYPE), dec = TensorMultiCategory, order=2)\n",
        "                                         ])\n",
        "\n",
        "coco_cat_id_to_name = lambda coco_cat_id : list(filter(lambda catdict: catdict[\"id\"] == coco_cat_id, category_ids))[0][\"name\"]\n",
        "fai_multi_cats_to_names = Transform(lambda fai_cats: list(map(coco_cat_id_to_name, fai_multi_cats_from_coco_ids.decode(fai_cats))))\n",
        "\n",
        "print(category_ids[0])\n",
        "print(category_ids[35])\n",
        "print(category_ids[24])\n",
        "\n",
        "print(fai_multi_cats_from_coco_ids)\n",
        "\n",
        "example_categories = fai_multi_cats_from_coco_ids([1565,2099,1468])\n",
        "print(\"bread-wholemeal,jam,rice ->\", example_categories)\n",
        "\n",
        "print(\"bread-wholemeal,jam,rice -> \", fai_multi_cats_to_names(example_categories))"
      ],
      "execution_count": 196,
      "outputs": [
        {
          "output_type": "stream",
          "name": "stdout",
          "text": [
            "{'id': 1565, 'name': 'bread-wholemeal', 'name_readable': 'Bread, wholemeal', 'supercategory': 'food'}\n",
            "{'id': 2099, 'name': 'jam', 'name_readable': 'Jam', 'supercategory': 'food'}\n",
            "{'id': 1468, 'name': 'rice', 'name_readable': 'Rice', 'supercategory': 'food'}\n",
            "Pipeline: MultiCategorize -- {'vocab': [1565, 1010, 1085, 2053, 1310, 2578, 1154, 2620, 1566, 1151, 2939, 1040, 1070, 2580, 2512, 1056, 1069, 2131, 2521, 2022, 1026, 1068, 1022, 2750, 1468, 1013, 1078, 2738, 1061, 2618, 1311, 1163, 2504, 2498, 1788, 2099, 1032, 1505, 1058, 1554], 'sort': False, 'add_na': False} -> OneHotEncode -- {'c': 40} -> <lambda>\n",
            "bread-wholemeal,jam,rice -> [1. 0. 0. 0. 0. 0. 0. 0. 0. 0. 0. 0. 0. 0. 0. 0. 0. 0. 0. 0. 0. 0. 0. 0. 1. 0. 0. 0. 0. 0. 0. 0. 0. 0. 0. 1. 0. 0. 0. 0.]\n",
            "bread-wholemeal,jam,rice ->  ['bread-wholemeal', 'rice', 'jam']\n"
          ]
        }
      ]
    },
    {
      "cell_type": "code",
      "metadata": {
        "id": "qIMMhF0_qwxD",
        "colab": {
          "base_uri": "https://localhost:8080/"
        },
        "outputId": "d939bdcb-fd73-4c9b-9612-bfc19745b96e"
      },
      "source": [
        "example_mini_image_masks = np.zeros((N_CLASSES,3,3),dtype=SEG_DTYPE)\n",
        "\n",
        "example_mini_image_masks[2] = np.array([[1,1,1],[1,1,0],[1,0,0]])\n",
        "example_mini_image_masks[5] = np.array([[1,0,0],[1,1,0],[1,1,1]])\n",
        "\n",
        "print(example_mini_image_masks.shape)\n",
        "\n",
        "example_mini_image_masks[:6]\n",
        "\n",
        "for i in range(3):\n",
        "  for j in range(3):\n",
        "    print(f\"{i},{j} -> \",fai_multi_cats_from_coco_ids.decode(example_mini_image_masks[:,i,j]))"
      ],
      "execution_count": 197,
      "outputs": [
        {
          "output_type": "stream",
          "name": "stdout",
          "text": [
            "(40, 3, 3)\n",
            "0,0 ->  [1085, 2578]\n",
            "0,1 ->  [1085]\n",
            "0,2 ->  [1085]\n",
            "1,0 ->  [1085, 2578]\n",
            "1,1 ->  [1085, 2578]\n",
            "1,2 ->  []\n",
            "2,0 ->  [1085, 2578]\n",
            "2,1 ->  [2578]\n",
            "2,2 ->  [2578]\n"
          ]
        }
      ]
    },
    {
      "cell_type": "code",
      "metadata": {
        "id": "bhB3IQroC6xW",
        "colab": {
          "base_uri": "https://localhost:8080/",
          "height": 484
        },
        "outputId": "42e18a75-bb53-46ea-db1d-ec5ff4d28070"
      },
      "source": [
        "import random\n",
        "import skimage.io as io\n",
        "import matplotlib.pyplot as plt\n",
        "%matplotlib inline\n",
        "\n",
        "imid = 30573\n",
        "imid = 16387\n",
        "imid = random.choice(image_ids)\n",
        "im = coco.loadImgs(imid)[0]\n",
        "im_annotations = coco.loadAnns(coco.getAnnIds(imgIds=imid))\n",
        "\n",
        "image_path = os.path.join(Paths.TRAIN_IMAGES_DIR, im[\"file_name\"])\n",
        "plt.figure(figsize=(8,8))\n",
        "I = io.imread(image_path)\n",
        "plt.imshow(I)\n",
        "plt.axis('off')\n",
        "# Render annotations on top of the image\n",
        "coco.showAnns(im_annotations)\n",
        "\n",
        "print(imid,im[\"width\"],im[\"height\"])"
      ],
      "execution_count": 198,
      "outputs": [
        {
          "output_type": "stream",
          "name": "stdout",
          "text": [
            "37936 822 821\n"
          ]
        },
        {
          "output_type": "display_data",
          "data": {
            "image/png": "[encoded data removed]",
            "text/plain": [
              "<Figure size 576x576 with 1 Axes>"
            ]
          },
          "metadata": {
            "needs_background": "light"
          }
        }
      ]
    },
    {
      "cell_type": "code",
      "metadata": {
        "id": "YZ4_NW8_LdbG"
      },
      "source": [
        "def one_hot_id_from_coco_id(coco_id):\n",
        "  return np.nonzero(fai_multi_cats_from_coco_ids([coco_id]))[0][0]\n",
        "\n",
        "def convert_annotations_to_multimask(im_annotations, image_dict, debug=False):\n",
        "  \"\"\"Produces a mask of shape [N_CLASSES, w, h] where each seg_pixel (c,x,y) is either 1 (in class) or 0\"\"\"\n",
        "\n",
        "  multi_seg_mask = np.zeros((N_CLASSES, image_dict[\"width\"], image_dict[\"height\"]),dtype=SEG_DTYPE)\n",
        "\n",
        "  if debug:\n",
        "    print(\"Image id\", image_dict['id'])\n",
        "    print(\"Image shape: \", image_dict['width'], image_dict['height'])\n",
        "\n",
        "  for im_anno in im_annotations:\n",
        "    encSeg = cocomask.frPyObjects(\n",
        "        im_anno['segmentation']\n",
        "        ,image_dict['width'], image_dict['height']\n",
        "      )\n",
        "    \n",
        "    one_hot_id = one_hot_id_from_coco_id(im_anno[\"category_id\"])\n",
        "    \n",
        "    if debug:\n",
        "      print(\"Processing\",im_anno['category_id'],\"->\",one_hot_id)\n",
        "    \n",
        "    org_seg = cocomask.decode(encSeg)\n",
        "\n",
        "    if debug:\n",
        "      print(\"Org seg shape \", org_seg.shape)\n",
        "      print(\"Number of components of this label \", org_seg.shape[2])\n",
        "\n",
        "    multi_component_segmentations = org_seg.reshape((image_dict['width'], image_dict['height'],-1))\n",
        "\n",
        "    if debug:\n",
        "      print(\"multi_component_segmentations.shape \", multi_component_segmentations.shape)\n",
        "\n",
        "    category_seg = np.sum(multi_component_segmentations, axis=2)\n",
        "    np.clip(category_seg,0,1,out=category_seg)\n",
        "\n",
        "    assert category_seg.shape == (image_dict[\"width\"],image_dict[\"height\"])\n",
        "\n",
        "    multi_seg_mask[one_hot_id] = category_seg\n",
        "\n",
        "  return multi_seg_mask"
      ],
      "execution_count": 199,
      "outputs": []
    },
    {
      "cell_type": "code",
      "metadata": {
        "id": "TkHCOTMZHsa-",
        "colab": {
          "base_uri": "https://localhost:8080/",
          "height": 666
        },
        "outputId": "bb868ae2-5e44-4e3f-965b-97d5bbf87265"
      },
      "source": [
        "# test multi-label segmentation is correctly converted\n",
        "\n",
        "import pycocotools\n",
        "import pycocotools.mask as cocomask\n",
        "\n",
        "result = convert_annotations_to_multimask(im_annotations,im,debug=True)\n",
        "\n",
        "assert result.shape == (40, im[\"width\"], im[\"height\"])\n",
        "\n",
        "for im_anno in im_annotations:\n",
        "  encSeg = cocomask.frPyObjects(\n",
        "      im_anno['segmentation']\n",
        "      ,im['width'], im['height']\n",
        "    )\n",
        "  \n",
        "  one_hot_id = one_hot_id_from_coco_id(im_anno['category_id'])\n",
        "\n",
        "  m = cocomask.decode(encSeg)\n",
        "\n",
        "  m = m.reshape((im['width'], im['height'], -1))\n",
        "  for i in range(m.shape[2]):\n",
        "    print(\"component =\",i)\n",
        "    plt.imshow(m[:,:,i])\n",
        "    plt.show()\n",
        "  \n",
        "  print(\"mask\")\n",
        "  plt.imshow(result[one_hot_id])\n",
        "  plt.show()\n",
        "\n",
        "  assert np.all(m.sum(axis=2) == result[one_hot_id])"
      ],
      "execution_count": 200,
      "outputs": [
        {
          "output_type": "stream",
          "name": "stdout",
          "text": [
            "Image id 37936\n",
            "Image shape:  822 821\n",
            "Processing 1151 -> 9\n",
            "Org seg shape  (822, 821, 1)\n",
            "Number of components of this label  1\n",
            "multi_component_segmentations.shape  (822, 821, 1)\n",
            "component = 0\n"
          ]
        },
        {
          "output_type": "display_data",
          "data": {
            "image/png": "[encoded data removed]",
            "text/plain": [
              "<Figure size 432x288 with 1 Axes>"
            ]
          },
          "metadata": {
            "needs_background": "light"
          }
        },
        {
          "output_type": "stream",
          "name": "stdout",
          "text": [
            "mask\n"
          ]
        },
        {
          "output_type": "display_data",
          "data": {
            "image/png": "[encoded data removed]",
            "text/plain": [
              "<Figure size 432x288 with 1 Axes>"
            ]
          },
          "metadata": {
            "needs_background": "light"
          }
        }
      ]
    },
    {
      "cell_type": "code",
      "metadata": {
        "id": "yKRB5Xzg4QyF"
      },
      "source": [
        "# Transform given annotations into our desired segmentations format\n",
        "\n",
        "dest_segmentations_dir = None\n",
        "\n",
        "FORCE_RECOMPUTE = False\n",
        "\n",
        "def task(im_id):\n",
        "  try:\n",
        "    out_file = dest_segmentations_dir / f\"{im_id}.npz\"\n",
        "\n",
        "    if os.path.isfile(out_file) and not FORCE_RECOMPUTE:\n",
        "      return\n",
        "    \n",
        "    image_dict = coco.loadImgs(im_id)[0]\n",
        "    im_annotations = coco.loadAnns(coco.getAnnIds(imgIds=im_id))\n",
        "    multi_mask = convert_annotations_to_multimask(im_annotations, image_dict, debug=False)\n",
        "    np.savez_compressed(out_file, multi_mask, allow_pickle=False)\n",
        "  except Exception as e:\n",
        "    print(\"Error: \", im_id)\n",
        "    raise e\n",
        "\n",
        "def preprocess_and_store_segmentations(im_ids):\n",
        "\n",
        "  with Pool() as p:\n",
        "\n",
        "    with tqdm(total=len(im_ids)) as progress_bar:\n",
        "\n",
        "      for _ in p.imap(task, im_ids):\n",
        "        progress_bar.update(1)\n"
      ],
      "execution_count": 201,
      "outputs": []
    },
    {
      "cell_type": "code",
      "metadata": {
        "id": "sbYH7cc-51f9"
      },
      "source": [
        "def load_multi_segmentation(path):\n",
        "  arr = None\n",
        "  with np.load(path) as npz:\n",
        "    arr = npz[\"arr_0\"]\n",
        "  return arr"
      ],
      "execution_count": 202,
      "outputs": []
    },
    {
      "cell_type": "code",
      "metadata": {
        "id": "Zt6BQzXn9hnQ",
        "colab": {
          "base_uri": "https://localhost:8080/",
          "height": 67,
          "referenced_widgets": [
            "b61f7782e9f14704a64f5ef60b9f314b",
            "8e855b7cd9f244e1bdb5a1902b2da91f",
            "0c6bcf2d5d974a2c8bd8aa11b20c7bdd",
            "234815e77857465395d2de7c7ef415fe",
            "080d33249f35462783b060ed6268a988",
            "35e492a8aa1649bd98bf932ce322fd63",
            "1418278993ac4e4a9788e4ceec20701c",
            "51ac317184b3477ba712dc2a68e1463d",
            "63abdc968ed54254904deb603fdf7302",
            "9902a71b72f749db954006db625ae9f1",
            "bf3f35bbab8644818efc0ee6a00a2d37"
          ]
        },
        "outputId": "b085e07a-939c-443c-bd8c-b7a063609b9c"
      },
      "source": [
        "dest_segmentations_dir = Paths.CURR_MULTI_SEG_DIR\n",
        "preprocess_and_store_segmentations(tiny_train_imids)\n",
        "print(list(os.listdir(Paths.CURR_MULTI_SEG_DIR))[:5],\"...\")\n",
        "\n",
        "if not \"transform train data\":\n",
        "  dest_segmentations_dir = Paths.TRAIN_MULTI_SEG_DIR\n",
        "  preprocess_and_store_segmentations(image_ids)\n",
        "  print(list(os.listdir(Paths.TRAIN_MULTI_SEG_DIR))[:5],\"...\")\n",
        "\n"
      ],
      "execution_count": 203,
      "outputs": [
        {
          "output_type": "display_data",
          "data": {
            "application/vnd.jupyter.widget-view+json": {
              "model_id": "b61f7782e9f14704a64f5ef60b9f314b",
              "version_minor": 0,
              "version_major": 2
            },
            "text/plain": [
              "  0%|          | 0/4 [00:00<?, ?it/s]"
            ]
          },
          "metadata": {}
        },
        {
          "output_type": "stream",
          "name": "stdout",
          "text": [
            "['22949.npz', '54634.npz', '49145.npz', '12886.npz'] ...\n"
          ]
        }
      ]
    },
    {
      "cell_type": "code",
      "metadata": {
        "id": "7PKFTAdAKQTk"
      },
      "source": [
        "if FORCE_RECOMPUTE and not \"we will not store it to google drive due ot it's slow read speed\":\n",
        "  store_directory_to_google_drive(Paths.TRAIN_MULTI_SEG_DIR)"
      ],
      "execution_count": 204,
      "outputs": []
    },
    {
      "cell_type": "code",
      "metadata": {
        "id": "KuV-1-NkPZ0m"
      },
      "source": [
        "# fastai delegation decorator: https://www.fast.ai/2019/08/06/delegation/\n",
        "\n",
        "SEED=1337\n",
        "# Attempts at a multi-label segmentation loader for fastai\n",
        "# How to write a data block: https://docs.fast.ai/tutorial.datablock.html#Building-a-DataBlock-from-scratch\n",
        "class MultiLabelSegmentationDataLoaders(DataLoaders):\n",
        "    @classmethod\n",
        "    @delegates(DataLoaders.from_dblock)\n",
        "    def from_label_func(cls, path, fnames, label_func, valid_pct=0.3, seed=None, codes=None, item_tfms=None, batch_tfms=None, **kwargs):\n",
        "        \"Create from list of `fnames` in `path`s with `label_func`.\"\n",
        "        dblock = DataBlock(blocks=(ImageBlock, TransformBlock),#todo. old: MaskBlock(codes=codes)), todo. set c = number of classes\n",
        "                           splitter=RandomSplitter(valid_pct, seed=seed),\n",
        "                           get_y=label_func,\n",
        "                           item_tfms=item_tfms,\n",
        "                           batch_tfms=batch_tfms)\n",
        "        res = cls.from_dblock(dblock, fnames, path=path, **kwargs)\n",
        "        return res\n",
        "\n",
        "if not \"fails due to unsupported multi-label segmetations. images cannot be loaded from npy format anyways\":\n",
        "  # IGNORE ME!!\n",
        "  dls = SegmentationDataLoaders.from_label_func(\n",
        "      Paths.CURR_DATA_DIR, bs=8, fnames = get_image_files(Paths.CURR_IMAGES_DIR),\n",
        "      label_func = lambda o: Paths.CURR_MULTI_SEG_DIR/f\"{int(o.stem)}.npz\",\n",
        "      codes = category_ids\n",
        "  )\n",
        "\n",
        "IM_SZ = 256\n",
        "resize_args = (IM_SZ, ResizeMethod.Crop)\n",
        "\n",
        "def resize_mseg(mseg):\n",
        "  dest = np.zeros((N_CLASSES, IM_SZ,IM_SZ), dtype=SEG_DTYPE)\n",
        "  for i in range(N_CLASSES):\n",
        "    dest_seg_shape = (IM_SZ, IM_SZ)\n",
        "    has_defined_segmentation_for_class = np.any(mseg[i] == 1)\n",
        "    if not has_defined_segmentation_for_class:\n",
        "      continue\n",
        "    asimg = PIL.Image.fromarray(mseg[i],\"L\") # PIL Image Modes: https://pillow.readthedocs.io/en/stable/handbook/concepts.html#concept-modes\n",
        "    # print(asimg)\n",
        "    # Pillow Image resize: https://pillow.readthedocs.io/en/stable/reference/Image.html#PIL.Image.Image.resize\n",
        "    resized = asimg.resize(dest_seg_shape, resample=PIL.Image.NEAREST)\n",
        "    resized = (np.array(resized) > 0.5).astype(SEG_DTYPE)\n",
        "    if False:\n",
        "      print(\"image\",i)\n",
        "      plt.imshow(asimg)\n",
        "      plt.show()\n",
        "      print(\"resized\",i)\n",
        "      plt.imshow(resized)\n",
        "      plt.show()\n",
        "    assert resized.shape == dest_seg_shape\n",
        "    assert np.all(np.logical_or(resized == 0,resized == 1))\n",
        "    dest[i] = resized\n",
        "  return dest\n",
        "\n",
        "fnames = get_image_files(Paths.CURR_IMAGES_DIR)\n",
        "\n",
        "BATCH_SZ = 2 # NOTE. Batch size is small due to small initial training dataset\n",
        "dls = MultiLabelSegmentationDataLoaders.from_label_func(\n",
        "  Paths.CURR_DATA_DIR, bs=BATCH_SZ, fnames = fnames,\n",
        "  label_func = lambda o: resize_mseg(load_multi_segmentation(Paths.CURR_MULTI_SEG_DIR/f\"{int(o.stem)}.npz\")),\n",
        "  codes = category_ids,\n",
        "  item_tfms=Resize(*resize_args), # todo. actual resizing needs to happen here\n",
        "  seed = SEED\n",
        ")\n"
      ],
      "execution_count": 205,
      "outputs": []
    },
    {
      "cell_type": "code",
      "metadata": {
        "id": "EkiJEfRJnNzo",
        "colab": {
          "base_uri": "https://localhost:8080/"
        },
        "outputId": "824ffd1e-062d-4881-b193-a2f43f0167a1"
      },
      "source": [
        "mseg = load_multi_segmentation(Paths.CURR_MULTI_SEG_DIR/\"22949.npz\")\n",
        "\n",
        "resized = resize_mseg(mseg)\n",
        "\n",
        "print(\"fin\",resized.shape)"
      ],
      "execution_count": 206,
      "outputs": [
        {
          "output_type": "stream",
          "name": "stdout",
          "text": [
            "fin (40, 256, 256)\n"
          ]
        }
      ]
    },
    {
      "cell_type": "code",
      "metadata": {
        "id": "EwhseLVVVAvo",
        "colab": {
          "base_uri": "https://localhost:8080/"
        },
        "outputId": "6738e865-a3bb-44b2-b088-d788e89ad692"
      },
      "source": [
        "print(\"train\",dls.train.n,dls.train.n_subsets)\n",
        "\n",
        "print(\"valid\",dls.valid.n,dls.valid.n_subsets)\n",
        "\n",
        "assert len(dls.train) >= 1, \"Training data generator is empty. Ensure, that the batch-size is small enough.\"\n",
        "assert len(dls.valid) >= 1, \"Validation data generator is empty. Ensure that the batch-size is small enough.\""
      ],
      "execution_count": 207,
      "outputs": [
        {
          "output_type": "stream",
          "name": "stdout",
          "text": [
            "train 3 2\n",
            "valid 1 2\n"
          ]
        }
      ]
    },
    {
      "cell_type": "code",
      "metadata": {
        "id": "7rK1Vi56FYPW",
        "colab": {
          "base_uri": "https://localhost:8080/",
          "height": 1000
        },
        "outputId": "552e7b73-994d-4ccf-9130-d98fb8175c32"
      },
      "source": [
        "# learn = unet_learner(dls, resnet34) #cnn_learner\n",
        "\n",
        " # note. weights can be given here to balance out class-imbalance\n",
        "crossEntropyLoss = torch.nn.CrossEntropyLoss(reduction='mean')\n",
        "multiLabelSoftMarginLoss = torch.nn.MultiLabelMarginLoss(reduction='mean')\n",
        "mseLoss = lambda x, y: torch.mean(torch.linalg.vector_norm(x - y, dim=(1,2,3)))\n",
        "bceLogitsLoss = torch.nn.BCEWithLogitsLoss(reduction='mean')\n",
        "\n",
        "# TODO. since we are using cross entropy, we should adapt the weighting, so that the positive samples are not overweighed by the negative samples\n",
        "\n",
        "USE_MSE=False\n",
        "\n",
        "from enum import auto\n",
        "class LossType(Enum):\n",
        "  CROSS_ENTROPY = (auto(),crossEntropyLoss)\n",
        "  MSE = (auto(), mseLoss)\n",
        "  # MULTI_LABEL_SOFT_MARGIN_LOSS = (auto(), multiLabelSoftMarginLoss)\n",
        "  BINARY_CROSS_ENTROPY_WITH_LOGITS_LOSS = (auto(), bceLogitsLoss)\n",
        "\n",
        "  def apply(self, x, y):\n",
        "    return self.value[1](x, y)\n",
        "\n",
        "LOSS_FUNCTION = LossType.BINARY_CROSS_ENTROPY_WITH_LOGITS_LOSS\n",
        "\n",
        "def loss_func(x,y):\n",
        "  assert x.shape == y.shape\n",
        "  assert x.shape[1:] == (N_CLASSES, IM_SZ, IM_SZ), f\"Unexpected shape: {x.shape}\"\n",
        "  assert x.shape[0] == BATCH_SZ or x.shape[0] == 1, f\"Unexpected shape (batch): {x.shape}\"\n",
        "  \n",
        "  result = LOSS_FUNCTION.apply(x, y)\n",
        "  \n",
        "  assert len(result.shape) == 0, f\"Result should be scalar, but got: {result.shape}\"\n",
        "  return result\n",
        "\n",
        "learn = unet_learner(\n",
        "  dls, resnet18,\n",
        "  n_out = N_CLASSES,\n",
        "  loss_func = loss_func # norm over segmentation. but sum over batch\n",
        "  # todo. use proper loss here\n",
        "  # lambda x, y: torch.mean torch.linalg.norm(x - y])\n",
        "  # cnn: loss_func = lambda x, y: torch.linalg.norm(x - y[:,:,y.shape[2]//2,y.shape[3]//2]) # y.shape = (bs, N_CLASSES, IMG_SIZE, IMG_SIZE)\n",
        ")\n",
        "\n",
        "def loss_func_single(x, y):\n",
        "  assert x.shape == y.shape\n",
        "  assert x.shape == (N_CLASSES,IM_SZ, IM_SZ)\n",
        "  print(x.dtype)\n",
        "  return loss_func(tensor(x[None,:],dtype=torch.float32), tensor(y[None,:],dtype=torch.float32))\n",
        "\n",
        "print(learn.model,learn.summary())\n",
        "\n",
        "# todo. transform segmentation and data to be resized to a specific size -> data blocks\n",
        "# todo. how might we make this a fully convolutional pipeline?\n",
        "\n",
        "# learn.show_training_loop()\n",
        "\n",
        "learn.fine_tune(80)\n",
        "# learn.fit_one_cycle(5)\n",
        "\n",
        "# learn.show_results()\n",
        "# todo. cannot show tensor multi-segmentation mask. need to define custom class for that\n",
        "\n",
        "if False:\n",
        "  unet_learner(\n",
        "    dls, models.alexnet,\n",
        "    normalize=True, n_out=len(category_ids),\n",
        "    pretrained=True, config=None,\n",
        "    loss_func=None, opt_func=Adam,\n",
        "    lr=0.001, metrics=None,\n",
        "    model_dir='models', train_bn=True,\n",
        "    blur=False, blur_final=True,\n",
        "    self_attention=False, y_range=None, last_cross=True,\n",
        "    bottle=False, norm_type=None\n",
        "  )\n",
        "\n",
        "\n",
        "#learn.fine_tune(16)\n"
      ],
      "execution_count": 242,
      "outputs": [
        {
          "output_type": "display_data",
          "data": {
            "text/html": [
              ""
            ],
            "text/plain": [
              "<IPython.core.display.HTML object>"
            ]
          },
          "metadata": {}
        },
        {
          "output_type": "stream",
          "name": "stdout",
          "text": [
            "DynamicUnet(\n",
            "  (layers): ModuleList(\n",
            "    (0): Sequential(\n",
            "      (0): Conv2d(3, 64, kernel_size=(7, 7), stride=(2, 2), padding=(3, 3), bias=False)\n",
            "      (1): BatchNorm2d(64, eps=1e-05, momentum=0.1, affine=True, track_running_stats=True)\n",
            "      (2): ReLU(inplace=True)\n",
            "      (3): MaxPool2d(kernel_size=3, stride=2, padding=1, dilation=1, ceil_mode=False)\n",
            "      (4): Sequential(\n",
            "        (0): BasicBlock(\n",
            "          (conv1): Conv2d(64, 64, kernel_size=(3, 3), stride=(1, 1), padding=(1, 1), bias=False)\n",
            "          (bn1): BatchNorm2d(64, eps=1e-05, momentum=0.1, affine=True, track_running_stats=True)\n",
            "          (relu): ReLU(inplace=True)\n",
            "          (conv2): Conv2d(64, 64, kernel_size=(3, 3), stride=(1, 1), padding=(1, 1), bias=False)\n",
            "          (bn2): BatchNorm2d(64, eps=1e-05, momentum=0.1, affine=True, track_running_stats=True)\n",
            "        )\n",
            "        (1): BasicBlock(\n",
            "          (conv1): Conv2d(64, 64, kernel_size=(3, 3), stride=(1, 1), padding=(1, 1), bias=False)\n",
            "          (bn1): BatchNorm2d(64, eps=1e-05, momentum=0.1, affine=True, track_running_stats=True)\n",
            "          (relu): ReLU(inplace=True)\n",
            "          (conv2): Conv2d(64, 64, kernel_size=(3, 3), stride=(1, 1), padding=(1, 1), bias=False)\n",
            "          (bn2): BatchNorm2d(64, eps=1e-05, momentum=0.1, affine=True, track_running_stats=True)\n",
            "        )\n",
            "      )\n",
            "      (5): Sequential(\n",
            "        (0): BasicBlock(\n",
            "          (conv1): Conv2d(64, 128, kernel_size=(3, 3), stride=(2, 2), padding=(1, 1), bias=False)\n",
            "          (bn1): BatchNorm2d(128, eps=1e-05, momentum=0.1, affine=True, track_running_stats=True)\n",
            "          (relu): ReLU(inplace=True)\n",
            "          (conv2): Conv2d(128, 128, kernel_size=(3, 3), stride=(1, 1), padding=(1, 1), bias=False)\n",
            "          (bn2): BatchNorm2d(128, eps=1e-05, momentum=0.1, affine=True, track_running_stats=True)\n",
            "          (downsample): Sequential(\n",
            "            (0): Conv2d(64, 128, kernel_size=(1, 1), stride=(2, 2), bias=False)\n",
            "            (1): BatchNorm2d(128, eps=1e-05, momentum=0.1, affine=True, track_running_stats=True)\n",
            "          )\n",
            "        )\n",
            "        (1): BasicBlock(\n",
            "          (conv1): Conv2d(128, 128, kernel_size=(3, 3), stride=(1, 1), padding=(1, 1), bias=False)\n",
            "          (bn1): BatchNorm2d(128, eps=1e-05, momentum=0.1, affine=True, track_running_stats=True)\n",
            "          (relu): ReLU(inplace=True)\n",
            "          (conv2): Conv2d(128, 128, kernel_size=(3, 3), stride=(1, 1), padding=(1, 1), bias=False)\n",
            "          (bn2): BatchNorm2d(128, eps=1e-05, momentum=0.1, affine=True, track_running_stats=True)\n",
            "        )\n",
            "      )\n",
            "      (6): Sequential(\n",
            "        (0): BasicBlock(\n",
            "          (conv1): Conv2d(128, 256, kernel_size=(3, 3), stride=(2, 2), padding=(1, 1), bias=False)\n",
            "          (bn1): BatchNorm2d(256, eps=1e-05, momentum=0.1, affine=True, track_running_stats=True)\n",
            "          (relu): ReLU(inplace=True)\n",
            "          (conv2): Conv2d(256, 256, kernel_size=(3, 3), stride=(1, 1), padding=(1, 1), bias=False)\n",
            "          (bn2): BatchNorm2d(256, eps=1e-05, momentum=0.1, affine=True, track_running_stats=True)\n",
            "          (downsample): Sequential(\n",
            "            (0): Conv2d(128, 256, kernel_size=(1, 1), stride=(2, 2), bias=False)\n",
            "            (1): BatchNorm2d(256, eps=1e-05, momentum=0.1, affine=True, track_running_stats=True)\n",
            "          )\n",
            "        )\n",
            "        (1): BasicBlock(\n",
            "          (conv1): Conv2d(256, 256, kernel_size=(3, 3), stride=(1, 1), padding=(1, 1), bias=False)\n",
            "          (bn1): BatchNorm2d(256, eps=1e-05, momentum=0.1, affine=True, track_running_stats=True)\n",
            "          (relu): ReLU(inplace=True)\n",
            "          (conv2): Conv2d(256, 256, kernel_size=(3, 3), stride=(1, 1), padding=(1, 1), bias=False)\n",
            "          (bn2): BatchNorm2d(256, eps=1e-05, momentum=0.1, affine=True, track_running_stats=True)\n",
            "        )\n",
            "      )\n",
            "      (7): Sequential(\n",
            "        (0): BasicBlock(\n",
            "          (conv1): Conv2d(256, 512, kernel_size=(3, 3), stride=(2, 2), padding=(1, 1), bias=False)\n",
            "          (bn1): BatchNorm2d(512, eps=1e-05, momentum=0.1, affine=True, track_running_stats=True)\n",
            "          (relu): ReLU(inplace=True)\n",
            "          (conv2): Conv2d(512, 512, kernel_size=(3, 3), stride=(1, 1), padding=(1, 1), bias=False)\n",
            "          (bn2): BatchNorm2d(512, eps=1e-05, momentum=0.1, affine=True, track_running_stats=True)\n",
            "          (downsample): Sequential(\n",
            "            (0): Conv2d(256, 512, kernel_size=(1, 1), stride=(2, 2), bias=False)\n",
            "            (1): BatchNorm2d(512, eps=1e-05, momentum=0.1, affine=True, track_running_stats=True)\n",
            "          )\n",
            "        )\n",
            "        (1): BasicBlock(\n",
            "          (conv1): Conv2d(512, 512, kernel_size=(3, 3), stride=(1, 1), padding=(1, 1), bias=False)\n",
            "          (bn1): BatchNorm2d(512, eps=1e-05, momentum=0.1, affine=True, track_running_stats=True)\n",
            "          (relu): ReLU(inplace=True)\n",
            "          (conv2): Conv2d(512, 512, kernel_size=(3, 3), stride=(1, 1), padding=(1, 1), bias=False)\n",
            "          (bn2): BatchNorm2d(512, eps=1e-05, momentum=0.1, affine=True, track_running_stats=True)\n",
            "        )\n",
            "      )\n",
            "    )\n",
            "    (1): BatchNorm2d(512, eps=1e-05, momentum=0.1, affine=True, track_running_stats=True)\n",
            "    (2): ReLU()\n",
            "    (3): Sequential(\n",
            "      (0): ConvLayer(\n",
            "        (0): Conv2d(512, 1024, kernel_size=(3, 3), stride=(1, 1), padding=(1, 1))\n",
            "        (1): ReLU()\n",
            "      )\n",
            "      (1): ConvLayer(\n",
            "        (0): Conv2d(1024, 512, kernel_size=(3, 3), stride=(1, 1), padding=(1, 1))\n",
            "        (1): ReLU()\n",
            "      )\n",
            "    )\n",
            "    (4): UnetBlock(\n",
            "      (shuf): PixelShuffle_ICNR(\n",
            "        (0): ConvLayer(\n",
            "          (0): Conv2d(512, 1024, kernel_size=(1, 1), stride=(1, 1))\n",
            "          (1): ReLU()\n",
            "        )\n",
            "        (1): PixelShuffle(upscale_factor=2)\n",
            "      )\n",
            "      (bn): BatchNorm2d(256, eps=1e-05, momentum=0.1, affine=True, track_running_stats=True)\n",
            "      (conv1): ConvLayer(\n",
            "        (0): Conv2d(512, 512, kernel_size=(3, 3), stride=(1, 1), padding=(1, 1))\n",
            "        (1): ReLU()\n",
            "      )\n",
            "      (conv2): ConvLayer(\n",
            "        (0): Conv2d(512, 512, kernel_size=(3, 3), stride=(1, 1), padding=(1, 1))\n",
            "        (1): ReLU()\n",
            "      )\n",
            "      (relu): ReLU()\n",
            "    )\n",
            "    (5): UnetBlock(\n",
            "      (shuf): PixelShuffle_ICNR(\n",
            "        (0): ConvLayer(\n",
            "          (0): Conv2d(512, 1024, kernel_size=(1, 1), stride=(1, 1))\n",
            "          (1): ReLU()\n",
            "        )\n",
            "        (1): PixelShuffle(upscale_factor=2)\n",
            "      )\n",
            "      (bn): BatchNorm2d(128, eps=1e-05, momentum=0.1, affine=True, track_running_stats=True)\n",
            "      (conv1): ConvLayer(\n",
            "        (0): Conv2d(384, 384, kernel_size=(3, 3), stride=(1, 1), padding=(1, 1))\n",
            "        (1): ReLU()\n",
            "      )\n",
            "      (conv2): ConvLayer(\n",
            "        (0): Conv2d(384, 384, kernel_size=(3, 3), stride=(1, 1), padding=(1, 1))\n",
            "        (1): ReLU()\n",
            "      )\n",
            "      (relu): ReLU()\n",
            "    )\n",
            "    (6): UnetBlock(\n",
            "      (shuf): PixelShuffle_ICNR(\n",
            "        (0): ConvLayer(\n",
            "          (0): Conv2d(384, 768, kernel_size=(1, 1), stride=(1, 1))\n",
            "          (1): ReLU()\n",
            "        )\n",
            "        (1): PixelShuffle(upscale_factor=2)\n",
            "      )\n",
            "      (bn): BatchNorm2d(64, eps=1e-05, momentum=0.1, affine=True, track_running_stats=True)\n",
            "      (conv1): ConvLayer(\n",
            "        (0): Conv2d(256, 256, kernel_size=(3, 3), stride=(1, 1), padding=(1, 1))\n",
            "        (1): ReLU()\n",
            "      )\n",
            "      (conv2): ConvLayer(\n",
            "        (0): Conv2d(256, 256, kernel_size=(3, 3), stride=(1, 1), padding=(1, 1))\n",
            "        (1): ReLU()\n",
            "      )\n",
            "      (relu): ReLU()\n",
            "    )\n",
            "    (7): UnetBlock(\n",
            "      (shuf): PixelShuffle_ICNR(\n",
            "        (0): ConvLayer(\n",
            "          (0): Conv2d(256, 512, kernel_size=(1, 1), stride=(1, 1))\n",
            "          (1): ReLU()\n",
            "        )\n",
            "        (1): PixelShuffle(upscale_factor=2)\n",
            "      )\n",
            "      (bn): BatchNorm2d(64, eps=1e-05, momentum=0.1, affine=True, track_running_stats=True)\n",
            "      (conv1): ConvLayer(\n",
            "        (0): Conv2d(192, 96, kernel_size=(3, 3), stride=(1, 1), padding=(1, 1))\n",
            "        (1): ReLU()\n",
            "      )\n",
            "      (conv2): ConvLayer(\n",
            "        (0): Conv2d(96, 96, kernel_size=(3, 3), stride=(1, 1), padding=(1, 1))\n",
            "        (1): ReLU()\n",
            "      )\n",
            "      (relu): ReLU()\n",
            "    )\n",
            "    (8): PixelShuffle_ICNR(\n",
            "      (0): ConvLayer(\n",
            "        (0): Conv2d(96, 384, kernel_size=(1, 1), stride=(1, 1))\n",
            "        (1): ReLU()\n",
            "      )\n",
            "      (1): PixelShuffle(upscale_factor=2)\n",
            "    )\n",
            "    (9): ResizeToOrig()\n",
            "    (10): MergeLayer()\n",
            "    (11): ResBlock(\n",
            "      (convpath): Sequential(\n",
            "        (0): ConvLayer(\n",
            "          (0): Conv2d(99, 99, kernel_size=(3, 3), stride=(1, 1), padding=(1, 1))\n",
            "          (1): ReLU()\n",
            "        )\n",
            "        (1): ConvLayer(\n",
            "          (0): Conv2d(99, 99, kernel_size=(3, 3), stride=(1, 1), padding=(1, 1))\n",
            "        )\n",
            "      )\n",
            "      (idpath): Sequential()\n",
            "      (act): ReLU(inplace=True)\n",
            "    )\n",
            "    (12): ConvLayer(\n",
            "      (0): Conv2d(99, 40, kernel_size=(1, 1), stride=(1, 1))\n",
            "    )\n",
            "    (13): ToTensorBase(tensor_cls=<class 'fastai.torch_core.TensorBase'>)\n",
            "  )\n",
            ") DynamicUnet (Input shape: 2 x 3 x 256 x 256)\n",
            "============================================================================\n",
            "Layer (type)         Output Shape         Param #    Trainable \n",
            "============================================================================\n",
            "                     2 x 64 x 128 x 128  \n",
            "Conv2d                                    9408       False     \n",
            "BatchNorm2d                               128        True      \n",
            "ReLU                                                           \n",
            "____________________________________________________________________________\n",
            "                     2 x 64 x 64 x 64    \n",
            "MaxPool2d                                                      \n",
            "Conv2d                                    36864      False     \n",
            "BatchNorm2d                               128        True      \n",
            "ReLU                                                           \n",
            "Conv2d                                    36864      False     \n",
            "BatchNorm2d                               128        True      \n",
            "Conv2d                                    36864      False     \n",
            "BatchNorm2d                               128        True      \n",
            "ReLU                                                           \n",
            "Conv2d                                    36864      False     \n",
            "BatchNorm2d                               128        True      \n",
            "____________________________________________________________________________\n",
            "                     2 x 128 x 32 x 32   \n",
            "Conv2d                                    73728      False     \n",
            "BatchNorm2d                               256        True      \n",
            "ReLU                                                           \n",
            "Conv2d                                    147456     False     \n",
            "BatchNorm2d                               256        True      \n",
            "Conv2d                                    8192       False     \n",
            "BatchNorm2d                               256        True      \n",
            "Conv2d                                    147456     False     \n",
            "BatchNorm2d                               256        True      \n",
            "ReLU                                                           \n",
            "Conv2d                                    147456     False     \n",
            "BatchNorm2d                               256        True      \n",
            "____________________________________________________________________________\n",
            "                     2 x 256 x 16 x 16   \n",
            "Conv2d                                    294912     False     \n",
            "BatchNorm2d                               512        True      \n",
            "ReLU                                                           \n",
            "Conv2d                                    589824     False     \n",
            "BatchNorm2d                               512        True      \n",
            "Conv2d                                    32768      False     \n",
            "BatchNorm2d                               512        True      \n",
            "Conv2d                                    589824     False     \n",
            "BatchNorm2d                               512        True      \n",
            "ReLU                                                           \n",
            "Conv2d                                    589824     False     \n",
            "BatchNorm2d                               512        True      \n",
            "____________________________________________________________________________\n",
            "                     2 x 512 x 8 x 8     \n",
            "Conv2d                                    1179648    False     \n",
            "BatchNorm2d                               1024       True      \n",
            "ReLU                                                           \n",
            "Conv2d                                    2359296    False     \n",
            "BatchNorm2d                               1024       True      \n",
            "Conv2d                                    131072     False     \n",
            "BatchNorm2d                               1024       True      \n",
            "Conv2d                                    2359296    False     \n",
            "BatchNorm2d                               1024       True      \n",
            "ReLU                                                           \n",
            "Conv2d                                    2359296    False     \n",
            "BatchNorm2d                               1024       True      \n",
            "BatchNorm2d                               1024       True      \n",
            "ReLU                                                           \n",
            "____________________________________________________________________________\n",
            "                     2 x 1024 x 8 x 8    \n",
            "Conv2d                                    4719616    True      \n",
            "ReLU                                                           \n",
            "____________________________________________________________________________\n",
            "                     2 x 512 x 8 x 8     \n",
            "Conv2d                                    4719104    True      \n",
            "ReLU                                                           \n",
            "____________________________________________________________________________\n",
            "                     2 x 1024 x 8 x 8    \n",
            "Conv2d                                    525312     True      \n",
            "ReLU                                                           \n",
            "____________________________________________________________________________\n",
            "                     2 x 256 x 16 x 16   \n",
            "PixelShuffle                                                   \n",
            "BatchNorm2d                               512        True      \n",
            "Conv2d                                    2359808    True      \n",
            "ReLU                                                           \n",
            "Conv2d                                    2359808    True      \n",
            "ReLU                                                           \n",
            "ReLU                                                           \n",
            "____________________________________________________________________________\n",
            "                     2 x 1024 x 16 x 16  \n",
            "Conv2d                                    525312     True      \n",
            "ReLU                                                           \n",
            "____________________________________________________________________________\n",
            "                     2 x 256 x 32 x 32   \n",
            "PixelShuffle                                                   \n",
            "BatchNorm2d                               256        True      \n",
            "Conv2d                                    1327488    True      \n",
            "ReLU                                                           \n",
            "Conv2d                                    1327488    True      \n",
            "ReLU                                                           \n",
            "ReLU                                                           \n",
            "____________________________________________________________________________\n",
            "                     2 x 768 x 32 x 32   \n",
            "Conv2d                                    295680     True      \n",
            "ReLU                                                           \n",
            "____________________________________________________________________________\n",
            "                     2 x 192 x 64 x 64   \n",
            "PixelShuffle                                                   \n",
            "BatchNorm2d                               128        True      \n",
            "Conv2d                                    590080     True      \n",
            "ReLU                                                           \n",
            "Conv2d                                    590080     True      \n",
            "ReLU                                                           \n",
            "ReLU                                                           \n",
            "____________________________________________________________________________\n",
            "                     2 x 512 x 64 x 64   \n",
            "Conv2d                                    131584     True      \n",
            "ReLU                                                           \n",
            "____________________________________________________________________________\n",
            "                     2 x 128 x 128 x 128 \n",
            "PixelShuffle                                                   \n",
            "BatchNorm2d                               128        True      \n",
            "____________________________________________________________________________\n",
            "                     2 x 96 x 128 x 128  \n",
            "Conv2d                                    165984     True      \n",
            "ReLU                                                           \n",
            "Conv2d                                    83040      True      \n",
            "ReLU                                                           \n",
            "ReLU                                                           \n",
            "____________________________________________________________________________\n",
            "                     2 x 384 x 128 x 128 \n",
            "Conv2d                                    37248      True      \n",
            "ReLU                                                           \n",
            "____________________________________________________________________________\n",
            "                     2 x 96 x 256 x 256  \n",
            "PixelShuffle                                                   \n",
            "ResizeToOrig                                                   \n",
            "____________________________________________________________________________\n",
            "                     2 x 99 x 256 x 256  \n",
            "MergeLayer                                                     \n",
            "Conv2d                                    88308      True      \n",
            "ReLU                                                           \n",
            "Conv2d                                    88308      True      \n",
            "Sequential                                                     \n",
            "ReLU                                                           \n",
            "____________________________________________________________________________\n",
            "                     2 x 40 x 256 x 256  \n",
            "Conv2d                                    4000       True      \n",
            "ToTensorBase                                                   \n",
            "____________________________________________________________________________\n",
            "\n",
            "Total params: 31,116,808\n",
            "Total trainable params: 19,949,896\n",
            "Total non-trainable params: 11,166,912\n",
            "\n",
            "Optimizer used: <function Adam at 0x7eff3678ce60>\n",
            "Loss function: <function loss_func at 0x7eff24cb8b00>\n",
            "\n",
            "Model frozen up to parameter group #2\n",
            "\n",
            "Callbacks:\n",
            "  - TrainEvalCallback\n",
            "  - Recorder\n",
            "  - ProgressCallback\n"
          ]
        },
        {
          "output_type": "display_data",
          "data": {
            "text/html": [
              "<table border=\"1\" class=\"dataframe\">\n",
              "  <thead>\n",
              "    <tr style=\"text-align: left;\">\n",
              "      <th>epoch</th>\n",
              "      <th>train_loss</th>\n",
              "      <th>valid_loss</th>\n",
              "      <th>time</th>\n",
              "    </tr>\n",
              "  </thead>\n",
              "  <tbody>\n",
              "    <tr>\n",
              "      <td>0</td>\n",
              "      <td>0.705926</td>\n",
              "      <td>0.653432</td>\n",
              "      <td>00:08</td>\n",
              "    </tr>\n",
              "  </tbody>\n",
              "</table>"
            ],
            "text/plain": [
              "<IPython.core.display.HTML object>"
            ]
          },
          "metadata": {}
        },
        {
          "output_type": "display_data",
          "data": {
            "text/html": [
              "<table border=\"1\" class=\"dataframe\">\n",
              "  <thead>\n",
              "    <tr style=\"text-align: left;\">\n",
              "      <th>epoch</th>\n",
              "      <th>train_loss</th>\n",
              "      <th>valid_loss</th>\n",
              "      <th>time</th>\n",
              "    </tr>\n",
              "  </thead>\n",
              "  <tbody>\n",
              "    <tr>\n",
              "      <td>0</td>\n",
              "      <td>0.653277</td>\n",
              "      <td>0.604969</td>\n",
              "      <td>00:09</td>\n",
              "    </tr>\n",
              "    <tr>\n",
              "      <td>1</td>\n",
              "      <td>0.613735</td>\n",
              "      <td>0.455089</td>\n",
              "      <td>00:08</td>\n",
              "    </tr>\n",
              "    <tr>\n",
              "      <td>2</td>\n",
              "      <td>0.557821</td>\n",
              "      <td>0.370029</td>\n",
              "      <td>00:08</td>\n",
              "    </tr>\n",
              "    <tr>\n",
              "      <td>3</td>\n",
              "      <td>0.507279</td>\n",
              "      <td>0.269001</td>\n",
              "      <td>00:08</td>\n",
              "    </tr>\n",
              "    <tr>\n",
              "      <td>4</td>\n",
              "      <td>0.457440</td>\n",
              "      <td>0.180954</td>\n",
              "      <td>00:08</td>\n",
              "    </tr>\n",
              "    <tr>\n",
              "      <td>5</td>\n",
              "      <td>0.407791</td>\n",
              "      <td>0.084628</td>\n",
              "      <td>00:08</td>\n",
              "    </tr>\n",
              "    <tr>\n",
              "      <td>6</td>\n",
              "      <td>0.363428</td>\n",
              "      <td>0.065869</td>\n",
              "      <td>00:08</td>\n",
              "    </tr>\n",
              "    <tr>\n",
              "      <td>7</td>\n",
              "      <td>0.331850</td>\n",
              "      <td>0.080117</td>\n",
              "      <td>00:08</td>\n",
              "    </tr>\n",
              "    <tr>\n",
              "      <td>8</td>\n",
              "      <td>0.303107</td>\n",
              "      <td>0.084422</td>\n",
              "      <td>00:08</td>\n",
              "    </tr>\n",
              "    <tr>\n",
              "      <td>9</td>\n",
              "      <td>0.276848</td>\n",
              "      <td>0.092240</td>\n",
              "      <td>00:08</td>\n",
              "    </tr>\n",
              "    <tr>\n",
              "      <td>10</td>\n",
              "      <td>0.253531</td>\n",
              "      <td>0.097570</td>\n",
              "      <td>00:08</td>\n",
              "    </tr>\n",
              "    <tr>\n",
              "      <td>11</td>\n",
              "      <td>0.235222</td>\n",
              "      <td>0.072500</td>\n",
              "      <td>00:08</td>\n",
              "    </tr>\n",
              "    <tr>\n",
              "      <td>12</td>\n",
              "      <td>0.218039</td>\n",
              "      <td>0.071744</td>\n",
              "      <td>00:08</td>\n",
              "    </tr>\n",
              "    <tr>\n",
              "      <td>13</td>\n",
              "      <td>0.204139</td>\n",
              "      <td>0.062691</td>\n",
              "      <td>00:08</td>\n",
              "    </tr>\n",
              "    <tr>\n",
              "      <td>14</td>\n",
              "      <td>0.193327</td>\n",
              "      <td>0.061462</td>\n",
              "      <td>00:08</td>\n",
              "    </tr>\n",
              "    <tr>\n",
              "      <td>15</td>\n",
              "      <td>0.181384</td>\n",
              "      <td>0.068036</td>\n",
              "      <td>00:08</td>\n",
              "    </tr>\n",
              "    <tr>\n",
              "      <td>16</td>\n",
              "      <td>0.171714</td>\n",
              "      <td>0.063629</td>\n",
              "      <td>00:08</td>\n",
              "    </tr>\n",
              "    <tr>\n",
              "      <td>17</td>\n",
              "      <td>0.162411</td>\n",
              "      <td>0.051981</td>\n",
              "      <td>00:08</td>\n",
              "    </tr>\n",
              "    <tr>\n",
              "      <td>18</td>\n",
              "      <td>0.154025</td>\n",
              "      <td>0.055283</td>\n",
              "      <td>00:08</td>\n",
              "    </tr>\n",
              "    <tr>\n",
              "      <td>19</td>\n",
              "      <td>0.146556</td>\n",
              "      <td>0.052956</td>\n",
              "      <td>00:08</td>\n",
              "    </tr>\n",
              "    <tr>\n",
              "      <td>20</td>\n",
              "      <td>0.139834</td>\n",
              "      <td>0.050933</td>\n",
              "      <td>00:08</td>\n",
              "    </tr>\n",
              "    <tr>\n",
              "      <td>21</td>\n",
              "      <td>0.133289</td>\n",
              "      <td>0.063087</td>\n",
              "      <td>00:08</td>\n",
              "    </tr>\n",
              "    <tr>\n",
              "      <td>22</td>\n",
              "      <td>0.127286</td>\n",
              "      <td>0.080856</td>\n",
              "      <td>00:08</td>\n",
              "    </tr>\n",
              "    <tr>\n",
              "      <td>23</td>\n",
              "      <td>0.122047</td>\n",
              "      <td>0.048605</td>\n",
              "      <td>00:08</td>\n",
              "    </tr>\n",
              "    <tr>\n",
              "      <td>24</td>\n",
              "      <td>0.116867</td>\n",
              "      <td>0.045188</td>\n",
              "      <td>00:08</td>\n",
              "    </tr>\n",
              "    <tr>\n",
              "      <td>25</td>\n",
              "      <td>0.112314</td>\n",
              "      <td>0.042973</td>\n",
              "      <td>00:08</td>\n",
              "    </tr>\n",
              "    <tr>\n",
              "      <td>26</td>\n",
              "      <td>0.108138</td>\n",
              "      <td>0.045645</td>\n",
              "      <td>00:08</td>\n",
              "    </tr>\n",
              "    <tr>\n",
              "      <td>27</td>\n",
              "      <td>0.103978</td>\n",
              "      <td>0.050439</td>\n",
              "      <td>00:08</td>\n",
              "    </tr>\n",
              "    <tr>\n",
              "      <td>28</td>\n",
              "      <td>0.100422</td>\n",
              "      <td>0.099244</td>\n",
              "      <td>00:08</td>\n",
              "    </tr>\n",
              "    <tr>\n",
              "      <td>29</td>\n",
              "      <td>0.097039</td>\n",
              "      <td>0.048895</td>\n",
              "      <td>00:08</td>\n",
              "    </tr>\n",
              "    <tr>\n",
              "      <td>30</td>\n",
              "      <td>0.093698</td>\n",
              "      <td>0.048523</td>\n",
              "      <td>00:08</td>\n",
              "    </tr>\n",
              "    <tr>\n",
              "      <td>31</td>\n",
              "      <td>0.090632</td>\n",
              "      <td>0.043790</td>\n",
              "      <td>00:08</td>\n",
              "    </tr>\n",
              "    <tr>\n",
              "      <td>32</td>\n",
              "      <td>0.087695</td>\n",
              "      <td>0.039648</td>\n",
              "      <td>00:08</td>\n",
              "    </tr>\n",
              "    <tr>\n",
              "      <td>33</td>\n",
              "      <td>0.084763</td>\n",
              "      <td>0.041529</td>\n",
              "      <td>00:08</td>\n",
              "    </tr>\n",
              "    <tr>\n",
              "      <td>34</td>\n",
              "      <td>0.082293</td>\n",
              "      <td>0.042483</td>\n",
              "      <td>00:08</td>\n",
              "    </tr>\n",
              "    <tr>\n",
              "      <td>35</td>\n",
              "      <td>0.079765</td>\n",
              "      <td>0.046422</td>\n",
              "      <td>00:10</td>\n",
              "    </tr>\n",
              "    <tr>\n",
              "      <td>36</td>\n",
              "      <td>0.077341</td>\n",
              "      <td>0.049800</td>\n",
              "      <td>00:12</td>\n",
              "    </tr>\n",
              "    <tr>\n",
              "      <td>37</td>\n",
              "      <td>0.075067</td>\n",
              "      <td>0.057732</td>\n",
              "      <td>00:09</td>\n",
              "    </tr>\n",
              "    <tr>\n",
              "      <td>38</td>\n",
              "      <td>0.072728</td>\n",
              "      <td>0.067949</td>\n",
              "      <td>00:08</td>\n",
              "    </tr>\n",
              "    <tr>\n",
              "      <td>39</td>\n",
              "      <td>0.070607</td>\n",
              "      <td>0.068889</td>\n",
              "      <td>00:08</td>\n",
              "    </tr>\n",
              "    <tr>\n",
              "      <td>40</td>\n",
              "      <td>0.068643</td>\n",
              "      <td>0.056630</td>\n",
              "      <td>00:08</td>\n",
              "    </tr>\n",
              "    <tr>\n",
              "      <td>41</td>\n",
              "      <td>0.066692</td>\n",
              "      <td>0.051053</td>\n",
              "      <td>00:08</td>\n",
              "    </tr>\n",
              "    <tr>\n",
              "      <td>42</td>\n",
              "      <td>0.064986</td>\n",
              "      <td>0.042974</td>\n",
              "      <td>00:08</td>\n",
              "    </tr>\n",
              "    <tr>\n",
              "      <td>43</td>\n",
              "      <td>0.063128</td>\n",
              "      <td>0.041442</td>\n",
              "      <td>00:08</td>\n",
              "    </tr>\n",
              "    <tr>\n",
              "      <td>44</td>\n",
              "      <td>0.061424</td>\n",
              "      <td>0.042612</td>\n",
              "      <td>00:08</td>\n",
              "    </tr>\n",
              "    <tr>\n",
              "      <td>45</td>\n",
              "      <td>0.059787</td>\n",
              "      <td>0.045108</td>\n",
              "      <td>00:08</td>\n",
              "    </tr>\n",
              "    <tr>\n",
              "      <td>46</td>\n",
              "      <td>0.058188</td>\n",
              "      <td>0.049030</td>\n",
              "      <td>00:08</td>\n",
              "    </tr>\n",
              "    <tr>\n",
              "      <td>47</td>\n",
              "      <td>0.056944</td>\n",
              "      <td>0.053233</td>\n",
              "      <td>00:08</td>\n",
              "    </tr>\n",
              "    <tr>\n",
              "      <td>48</td>\n",
              "      <td>0.055426</td>\n",
              "      <td>0.057775</td>\n",
              "      <td>00:08</td>\n",
              "    </tr>\n",
              "    <tr>\n",
              "      <td>49</td>\n",
              "      <td>0.053968</td>\n",
              "      <td>0.061299</td>\n",
              "      <td>00:08</td>\n",
              "    </tr>\n",
              "    <tr>\n",
              "      <td>50</td>\n",
              "      <td>0.052764</td>\n",
              "      <td>0.060642</td>\n",
              "      <td>00:08</td>\n",
              "    </tr>\n",
              "    <tr>\n",
              "      <td>51</td>\n",
              "      <td>0.051537</td>\n",
              "      <td>0.059332</td>\n",
              "      <td>00:08</td>\n",
              "    </tr>\n",
              "    <tr>\n",
              "      <td>52</td>\n",
              "      <td>0.050321</td>\n",
              "      <td>0.059410</td>\n",
              "      <td>00:08</td>\n",
              "    </tr>\n",
              "    <tr>\n",
              "      <td>53</td>\n",
              "      <td>0.049094</td>\n",
              "      <td>0.059895</td>\n",
              "      <td>00:08</td>\n",
              "    </tr>\n",
              "    <tr>\n",
              "      <td>54</td>\n",
              "      <td>0.047925</td>\n",
              "      <td>0.060514</td>\n",
              "      <td>00:08</td>\n",
              "    </tr>\n",
              "    <tr>\n",
              "      <td>55</td>\n",
              "      <td>0.046960</td>\n",
              "      <td>0.059097</td>\n",
              "      <td>00:08</td>\n",
              "    </tr>\n",
              "    <tr>\n",
              "      <td>56</td>\n",
              "      <td>0.045862</td>\n",
              "      <td>0.057260</td>\n",
              "      <td>00:08</td>\n",
              "    </tr>\n",
              "    <tr>\n",
              "      <td>57</td>\n",
              "      <td>0.044794</td>\n",
              "      <td>0.055380</td>\n",
              "      <td>00:08</td>\n",
              "    </tr>\n",
              "    <tr>\n",
              "      <td>58</td>\n",
              "      <td>0.043754</td>\n",
              "      <td>0.053925</td>\n",
              "      <td>00:08</td>\n",
              "    </tr>\n",
              "    <tr>\n",
              "      <td>59</td>\n",
              "      <td>0.042771</td>\n",
              "      <td>0.052437</td>\n",
              "      <td>00:08</td>\n",
              "    </tr>\n",
              "    <tr>\n",
              "      <td>60</td>\n",
              "      <td>0.041932</td>\n",
              "      <td>0.051390</td>\n",
              "      <td>00:08</td>\n",
              "    </tr>\n",
              "    <tr>\n",
              "      <td>61</td>\n",
              "      <td>0.040991</td>\n",
              "      <td>0.051340</td>\n",
              "      <td>00:08</td>\n",
              "    </tr>\n",
              "    <tr>\n",
              "      <td>62</td>\n",
              "      <td>0.040161</td>\n",
              "      <td>0.051418</td>\n",
              "      <td>00:08</td>\n",
              "    </tr>\n",
              "    <tr>\n",
              "      <td>63</td>\n",
              "      <td>0.039288</td>\n",
              "      <td>0.052267</td>\n",
              "      <td>00:08</td>\n",
              "    </tr>\n",
              "    <tr>\n",
              "      <td>64</td>\n",
              "      <td>0.038413</td>\n",
              "      <td>0.052938</td>\n",
              "      <td>00:08</td>\n",
              "    </tr>\n",
              "    <tr>\n",
              "      <td>65</td>\n",
              "      <td>0.037623</td>\n",
              "      <td>0.053766</td>\n",
              "      <td>00:08</td>\n",
              "    </tr>\n",
              "    <tr>\n",
              "      <td>66</td>\n",
              "      <td>0.036795</td>\n",
              "      <td>0.054762</td>\n",
              "      <td>00:08</td>\n",
              "    </tr>\n",
              "    <tr>\n",
              "      <td>67</td>\n",
              "      <td>0.036039</td>\n",
              "      <td>0.055726</td>\n",
              "      <td>00:08</td>\n",
              "    </tr>\n",
              "    <tr>\n",
              "      <td>68</td>\n",
              "      <td>0.035301</td>\n",
              "      <td>0.056745</td>\n",
              "      <td>00:08</td>\n",
              "    </tr>\n",
              "    <tr>\n",
              "      <td>69</td>\n",
              "      <td>0.034587</td>\n",
              "      <td>0.058213</td>\n",
              "      <td>00:08</td>\n",
              "    </tr>\n",
              "    <tr>\n",
              "      <td>70</td>\n",
              "      <td>0.033884</td>\n",
              "      <td>0.059082</td>\n",
              "      <td>00:08</td>\n",
              "    </tr>\n",
              "    <tr>\n",
              "      <td>71</td>\n",
              "      <td>0.033201</td>\n",
              "      <td>0.059861</td>\n",
              "      <td>00:08</td>\n",
              "    </tr>\n",
              "    <tr>\n",
              "      <td>72</td>\n",
              "      <td>0.032556</td>\n",
              "      <td>0.060984</td>\n",
              "      <td>00:08</td>\n",
              "    </tr>\n",
              "    <tr>\n",
              "      <td>73</td>\n",
              "      <td>0.031889</td>\n",
              "      <td>0.061312</td>\n",
              "      <td>00:08</td>\n",
              "    </tr>\n",
              "    <tr>\n",
              "      <td>74</td>\n",
              "      <td>0.031262</td>\n",
              "      <td>0.061576</td>\n",
              "      <td>00:08</td>\n",
              "    </tr>\n",
              "    <tr>\n",
              "      <td>75</td>\n",
              "      <td>0.030654</td>\n",
              "      <td>0.061788</td>\n",
              "      <td>00:08</td>\n",
              "    </tr>\n",
              "    <tr>\n",
              "      <td>76</td>\n",
              "      <td>0.030063</td>\n",
              "      <td>0.061940</td>\n",
              "      <td>00:08</td>\n",
              "    </tr>\n",
              "    <tr>\n",
              "      <td>77</td>\n",
              "      <td>0.029490</td>\n",
              "      <td>0.062044</td>\n",
              "      <td>00:08</td>\n",
              "    </tr>\n",
              "    <tr>\n",
              "      <td>78</td>\n",
              "      <td>0.028957</td>\n",
              "      <td>0.062452</td>\n",
              "      <td>00:08</td>\n",
              "    </tr>\n",
              "    <tr>\n",
              "      <td>79</td>\n",
              "      <td>0.028441</td>\n",
              "      <td>0.062863</td>\n",
              "      <td>00:08</td>\n",
              "    </tr>\n",
              "  </tbody>\n",
              "</table>"
            ],
            "text/plain": [
              "<IPython.core.display.HTML object>"
            ]
          },
          "metadata": {}
        }
      ]
    },
    {
      "cell_type": "code",
      "metadata": {
        "id": "leOnG3KaQahk",
        "colab": {
          "base_uri": "https://localhost:8080/",
          "height": 323
        },
        "outputId": "8e7dca5d-ff29-4dd4-83dd-fd2a026264f8"
      },
      "source": [
        "result, what = list(dls.train)[0][0]\n",
        "\n",
        "def get_train_data(idx):\n",
        "  input, ground_truth = dls.train_ds[idx]\n",
        "  assert ground_truth.shape == (N_CLASSES, IM_SZ, IM_SZ)\n",
        "  return input, ground_truth\n",
        "\n",
        "im, gt = get_train_data(0)\n",
        "\n",
        "print(im.shape)\n",
        "print(gt.shape)\n",
        "plt.imshow(im)\n",
        "plt.show()\n",
        "\n",
        "full_dec_pred, _, _  = learn.predict(im)\n",
        "# predict return values: https://docs.fast.ai/learner.html#Learner.predict\n",
        "\n",
        "print(full_dec_pred.shape)"
      ],
      "execution_count": 243,
      "outputs": [
        {
          "output_type": "stream",
          "name": "stdout",
          "text": [
            "(784, 785)\n",
            "(40, 256, 256)\n"
          ]
        },
        {
          "output_type": "display_data",
          "data": {
            "image/png": "[encoded data removed]",
            "text/plain": [
              "<Figure size 432x288 with 1 Axes>"
            ]
          },
          "metadata": {
            "needs_background": "light"
          }
        },
        {
          "output_type": "display_data",
          "data": {
            "text/html": [
              ""
            ],
            "text/plain": [
              "<IPython.core.display.HTML object>"
            ]
          },
          "metadata": {}
        },
        {
          "output_type": "stream",
          "name": "stdout",
          "text": [
            "torch.Size([40, 256, 256])\n"
          ]
        }
      ]
    },
    {
      "cell_type": "code",
      "metadata": {
        "id": "3fMqakyqfxNX",
        "colab": {
          "base_uri": "https://localhost:8080/",
          "height": 1000
        },
        "outputId": "f02280ab-bede-44f6-bd55-6fc07e1a3790"
      },
      "source": [
        "matplotlib_colormaps = ['Greys', 'Purples', 'Blues', 'Greens', 'Oranges', 'Reds',\n",
        "                      'YlOrBr', 'YlOrRd', 'OrRd', 'PuRd', 'RdPu', 'BuPu',\n",
        "                      'GnBu', 'PuBu', 'YlGnBu', 'PuBuGn', 'BuGn', 'YlGn']\n",
        "\n",
        "class_colormaps = (matplotlib_colormaps * 3)[:N_CLASSES]\n",
        "# e.g. class_colormaps[2] = \"Blues\"\n",
        "\n",
        "def show_multi_segmentation(seg, alpha = 0.4):\n",
        "  seg = np.array(seg)\n",
        "  assert seg.shape == (N_CLASSES,IM_SZ,IM_SZ)\n",
        "\n",
        "  colorbar_sources = []\n",
        "\n",
        "  for i in range(N_CLASSES):\n",
        "    is_defined_for_class = np.any(seg[i] != 0)\n",
        "    if is_defined_for_class:\n",
        "      print(class_colormaps[i],\"<-\",category_names[i])\n",
        "      res = plt.imshow(seg[i], cmap=class_colormaps[i], alpha = alpha)\n",
        "      cbar = plt.colorbar(res)\n",
        "      cbar.ax.set_ylabel(category_names[i])\n",
        "      colorbar_sources.append(res)\n",
        "\n",
        "    if i % len(matplotlib_colormaps) // 3 == 0:\n",
        "      for cbar_source in colorbar_sources:\n",
        "        pass #plt.colorbar(cbar_source)\n",
        "      if len(colorbar_sources) >= 1:\n",
        "        plt.show()\n",
        "      colorbar_sources = []\n",
        "\n",
        "\n",
        "print(gt.shape)\n",
        "show_multi_segmentation(gt)\n",
        "plt.show()\n",
        "\n",
        "print(\"=================== PREDICTION ====================\")\n",
        "\n",
        "print(full_dec_pred.shape)\n",
        "threshold = 0.01\n",
        "show_multi_segmentation(np.array(full_dec_pred >= threshold, dtype=SEG_DTYPE))\n",
        "plt.show()\n",
        "\n",
        "print(loss_func_single(gt, gt))\n",
        "print(loss_func_single(gt, full_dec_pred))\n"
      ],
      "execution_count": 246,
      "outputs": [
        {
          "output_type": "stream",
          "name": "stdout",
          "text": [
            "(40, 256, 256)\n",
            "Purples <- potatoes-steamed\n"
          ]
        },
        {
          "output_type": "display_data",
          "data": {
            "image/png": "[encoded data removed]",
            "text/plain": [
              "<Figure size 432x288 with 2 Axes>"
            ]
          },
          "metadata": {
            "needs_background": "light"
          }
        },
        {
          "output_type": "stream",
          "name": "stdout",
          "text": [
            "Purples <- egg\n"
          ]
        },
        {
          "output_type": "display_data",
          "data": {
            "image/png": "[encoded data removed]",
            "text/plain": [
              "<Figure size 432x288 with 2 Axes>"
            ]
          },
          "metadata": {
            "needs_background": "light"
          }
        },
        {
          "output_type": "stream",
          "name": "stdout",
          "text": [
            "=================== PREDICTION ====================\n",
            "torch.Size([40, 256, 256])\n",
            "Purples <- potatoes-steamed\n"
          ]
        },
        {
          "output_type": "display_data",
          "data": {
            "image/png": "[encoded data removed]",
            "text/plain": [
              "<Figure size 432x288 with 2 Axes>"
            ]
          },
          "metadata": {
            "needs_background": "light"
          }
        },
        {
          "output_type": "stream",
          "name": "stdout",
          "text": [
            "Purples <- egg\n"
          ]
        },
        {
          "output_type": "display_data",
          "data": {
            "image/png": "[encoded data removed]",
            "text/plain": [
              "<Figure size 432x288 with 2 Axes>"
            ]
          },
          "metadata": {
            "needs_background": "light"
          }
        },
        {
          "output_type": "stream",
          "name": "stdout",
          "text": [
            "Blues <- mixed-salad-chopped-without-sauce\n"
          ]
        },
        {
          "output_type": "display_data",
          "data": {
            "image/png": "[encoded data removed]",
            "text/plain": [
              "<Figure size 432x288 with 2 Axes>"
            ]
          },
          "metadata": {
            "needs_background": "light"
          }
        },
        {
          "output_type": "stream",
          "name": "stdout",
          "text": [
            "float32\n",
            "tensor(0.6909)\n",
            "float32\n",
            "tensor(0.6990)\n"
          ]
        },
        {
          "output_type": "stream",
          "name": "stderr",
          "text": [
            "/usr/local/lib/python3.7/dist-packages/ipykernel_launcher.py:46: UserWarning: To copy construct from a tensor, it is recommended to use sourceTensor.clone().detach() or sourceTensor.clone().detach().requires_grad_(True), rather than torch.tensor(sourceTensor).\n"
          ]
        }
      ]
    },
    {
      "cell_type": "markdown",
      "metadata": {
        "id": "Ht-gFR2KbhjX"
      },
      "source": [
        "# Initialize detectron2"
      ]
    },
    {
      "cell_type": "code",
      "metadata": {
        "id": "hFhNKYKLXiYG"
      },
      "source": [
        "_ = setup_logger()\n",
        "\n",
        "register_coco_instances(DatasetLabels.TRAIN, {}, Paths.TRAIN_ANNOTATIONS, Paths.TRAIN_IMAGES_DIR)\n",
        "register_coco_instances(DatasetLabels.VAL, {}, Paths.VAL_ANNOTATIONS, Paths.VAL_IMAGES_DIR)"
      ],
      "execution_count": null,
      "outputs": []
    },
    {
      "cell_type": "markdown",
      "metadata": {
        "id": "BEn4diGaA_ph"
      },
      "source": [
        "# Build your Model 🏭\n",
        "\n",
        "We will use Mask R-CNN to generate the segmentation masks for the food items 🌯"
      ]
    },
    {
      "cell_type": "markdown",
      "metadata": {
        "id": "gYqXect1M4Jz"
      },
      "source": [
        "## Configure detectron2\n",
        "\n",
        "Detectron2 has a variety of Instance Segmentation Models. We will use the zoo model with Mask RCNN + ResNet 50. If you want to try other models, you can find them [here]((https://github.com/facebookresearch/detectron2)."
      ]
    },
    {
      "cell_type": "code",
      "metadata": {
        "id": "X_q2fu8wXikF"
      },
      "source": [
        "cfg = get_cfg()\n",
        "cfg.merge_from_file(model_zoo.get_config_file(\"COCO-InstanceSegmentation/mask_rcnn_R_50_FPN_3x.yaml\"))\n",
        "\n",
        "cfg.DATASETS.TRAIN = (DatasetLabels.TRAIN,)\n",
        "cfg.DATASETS.TEST = ()\n",
        "cfg.DATALOADER.NUM_WORKERS = 2\n",
        "cfg.MODEL.ROI_HEADS.NUM_CLASSES = 273  # Number of output classes\n",
        "\n",
        "cfg.OUTPUT_DIR = \"outputs\"\n",
        "os.makedirs(cfg.OUTPUT_DIR, exist_ok=True)"
      ],
      "execution_count": null,
      "outputs": []
    },
    {
      "cell_type": "markdown",
      "metadata": {
        "id": "OzaHmc0IPAIZ"
      },
      "source": [
        "## Load the pre-trained weights "
      ]
    },
    {
      "cell_type": "code",
      "metadata": {
        "id": "FWmZ6VySPC14"
      },
      "source": [
        "cfg.MODEL.WEIGHTS = model_zoo.get_checkpoint_url(\"COCO-InstanceSegmentation/mask_rcnn_R_50_FPN_3x.yaml\")\n",
        "cfg.SOLVER.IMS_PER_BATCH = 2"
      ],
      "execution_count": null,
      "outputs": []
    },
    {
      "cell_type": "markdown",
      "metadata": {
        "id": "wg5Ra2qzO5YV"
      },
      "source": [
        "## Hyperparameters"
      ]
    },
    {
      "cell_type": "code",
      "metadata": {
        "id": "fj5HPBMVO-I3"
      },
      "source": [
        "cfg.SOLVER.BASE_LR = 0.00025  # Learning Rate\n",
        "cfg.SOLVER.MAX_ITER = 20000  # MAx Iterations\n",
        "cfg.MODEL.ROI_HEADS.BATCH_SIZE_PER_IMAGE = 128  # Batch Size"
      ],
      "execution_count": null,
      "outputs": []
    },
    {
      "cell_type": "markdown",
      "metadata": {
        "id": "EER82dGmQGS9"
      },
      "source": [
        "# Train the model 🚂\n",
        "\n",
        "We will setup tensorboard to check the performance of the model while it is training."
      ]
    },
    {
      "cell_type": "markdown",
      "metadata": {
        "id": "XMMmjhlO62Pj"
      },
      "source": [
        "## Setting up Tensorboard"
      ]
    },
    {
      "cell_type": "code",
      "metadata": {
        "id": "kMOcJUcmfQI8"
      },
      "source": [
        "%load_ext tensorboard\n",
        "%tensorboard --logdir outputs"
      ],
      "execution_count": null,
      "outputs": []
    },
    {
      "cell_type": "markdown",
      "metadata": {
        "id": "6E_Np0qn64uM"
      },
      "source": [
        "## Train the Model"
      ]
    },
    {
      "cell_type": "code",
      "metadata": {
        "id": "ZS5IZOx5XjDm"
      },
      "source": [
        "trainer = DefaultTrainer(cfg) \n",
        "trainer.resume_or_load(resume=False)\n",
        "trainer.train()"
      ],
      "execution_count": null,
      "outputs": []
    },
    {
      "cell_type": "markdown",
      "metadata": {
        "id": "6GBGSt63QZf1"
      },
      "source": [
        "# Evaluating the model 🧪\n",
        "\n",
        "We will check the performance of our model on the validation dataset."
      ]
    },
    {
      "cell_type": "code",
      "metadata": {
        "id": "BC0EzphvkslK"
      },
      "source": [
        "cfg.MODEL.WEIGHTS = os.path.join(cfg.OUTPUT_DIR, \"model_final.pth\")\n",
        "cfg.MODEL.ROI_HEADS.SCORE_THRESH_TEST = 0.5   # set the testing threshold for this model\n",
        "cfg.DATASETS.TEST = (DatasetLabels.VAL, )\n",
        "predictor = DefaultPredictor(cfg)"
      ],
      "execution_count": null,
      "outputs": []
    },
    {
      "cell_type": "markdown",
      "metadata": {
        "id": "n5VkmUr1Qlyj"
      },
      "source": [
        "## Generate predictions on validation data "
      ]
    },
    {
      "cell_type": "code",
      "metadata": {
        "id": "mrfk7SynXjbV"
      },
      "source": [
        "evaluator = COCOEvaluator(DatasetLabels.VAL, cfg, False, output_dir=cfg.OUTPUT_DIR)\n",
        "data_loader = build_detection_test_loader(cfg, DatasetLabels.VAL)\n",
        "results = inference_on_dataset(predictor.model, data_loader, evaluator)"
      ],
      "execution_count": null,
      "outputs": []
    },
    {
      "cell_type": "markdown",
      "metadata": {
        "id": "XNb_H5L-xX6d"
      },
      "source": [
        "## Visualizing the results 👓\n",
        "\n",
        "Numbers are good, but visualizations are better!"
      ]
    },
    {
      "cell_type": "code",
      "metadata": {
        "id": "6Gr_8OPtfyja"
      },
      "source": [
        "metadata = MetadataCatalog.get(DatasetLabels.VAL)\n",
        "\n",
        "# Load the training annotations if not loaded\n",
        "if not validation_annotations:\n",
        "  with open(Paths.VAL_ANNOTATIONS) as json_file:\n",
        "      annotations = json.load(json_file)"
      ],
      "execution_count": null,
      "outputs": []
    },
    {
      "cell_type": "markdown",
      "metadata": {
        "id": "9eXHZzn0S4Dp"
      },
      "source": [
        "## Check the predictions\n",
        "\n",
        "**Note:** If you are not able to see segmentation masks on the images, that generally means that the model didn't predict a mask for that image. You can verify this by doing\n",
        "\n",
        "```python\n",
        "predictions = predictor(img)\n",
        "print(predictions)\n",
        "```"
      ]
    },
    {
      "cell_type": "code",
      "metadata": {
        "id": "Q1XMJcWLS7rX"
      },
      "source": [
        "%matplotlib inline\n",
        "import matplotlib.pyplot as plt\n",
        "plt.rcParams['figure.dpi'] = 180\n",
        "\n",
        "\n",
        "# Visualize some random images\n",
        "for i in range(8):\n",
        "  image_filename = np.random.choice(validation_annotations.get(\"images\")).get(\"file_name\")\n",
        "  image_filename = os.path.join(Paths.VAL_IMAGES_DIR, image_filename)\n",
        "\n",
        "  img = cv2.imread(image_filename)\n",
        "  predictions = predictor(img)\n",
        "\n",
        "  v = Visualizer(img[:, :, ::-1],\n",
        "    metadata=metadata, \n",
        "    scale=0.5, \n",
        "    # instance_mode=ColorMode.IMAGE_BW\n",
        "  )\n",
        "  annotated_image = v.draw_instance_predictions(predictions[\"instances\"].to(\"cpu\"))\n",
        "\n",
        "  plt.subplot(2, 4, i+1)\n",
        "  plt.axis('off')\n",
        "  plt.imshow(annotated_image.get_image())"
      ],
      "execution_count": null,
      "outputs": []
    },
    {
      "cell_type": "markdown",
      "metadata": {
        "id": "tFAos6c6DGcx"
      },
      "source": [
        "# A note on class ID mappings\n",
        "\n",
        "Here is how the category object looks like\n",
        "\n",
        "```json\n",
        "{\n",
        "  \"id\": 2578,\n",
        "  \"name\": \"water\",\n",
        "  \"name_readable\": \"Water\",\n",
        "  \"supercategory\": \"food\"\n",
        "}\n",
        "```\n",
        "\n",
        "Detectron2 usually maps the category IDs to contiguous numbers. For example, consider the following categories,\n",
        "\n",
        "```json\n",
        "[\n",
        "  {\n",
        "    \"id\": 2578,\n",
        "    \"name\": \"water\",\n",
        "    \"name_readable\": \"Water\",\n",
        "    \"supercategory\": \"food\"\n",
        "  },\n",
        "  {\n",
        "    \"id\": 1157,\n",
        "    \"name\": \"pear\",\n",
        "    \"name_readable\": \"Pear\",\n",
        "    \"supercategory\": \"food\"\n",
        "  },\n",
        "  {\n",
        "    \"id\": 2022,\n",
        "    \"name\": \"egg\",\n",
        "    \"name_readable\": \"Egg\",\n",
        "    \"supercategory\": \"food\"\n",
        "  }\n",
        "]\n",
        "```\n",
        "\n",
        "Detectron internally maps these categories to something like\n",
        "\n",
        "```json\n",
        "{\n",
        "  0: 2578, # detectron_id: actual_class_id\n",
        "  1: 1157,\n",
        "  2: 2022\n",
        "}\n",
        "```\n",
        "\n",
        "So, when your model detects water, the prediction class ID that your model returns will be `0` and **not** `2578` . You should make sure to map these detectron IDs to their original actual class IDs for your submission to get scored properly.\n",
        "\n",
        "Here's how you can get this mapping."
      ]
    },
    {
      "cell_type": "code",
      "metadata": {
        "id": "O98OLrwV7IPO",
        "colab": {
          "base_uri": "https://localhost:8080/"
        },
        "outputId": "09d28337-fb76-4ef8-8823-8ace13626a8f"
      },
      "source": [
        "coco_api = COCO(Paths.TRAIN_ANNOTATIONS)\n",
        "\n",
        "category_ids = sorted(coco_api.getCatIds())\n",
        "categories = coco_api.loadCats(category_ids)\n",
        "\n",
        "class_to_category = { int(class_id): int(category_id) for class_id, category_id in enumerate(category_ids) }\n",
        "\n",
        "with open(\"class_to_category.json\", \"w\") as fp:\n",
        "  json.dump(class_to_category, fp)"
      ],
      "execution_count": null,
      "outputs": [
        {
          "output_type": "stream",
          "text": [
            "loading annotations into memory...\n",
            "Done (t=2.93s)\n",
            "creating index...\n",
            "index created!\n"
          ],
          "name": "stdout"
        }
      ]
    },
    {
      "cell_type": "markdown",
      "metadata": {
        "id": "7fThCV_4uAm4"
      },
      "source": [
        "# Ready? Submit to AIcrowd 🚀\n",
        "\n",
        "Now you can submit the trained model to AIcrowd!"
      ]
    },
    {
      "cell_type": "markdown",
      "metadata": {
        "id": "kcaSuCpiMVvb"
      },
      "source": [
        "## Submission configuration ⚙️"
      ]
    },
    {
      "cell_type": "code",
      "metadata": {
        "id": "OEPtkV57KC54"
      },
      "source": [
        "aicrowd_submission = {\n",
        "    \"author\": \"<your name>\",\n",
        "    \"username\": \"<your aicrowd username>\",\n",
        "    \"description\": \"initial submission with detectron\",\n",
        "    \"debug\": False,\n",
        "    \"model_path\": \"outputs/model_final.pth\",\n",
        "    \"model_type\": \"model_zoo\",\n",
        "    \"model_config_file\": \"COCO-InstanceSegmentation/mask_rcnn_R_50_FPN_3x.yaml\",\n",
        "    \"detectron_model_config\": {\n",
        "      \"ROI_HEADS\": {\n",
        "        \"SCORE_THRESH_TEST\": 0.5,\n",
        "        \"NUM_CLASSES\": 273\n",
        "      }\n",
        "    }\n",
        "}\n",
        "\n",
        "aicrowd_submission[\"description\"] = aicrowd_submission[\"description\"].replace(\" \", \"-\")\n",
        "with open(\"aicrowd.json\", \"w\") as fp:\n",
        "  json.dump(aicrowd_submission, fp)"
      ],
      "execution_count": null,
      "outputs": []
    },
    {
      "cell_type": "markdown",
      "metadata": {
        "id": "3PKKwhlkKCfc"
      },
      "source": [
        "## Submit to AIcrowd\n",
        "\n",
        "**Note:** We will create an SSH key on your google drive. This key will be used to identify you on gitlab.aicrowd.com."
      ]
    },
    {
      "cell_type": "code",
      "metadata": {
        "id": "NFB2X_nkrGU5"
      },
      "source": [
        "!bash <(curl -sL https://gitlab.aicrowd.com/jyotish/food-recognition-challenge-detectron2-baseline/raw/master/utils/submit-colab.sh)"
      ],
      "execution_count": null,
      "outputs": []
    },
    {
      "cell_type": "markdown",
      "metadata": {
        "id": "CrEBfu7rPHir"
      },
      "source": [
        "# 📎 Important Links\n",
        "\n",
        "* 💪 Challenge Page: https://www.aicrowd.com/challenges/food-recognition-challenge\n",
        "* 🗣 Discussion Forum: https://discourse.aicrowd.com/c/food-recognition-challenge\n",
        "* 🏆 Leaderboard: https://www.aicrowd.com/challenges/food-recognition-challenge/leaderboards  "
      ]
    }
  ]
}