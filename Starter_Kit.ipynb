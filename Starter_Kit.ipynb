{
  "nbformat": 4,
  "nbformat_minor": 0,
  "metadata": {
    "colab": {
      "name": "Detectron2 Starter Kit",
      "provenance": [],
      "collapsed_sections": [],
      "include_colab_link": true
    },
    "kernelspec": {
      "name": "python3",
      "display_name": "Python 3"
    },
    "accelerator": "GPU",
    "widgets": {
      "application/vnd.jupyter.widget-state+json": {
        "d9180b4ee13c434a9bfbd41a056db94d": {
          "model_module": "@jupyter-widgets/controls",
          "model_name": "HBoxModel",
          "model_module_version": "1.5.0",
          "state": {
            "_view_name": "HBoxView",
            "_dom_classes": [],
            "_model_name": "HBoxModel",
            "_view_module": "@jupyter-widgets/controls",
            "_model_module_version": "1.5.0",
            "_view_count": null,
            "_view_module_version": "1.5.0",
            "box_style": "",
            "layout": "IPY_MODEL_b832d0085b8d4bb98b184d92c4da86af",
            "_model_module": "@jupyter-widgets/controls",
            "children": [
              "IPY_MODEL_f8622240934048f4bb157aabea088c99",
              "IPY_MODEL_05c7f7627c3d4775b8227a5b87185f41",
              "IPY_MODEL_576cfbe285bc476ebfbb0c56c98cd75f"
            ]
          }
        },
        "b832d0085b8d4bb98b184d92c4da86af": {
          "model_module": "@jupyter-widgets/base",
          "model_name": "LayoutModel",
          "model_module_version": "1.2.0",
          "state": {
            "_view_name": "LayoutView",
            "grid_template_rows": null,
            "right": null,
            "justify_content": null,
            "_view_module": "@jupyter-widgets/base",
            "overflow": null,
            "_model_module_version": "1.2.0",
            "_view_count": null,
            "flex_flow": null,
            "width": null,
            "min_width": null,
            "border": null,
            "align_items": null,
            "bottom": null,
            "_model_module": "@jupyter-widgets/base",
            "top": null,
            "grid_column": null,
            "overflow_y": null,
            "overflow_x": null,
            "grid_auto_flow": null,
            "grid_area": null,
            "grid_template_columns": null,
            "flex": null,
            "_model_name": "LayoutModel",
            "justify_items": null,
            "grid_row": null,
            "max_height": null,
            "align_content": null,
            "visibility": null,
            "align_self": null,
            "height": null,
            "min_height": null,
            "padding": null,
            "grid_auto_rows": null,
            "grid_gap": null,
            "max_width": null,
            "order": null,
            "_view_module_version": "1.2.0",
            "grid_template_areas": null,
            "object_position": null,
            "object_fit": null,
            "grid_auto_columns": null,
            "margin": null,
            "display": null,
            "left": null
          }
        },
        "f8622240934048f4bb157aabea088c99": {
          "model_module": "@jupyter-widgets/controls",
          "model_name": "HTMLModel",
          "model_module_version": "1.5.0",
          "state": {
            "_view_name": "HTMLView",
            "style": "IPY_MODEL_bb5b9be27ce84c67bac3eddad509c821",
            "_dom_classes": [],
            "description": "",
            "_model_name": "HTMLModel",
            "placeholder": "​",
            "_view_module": "@jupyter-widgets/controls",
            "_model_module_version": "1.5.0",
            "value": "100%",
            "_view_count": null,
            "_view_module_version": "1.5.0",
            "description_tooltip": null,
            "_model_module": "@jupyter-widgets/controls",
            "layout": "IPY_MODEL_5fbdb50657124c6d99682d93787cd1e6"
          }
        },
        "05c7f7627c3d4775b8227a5b87185f41": {
          "model_module": "@jupyter-widgets/controls",
          "model_name": "FloatProgressModel",
          "model_module_version": "1.5.0",
          "state": {
            "_view_name": "ProgressView",
            "style": "IPY_MODEL_39e0e2b4d28c48b29310175aa04d8b10",
            "_dom_classes": [],
            "description": "",
            "_model_name": "FloatProgressModel",
            "bar_style": "success",
            "max": 5545,
            "_view_module": "@jupyter-widgets/controls",
            "_model_module_version": "1.5.0",
            "value": 5545,
            "_view_count": null,
            "_view_module_version": "1.5.0",
            "orientation": "horizontal",
            "min": 0,
            "description_tooltip": null,
            "_model_module": "@jupyter-widgets/controls",
            "layout": "IPY_MODEL_57c1680c1486405ea0d132be4b02cd73"
          }
        },
        "576cfbe285bc476ebfbb0c56c98cd75f": {
          "model_module": "@jupyter-widgets/controls",
          "model_name": "HTMLModel",
          "model_module_version": "1.5.0",
          "state": {
            "_view_name": "HTMLView",
            "style": "IPY_MODEL_6d6aac9a78a34fb3a2d90d3344357f27",
            "_dom_classes": [],
            "description": "",
            "_model_name": "HTMLModel",
            "placeholder": "​",
            "_view_module": "@jupyter-widgets/controls",
            "_model_module_version": "1.5.0",
            "value": " 5545/5545 [00:34&lt;00:00, 183.25it/s]",
            "_view_count": null,
            "_view_module_version": "1.5.0",
            "description_tooltip": null,
            "_model_module": "@jupyter-widgets/controls",
            "layout": "IPY_MODEL_7dfbe4dbb8554c8aaa64ebdbdf62ea52"
          }
        },
        "bb5b9be27ce84c67bac3eddad509c821": {
          "model_module": "@jupyter-widgets/controls",
          "model_name": "DescriptionStyleModel",
          "model_module_version": "1.5.0",
          "state": {
            "_view_name": "StyleView",
            "_model_name": "DescriptionStyleModel",
            "description_width": "",
            "_view_module": "@jupyter-widgets/base",
            "_model_module_version": "1.5.0",
            "_view_count": null,
            "_view_module_version": "1.2.0",
            "_model_module": "@jupyter-widgets/controls"
          }
        },
        "5fbdb50657124c6d99682d93787cd1e6": {
          "model_module": "@jupyter-widgets/base",
          "model_name": "LayoutModel",
          "model_module_version": "1.2.0",
          "state": {
            "_view_name": "LayoutView",
            "grid_template_rows": null,
            "right": null,
            "justify_content": null,
            "_view_module": "@jupyter-widgets/base",
            "overflow": null,
            "_model_module_version": "1.2.0",
            "_view_count": null,
            "flex_flow": null,
            "width": null,
            "min_width": null,
            "border": null,
            "align_items": null,
            "bottom": null,
            "_model_module": "@jupyter-widgets/base",
            "top": null,
            "grid_column": null,
            "overflow_y": null,
            "overflow_x": null,
            "grid_auto_flow": null,
            "grid_area": null,
            "grid_template_columns": null,
            "flex": null,
            "_model_name": "LayoutModel",
            "justify_items": null,
            "grid_row": null,
            "max_height": null,
            "align_content": null,
            "visibility": null,
            "align_self": null,
            "height": null,
            "min_height": null,
            "padding": null,
            "grid_auto_rows": null,
            "grid_gap": null,
            "max_width": null,
            "order": null,
            "_view_module_version": "1.2.0",
            "grid_template_areas": null,
            "object_position": null,
            "object_fit": null,
            "grid_auto_columns": null,
            "margin": null,
            "display": null,
            "left": null
          }
        },
        "39e0e2b4d28c48b29310175aa04d8b10": {
          "model_module": "@jupyter-widgets/controls",
          "model_name": "ProgressStyleModel",
          "model_module_version": "1.5.0",
          "state": {
            "_view_name": "StyleView",
            "_model_name": "ProgressStyleModel",
            "description_width": "",
            "_view_module": "@jupyter-widgets/base",
            "_model_module_version": "1.5.0",
            "_view_count": null,
            "_view_module_version": "1.2.0",
            "bar_color": null,
            "_model_module": "@jupyter-widgets/controls"
          }
        },
        "57c1680c1486405ea0d132be4b02cd73": {
          "model_module": "@jupyter-widgets/base",
          "model_name": "LayoutModel",
          "model_module_version": "1.2.0",
          "state": {
            "_view_name": "LayoutView",
            "grid_template_rows": null,
            "right": null,
            "justify_content": null,
            "_view_module": "@jupyter-widgets/base",
            "overflow": null,
            "_model_module_version": "1.2.0",
            "_view_count": null,
            "flex_flow": null,
            "width": null,
            "min_width": null,
            "border": null,
            "align_items": null,
            "bottom": null,
            "_model_module": "@jupyter-widgets/base",
            "top": null,
            "grid_column": null,
            "overflow_y": null,
            "overflow_x": null,
            "grid_auto_flow": null,
            "grid_area": null,
            "grid_template_columns": null,
            "flex": null,
            "_model_name": "LayoutModel",
            "justify_items": null,
            "grid_row": null,
            "max_height": null,
            "align_content": null,
            "visibility": null,
            "align_self": null,
            "height": null,
            "min_height": null,
            "padding": null,
            "grid_auto_rows": null,
            "grid_gap": null,
            "max_width": null,
            "order": null,
            "_view_module_version": "1.2.0",
            "grid_template_areas": null,
            "object_position": null,
            "object_fit": null,
            "grid_auto_columns": null,
            "margin": null,
            "display": null,
            "left": null
          }
        },
        "6d6aac9a78a34fb3a2d90d3344357f27": {
          "model_module": "@jupyter-widgets/controls",
          "model_name": "DescriptionStyleModel",
          "model_module_version": "1.5.0",
          "state": {
            "_view_name": "StyleView",
            "_model_name": "DescriptionStyleModel",
            "description_width": "",
            "_view_module": "@jupyter-widgets/base",
            "_model_module_version": "1.5.0",
            "_view_count": null,
            "_view_module_version": "1.2.0",
            "_model_module": "@jupyter-widgets/controls"
          }
        },
        "7dfbe4dbb8554c8aaa64ebdbdf62ea52": {
          "model_module": "@jupyter-widgets/base",
          "model_name": "LayoutModel",
          "model_module_version": "1.2.0",
          "state": {
            "_view_name": "LayoutView",
            "grid_template_rows": null,
            "right": null,
            "justify_content": null,
            "_view_module": "@jupyter-widgets/base",
            "overflow": null,
            "_model_module_version": "1.2.0",
            "_view_count": null,
            "flex_flow": null,
            "width": null,
            "min_width": null,
            "border": null,
            "align_items": null,
            "bottom": null,
            "_model_module": "@jupyter-widgets/base",
            "top": null,
            "grid_column": null,
            "overflow_y": null,
            "overflow_x": null,
            "grid_auto_flow": null,
            "grid_area": null,
            "grid_template_columns": null,
            "flex": null,
            "_model_name": "LayoutModel",
            "justify_items": null,
            "grid_row": null,
            "max_height": null,
            "align_content": null,
            "visibility": null,
            "align_self": null,
            "height": null,
            "min_height": null,
            "padding": null,
            "grid_auto_rows": null,
            "grid_gap": null,
            "max_width": null,
            "order": null,
            "_view_module_version": "1.2.0",
            "grid_template_areas": null,
            "object_position": null,
            "object_fit": null,
            "grid_auto_columns": null,
            "margin": null,
            "display": null,
            "left": null
          }
        },
        "21cbf93f19ef4635b40af01ce7561344": {
          "model_module": "@jupyter-widgets/controls",
          "model_name": "HBoxModel",
          "model_module_version": "1.5.0",
          "state": {
            "_view_name": "HBoxView",
            "_dom_classes": [],
            "_model_name": "HBoxModel",
            "_view_module": "@jupyter-widgets/controls",
            "_model_module_version": "1.5.0",
            "_view_count": null,
            "_view_module_version": "1.5.0",
            "box_style": "",
            "layout": "IPY_MODEL_17f7b3ddfced4615b88d0dd7f81440af",
            "_model_module": "@jupyter-widgets/controls",
            "children": [
              "IPY_MODEL_122bbd1a5c4548529291802ec8c269ae",
              "IPY_MODEL_3533f70054c5429ab9c5c11d0cbc9fa8",
              "IPY_MODEL_d9a921024ff74ef4af9fb1c6f007da3e"
            ]
          }
        },
        "17f7b3ddfced4615b88d0dd7f81440af": {
          "model_module": "@jupyter-widgets/base",
          "model_name": "LayoutModel",
          "model_module_version": "1.2.0",
          "state": {
            "_view_name": "LayoutView",
            "grid_template_rows": null,
            "right": null,
            "justify_content": null,
            "_view_module": "@jupyter-widgets/base",
            "overflow": null,
            "_model_module_version": "1.2.0",
            "_view_count": null,
            "flex_flow": null,
            "width": null,
            "min_width": null,
            "border": null,
            "align_items": null,
            "bottom": null,
            "_model_module": "@jupyter-widgets/base",
            "top": null,
            "grid_column": null,
            "overflow_y": null,
            "overflow_x": null,
            "grid_auto_flow": null,
            "grid_area": null,
            "grid_template_columns": null,
            "flex": null,
            "_model_name": "LayoutModel",
            "justify_items": null,
            "grid_row": null,
            "max_height": null,
            "align_content": null,
            "visibility": null,
            "align_self": null,
            "height": null,
            "min_height": null,
            "padding": null,
            "grid_auto_rows": null,
            "grid_gap": null,
            "max_width": null,
            "order": null,
            "_view_module_version": "1.2.0",
            "grid_template_areas": null,
            "object_position": null,
            "object_fit": null,
            "grid_auto_columns": null,
            "margin": null,
            "display": null,
            "left": null
          }
        },
        "122bbd1a5c4548529291802ec8c269ae": {
          "model_module": "@jupyter-widgets/controls",
          "model_name": "HTMLModel",
          "model_module_version": "1.5.0",
          "state": {
            "_view_name": "HTMLView",
            "style": "IPY_MODEL_d63dea1fc8424b5a894de975808bbff7",
            "_dom_classes": [],
            "description": "",
            "_model_name": "HTMLModel",
            "placeholder": "​",
            "_view_module": "@jupyter-widgets/controls",
            "_model_module_version": "1.5.0",
            "value": "100%",
            "_view_count": null,
            "_view_module_version": "1.5.0",
            "description_tooltip": null,
            "_model_module": "@jupyter-widgets/controls",
            "layout": "IPY_MODEL_42193fb6a94c4bfba80343e30ce20ac3"
          }
        },
        "3533f70054c5429ab9c5c11d0cbc9fa8": {
          "model_module": "@jupyter-widgets/controls",
          "model_name": "FloatProgressModel",
          "model_module_version": "1.5.0",
          "state": {
            "_view_name": "ProgressView",
            "style": "IPY_MODEL_a3bccaaa353f4eb7ade3ea2f5b403e8f",
            "_dom_classes": [],
            "description": "",
            "_model_name": "FloatProgressModel",
            "bar_style": "success",
            "max": 291,
            "_view_module": "@jupyter-widgets/controls",
            "_model_module_version": "1.5.0",
            "value": 291,
            "_view_count": null,
            "_view_module_version": "1.5.0",
            "orientation": "horizontal",
            "min": 0,
            "description_tooltip": null,
            "_model_module": "@jupyter-widgets/controls",
            "layout": "IPY_MODEL_6d71fa295830476d8630ac15f0296b58"
          }
        },
        "d9a921024ff74ef4af9fb1c6f007da3e": {
          "model_module": "@jupyter-widgets/controls",
          "model_name": "HTMLModel",
          "model_module_version": "1.5.0",
          "state": {
            "_view_name": "HTMLView",
            "style": "IPY_MODEL_0bc0fad40d664ee39b1d99d8f992b5e6",
            "_dom_classes": [],
            "description": "",
            "_model_name": "HTMLModel",
            "placeholder": "​",
            "_view_module": "@jupyter-widgets/controls",
            "_model_module_version": "1.5.0",
            "value": " 291/291 [00:01&lt;00:00, 171.34it/s]",
            "_view_count": null,
            "_view_module_version": "1.5.0",
            "description_tooltip": null,
            "_model_module": "@jupyter-widgets/controls",
            "layout": "IPY_MODEL_7727cc1fc7b94bc0a65b5f18dc2b3bdb"
          }
        },
        "d63dea1fc8424b5a894de975808bbff7": {
          "model_module": "@jupyter-widgets/controls",
          "model_name": "DescriptionStyleModel",
          "model_module_version": "1.5.0",
          "state": {
            "_view_name": "StyleView",
            "_model_name": "DescriptionStyleModel",
            "description_width": "",
            "_view_module": "@jupyter-widgets/base",
            "_model_module_version": "1.5.0",
            "_view_count": null,
            "_view_module_version": "1.2.0",
            "_model_module": "@jupyter-widgets/controls"
          }
        },
        "42193fb6a94c4bfba80343e30ce20ac3": {
          "model_module": "@jupyter-widgets/base",
          "model_name": "LayoutModel",
          "model_module_version": "1.2.0",
          "state": {
            "_view_name": "LayoutView",
            "grid_template_rows": null,
            "right": null,
            "justify_content": null,
            "_view_module": "@jupyter-widgets/base",
            "overflow": null,
            "_model_module_version": "1.2.0",
            "_view_count": null,
            "flex_flow": null,
            "width": null,
            "min_width": null,
            "border": null,
            "align_items": null,
            "bottom": null,
            "_model_module": "@jupyter-widgets/base",
            "top": null,
            "grid_column": null,
            "overflow_y": null,
            "overflow_x": null,
            "grid_auto_flow": null,
            "grid_area": null,
            "grid_template_columns": null,
            "flex": null,
            "_model_name": "LayoutModel",
            "justify_items": null,
            "grid_row": null,
            "max_height": null,
            "align_content": null,
            "visibility": null,
            "align_self": null,
            "height": null,
            "min_height": null,
            "padding": null,
            "grid_auto_rows": null,
            "grid_gap": null,
            "max_width": null,
            "order": null,
            "_view_module_version": "1.2.0",
            "grid_template_areas": null,
            "object_position": null,
            "object_fit": null,
            "grid_auto_columns": null,
            "margin": null,
            "display": null,
            "left": null
          }
        },
        "a3bccaaa353f4eb7ade3ea2f5b403e8f": {
          "model_module": "@jupyter-widgets/controls",
          "model_name": "ProgressStyleModel",
          "model_module_version": "1.5.0",
          "state": {
            "_view_name": "StyleView",
            "_model_name": "ProgressStyleModel",
            "description_width": "",
            "_view_module": "@jupyter-widgets/base",
            "_model_module_version": "1.5.0",
            "_view_count": null,
            "_view_module_version": "1.2.0",
            "bar_color": null,
            "_model_module": "@jupyter-widgets/controls"
          }
        },
        "6d71fa295830476d8630ac15f0296b58": {
          "model_module": "@jupyter-widgets/base",
          "model_name": "LayoutModel",
          "model_module_version": "1.2.0",
          "state": {
            "_view_name": "LayoutView",
            "grid_template_rows": null,
            "right": null,
            "justify_content": null,
            "_view_module": "@jupyter-widgets/base",
            "overflow": null,
            "_model_module_version": "1.2.0",
            "_view_count": null,
            "flex_flow": null,
            "width": null,
            "min_width": null,
            "border": null,
            "align_items": null,
            "bottom": null,
            "_model_module": "@jupyter-widgets/base",
            "top": null,
            "grid_column": null,
            "overflow_y": null,
            "overflow_x": null,
            "grid_auto_flow": null,
            "grid_area": null,
            "grid_template_columns": null,
            "flex": null,
            "_model_name": "LayoutModel",
            "justify_items": null,
            "grid_row": null,
            "max_height": null,
            "align_content": null,
            "visibility": null,
            "align_self": null,
            "height": null,
            "min_height": null,
            "padding": null,
            "grid_auto_rows": null,
            "grid_gap": null,
            "max_width": null,
            "order": null,
            "_view_module_version": "1.2.0",
            "grid_template_areas": null,
            "object_position": null,
            "object_fit": null,
            "grid_auto_columns": null,
            "margin": null,
            "display": null,
            "left": null
          }
        },
        "0bc0fad40d664ee39b1d99d8f992b5e6": {
          "model_module": "@jupyter-widgets/controls",
          "model_name": "DescriptionStyleModel",
          "model_module_version": "1.5.0",
          "state": {
            "_view_name": "StyleView",
            "_model_name": "DescriptionStyleModel",
            "description_width": "",
            "_view_module": "@jupyter-widgets/base",
            "_model_module_version": "1.5.0",
            "_view_count": null,
            "_view_module_version": "1.2.0",
            "_model_module": "@jupyter-widgets/controls"
          }
        },
        "7727cc1fc7b94bc0a65b5f18dc2b3bdb": {
          "model_module": "@jupyter-widgets/base",
          "model_name": "LayoutModel",
          "model_module_version": "1.2.0",
          "state": {
            "_view_name": "LayoutView",
            "grid_template_rows": null,
            "right": null,
            "justify_content": null,
            "_view_module": "@jupyter-widgets/base",
            "overflow": null,
            "_model_module_version": "1.2.0",
            "_view_count": null,
            "flex_flow": null,
            "width": null,
            "min_width": null,
            "border": null,
            "align_items": null,
            "bottom": null,
            "_model_module": "@jupyter-widgets/base",
            "top": null,
            "grid_column": null,
            "overflow_y": null,
            "overflow_x": null,
            "grid_auto_flow": null,
            "grid_area": null,
            "grid_template_columns": null,
            "flex": null,
            "_model_name": "LayoutModel",
            "justify_items": null,
            "grid_row": null,
            "max_height": null,
            "align_content": null,
            "visibility": null,
            "align_self": null,
            "height": null,
            "min_height": null,
            "padding": null,
            "grid_auto_rows": null,
            "grid_gap": null,
            "max_width": null,
            "order": null,
            "_view_module_version": "1.2.0",
            "grid_template_areas": null,
            "object_position": null,
            "object_fit": null,
            "grid_auto_columns": null,
            "margin": null,
            "display": null,
            "left": null
          }
        },
        "c97d5728b57a40aebd1fbf6d1d52ae9c": {
          "model_module": "@jupyter-widgets/controls",
          "model_name": "HBoxModel",
          "model_module_version": "1.5.0",
          "state": {
            "_view_name": "HBoxView",
            "_dom_classes": [],
            "_model_name": "HBoxModel",
            "_view_module": "@jupyter-widgets/controls",
            "_model_module_version": "1.5.0",
            "_view_count": null,
            "_view_module_version": "1.5.0",
            "box_style": "",
            "layout": "IPY_MODEL_7a98980b4df04c3d93681bdf91d29d9b",
            "_model_module": "@jupyter-widgets/controls",
            "children": [
              "IPY_MODEL_7095eb2d3d9a461c99762a1692bb0057",
              "IPY_MODEL_fc411851d01e41a084f670667cd0cd9f",
              "IPY_MODEL_fcc2d57378ea44898ed87af26132a101"
            ]
          }
        },
        "7a98980b4df04c3d93681bdf91d29d9b": {
          "model_module": "@jupyter-widgets/base",
          "model_name": "LayoutModel",
          "model_module_version": "1.2.0",
          "state": {
            "_view_name": "LayoutView",
            "grid_template_rows": null,
            "right": null,
            "justify_content": null,
            "_view_module": "@jupyter-widgets/base",
            "overflow": null,
            "_model_module_version": "1.2.0",
            "_view_count": null,
            "flex_flow": null,
            "width": null,
            "min_width": null,
            "border": null,
            "align_items": null,
            "bottom": null,
            "_model_module": "@jupyter-widgets/base",
            "top": null,
            "grid_column": null,
            "overflow_y": null,
            "overflow_x": null,
            "grid_auto_flow": null,
            "grid_area": null,
            "grid_template_columns": null,
            "flex": null,
            "_model_name": "LayoutModel",
            "justify_items": null,
            "grid_row": null,
            "max_height": null,
            "align_content": null,
            "visibility": null,
            "align_self": null,
            "height": null,
            "min_height": null,
            "padding": null,
            "grid_auto_rows": null,
            "grid_gap": null,
            "max_width": null,
            "order": null,
            "_view_module_version": "1.2.0",
            "grid_template_areas": null,
            "object_position": null,
            "object_fit": null,
            "grid_auto_columns": null,
            "margin": null,
            "display": null,
            "left": null
          }
        },
        "7095eb2d3d9a461c99762a1692bb0057": {
          "model_module": "@jupyter-widgets/controls",
          "model_name": "HTMLModel",
          "model_module_version": "1.5.0",
          "state": {
            "_view_name": "HTMLView",
            "style": "IPY_MODEL_bd09576d9992474587547bdfd93bd590",
            "_dom_classes": [],
            "description": "",
            "_model_name": "HTMLModel",
            "placeholder": "​",
            "_view_module": "@jupyter-widgets/controls",
            "_model_module_version": "1.5.0",
            "value": "100%",
            "_view_count": null,
            "_view_module_version": "1.5.0",
            "description_tooltip": null,
            "_model_module": "@jupyter-widgets/controls",
            "layout": "IPY_MODEL_3085d1af44384deb8c5f31841fdb4e36"
          }
        },
        "fc411851d01e41a084f670667cd0cd9f": {
          "model_module": "@jupyter-widgets/controls",
          "model_name": "FloatProgressModel",
          "model_module_version": "1.5.0",
          "state": {
            "_view_name": "ProgressView",
            "style": "IPY_MODEL_71e61aab69904bf0910602fe9d43812c",
            "_dom_classes": [],
            "description": "",
            "_model_name": "FloatProgressModel",
            "bar_style": "success",
            "max": 4,
            "_view_module": "@jupyter-widgets/controls",
            "_model_module_version": "1.5.0",
            "value": 4,
            "_view_count": null,
            "_view_module_version": "1.5.0",
            "orientation": "horizontal",
            "min": 0,
            "description_tooltip": null,
            "_model_module": "@jupyter-widgets/controls",
            "layout": "IPY_MODEL_0772a3a506b44202b9c6b86242852018"
          }
        },
        "fcc2d57378ea44898ed87af26132a101": {
          "model_module": "@jupyter-widgets/controls",
          "model_name": "HTMLModel",
          "model_module_version": "1.5.0",
          "state": {
            "_view_name": "HTMLView",
            "style": "IPY_MODEL_121b6f461fec4141a770dddbeb78eb0b",
            "_dom_classes": [],
            "description": "",
            "_model_name": "HTMLModel",
            "placeholder": "​",
            "_view_module": "@jupyter-widgets/controls",
            "_model_module_version": "1.5.0",
            "value": " 4/4 [00:00&lt;00:00, 48.57it/s]",
            "_view_count": null,
            "_view_module_version": "1.5.0",
            "description_tooltip": null,
            "_model_module": "@jupyter-widgets/controls",
            "layout": "IPY_MODEL_ba0dccff629447b998ee32713043475e"
          }
        },
        "bd09576d9992474587547bdfd93bd590": {
          "model_module": "@jupyter-widgets/controls",
          "model_name": "DescriptionStyleModel",
          "model_module_version": "1.5.0",
          "state": {
            "_view_name": "StyleView",
            "_model_name": "DescriptionStyleModel",
            "description_width": "",
            "_view_module": "@jupyter-widgets/base",
            "_model_module_version": "1.5.0",
            "_view_count": null,
            "_view_module_version": "1.2.0",
            "_model_module": "@jupyter-widgets/controls"
          }
        },
        "3085d1af44384deb8c5f31841fdb4e36": {
          "model_module": "@jupyter-widgets/base",
          "model_name": "LayoutModel",
          "model_module_version": "1.2.0",
          "state": {
            "_view_name": "LayoutView",
            "grid_template_rows": null,
            "right": null,
            "justify_content": null,
            "_view_module": "@jupyter-widgets/base",
            "overflow": null,
            "_model_module_version": "1.2.0",
            "_view_count": null,
            "flex_flow": null,
            "width": null,
            "min_width": null,
            "border": null,
            "align_items": null,
            "bottom": null,
            "_model_module": "@jupyter-widgets/base",
            "top": null,
            "grid_column": null,
            "overflow_y": null,
            "overflow_x": null,
            "grid_auto_flow": null,
            "grid_area": null,
            "grid_template_columns": null,
            "flex": null,
            "_model_name": "LayoutModel",
            "justify_items": null,
            "grid_row": null,
            "max_height": null,
            "align_content": null,
            "visibility": null,
            "align_self": null,
            "height": null,
            "min_height": null,
            "padding": null,
            "grid_auto_rows": null,
            "grid_gap": null,
            "max_width": null,
            "order": null,
            "_view_module_version": "1.2.0",
            "grid_template_areas": null,
            "object_position": null,
            "object_fit": null,
            "grid_auto_columns": null,
            "margin": null,
            "display": null,
            "left": null
          }
        },
        "71e61aab69904bf0910602fe9d43812c": {
          "model_module": "@jupyter-widgets/controls",
          "model_name": "ProgressStyleModel",
          "model_module_version": "1.5.0",
          "state": {
            "_view_name": "StyleView",
            "_model_name": "ProgressStyleModel",
            "description_width": "",
            "_view_module": "@jupyter-widgets/base",
            "_model_module_version": "1.5.0",
            "_view_count": null,
            "_view_module_version": "1.2.0",
            "bar_color": null,
            "_model_module": "@jupyter-widgets/controls"
          }
        },
        "0772a3a506b44202b9c6b86242852018": {
          "model_module": "@jupyter-widgets/base",
          "model_name": "LayoutModel",
          "model_module_version": "1.2.0",
          "state": {
            "_view_name": "LayoutView",
            "grid_template_rows": null,
            "right": null,
            "justify_content": null,
            "_view_module": "@jupyter-widgets/base",
            "overflow": null,
            "_model_module_version": "1.2.0",
            "_view_count": null,
            "flex_flow": null,
            "width": null,
            "min_width": null,
            "border": null,
            "align_items": null,
            "bottom": null,
            "_model_module": "@jupyter-widgets/base",
            "top": null,
            "grid_column": null,
            "overflow_y": null,
            "overflow_x": null,
            "grid_auto_flow": null,
            "grid_area": null,
            "grid_template_columns": null,
            "flex": null,
            "_model_name": "LayoutModel",
            "justify_items": null,
            "grid_row": null,
            "max_height": null,
            "align_content": null,
            "visibility": null,
            "align_self": null,
            "height": null,
            "min_height": null,
            "padding": null,
            "grid_auto_rows": null,
            "grid_gap": null,
            "max_width": null,
            "order": null,
            "_view_module_version": "1.2.0",
            "grid_template_areas": null,
            "object_position": null,
            "object_fit": null,
            "grid_auto_columns": null,
            "margin": null,
            "display": null,
            "left": null
          }
        },
        "121b6f461fec4141a770dddbeb78eb0b": {
          "model_module": "@jupyter-widgets/controls",
          "model_name": "DescriptionStyleModel",
          "model_module_version": "1.5.0",
          "state": {
            "_view_name": "StyleView",
            "_model_name": "DescriptionStyleModel",
            "description_width": "",
            "_view_module": "@jupyter-widgets/base",
            "_model_module_version": "1.5.0",
            "_view_count": null,
            "_view_module_version": "1.2.0",
            "_model_module": "@jupyter-widgets/controls"
          }
        },
        "ba0dccff629447b998ee32713043475e": {
          "model_module": "@jupyter-widgets/base",
          "model_name": "LayoutModel",
          "model_module_version": "1.2.0",
          "state": {
            "_view_name": "LayoutView",
            "grid_template_rows": null,
            "right": null,
            "justify_content": null,
            "_view_module": "@jupyter-widgets/base",
            "overflow": null,
            "_model_module_version": "1.2.0",
            "_view_count": null,
            "flex_flow": null,
            "width": null,
            "min_width": null,
            "border": null,
            "align_items": null,
            "bottom": null,
            "_model_module": "@jupyter-widgets/base",
            "top": null,
            "grid_column": null,
            "overflow_y": null,
            "overflow_x": null,
            "grid_auto_flow": null,
            "grid_area": null,
            "grid_template_columns": null,
            "flex": null,
            "_model_name": "LayoutModel",
            "justify_items": null,
            "grid_row": null,
            "max_height": null,
            "align_content": null,
            "visibility": null,
            "align_self": null,
            "height": null,
            "min_height": null,
            "padding": null,
            "grid_auto_rows": null,
            "grid_gap": null,
            "max_width": null,
            "order": null,
            "_view_module_version": "1.2.0",
            "grid_template_areas": null,
            "object_position": null,
            "object_fit": null,
            "grid_auto_columns": null,
            "margin": null,
            "display": null,
            "left": null
          }
        },
        "b35e3b9e86344bbc9fb05bd969b7eb3a": {
          "model_module": "@jupyter-widgets/controls",
          "model_name": "HBoxModel",
          "model_module_version": "1.5.0",
          "state": {
            "_view_name": "HBoxView",
            "_dom_classes": [],
            "_model_name": "HBoxModel",
            "_view_module": "@jupyter-widgets/controls",
            "_model_module_version": "1.5.0",
            "_view_count": null,
            "_view_module_version": "1.5.0",
            "box_style": "",
            "layout": "IPY_MODEL_24da200974eb4a96a3613a10cb6b29a8",
            "_model_module": "@jupyter-widgets/controls",
            "children": [
              "IPY_MODEL_8950c4aebb0348509f529010a0fc1060",
              "IPY_MODEL_9b4233ca8f2248a6a283329cfe165f7d",
              "IPY_MODEL_80aab19732fe4a7597bbfbe4352ba27a"
            ]
          }
        },
        "24da200974eb4a96a3613a10cb6b29a8": {
          "model_module": "@jupyter-widgets/base",
          "model_name": "LayoutModel",
          "model_module_version": "1.2.0",
          "state": {
            "_view_name": "LayoutView",
            "grid_template_rows": null,
            "right": null,
            "justify_content": null,
            "_view_module": "@jupyter-widgets/base",
            "overflow": null,
            "_model_module_version": "1.2.0",
            "_view_count": null,
            "flex_flow": null,
            "width": null,
            "min_width": null,
            "border": null,
            "align_items": null,
            "bottom": null,
            "_model_module": "@jupyter-widgets/base",
            "top": null,
            "grid_column": null,
            "overflow_y": null,
            "overflow_x": null,
            "grid_auto_flow": null,
            "grid_area": null,
            "grid_template_columns": null,
            "flex": null,
            "_model_name": "LayoutModel",
            "justify_items": null,
            "grid_row": null,
            "max_height": null,
            "align_content": null,
            "visibility": null,
            "align_self": null,
            "height": null,
            "min_height": null,
            "padding": null,
            "grid_auto_rows": null,
            "grid_gap": null,
            "max_width": null,
            "order": null,
            "_view_module_version": "1.2.0",
            "grid_template_areas": null,
            "object_position": null,
            "object_fit": null,
            "grid_auto_columns": null,
            "margin": null,
            "display": null,
            "left": null
          }
        },
        "8950c4aebb0348509f529010a0fc1060": {
          "model_module": "@jupyter-widgets/controls",
          "model_name": "HTMLModel",
          "model_module_version": "1.5.0",
          "state": {
            "_view_name": "HTMLView",
            "style": "IPY_MODEL_82d98773e8be425aa9dac3469007a466",
            "_dom_classes": [],
            "description": "",
            "_model_name": "HTMLModel",
            "placeholder": "​",
            "_view_module": "@jupyter-widgets/controls",
            "_model_module_version": "1.5.0",
            "value": "100%",
            "_view_count": null,
            "_view_module_version": "1.5.0",
            "description_tooltip": null,
            "_model_module": "@jupyter-widgets/controls",
            "layout": "IPY_MODEL_89892346998042d8826708896db0c852"
          }
        },
        "9b4233ca8f2248a6a283329cfe165f7d": {
          "model_module": "@jupyter-widgets/controls",
          "model_name": "FloatProgressModel",
          "model_module_version": "1.5.0",
          "state": {
            "_view_name": "ProgressView",
            "style": "IPY_MODEL_f4601cf888eb4966a249577b634979a9",
            "_dom_classes": [],
            "description": "",
            "_model_name": "FloatProgressModel",
            "bar_style": "success",
            "max": 5545,
            "_view_module": "@jupyter-widgets/controls",
            "_model_module_version": "1.5.0",
            "value": 5545,
            "_view_count": null,
            "_view_module_version": "1.5.0",
            "orientation": "horizontal",
            "min": 0,
            "description_tooltip": null,
            "_model_module": "@jupyter-widgets/controls",
            "layout": "IPY_MODEL_6d2cfb183f8949aea85a9aae953f6056"
          }
        },
        "80aab19732fe4a7597bbfbe4352ba27a": {
          "model_module": "@jupyter-widgets/controls",
          "model_name": "HTMLModel",
          "model_module_version": "1.5.0",
          "state": {
            "_view_name": "HTMLView",
            "style": "IPY_MODEL_d0155b75090a410d9808caabe8eafed1",
            "_dom_classes": [],
            "description": "",
            "_model_name": "HTMLModel",
            "placeholder": "​",
            "_view_module": "@jupyter-widgets/controls",
            "_model_module_version": "1.5.0",
            "value": " 5545/5545 [10:43&lt;00:00, 11.98it/s]",
            "_view_count": null,
            "_view_module_version": "1.5.0",
            "description_tooltip": null,
            "_model_module": "@jupyter-widgets/controls",
            "layout": "IPY_MODEL_68ffe81a96554c7fae807a1b70224a55"
          }
        },
        "82d98773e8be425aa9dac3469007a466": {
          "model_module": "@jupyter-widgets/controls",
          "model_name": "DescriptionStyleModel",
          "model_module_version": "1.5.0",
          "state": {
            "_view_name": "StyleView",
            "_model_name": "DescriptionStyleModel",
            "description_width": "",
            "_view_module": "@jupyter-widgets/base",
            "_model_module_version": "1.5.0",
            "_view_count": null,
            "_view_module_version": "1.2.0",
            "_model_module": "@jupyter-widgets/controls"
          }
        },
        "89892346998042d8826708896db0c852": {
          "model_module": "@jupyter-widgets/base",
          "model_name": "LayoutModel",
          "model_module_version": "1.2.0",
          "state": {
            "_view_name": "LayoutView",
            "grid_template_rows": null,
            "right": null,
            "justify_content": null,
            "_view_module": "@jupyter-widgets/base",
            "overflow": null,
            "_model_module_version": "1.2.0",
            "_view_count": null,
            "flex_flow": null,
            "width": null,
            "min_width": null,
            "border": null,
            "align_items": null,
            "bottom": null,
            "_model_module": "@jupyter-widgets/base",
            "top": null,
            "grid_column": null,
            "overflow_y": null,
            "overflow_x": null,
            "grid_auto_flow": null,
            "grid_area": null,
            "grid_template_columns": null,
            "flex": null,
            "_model_name": "LayoutModel",
            "justify_items": null,
            "grid_row": null,
            "max_height": null,
            "align_content": null,
            "visibility": null,
            "align_self": null,
            "height": null,
            "min_height": null,
            "padding": null,
            "grid_auto_rows": null,
            "grid_gap": null,
            "max_width": null,
            "order": null,
            "_view_module_version": "1.2.0",
            "grid_template_areas": null,
            "object_position": null,
            "object_fit": null,
            "grid_auto_columns": null,
            "margin": null,
            "display": null,
            "left": null
          }
        },
        "f4601cf888eb4966a249577b634979a9": {
          "model_module": "@jupyter-widgets/controls",
          "model_name": "ProgressStyleModel",
          "model_module_version": "1.5.0",
          "state": {
            "_view_name": "StyleView",
            "_model_name": "ProgressStyleModel",
            "description_width": "",
            "_view_module": "@jupyter-widgets/base",
            "_model_module_version": "1.5.0",
            "_view_count": null,
            "_view_module_version": "1.2.0",
            "bar_color": null,
            "_model_module": "@jupyter-widgets/controls"
          }
        },
        "6d2cfb183f8949aea85a9aae953f6056": {
          "model_module": "@jupyter-widgets/base",
          "model_name": "LayoutModel",
          "model_module_version": "1.2.0",
          "state": {
            "_view_name": "LayoutView",
            "grid_template_rows": null,
            "right": null,
            "justify_content": null,
            "_view_module": "@jupyter-widgets/base",
            "overflow": null,
            "_model_module_version": "1.2.0",
            "_view_count": null,
            "flex_flow": null,
            "width": null,
            "min_width": null,
            "border": null,
            "align_items": null,
            "bottom": null,
            "_model_module": "@jupyter-widgets/base",
            "top": null,
            "grid_column": null,
            "overflow_y": null,
            "overflow_x": null,
            "grid_auto_flow": null,
            "grid_area": null,
            "grid_template_columns": null,
            "flex": null,
            "_model_name": "LayoutModel",
            "justify_items": null,
            "grid_row": null,
            "max_height": null,
            "align_content": null,
            "visibility": null,
            "align_self": null,
            "height": null,
            "min_height": null,
            "padding": null,
            "grid_auto_rows": null,
            "grid_gap": null,
            "max_width": null,
            "order": null,
            "_view_module_version": "1.2.0",
            "grid_template_areas": null,
            "object_position": null,
            "object_fit": null,
            "grid_auto_columns": null,
            "margin": null,
            "display": null,
            "left": null
          }
        },
        "d0155b75090a410d9808caabe8eafed1": {
          "model_module": "@jupyter-widgets/controls",
          "model_name": "DescriptionStyleModel",
          "model_module_version": "1.5.0",
          "state": {
            "_view_name": "StyleView",
            "_model_name": "DescriptionStyleModel",
            "description_width": "",
            "_view_module": "@jupyter-widgets/base",
            "_model_module_version": "1.5.0",
            "_view_count": null,
            "_view_module_version": "1.2.0",
            "_model_module": "@jupyter-widgets/controls"
          }
        },
        "68ffe81a96554c7fae807a1b70224a55": {
          "model_module": "@jupyter-widgets/base",
          "model_name": "LayoutModel",
          "model_module_version": "1.2.0",
          "state": {
            "_view_name": "LayoutView",
            "grid_template_rows": null,
            "right": null,
            "justify_content": null,
            "_view_module": "@jupyter-widgets/base",
            "overflow": null,
            "_model_module_version": "1.2.0",
            "_view_count": null,
            "flex_flow": null,
            "width": null,
            "min_width": null,
            "border": null,
            "align_items": null,
            "bottom": null,
            "_model_module": "@jupyter-widgets/base",
            "top": null,
            "grid_column": null,
            "overflow_y": null,
            "overflow_x": null,
            "grid_auto_flow": null,
            "grid_area": null,
            "grid_template_columns": null,
            "flex": null,
            "_model_name": "LayoutModel",
            "justify_items": null,
            "grid_row": null,
            "max_height": null,
            "align_content": null,
            "visibility": null,
            "align_self": null,
            "height": null,
            "min_height": null,
            "padding": null,
            "grid_auto_rows": null,
            "grid_gap": null,
            "max_width": null,
            "order": null,
            "_view_module_version": "1.2.0",
            "grid_template_areas": null,
            "object_position": null,
            "object_fit": null,
            "grid_auto_columns": null,
            "margin": null,
            "display": null,
            "left": null
          }
        }
      }
    }
  },
  "cells": [
    {
      "cell_type": "markdown",
      "metadata": {
        "id": "view-in-github",
        "colab_type": "text"
      },
      "source": [
        "<a href=\"https://colab.research.google.com/github/GollyTicker/Food-Recognition-Challenge/blob/main/Starter_Kit.ipynb\" target=\"_parent\"><img src=\"https://colab.research.google.com/assets/colab-badge.svg\" alt=\"Open In Colab\"/></a>"
      ]
    },
    {
      "cell_type": "markdown",
      "metadata": {
        "id": "yt_yLzMyRHP8"
      },
      "source": [
        "![AIcrowd-Logo](https://raw.githubusercontent.com/AIcrowd/AIcrowd/master/app/assets/images/misc/aicrowd-horizontal.png)\n",
        "\n",
        "This dataset and notebook correspond to the [Food Recognition Challenge](https://www.aicrowd.com/challenges/food-recognition-challenge) being held on [AIcrowd](https://www.aicrowd.com/).\n",
        "\n",
        "<p align=\"right\"> Join the communty! <br><a href=\"https://discord.gg/GTckBMx\"><img src=\"https://img.shields.io/discord/657211973435392011?style=for-the-badge\" alt=\"chat on Discord\"></a>\n",
        "</p>\n",
        "\n",
        "# <center> 🍕 Food Recognition Challenge: Detectron2 starter kit </center>\n",
        "\n",
        "<center>This notebook aims to build a model for food detection and segmentation using <code>detectron2</code></center>\n",
        "\n",
        "# How to use this notebook? 📝\n",
        "1. **Copy the notebook**. This is a shared template and any edits you make here will not be saved. _You should copy it into your own drive folder._ For this, click the \"File\" menu (top-left), then \"Save a Copy in Drive\". You can edit your copy however you like.\n",
        "2. **Make a submission**. Run all the code in the notebook to get a feel of how the notebook and the submission process works.\n",
        "3. **Try tweaking the parameters**. If you are new to the problem, a great way to start is try tweaking the configuration flags, train your model and submit again.\n",
        "4. **Diving into the code**. When you submit via this notebook, we create a repository on [gitlab.aicrowd.com](https://gitlab.aicrowd.com). You can check the code we generated based on this notebook and directly make changes you want there!\n"
      ]
    },
    {
      "cell_type": "markdown",
      "metadata": {
        "id": "AqCwgApzqFK6"
      },
      "source": [
        "# Setup the notebook 🛠"
      ]
    },
    {
      "cell_type": "code",
      "metadata": {
        "id": "_embMQfcqIK5",
        "colab": {
          "base_uri": "https://localhost:8080/"
        },
        "outputId": "dc4bea93-6f9b-4504-ecfc-09063ace2e85"
      },
      "source": [
        "# !bash <(curl -sL https://gitlab.aicrowd.com/jyotish/food-recognition-challenge-detectron2-baseline/raw/master/utils/setup-colab.sh)\n",
        "!pip install cython numpy aicrowd-api Pillow opencv-python git+https://github.com/cocodataset/cocoapi.git#subdirectory=PythonAPI\n",
        "\n",
        "# !pip install -f https://download.pytorch.org/whl/cu101/torch_stable.html torch==1.5 torchvision==0.6\n",
        "# !pip install -f https://dl.fbaipublicfiles.com/detectron2/wheels/cu101/index.html detectron2==0.1.2"
      ],
      "execution_count": 1,
      "outputs": [
        {
          "output_type": "stream",
          "name": "stdout",
          "text": [
            "Collecting git+https://github.com/cocodataset/cocoapi.git#subdirectory=PythonAPI\n",
            "  Cloning https://github.com/cocodataset/cocoapi.git to /tmp/pip-req-build-79tkermu\n",
            "  Running command git clone -q https://github.com/cocodataset/cocoapi.git /tmp/pip-req-build-79tkermu\n",
            "Requirement already satisfied: cython in /usr/local/lib/python3.7/dist-packages (0.29.24)\n",
            "Requirement already satisfied: numpy in /usr/local/lib/python3.7/dist-packages (1.19.5)\n",
            "Collecting aicrowd-api\n",
            "  Downloading aicrowd_api-0.1.23.tar.gz (7.6 kB)\n",
            "Requirement already satisfied: Pillow in /usr/local/lib/python3.7/dist-packages (7.1.2)\n",
            "Requirement already satisfied: opencv-python in /usr/local/lib/python3.7/dist-packages (4.1.2.30)\n",
            "Requirement already satisfied: setuptools>=18.0 in /usr/local/lib/python3.7/dist-packages (from pycocotools==2.0) (57.4.0)\n",
            "Requirement already satisfied: matplotlib>=2.1.0 in /usr/local/lib/python3.7/dist-packages (from pycocotools==2.0) (3.2.2)\n",
            "Requirement already satisfied: python-dateutil>=2.1 in /usr/local/lib/python3.7/dist-packages (from matplotlib>=2.1.0->pycocotools==2.0) (2.8.2)\n",
            "Requirement already satisfied: kiwisolver>=1.0.1 in /usr/local/lib/python3.7/dist-packages (from matplotlib>=2.1.0->pycocotools==2.0) (1.3.2)\n",
            "Requirement already satisfied: cycler>=0.10 in /usr/local/lib/python3.7/dist-packages (from matplotlib>=2.1.0->pycocotools==2.0) (0.11.0)\n",
            "Requirement already satisfied: pyparsing!=2.0.4,!=2.1.2,!=2.1.6,>=2.0.1 in /usr/local/lib/python3.7/dist-packages (from matplotlib>=2.1.0->pycocotools==2.0) (3.0.6)\n",
            "Requirement already satisfied: six>=1.5 in /usr/local/lib/python3.7/dist-packages (from python-dateutil>=2.1->matplotlib>=2.1.0->pycocotools==2.0) (1.15.0)\n",
            "Requirement already satisfied: requests>=2.18.4 in /usr/local/lib/python3.7/dist-packages (from aicrowd-api) (2.23.0)\n",
            "Collecting redis\n",
            "  Downloading redis-4.0.1-py3-none-any.whl (118 kB)\n",
            "\u001b[K     |████████████████████████████████| 118 kB 5.3 MB/s \n",
            "\u001b[?25hRequirement already satisfied: urllib3!=1.25.0,!=1.25.1,<1.26,>=1.21.1 in /usr/local/lib/python3.7/dist-packages (from requests>=2.18.4->aicrowd-api) (1.24.3)\n",
            "Requirement already satisfied: idna<3,>=2.5 in /usr/local/lib/python3.7/dist-packages (from requests>=2.18.4->aicrowd-api) (2.10)\n",
            "Requirement already satisfied: chardet<4,>=3.0.2 in /usr/local/lib/python3.7/dist-packages (from requests>=2.18.4->aicrowd-api) (3.0.4)\n",
            "Requirement already satisfied: certifi>=2017.4.17 in /usr/local/lib/python3.7/dist-packages (from requests>=2.18.4->aicrowd-api) (2021.10.8)\n",
            "Collecting deprecated\n",
            "  Downloading Deprecated-1.2.13-py2.py3-none-any.whl (9.6 kB)\n",
            "Requirement already satisfied: wrapt<2,>=1.10 in /usr/local/lib/python3.7/dist-packages (from deprecated->redis->aicrowd-api) (1.13.3)\n",
            "Building wheels for collected packages: pycocotools, aicrowd-api\n",
            "  Building wheel for pycocotools (setup.py) ... \u001b[?25l\u001b[?25hdone\n",
            "  Created wheel for pycocotools: filename=pycocotools-2.0-cp37-cp37m-linux_x86_64.whl size=263929 sha256=c78fc44713f306fca59708c23353c5b328e3d3f346941c6c96125bbe253fcc6e\n",
            "  Stored in directory: /tmp/pip-ephem-wheel-cache-nl3ovdiz/wheels/e2/6b/1d/344ac773c7495ea0b85eb228bc66daec7400a143a92d36b7b1\n",
            "  Building wheel for aicrowd-api (setup.py) ... \u001b[?25l\u001b[?25hdone\n",
            "  Created wheel for aicrowd-api: filename=aicrowd_api-0.1.23-py2.py3-none-any.whl size=9077 sha256=a5bbfc34a0da2526d82dc667e31ee880270dfd2398ff66bbaffe8d03eb54bf16\n",
            "  Stored in directory: /root/.cache/pip/wheels/0c/43/c9/d6afde4916e82484be857a3d80b3c05b51720ea8bf877d4a5a\n",
            "Successfully built pycocotools aicrowd-api\n",
            "Installing collected packages: deprecated, redis, pycocotools, aicrowd-api\n",
            "  Attempting uninstall: pycocotools\n",
            "    Found existing installation: pycocotools 2.0.2\n",
            "    Uninstalling pycocotools-2.0.2:\n",
            "      Successfully uninstalled pycocotools-2.0.2\n",
            "Successfully installed aicrowd-api-0.1.23 deprecated-1.2.13 pycocotools-2.0 redis-4.0.1\n"
          ]
        }
      ]
    },
    {
      "cell_type": "code",
      "metadata": {
        "id": "3IeBrALmMbWY",
        "colab": {
          "base_uri": "https://localhost:8080/"
        },
        "outputId": "b1ce3c9e-95d3-4b07-927e-2d0f30828a5f"
      },
      "source": [
        "!pip install -Uqq fastbook\n",
        "import fastbook\n",
        "fastbook.setup_book()"
      ],
      "execution_count": 2,
      "outputs": [
        {
          "output_type": "stream",
          "name": "stdout",
          "text": [
            "\u001b[K     |████████████████████████████████| 720 kB 5.0 MB/s \n",
            "\u001b[K     |████████████████████████████████| 189 kB 39.8 MB/s \n",
            "\u001b[K     |████████████████████████████████| 46 kB 4.0 MB/s \n",
            "\u001b[K     |████████████████████████████████| 1.2 MB 29.3 MB/s \n",
            "\u001b[K     |████████████████████████████████| 56 kB 4.3 MB/s \n",
            "\u001b[K     |████████████████████████████████| 51 kB 299 kB/s \n",
            "\u001b[?25hMounted at /content/gdrive\n"
          ]
        }
      ]
    },
    {
      "cell_type": "code",
      "metadata": {
        "id": "JveWajFEMfCR",
        "colab": {
          "base_uri": "https://localhost:8080/"
        },
        "outputId": "8694b931-b442-4184-ed2d-47e069687709"
      },
      "source": [
        "#hide\n",
        "from fastbook import *\n",
        "#hide\n",
        "# test gpu is used\n",
        "import torch\n",
        "print(torch.cuda.is_available())\n",
        "# assert torch.cuda.is_available()"
      ],
      "execution_count": 3,
      "outputs": [
        {
          "output_type": "stream",
          "name": "stdout",
          "text": [
            "True\n"
          ]
        }
      ]
    },
    {
      "cell_type": "code",
      "metadata": {
        "id": "FYrdQtqs_sOR"
      },
      "source": [
        "!wget -q -O jq https://github.com/stedolan/jq/releases/download/jq-1.6/jq-linux64 && chmod +x jq"
      ],
      "execution_count": 4,
      "outputs": []
    },
    {
      "cell_type": "code",
      "metadata": {
        "id": "U9TA_gz38qjn"
      },
      "source": [
        "#!wget -q -nv https://datasets.aicrowd.com/default/aicrowd-public-datasets/food-recognition-challenge/v0.4/train-v0.4.tar.gz\n",
        "#!unzip -q -d dataset train-v0.4.tar.gz\n",
        "\n",
        "#!wget -q -nv https://datasets.aicrowd.com/default/aicrowd-public-datasets/food-recognition-challenge/v0.4/val-v0.4.tar.gz\n",
        "#!unzip -q -d dataset val-v0.4.tar.gz\n",
        "!rm -rf *.gz"
      ],
      "execution_count": 5,
      "outputs": []
    },
    {
      "cell_type": "code",
      "metadata": {
        "id": "QAouH2oI8Kic",
        "colab": {
          "base_uri": "https://localhost:8080/"
        },
        "outputId": "8200cc9b-e713-4a2a-b72d-66673010cec6"
      },
      "source": [
        "!wget https://s3.eu-central-1.wasabisys.com/aicrowd-public-datasets/myfoodrepo/round-1/train.tar.gz\n",
        "!wget https://s3.eu-central-1.wasabisys.com/aicrowd-public-datasets/myfoodrepo/round-1/test_images.tar.gz\n",
        "!wget https://s3.eu-central-1.wasabisys.com/aicrowd-public-datasets/myfoodrepo/round-1/val.tar.gz"
      ],
      "execution_count": 6,
      "outputs": [
        {
          "output_type": "stream",
          "name": "stdout",
          "text": [
            "--2021-11-20 21:10:13--  https://s3.eu-central-1.wasabisys.com/aicrowd-public-datasets/myfoodrepo/round-1/train.tar.gz\n",
            "Resolving s3.eu-central-1.wasabisys.com (s3.eu-central-1.wasabisys.com)... 130.117.252.20, 130.117.252.12, 130.117.252.10, ...\n",
            "Connecting to s3.eu-central-1.wasabisys.com (s3.eu-central-1.wasabisys.com)|130.117.252.20|:443... connected.\n",
            "HTTP request sent, awaiting response... 200 OK\n",
            "Length: 290012672 (277M) [application/x-gzip]\n",
            "Saving to: ‘train.tar.gz’\n",
            "\n",
            "train.tar.gz        100%[===================>] 276.58M  26.7MB/s    in 11s     \n",
            "\n",
            "2021-11-20 21:10:25 (24.2 MB/s) - ‘train.tar.gz’ saved [290012672/290012672]\n",
            "\n",
            "--2021-11-20 21:10:25--  https://s3.eu-central-1.wasabisys.com/aicrowd-public-datasets/myfoodrepo/round-1/test_images.tar.gz\n",
            "Resolving s3.eu-central-1.wasabisys.com (s3.eu-central-1.wasabisys.com)... 130.117.252.19, 130.117.252.21, 130.117.252.16, ...\n",
            "Connecting to s3.eu-central-1.wasabisys.com (s3.eu-central-1.wasabisys.com)|130.117.252.19|:443... connected.\n",
            "HTTP request sent, awaiting response... 200 OK\n",
            "Length: 11947772 (11M) [application/x-gzip]\n",
            "Saving to: ‘test_images.tar.gz’\n",
            "\n",
            "test_images.tar.gz  100%[===================>]  11.39M  8.92MB/s    in 1.3s    \n",
            "\n",
            "2021-11-20 21:10:27 (8.92 MB/s) - ‘test_images.tar.gz’ saved [11947772/11947772]\n",
            "\n",
            "--2021-11-20 21:10:27--  https://s3.eu-central-1.wasabisys.com/aicrowd-public-datasets/myfoodrepo/round-1/val.tar.gz\n",
            "Resolving s3.eu-central-1.wasabisys.com (s3.eu-central-1.wasabisys.com)... 130.117.252.19, 130.117.252.21, 130.117.252.16, ...\n",
            "Connecting to s3.eu-central-1.wasabisys.com (s3.eu-central-1.wasabisys.com)|130.117.252.19|:443... connected.\n",
            "HTTP request sent, awaiting response... 200 OK\n",
            "Length: 12157308 (12M) [application/x-gzip]\n",
            "Saving to: ‘val.tar.gz’\n",
            "\n",
            "val.tar.gz          100%[===================>]  11.59M  9.58MB/s    in 1.2s    \n",
            "\n",
            "2021-11-20 21:10:29 (9.58 MB/s) - ‘val.tar.gz’ saved [12157308/12157308]\n",
            "\n"
          ]
        }
      ]
    },
    {
      "cell_type": "code",
      "metadata": {
        "id": "ZXO6-8_-9Fye",
        "colab": {
          "base_uri": "https://localhost:8080/"
        },
        "outputId": "57aa971b-0c75-4e0f-e017-3282dc3dc539"
      },
      "source": [
        "!pwd\n",
        "!ls"
      ],
      "execution_count": 7,
      "outputs": [
        {
          "output_type": "stream",
          "name": "stdout",
          "text": [
            "/content\n",
            "gdrive\tjq  sample_data  test_images.tar.gz  train.tar.gz  val.tar.gz\n"
          ]
        }
      ]
    },
    {
      "cell_type": "code",
      "metadata": {
        "id": "tCp41mm08ruj",
        "colab": {
          "base_uri": "https://localhost:8080/"
        },
        "outputId": "37ac6bba-d397-4151-8fa6-35e6b15b3a9a"
      },
      "source": [
        "!for f in *.tar.gz; do echo \"$f\"; tar xf \"$f\"; done"
      ],
      "execution_count": 8,
      "outputs": [
        {
          "output_type": "stream",
          "name": "stdout",
          "text": [
            "test_images.tar.gz\n",
            "train.tar.gz\n",
            "val.tar.gz\n"
          ]
        }
      ]
    },
    {
      "cell_type": "code",
      "metadata": {
        "id": "g-OseIO9-DAD",
        "colab": {
          "base_uri": "https://localhost:8080/"
        },
        "outputId": "b9e04c85-25d7-434a-88fc-ceb860436a73"
      },
      "source": [
        "!ls train\n",
        "!cat train/annotations.json | ./jq . | head -n 50"
      ],
      "execution_count": 9,
      "outputs": [
        {
          "output_type": "stream",
          "name": "stdout",
          "text": [
            "annotations.json  images\n",
            "{\n",
            "  \"categories\": [\n",
            "    {\n",
            "      \"id\": 1565,\n",
            "      \"name\": \"bread-wholemeal\",\n",
            "      \"name_readable\": \"Bread, wholemeal\",\n",
            "      \"supercategory\": \"food\"\n",
            "    },\n",
            "    {\n",
            "      \"id\": 1010,\n",
            "      \"name\": \"potatoes-steamed\",\n",
            "      \"name_readable\": \"Potatoes steamed\",\n",
            "      \"supercategory\": \"food\"\n",
            "    },\n",
            "    {\n",
            "      \"id\": 1085,\n",
            "      \"name\": \"broccoli\",\n",
            "      \"name_readable\": \"Broccoli\",\n",
            "      \"supercategory\": \"food\"\n",
            "    },\n",
            "    {\n",
            "      \"id\": 2053,\n",
            "      \"name\": \"butter\",\n",
            "      \"name_readable\": \"Butter\",\n",
            "      \"supercategory\": \"food\"\n",
            "    },\n",
            "    {\n",
            "      \"id\": 1310,\n",
            "      \"name\": \"hard-cheese\",\n",
            "      \"name_readable\": \"Hard cheese\",\n",
            "      \"supercategory\": \"food\"\n",
            "    },\n",
            "    {\n",
            "      \"id\": 2578,\n",
            "      \"name\": \"water\",\n",
            "      \"name_readable\": \"Water\",\n",
            "      \"supercategory\": \"food\"\n",
            "    },\n",
            "    {\n",
            "      \"id\": 1154,\n",
            "      \"name\": \"banana\",\n",
            "      \"name_readable\": \"Banana\",\n",
            "      \"supercategory\": \"food\"\n",
            "    },\n",
            "    {\n",
            "      \"id\": 2620,\n",
            "      \"name\": \"wine-white\",\n",
            "      \"name_readable\": \"Wine, white\",\n",
            "      \"supercategory\": \"food\"\n",
            "    },\n"
          ]
        }
      ]
    },
    {
      "cell_type": "markdown",
      "metadata": {
        "id": "SDA1bgkg-8yu"
      },
      "source": [
        "# Configure static variables 📎"
      ]
    },
    {
      "cell_type": "code",
      "metadata": {
        "id": "r6kEtMOl-8GO"
      },
      "source": [
        "from pathlib import Path\n",
        "import os\n",
        "from multiprocessing import Pool\n",
        "import json\n",
        "\n",
        "from tqdm.notebook import tqdm\n",
        "from pycocotools.coco import COCO\n",
        "import numpy as np\n",
        "import cv2\n",
        "\n",
        "class Paths:\n",
        "  DATASET_DIR = Path(\".\")\n",
        "  \n",
        "  TRAIN_DATA_DIR = DATASET_DIR/\"train\"\n",
        "  TRAIN_IMAGES_DIR = TRAIN_DATA_DIR/\"images\"\n",
        "  TRAIN_ANNOTATIONS = TRAIN_DATA_DIR/\"annotations.json\"\n",
        "  TRAIN_MULTI_SEG_DIR = TRAIN_DATA_DIR/\"segmentations\"\n",
        "  \n",
        "  VAL_DATA_DIR = DATASET_DIR/\"val\"\n",
        "  VAL_ANNOTATIONS = VAL_DATA_DIR/\"annotations.json\"\n",
        "  VAL_IMAGES_DIR = VAL_DATA_DIR/\"images\"\n",
        "  VAL_MULTI_SEG_DIR = VAL_DATA_DIR/\"segmentations\"\n",
        "\n",
        "  CURR_DATA_DIR = DATASET_DIR/\"curr\"\n",
        "  CURR_IMAGES_DIR = CURR_DATA_DIR/\"images\"\n",
        "  CURR_ANNOTATIONS = CURR_DATA_DIR/\"annotations.json\"\n",
        "  CURR_MULTI_SEG_DIR = CURR_DATA_DIR/\"segmentations\"\n",
        "\n",
        "\n",
        "class DatasetLabels:\n",
        "  TRAIN = \"dataset_train\"\n",
        "  VAL = \"dataset_val\"\n",
        "\n",
        "import os\n",
        "for dirs in [Paths.CURR_IMAGES_DIR,Paths.TRAIN_MULTI_SEG_DIR,Paths.VAL_MULTI_SEG_DIR,Paths.CURR_MULTI_SEG_DIR]:\n",
        "  os.makedirs(dirs,exist_ok=True)"
      ],
      "execution_count": 10,
      "outputs": []
    },
    {
      "cell_type": "code",
      "metadata": {
        "id": "1jkAnlhzIvyM"
      },
      "source": [
        "GDRIVE_MIRROR_ROOT = gdrive/\"Food Challenge\"/\"persistent\"/\"mirror\"\n",
        "os.makedirs(GDRIVE_MIRROR_ROOT,exist_ok=True)\n",
        "\n",
        "def store_directory_to_google_drive(relative_dir):\n",
        "  destination = GDRIVE_MIRROR_ROOT/relative_dir\n",
        "  print(f\"Storing {relative_dir} -> {destination} (target removed before copy)\")\n",
        "  shutil.rmtree(destination, ignore_errors=True)\n",
        "  shutil.copytree(relative_dir,destination)\n",
        "\n",
        "def restore_directory_from_google_drive(relative_dir):\n",
        "  source = GDRIVE_MIRROR_ROOT/relative_dir\n",
        "  print(f\"Restoring {relative_dir} <- {source} (target removed before copy)\")\n",
        "  shutil.rmtree(relative_dir, ignore_errors=True)\n",
        "  shutil.copytree(source,relative_dir)"
      ],
      "execution_count": 11,
      "outputs": []
    },
    {
      "cell_type": "code",
      "metadata": {
        "id": "GpUFct7TK3Sj"
      },
      "source": [
        "# restore precomputed segmentation masks\n",
        "if False and \"we don't want to restore the segmentation masks from google drive, since this is slow. It's slower than computing them directly!\":\n",
        "  try:\n",
        "    restore_directory_from_google_drive(Paths.TRAIN_MULTI_SEG_DIR)\n",
        "  except Exception as e:\n",
        "    e.printStackTrace()"
      ],
      "execution_count": 15,
      "outputs": []
    },
    {
      "cell_type": "markdown",
      "metadata": {
        "id": "DGt1_dNs_LFB"
      },
      "source": [
        "# Packages 🗃\n",
        "\n",
        "Import here all the packages you need to define your model. "
      ]
    },
    {
      "cell_type": "code",
      "metadata": {
        "id": "XOxxkvKI5jhA",
        "colab": {
          "base_uri": "https://localhost:8080/"
        },
        "outputId": "5d1d6d17-478c-488b-9e5d-6d87019604d5"
      },
      "source": [
        "\"\"\"from detectron2.data.datasets import register_coco_instances\n",
        "import detectron2\n",
        "from detectron2.utils.logger import setup_logger\n",
        "from detectron2.utils.visualizer import Visualizer\n",
        "from detectron2.utils.visualizer import ColorMode\n",
        "from detectron2.data import MetadataCatalog\n",
        "from detectron2.evaluation import COCOEvaluator, inference_on_dataset\n",
        "from detectron2.data import build_detection_test_loader\n",
        "from detectron2.engine import DefaultPredictor\n",
        "from detectron2.engine import DefaultTrainer\n",
        "from detectron2.config import get_cfg\n",
        "from detectron2 import model_zoo\n",
        "from detectron2.utils.events import get_event_storage\n",
        "from detectron2.engine import HookBase\n",
        "\"\"\"\n",
        "0"
      ],
      "execution_count": 184,
      "outputs": [
        {
          "output_type": "execute_result",
          "data": {
            "text/plain": [
              "0"
            ]
          },
          "metadata": {},
          "execution_count": 184
        }
      ]
    },
    {
      "cell_type": "markdown",
      "metadata": {
        "id": "rgc_ZDzmzyOE"
      },
      "source": [
        "# Loading the data 📲"
      ]
    },
    {
      "cell_type": "code",
      "metadata": {
        "id": "Xii1QDbCpZ0K",
        "colab": {
          "base_uri": "https://localhost:8080/"
        },
        "outputId": "45c419ac-18c8-489a-dff0-71b8c81bbc3e"
      },
      "source": [
        "with open(Paths.TRAIN_ANNOTATIONS) as fp:\n",
        "  annotations = json.load(fp)\n",
        "  print(annotations.keys())"
      ],
      "execution_count": 185,
      "outputs": [
        {
          "output_type": "stream",
          "name": "stdout",
          "text": [
            "dict_keys(['categories', 'info', 'images', 'annotations'])\n"
          ]
        }
      ]
    },
    {
      "cell_type": "markdown",
      "metadata": {
        "id": "s7Yr5lfoAnwJ"
      },
      "source": [
        "## Helper functions to clean the dataset\n",
        "\n",
        "First, we will see if all the annotations in the dataset are properly aligned with the images. These helper functions will let us do that."
      ]
    },
    {
      "cell_type": "code",
      "metadata": {
        "id": "SstjAZ9UR6mk"
      },
      "source": [
        "image_dir = \"\"\n",
        "\n",
        "\n",
        "def validate_annotation(annotation):\n",
        "  \"\"\"Check the image dimensions and fix them if needed\n",
        "  \"\"\"\n",
        "  filepath = os.path.join(image_dir, annotation.get(\"file_name\"))\n",
        "  if not os.path.exists(filepath):\n",
        "    print(\"Skipping\", filepath)\n",
        "    return annotation\n",
        "  img = cv2.imread(filepath)\n",
        "  if img.shape[0] != annotation.get(\"height\") or img.shape[1] != annotation.get(\"width\"):\n",
        "    annotation[\"height\"], annotation[\"width\"] = annotation[\"width\"], annotation[\"height\"]\n",
        "  return annotation\n",
        "\n",
        "\n",
        "def clean_annotations(annotation_images):\n",
        "  \"\"\"Read the image dimensions and fix them in parallel\n",
        "  \"\"\"\n",
        "  annotated_images = []\n",
        "\n",
        "  with Pool() as p:\n",
        "    total_images = len(annotation_images)\n",
        "\n",
        "    with tqdm(total=total_images) as progress_bar:\n",
        "      for annotation in p.imap(validate_annotation, annotation_images):\n",
        "        annotated_images.append(annotation)\n",
        "        progress_bar.update(1)\n",
        "\n",
        "  return annotated_images"
      ],
      "execution_count": 186,
      "outputs": []
    },
    {
      "cell_type": "markdown",
      "metadata": {
        "id": "dbxqgfj0Xd8Q"
      },
      "source": [
        "## Clean the training data 🧹"
      ]
    },
    {
      "cell_type": "code",
      "metadata": {
        "id": "jVAP3Ds09qxe",
        "colab": {
          "base_uri": "https://localhost:8080/",
          "height": 49,
          "referenced_widgets": [
            "d9180b4ee13c434a9bfbd41a056db94d",
            "b832d0085b8d4bb98b184d92c4da86af",
            "f8622240934048f4bb157aabea088c99",
            "05c7f7627c3d4775b8227a5b87185f41",
            "576cfbe285bc476ebfbb0c56c98cd75f",
            "bb5b9be27ce84c67bac3eddad509c821",
            "5fbdb50657124c6d99682d93787cd1e6",
            "39e0e2b4d28c48b29310175aa04d8b10",
            "57c1680c1486405ea0d132be4b02cd73",
            "6d6aac9a78a34fb3a2d90d3344357f27",
            "7dfbe4dbb8554c8aaa64ebdbdf62ea52"
          ]
        },
        "outputId": "78ee8a6c-0c2e-4f2b-efe8-6c82a7767220"
      },
      "source": [
        "image_dir = Paths.TRAIN_IMAGES_DIR\n",
        "annotations[\"images\"] = clean_annotations(annotations.get(\"images\"))\n",
        "\n",
        "with open(Paths.TRAIN_ANNOTATIONS, \"w\") as fp:\n",
        "  json.dump(annotations, fp)"
      ],
      "execution_count": 188,
      "outputs": [
        {
          "output_type": "display_data",
          "data": {
            "application/vnd.jupyter.widget-view+json": {
              "model_id": "d9180b4ee13c434a9bfbd41a056db94d",
              "version_minor": 0,
              "version_major": 2
            },
            "text/plain": [
              "  0%|          | 0/5545 [00:00<?, ?it/s]"
            ]
          },
          "metadata": {}
        }
      ]
    },
    {
      "cell_type": "markdown",
      "metadata": {
        "id": "DZM_-xKcXhvH"
      },
      "source": [
        "## Clean the validation data 🧹"
      ]
    },
    {
      "cell_type": "code",
      "metadata": {
        "id": "JnFNbX9DX6Ci",
        "colab": {
          "base_uri": "https://localhost:8080/",
          "height": 49,
          "referenced_widgets": [
            "21cbf93f19ef4635b40af01ce7561344",
            "17f7b3ddfced4615b88d0dd7f81440af",
            "122bbd1a5c4548529291802ec8c269ae",
            "3533f70054c5429ab9c5c11d0cbc9fa8",
            "d9a921024ff74ef4af9fb1c6f007da3e",
            "d63dea1fc8424b5a894de975808bbff7",
            "42193fb6a94c4bfba80343e30ce20ac3",
            "a3bccaaa353f4eb7ade3ea2f5b403e8f",
            "6d71fa295830476d8630ac15f0296b58",
            "0bc0fad40d664ee39b1d99d8f992b5e6",
            "7727cc1fc7b94bc0a65b5f18dc2b3bdb"
          ]
        },
        "outputId": "1c710fb9-5e7f-4af1-c8d7-ebd60c47c1a4"
      },
      "source": [
        "image_dir = Paths.VAL_IMAGES_DIR\n",
        "\n",
        "with open(Paths.VAL_ANNOTATIONS) as fp:\n",
        "  validation_annotations = json.load(fp)\n",
        "\n",
        "validation_annotations[\"images\"] = clean_annotations(validation_annotations.get(\"images\"))\n",
        "\n",
        "with open(Paths.VAL_ANNOTATIONS, \"w\") as fp:\n",
        "  json.dump(validation_annotations, fp)"
      ],
      "execution_count": 189,
      "outputs": [
        {
          "output_type": "display_data",
          "data": {
            "application/vnd.jupyter.widget-view+json": {
              "model_id": "21cbf93f19ef4635b40af01ce7561344",
              "version_minor": 0,
              "version_major": 2
            },
            "text/plain": [
              "  0%|          | 0/291 [00:00<?, ?it/s]"
            ]
          },
          "metadata": {}
        }
      ]
    },
    {
      "cell_type": "markdown",
      "metadata": {
        "id": "M05KHR--CUq3"
      },
      "source": [
        "# My baseline model"
      ]
    },
    {
      "cell_type": "code",
      "metadata": {
        "id": "IfprvZ7ECWnA",
        "colab": {
          "base_uri": "https://localhost:8080/"
        },
        "outputId": "11b7b51d-7b46-4936-9eba-f43c37b30393"
      },
      "source": [
        "coco = COCO(Paths.TRAIN_ANNOTATIONS)"
      ],
      "execution_count": 190,
      "outputs": [
        {
          "output_type": "stream",
          "name": "stdout",
          "text": [
            "loading annotations into memory...\n",
            "Done (t=0.53s)\n",
            "creating index...\n",
            "index created!\n"
          ]
        }
      ]
    },
    {
      "cell_type": "code",
      "metadata": {
        "id": "U9FRSJyRCo9-",
        "colab": {
          "base_uri": "https://localhost:8080/"
        },
        "outputId": "7daca741-9713-4ee4-802c-797147a55384"
      },
      "source": [
        "category_ids = coco.loadCats(coco.getCatIds())\n",
        "category_names = [_[\"name\"] for _ in category_ids]\n",
        "\n",
        "image_ids = coco.getImgIds()\n",
        "\n",
        "annotation_ids = coco.getAnnIds()\n",
        "annotations = coco.loadAnns(annotation_ids)\n",
        "\n",
        "print(\"Categories: \",\", \".join(category_names))\n",
        "\n",
        "print(\"Image ids: \", image_ids[:10],\"...\")\n",
        "\n",
        "print(\"Annotation:\" , annotations[0].keys())\n"
      ],
      "execution_count": 191,
      "outputs": [
        {
          "output_type": "stream",
          "name": "stdout",
          "text": [
            "Categories:  bread-wholemeal, potatoes-steamed, broccoli, butter, hard-cheese, water, banana, wine-white, bread-white, apple, pizza-margherita-baked, salad-leaf-salad-green, zucchini, water-mineral, coffee-with-caffeine, avocado, tomato, dark-chocolate, white-coffee-with-caffeine, egg, mixed-salad-chopped-without-sauce, sweet-pepper, mixed-vegetables, mayonnaise, rice, chips-french-fries, carrot, tomato-sauce, cucumber, wine-red, cheese, strawberries, espresso-with-caffeine, tea, chicken, jam, leaf-spinach, pasta-spaghetti, french-beans, bread-whole-wheat\n",
            "Image ids:  [16387, 49157, 16394, 49164, 49166, 16398, 49168, 49171, 16409, 49179] ...\n",
            "Annotation: dict_keys(['id', 'image_id', 'category_id', 'segmentation', 'area', 'bbox', 'iscrowd'])\n"
          ]
        }
      ]
    },
    {
      "cell_type": "code",
      "metadata": {
        "id": "hmVLSrsBR_T6",
        "colab": {
          "base_uri": "https://localhost:8080/"
        },
        "outputId": "ab83e889-eefa-42c4-bbf3-a0b3a2f4d45b"
      },
      "source": [
        "tiny_train_imids = [12886,22949,49145,54634]\n",
        "\n",
        "import shutil\n",
        "\n",
        "# create currently trained on dataset\n",
        "\n",
        "for imid in tiny_train_imids:\n",
        "  im = coco.loadImgs(imid)[0]\n",
        "  shutil.copy(Paths.TRAIN_IMAGES_DIR/im['file_name'], Paths.CURR_IMAGES_DIR/im['file_name'])\n",
        "\n",
        "\n",
        "shutil.copy(Paths.TRAIN_ANNOTATIONS, Paths.CURR_ANNOTATIONS)"
      ],
      "execution_count": 192,
      "outputs": [
        {
          "output_type": "execute_result",
          "data": {
            "text/plain": [
              "Path('curr/annotations.json')"
            ]
          },
          "metadata": {},
          "execution_count": 192
        }
      ]
    },
    {
      "cell_type": "code",
      "metadata": {
        "id": "O9NEInrKS_Vo",
        "colab": {
          "base_uri": "https://localhost:8080/"
        },
        "outputId": "8a4549e4-c5c8-4052-9451-b834bcfc266c"
      },
      "source": [
        "!ls curr\n",
        "!ls curr/images"
      ],
      "execution_count": 272,
      "outputs": [
        {
          "output_type": "stream",
          "name": "stdout",
          "text": [
            "annotations.json  images  segmentations\n",
            "012886.jpg  022949.jpg\t049145.jpg  054634.jpg\n"
          ]
        }
      ]
    },
    {
      "cell_type": "code",
      "metadata": {
        "id": "_wvHBPWqa7aA",
        "outputId": "a1ca897e-0538-4465-ecbc-e5e6a39e2661",
        "colab": {
          "base_uri": "https://localhost:8080/"
        }
      },
      "source": [
        "[catdict[\"name\"] for catdict in category_ids]"
      ],
      "execution_count": 194,
      "outputs": [
        {
          "output_type": "execute_result",
          "data": {
            "text/plain": [
              "['bread-wholemeal',\n",
              " 'potatoes-steamed',\n",
              " 'broccoli',\n",
              " 'butter',\n",
              " 'hard-cheese',\n",
              " 'water',\n",
              " 'banana',\n",
              " 'wine-white',\n",
              " 'bread-white',\n",
              " 'apple',\n",
              " 'pizza-margherita-baked',\n",
              " 'salad-leaf-salad-green',\n",
              " 'zucchini',\n",
              " 'water-mineral',\n",
              " 'coffee-with-caffeine',\n",
              " 'avocado',\n",
              " 'tomato',\n",
              " 'dark-chocolate',\n",
              " 'white-coffee-with-caffeine',\n",
              " 'egg',\n",
              " 'mixed-salad-chopped-without-sauce',\n",
              " 'sweet-pepper',\n",
              " 'mixed-vegetables',\n",
              " 'mayonnaise',\n",
              " 'rice',\n",
              " 'chips-french-fries',\n",
              " 'carrot',\n",
              " 'tomato-sauce',\n",
              " 'cucumber',\n",
              " 'wine-red',\n",
              " 'cheese',\n",
              " 'strawberries',\n",
              " 'espresso-with-caffeine',\n",
              " 'tea',\n",
              " 'chicken',\n",
              " 'jam',\n",
              " 'leaf-spinach',\n",
              " 'pasta-spaghetti',\n",
              " 'french-beans',\n",
              " 'bread-whole-wheat']"
            ]
          },
          "metadata": {},
          "execution_count": 194
        }
      ]
    },
    {
      "cell_type": "code",
      "metadata": {
        "id": "ctgT-F9bYDqC",
        "outputId": "4dfe45a2-444e-4267-c35d-7766cbc9fd44",
        "colab": {
          "base_uri": "https://localhost:8080/"
        }
      },
      "source": [
        "fai_multi_cats_from_coco_ids = Pipeline([MultiCategorize(vocab=[catdict[\"id\"] for catdict in category_ids]),\n",
        "                                         OneHotEncode(c=len(category_ids)),\n",
        "                                         Transform(enc = lambda tensor_mcat: np.array(tensor_mcat,dtype=np.int8), dec = TensorMultiCategory, order=2)\n",
        "                                         ])\n",
        "\n",
        "coco_cat_id_to_name = lambda coco_cat_id : list(filter(lambda catdict: catdict[\"id\"] == coco_cat_id, category_ids))[0][\"name\"]\n",
        "fai_multi_cats_to_names = Transform(lambda fai_cats: list(map(coco_cat_id_to_name, fai_multi_cats_from_coco_ids.decode(fai_cats))))\n",
        "\n",
        "print(category_ids[0])\n",
        "print(category_ids[35])\n",
        "print(category_ids[24])\n",
        "\n",
        "print(fai_multi_cats_from_coco_ids)\n",
        "\n",
        "example_categories = fai_multi_cats_from_coco_ids([1565,2099,1468])\n",
        "print(\"bread-wholemeal,jam,rice ->\", example_categories)\n",
        "\n",
        "print(\"bread-wholemeal,jam,rice -> \", fai_multi_cats_to_names(example_categories))"
      ],
      "execution_count": 195,
      "outputs": [
        {
          "output_type": "stream",
          "name": "stdout",
          "text": [
            "{'id': 1565, 'name': 'bread-wholemeal', 'name_readable': 'Bread, wholemeal', 'supercategory': 'food'}\n",
            "{'id': 2099, 'name': 'jam', 'name_readable': 'Jam', 'supercategory': 'food'}\n",
            "{'id': 1468, 'name': 'rice', 'name_readable': 'Rice', 'supercategory': 'food'}\n",
            "Pipeline: MultiCategorize -- {'vocab': [1565, 1010, 1085, 2053, 1310, 2578, 1154, 2620, 1566, 1151, 2939, 1040, 1070, 2580, 2512, 1056, 1069, 2131, 2521, 2022, 1026, 1068, 1022, 2750, 1468, 1013, 1078, 2738, 1061, 2618, 1311, 1163, 2504, 2498, 1788, 2099, 1032, 1505, 1058, 1554], 'sort': False, 'add_na': False} -> OneHotEncode -- {'c': 40} -> <lambda>\n",
            "bread-wholemeal,jam,rice -> [1 0 0 0 0 0 0 0 0 0 0 0 0 0 0 0 0 0 0 0 0 0 0 0 1 0 0 0 0 0 0 0 0 0 0 1 0 0 0 0]\n",
            "bread-wholemeal,jam,rice ->  ['bread-wholemeal', 'rice', 'jam']\n"
          ]
        }
      ]
    },
    {
      "cell_type": "code",
      "metadata": {
        "id": "qIMMhF0_qwxD",
        "outputId": "afcbd8bb-83da-41aa-b9c7-e596336ad2dd",
        "colab": {
          "base_uri": "https://localhost:8080/"
        }
      },
      "source": [
        "example_mini_image_masks = np.zeros((len(category_ids),3,3),dtype=np.int8)\n",
        "\n",
        "example_mini_image_masks[2] = np.array([[1,1,1],[1,1,0],[1,0,0]])\n",
        "example_mini_image_masks[5] = np.array([[1,0,0],[1,1,0],[1,1,1]])\n",
        "\n",
        "print(example_mini_image_masks.shape)\n",
        "\n",
        "example_mini_image_masks[:6]\n",
        "\n",
        "for i in range(3):\n",
        "  for j in range(3):\n",
        "    print(f\"{i},{j} -> \",fai_multi_cats_from_coco_ids.decode(example_mini_image_masks[:,i,j]))"
      ],
      "execution_count": 196,
      "outputs": [
        {
          "output_type": "stream",
          "name": "stdout",
          "text": [
            "(40, 3, 3)\n",
            "0,0 ->  [1085, 2578]\n",
            "0,1 ->  [1085]\n",
            "0,2 ->  [1085]\n",
            "1,0 ->  [1085, 2578]\n",
            "1,1 ->  [1085, 2578]\n",
            "1,2 ->  []\n",
            "2,0 ->  [1085, 2578]\n",
            "2,1 ->  [2578]\n",
            "2,2 ->  [2578]\n"
          ]
        }
      ]
    },
    {
      "cell_type": "code",
      "metadata": {
        "id": "bhB3IQroC6xW",
        "colab": {
          "base_uri": "https://localhost:8080/",
          "height": 483
        },
        "outputId": "b33c9e04-75f3-4785-a566-ad651d916738"
      },
      "source": [
        "import random\n",
        "import skimage.io as io\n",
        "import matplotlib.pyplot as plt\n",
        "%matplotlib inline\n",
        "\n",
        "imid = 30573\n",
        "imid = 16387\n",
        "#imid = random.choice(image_ids)\n",
        "im = coco.loadImgs(imid)[0]\n",
        "im_annotations = coco.loadAnns(coco.getAnnIds(imgIds=imid))\n",
        "\n",
        "image_path = os.path.join(Paths.TRAIN_IMAGES_DIR, im[\"file_name\"])\n",
        "plt.figure(figsize=(8,8))\n",
        "I = io.imread(image_path)\n",
        "plt.imshow(I)\n",
        "plt.axis('off')\n",
        "# Render annotations on top of the image\n",
        "coco.showAnns(im_annotations)\n",
        "\n",
        "print(imid,im[\"width\"],im[\"height\"])"
      ],
      "execution_count": 261,
      "outputs": [
        {
          "output_type": "stream",
          "name": "stdout",
          "text": [
            "16387 479 479\n"
          ]
        },
        {
          "output_type": "display_data",
          "data": {
            "image/png": "[encoded data removed]",
            "text/plain": [
              "<Figure size 576x576 with 1 Axes>"
            ]
          },
          "metadata": {
            "needs_background": "light"
          }
        }
      ]
    },
    {
      "cell_type": "code",
      "metadata": {
        "id": "YZ4_NW8_LdbG"
      },
      "source": [
        "def one_hot_id_from_coco_id(coco_id):\n",
        "  return np.nonzero(fai_multi_cats_from_coco_ids([coco_id]))[0][0]\n",
        "\n",
        "def convert_annotations_to_multimask(im_annotations, image_dict, debug=False):\n",
        "  \"\"\"Produces a mask of shape [N_CLASSES, w, h] where each seg_pixel (c,x,y) is either 1 (in class) or 0\"\"\"\n",
        "\n",
        "  multi_seg_mask = np.zeros((len(category_ids), image_dict[\"width\"], image_dict[\"height\"]),dtype=np.int8)\n",
        "\n",
        "  if debug:\n",
        "    print(\"Image id\", image_dict['id'])\n",
        "    print(\"Image shape: \", image_dict['width'], image_dict['height'])\n",
        "\n",
        "  for im_anno in im_annotations:\n",
        "    encSeg = cocomask.frPyObjects(\n",
        "        im_anno['segmentation']\n",
        "        ,image_dict['width'], image_dict['height']\n",
        "      )\n",
        "    \n",
        "    one_hot_id = one_hot_id_from_coco_id(im_anno[\"category_id\"])\n",
        "    \n",
        "    if debug:\n",
        "      print(\"Processing\",im_anno['category_id'],\"->\",one_hot_id)\n",
        "    \n",
        "    org_seg = cocomask.decode(encSeg)\n",
        "\n",
        "    if debug:\n",
        "      print(\"Org seg shape \", org_seg.shape)\n",
        "      print(\"Number of components of this label \", org_seg.shape[2])\n",
        "\n",
        "    multi_component_segmentations = org_seg.reshape((image_dict['width'], image_dict['height'],-1))\n",
        "\n",
        "    if debug:\n",
        "      print(\"multi_component_segmentations.shape \", multi_component_segmentations.shape)\n",
        "\n",
        "    category_seg = np.sum(multi_component_segmentations, axis=2)\n",
        "    np.clip(category_seg,0,1,out=category_seg)\n",
        "\n",
        "    assert category_seg.shape == (image_dict[\"width\"],image_dict[\"height\"])\n",
        "\n",
        "    multi_seg_mask[one_hot_id] = category_seg\n",
        "\n",
        "  return multi_seg_mask"
      ],
      "execution_count": 262,
      "outputs": []
    },
    {
      "cell_type": "code",
      "metadata": {
        "id": "TkHCOTMZHsa-",
        "colab": {
          "base_uri": "https://localhost:8080/",
          "height": 1000
        },
        "outputId": "fa13acae-40cc-41c9-a488-8dde79b7356e"
      },
      "source": [
        "# test multi-label segmentation is correctly converted\n",
        "\n",
        "import pycocotools\n",
        "import pycocotools.mask as cocomask\n",
        "\n",
        "result = convert_annotations_to_multimask(im_annotations,im,debug=True)\n",
        "\n",
        "assert result.shape == (40, im[\"width\"], im[\"height\"])\n",
        "\n",
        "for im_anno in im_annotations:\n",
        "  encSeg = cocomask.frPyObjects(\n",
        "      im_anno['segmentation']\n",
        "      ,im['width'], im['height']\n",
        "    )\n",
        "  \n",
        "  one_hot_id = one_hot_id_from_coco_id(im_anno['category_id'])\n",
        "\n",
        "  m = cocomask.decode(encSeg)\n",
        "\n",
        "  m = m.reshape((im['width'], im['height'], -1))\n",
        "  for i in range(m.shape[2]):\n",
        "    print(\"component =\",i)\n",
        "    plt.imshow(m[:,:,i])\n",
        "    plt.show()\n",
        "  \n",
        "  print(\"mask\")\n",
        "  plt.imshow(result[one_hot_id])\n",
        "  plt.show()\n",
        "\n",
        "  assert np.all(m.sum(axis=2) == result[one_hot_id])"
      ],
      "execution_count": 268,
      "outputs": [
        {
          "output_type": "stream",
          "name": "stdout",
          "text": [
            "Image id 16387\n",
            "Image shape:  479 479\n",
            "Processing 1565 -> 0\n",
            "Org seg shape  (479, 479, 1)\n",
            "Number of components of this label  1\n",
            "multi_component_segmentations.shape  (479, 479, 1)\n",
            "Processing 1010 -> 1\n",
            "Org seg shape  (479, 479, 2)\n",
            "Number of components of this label  2\n",
            "multi_component_segmentations.shape  (479, 479, 2)\n",
            "component = 0\n"
          ]
        },
        {
          "output_type": "display_data",
          "data": {
            "image/png": "[encoded data removed]",
            "text/plain": [
              "<Figure size 432x288 with 1 Axes>"
            ]
          },
          "metadata": {
            "needs_background": "light"
          }
        },
        {
          "output_type": "stream",
          "name": "stdout",
          "text": [
            "mask\n"
          ]
        },
        {
          "output_type": "display_data",
          "data": {
            "image/png": "[encoded data removed]",
            "text/plain": [
              "<Figure size 432x288 with 1 Axes>"
            ]
          },
          "metadata": {
            "needs_background": "light"
          }
        },
        {
          "output_type": "stream",
          "name": "stdout",
          "text": [
            "component = 0\n"
          ]
        },
        {
          "output_type": "display_data",
          "data": {
            "image/png": "[encoded data removed]",
            "text/plain": [
              "<Figure size 432x288 with 1 Axes>"
            ]
          },
          "metadata": {
            "needs_background": "light"
          }
        },
        {
          "output_type": "stream",
          "name": "stdout",
          "text": [
            "component = 1\n"
          ]
        },
        {
          "output_type": "display_data",
          "data": {
            "image/png": "[encoded data removed]",
            "text/plain": [
              "<Figure size 432x288 with 1 Axes>"
            ]
          },
          "metadata": {
            "needs_background": "light"
          }
        },
        {
          "output_type": "stream",
          "name": "stdout",
          "text": [
            "mask\n"
          ]
        },
        {
          "output_type": "display_data",
          "data": {
            "image/png": "[encoded data removed]",
            "text/plain": [
              "<Figure size 432x288 with 1 Axes>"
            ]
          },
          "metadata": {
            "needs_background": "light"
          }
        }
      ]
    },
    {
      "cell_type": "code",
      "metadata": {
        "id": "yKRB5Xzg4QyF"
      },
      "source": [
        "# Transform given annotations into our desired segmentations format\n",
        "\n",
        "dest_segmentations_dir = None\n",
        "\n",
        "FORCE_RECOMPUTE = False\n",
        "\n",
        "def task(im_id):\n",
        "  try:\n",
        "    out_file = dest_segmentations_dir / f\"{im_id}.npz\"\n",
        "\n",
        "    if os.path.isfile(out_file) and not FORCE_RECOMPUTE:\n",
        "      return\n",
        "    \n",
        "    image_dict = coco.loadImgs(im_id)[0]\n",
        "    im_annotations = coco.loadAnns(coco.getAnnIds(imgIds=im_id))\n",
        "    multi_mask = convert_annotations_to_multimask(im_annotations, image_dict, debug=False)\n",
        "    np.savez_compressed(out_file, multi_mask, allow_pickle=False)\n",
        "  except Exception as e:\n",
        "    print(\"Error: \", im_id)\n",
        "    raise e\n",
        "\n",
        "def preprocess_and_store_segmentations(im_ids):\n",
        "\n",
        "  with Pool() as p:\n",
        "\n",
        "    with tqdm(total=len(im_ids)) as progress_bar:\n",
        "\n",
        "      for _ in p.imap(task, im_ids):\n",
        "        progress_bar.update(1)\n"
      ],
      "execution_count": 288,
      "outputs": []
    },
    {
      "cell_type": "code",
      "metadata": {
        "id": "Zt6BQzXn9hnQ",
        "outputId": "55e8c46e-0841-4fec-8fc1-b32630f59efe",
        "colab": {
          "base_uri": "https://localhost:8080/",
          "height": 115,
          "referenced_widgets": [
            "c97d5728b57a40aebd1fbf6d1d52ae9c",
            "7a98980b4df04c3d93681bdf91d29d9b",
            "7095eb2d3d9a461c99762a1692bb0057",
            "fc411851d01e41a084f670667cd0cd9f",
            "fcc2d57378ea44898ed87af26132a101",
            "bd09576d9992474587547bdfd93bd590",
            "3085d1af44384deb8c5f31841fdb4e36",
            "71e61aab69904bf0910602fe9d43812c",
            "0772a3a506b44202b9c6b86242852018",
            "121b6f461fec4141a770dddbeb78eb0b",
            "ba0dccff629447b998ee32713043475e",
            "b35e3b9e86344bbc9fb05bd969b7eb3a",
            "24da200974eb4a96a3613a10cb6b29a8",
            "8950c4aebb0348509f529010a0fc1060",
            "9b4233ca8f2248a6a283329cfe165f7d",
            "80aab19732fe4a7597bbfbe4352ba27a",
            "82d98773e8be425aa9dac3469007a466",
            "89892346998042d8826708896db0c852",
            "f4601cf888eb4966a249577b634979a9",
            "6d2cfb183f8949aea85a9aae953f6056",
            "d0155b75090a410d9808caabe8eafed1",
            "68ffe81a96554c7fae807a1b70224a55"
          ]
        }
      },
      "source": [
        "dest_segmentations_dir = Paths.CURR_MULTI_SEG_DIR\n",
        "preprocess_and_store_segmentations(tiny_train_imids)\n",
        "\n",
        "dest_segmentations_dir = Paths.TRAIN_MULTI_SEG_DIR\n",
        "preprocess_and_store_segmentations(image_ids)\n",
        "\n",
        "print(list(os.listdir(Paths.CURR_MULTI_SEG_DIR))[:5],\"...\")\n",
        "print(list(os.listdir(Paths.TRAIN_MULTI_SEG_DIR))[:5],\"...\")"
      ],
      "execution_count": 289,
      "outputs": [
        {
          "output_type": "display_data",
          "data": {
            "application/vnd.jupyter.widget-view+json": {
              "model_id": "c97d5728b57a40aebd1fbf6d1d52ae9c",
              "version_minor": 0,
              "version_major": 2
            },
            "text/plain": [
              "  0%|          | 0/4 [00:00<?, ?it/s]"
            ]
          },
          "metadata": {}
        },
        {
          "output_type": "display_data",
          "data": {
            "application/vnd.jupyter.widget-view+json": {
              "model_id": "b35e3b9e86344bbc9fb05bd969b7eb3a",
              "version_minor": 0,
              "version_major": 2
            },
            "text/plain": [
              "  0%|          | 0/5545 [00:00<?, ?it/s]"
            ]
          },
          "metadata": {}
        },
        {
          "output_type": "stream",
          "name": "stdout",
          "text": [
            "['22949.npy', '54634.npy', '12886.npz', '54634.npz', '12886.npy'] ...\n",
            "['42607.npz', '38009.npz', '8231.npz', '23586.npz', '21012.npz'] ...\n"
          ]
        }
      ]
    },
    {
      "cell_type": "code",
      "metadata": {
        "id": "7PKFTAdAKQTk"
      },
      "source": [
        "if FORCE_RECOMPUTE and not \"we will not store it to google drive due ot it's slow read speed\":\n",
        "  store_directory_to_google_drive(Paths.TRAIN_MULTI_SEG_DIR)"
      ],
      "execution_count": null,
      "outputs": []
    },
    {
      "cell_type": "code",
      "metadata": {
        "id": "KuV-1-NkPZ0m",
        "colab": {
          "base_uri": "https://localhost:8080/",
          "height": 53
        },
        "outputId": "88b64ebf-362f-4bde-f9b4-7e514fe52349"
      },
      "source": [
        "\"\"\"dls = SegmentationDataLoaders.from_label_func(\n",
        "    path, bs=8, fnames = get_image_files(Paths.CURR_IMAGES_DIR),\n",
        "    label_func = lambda o: path/'labels'/f'{o.stem}_P{o.suffix}',\n",
        "    codes = np.loadtxt(path/'codes.txt', dtype=str)\n",
        ")\"\"\"\n",
        "\n",
        "#learn = unet_learner(dls, resnet34)\n",
        "#learn.fine_tune(16)"
      ],
      "execution_count": null,
      "outputs": [
        {
          "output_type": "execute_result",
          "data": {
            "application/vnd.google.colaboratory.intrinsic+json": {
              "type": "string"
            },
            "text/plain": [
              "\"dls = SegmentationDataLoaders.from_label_func(\\n    path, bs=8, fnames = get_image_files(Paths.CURR_IMAGES_DIR),\\n    label_func = lambda o: path/'labels'/f'{o.stem}_P{o.suffix}',\\n    codes = np.loadtxt(path/'codes.txt', dtype=str)\\n)\""
            ]
          },
          "metadata": {},
          "execution_count": 210
        }
      ]
    },
    {
      "cell_type": "markdown",
      "metadata": {
        "id": "Ht-gFR2KbhjX"
      },
      "source": [
        "# Initialize detectron2"
      ]
    },
    {
      "cell_type": "code",
      "metadata": {
        "id": "hFhNKYKLXiYG"
      },
      "source": [
        "_ = setup_logger()\n",
        "\n",
        "register_coco_instances(DatasetLabels.TRAIN, {}, Paths.TRAIN_ANNOTATIONS, Paths.TRAIN_IMAGES_DIR)\n",
        "register_coco_instances(DatasetLabels.VAL, {}, Paths.VAL_ANNOTATIONS, Paths.VAL_IMAGES_DIR)"
      ],
      "execution_count": null,
      "outputs": []
    },
    {
      "cell_type": "markdown",
      "metadata": {
        "id": "BEn4diGaA_ph"
      },
      "source": [
        "# Build your Model 🏭\n",
        "\n",
        "We will use Mask R-CNN to generate the segmentation masks for the food items 🌯"
      ]
    },
    {
      "cell_type": "markdown",
      "metadata": {
        "id": "gYqXect1M4Jz"
      },
      "source": [
        "## Configure detectron2\n",
        "\n",
        "Detectron2 has a variety of Instance Segmentation Models. We will use the zoo model with Mask RCNN + ResNet 50. If you want to try other models, you can find them [here]((https://github.com/facebookresearch/detectron2)."
      ]
    },
    {
      "cell_type": "code",
      "metadata": {
        "id": "X_q2fu8wXikF"
      },
      "source": [
        "cfg = get_cfg()\n",
        "cfg.merge_from_file(model_zoo.get_config_file(\"COCO-InstanceSegmentation/mask_rcnn_R_50_FPN_3x.yaml\"))\n",
        "\n",
        "cfg.DATASETS.TRAIN = (DatasetLabels.TRAIN,)\n",
        "cfg.DATASETS.TEST = ()\n",
        "cfg.DATALOADER.NUM_WORKERS = 2\n",
        "cfg.MODEL.ROI_HEADS.NUM_CLASSES = 273  # Number of output classes\n",
        "\n",
        "cfg.OUTPUT_DIR = \"outputs\"\n",
        "os.makedirs(cfg.OUTPUT_DIR, exist_ok=True)"
      ],
      "execution_count": null,
      "outputs": []
    },
    {
      "cell_type": "markdown",
      "metadata": {
        "id": "OzaHmc0IPAIZ"
      },
      "source": [
        "## Load the pre-trained weights "
      ]
    },
    {
      "cell_type": "code",
      "metadata": {
        "id": "FWmZ6VySPC14"
      },
      "source": [
        "cfg.MODEL.WEIGHTS = model_zoo.get_checkpoint_url(\"COCO-InstanceSegmentation/mask_rcnn_R_50_FPN_3x.yaml\")\n",
        "cfg.SOLVER.IMS_PER_BATCH = 2"
      ],
      "execution_count": null,
      "outputs": []
    },
    {
      "cell_type": "markdown",
      "metadata": {
        "id": "wg5Ra2qzO5YV"
      },
      "source": [
        "## Hyperparameters"
      ]
    },
    {
      "cell_type": "code",
      "metadata": {
        "id": "fj5HPBMVO-I3"
      },
      "source": [
        "cfg.SOLVER.BASE_LR = 0.00025  # Learning Rate\n",
        "cfg.SOLVER.MAX_ITER = 20000  # MAx Iterations\n",
        "cfg.MODEL.ROI_HEADS.BATCH_SIZE_PER_IMAGE = 128  # Batch Size"
      ],
      "execution_count": null,
      "outputs": []
    },
    {
      "cell_type": "markdown",
      "metadata": {
        "id": "EER82dGmQGS9"
      },
      "source": [
        "# Train the model 🚂\n",
        "\n",
        "We will setup tensorboard to check the performance of the model while it is training."
      ]
    },
    {
      "cell_type": "markdown",
      "metadata": {
        "id": "XMMmjhlO62Pj"
      },
      "source": [
        "## Setting up Tensorboard"
      ]
    },
    {
      "cell_type": "code",
      "metadata": {
        "id": "kMOcJUcmfQI8"
      },
      "source": [
        "%load_ext tensorboard\n",
        "%tensorboard --logdir outputs"
      ],
      "execution_count": null,
      "outputs": []
    },
    {
      "cell_type": "markdown",
      "metadata": {
        "id": "6E_Np0qn64uM"
      },
      "source": [
        "## Train the Model"
      ]
    },
    {
      "cell_type": "code",
      "metadata": {
        "id": "ZS5IZOx5XjDm"
      },
      "source": [
        "trainer = DefaultTrainer(cfg) \n",
        "trainer.resume_or_load(resume=False)\n",
        "trainer.train()"
      ],
      "execution_count": null,
      "outputs": []
    },
    {
      "cell_type": "markdown",
      "metadata": {
        "id": "6GBGSt63QZf1"
      },
      "source": [
        "# Evaluating the model 🧪\n",
        "\n",
        "We will check the performance of our model on the validation dataset."
      ]
    },
    {
      "cell_type": "code",
      "metadata": {
        "id": "BC0EzphvkslK"
      },
      "source": [
        "cfg.MODEL.WEIGHTS = os.path.join(cfg.OUTPUT_DIR, \"model_final.pth\")\n",
        "cfg.MODEL.ROI_HEADS.SCORE_THRESH_TEST = 0.5   # set the testing threshold for this model\n",
        "cfg.DATASETS.TEST = (DatasetLabels.VAL, )\n",
        "predictor = DefaultPredictor(cfg)"
      ],
      "execution_count": null,
      "outputs": []
    },
    {
      "cell_type": "markdown",
      "metadata": {
        "id": "n5VkmUr1Qlyj"
      },
      "source": [
        "## Generate predictions on validation data "
      ]
    },
    {
      "cell_type": "code",
      "metadata": {
        "id": "mrfk7SynXjbV"
      },
      "source": [
        "evaluator = COCOEvaluator(DatasetLabels.VAL, cfg, False, output_dir=cfg.OUTPUT_DIR)\n",
        "data_loader = build_detection_test_loader(cfg, DatasetLabels.VAL)\n",
        "results = inference_on_dataset(predictor.model, data_loader, evaluator)"
      ],
      "execution_count": null,
      "outputs": []
    },
    {
      "cell_type": "markdown",
      "metadata": {
        "id": "XNb_H5L-xX6d"
      },
      "source": [
        "## Visualizing the results 👓\n",
        "\n",
        "Numbers are good, but visualizations are better!"
      ]
    },
    {
      "cell_type": "code",
      "metadata": {
        "id": "6Gr_8OPtfyja"
      },
      "source": [
        "metadata = MetadataCatalog.get(DatasetLabels.VAL)\n",
        "\n",
        "# Load the training annotations if not loaded\n",
        "if not validation_annotations:\n",
        "  with open(Paths.VAL_ANNOTATIONS) as json_file:\n",
        "      annotations = json.load(json_file)"
      ],
      "execution_count": null,
      "outputs": []
    },
    {
      "cell_type": "markdown",
      "metadata": {
        "id": "9eXHZzn0S4Dp"
      },
      "source": [
        "## Check the predictions\n",
        "\n",
        "**Note:** If you are not able to see segmentation masks on the images, that generally means that the model didn't predict a mask for that image. You can verify this by doing\n",
        "\n",
        "```python\n",
        "predictions = predictor(img)\n",
        "print(predictions)\n",
        "```"
      ]
    },
    {
      "cell_type": "code",
      "metadata": {
        "id": "Q1XMJcWLS7rX"
      },
      "source": [
        "%matplotlib inline\n",
        "import matplotlib.pyplot as plt\n",
        "plt.rcParams['figure.dpi'] = 180\n",
        "\n",
        "\n",
        "# Visualize some random images\n",
        "for i in range(8):\n",
        "  image_filename = np.random.choice(validation_annotations.get(\"images\")).get(\"file_name\")\n",
        "  image_filename = os.path.join(Paths.VAL_IMAGES_DIR, image_filename)\n",
        "\n",
        "  img = cv2.imread(image_filename)\n",
        "  predictions = predictor(img)\n",
        "\n",
        "  v = Visualizer(img[:, :, ::-1],\n",
        "    metadata=metadata, \n",
        "    scale=0.5, \n",
        "    # instance_mode=ColorMode.IMAGE_BW\n",
        "  )\n",
        "  annotated_image = v.draw_instance_predictions(predictions[\"instances\"].to(\"cpu\"))\n",
        "\n",
        "  plt.subplot(2, 4, i+1)\n",
        "  plt.axis('off')\n",
        "  plt.imshow(annotated_image.get_image())"
      ],
      "execution_count": null,
      "outputs": []
    },
    {
      "cell_type": "markdown",
      "metadata": {
        "id": "tFAos6c6DGcx"
      },
      "source": [
        "# A note on class ID mappings\n",
        "\n",
        "Here is how the category object looks like\n",
        "\n",
        "```json\n",
        "{\n",
        "  \"id\": 2578,\n",
        "  \"name\": \"water\",\n",
        "  \"name_readable\": \"Water\",\n",
        "  \"supercategory\": \"food\"\n",
        "}\n",
        "```\n",
        "\n",
        "Detectron2 usually maps the category IDs to contiguous numbers. For example, consider the following categories,\n",
        "\n",
        "```json\n",
        "[\n",
        "  {\n",
        "    \"id\": 2578,\n",
        "    \"name\": \"water\",\n",
        "    \"name_readable\": \"Water\",\n",
        "    \"supercategory\": \"food\"\n",
        "  },\n",
        "  {\n",
        "    \"id\": 1157,\n",
        "    \"name\": \"pear\",\n",
        "    \"name_readable\": \"Pear\",\n",
        "    \"supercategory\": \"food\"\n",
        "  },\n",
        "  {\n",
        "    \"id\": 2022,\n",
        "    \"name\": \"egg\",\n",
        "    \"name_readable\": \"Egg\",\n",
        "    \"supercategory\": \"food\"\n",
        "  }\n",
        "]\n",
        "```\n",
        "\n",
        "Detectron internally maps these categories to something like\n",
        "\n",
        "```json\n",
        "{\n",
        "  0: 2578, # detectron_id: actual_class_id\n",
        "  1: 1157,\n",
        "  2: 2022\n",
        "}\n",
        "```\n",
        "\n",
        "So, when your model detects water, the prediction class ID that your model returns will be `0` and **not** `2578` . You should make sure to map these detectron IDs to their original actual class IDs for your submission to get scored properly.\n",
        "\n",
        "Here's how you can get this mapping."
      ]
    },
    {
      "cell_type": "code",
      "metadata": {
        "id": "O98OLrwV7IPO",
        "colab": {
          "base_uri": "https://localhost:8080/"
        },
        "outputId": "09d28337-fb76-4ef8-8823-8ace13626a8f"
      },
      "source": [
        "coco_api = COCO(Paths.TRAIN_ANNOTATIONS)\n",
        "\n",
        "category_ids = sorted(coco_api.getCatIds())\n",
        "categories = coco_api.loadCats(category_ids)\n",
        "\n",
        "class_to_category = { int(class_id): int(category_id) for class_id, category_id in enumerate(category_ids) }\n",
        "\n",
        "with open(\"class_to_category.json\", \"w\") as fp:\n",
        "  json.dump(class_to_category, fp)"
      ],
      "execution_count": null,
      "outputs": [
        {
          "output_type": "stream",
          "text": [
            "loading annotations into memory...\n",
            "Done (t=2.93s)\n",
            "creating index...\n",
            "index created!\n"
          ],
          "name": "stdout"
        }
      ]
    },
    {
      "cell_type": "markdown",
      "metadata": {
        "id": "7fThCV_4uAm4"
      },
      "source": [
        "# Ready? Submit to AIcrowd 🚀\n",
        "\n",
        "Now you can submit the trained model to AIcrowd!"
      ]
    },
    {
      "cell_type": "markdown",
      "metadata": {
        "id": "kcaSuCpiMVvb"
      },
      "source": [
        "## Submission configuration ⚙️"
      ]
    },
    {
      "cell_type": "code",
      "metadata": {
        "id": "OEPtkV57KC54"
      },
      "source": [
        "aicrowd_submission = {\n",
        "    \"author\": \"<your name>\",\n",
        "    \"username\": \"<your aicrowd username>\",\n",
        "    \"description\": \"initial submission with detectron\",\n",
        "    \"debug\": False,\n",
        "    \"model_path\": \"outputs/model_final.pth\",\n",
        "    \"model_type\": \"model_zoo\",\n",
        "    \"model_config_file\": \"COCO-InstanceSegmentation/mask_rcnn_R_50_FPN_3x.yaml\",\n",
        "    \"detectron_model_config\": {\n",
        "      \"ROI_HEADS\": {\n",
        "        \"SCORE_THRESH_TEST\": 0.5,\n",
        "        \"NUM_CLASSES\": 273\n",
        "      }\n",
        "    }\n",
        "}\n",
        "\n",
        "aicrowd_submission[\"description\"] = aicrowd_submission[\"description\"].replace(\" \", \"-\")\n",
        "with open(\"aicrowd.json\", \"w\") as fp:\n",
        "  json.dump(aicrowd_submission, fp)"
      ],
      "execution_count": null,
      "outputs": []
    },
    {
      "cell_type": "markdown",
      "metadata": {
        "id": "3PKKwhlkKCfc"
      },
      "source": [
        "## Submit to AIcrowd\n",
        "\n",
        "**Note:** We will create an SSH key on your google drive. This key will be used to identify you on gitlab.aicrowd.com."
      ]
    },
    {
      "cell_type": "code",
      "metadata": {
        "id": "NFB2X_nkrGU5"
      },
      "source": [
        "!bash <(curl -sL https://gitlab.aicrowd.com/jyotish/food-recognition-challenge-detectron2-baseline/raw/master/utils/submit-colab.sh)"
      ],
      "execution_count": null,
      "outputs": []
    },
    {
      "cell_type": "markdown",
      "metadata": {
        "id": "CrEBfu7rPHir"
      },
      "source": [
        "# 📎 Important Links\n",
        "\n",
        "* 💪 Challenge Page: https://www.aicrowd.com/challenges/food-recognition-challenge\n",
        "* 🗣 Discussion Forum: https://discourse.aicrowd.com/c/food-recognition-challenge\n",
        "* 🏆 Leaderboard: https://www.aicrowd.com/challenges/food-recognition-challenge/leaderboards  "
      ]
    }
  ]
}